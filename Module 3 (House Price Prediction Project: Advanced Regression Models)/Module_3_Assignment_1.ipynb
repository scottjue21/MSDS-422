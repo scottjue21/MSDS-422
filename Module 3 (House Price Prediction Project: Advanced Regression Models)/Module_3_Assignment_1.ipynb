{
 "cells": [
  {
   "cell_type": "markdown",
   "metadata": {
    "id": "_rkbtiNz0PX5"
   },
   "source": [
    "# Intro"
   ]
  },
  {
   "cell_type": "markdown",
   "metadata": {
    "id": "ZlzxLKuqJdbj"
   },
   "source": [
    "## Links"
   ]
  },
  {
   "cell_type": "markdown",
   "metadata": {
    "id": "mDzJlecjJWwW"
   },
   "source": [
    "https://canvas.northwestern.edu/courses/167719/assignments/1078600"
   ]
  },
  {
   "cell_type": "markdown",
   "metadata": {
    "id": "GirNVm4305d7"
   },
   "source": [
    "https://www.kaggle.com/c/house-prices-advanced-regression-techniques\n"
   ]
  },
  {
   "cell_type": "markdown",
   "metadata": {
    "id": "2Ob8erZOJnOm"
   },
   "source": [
    "## Modules"
   ]
  },
  {
   "cell_type": "code",
   "execution_count": 1,
   "metadata": {
    "id": "PlMK7gDyouJK"
   },
   "outputs": [],
   "source": [
    "#For data manipulation and visualization\n",
    "import pandas as pd\n",
    "import seaborn as sns\n",
    "import matplotlib.pyplot as plt\n",
    "import numpy as np\n",
    "\n",
    "#For Isolation Forest from sklearn\n",
    "from sklearn.ensemble import IsolationForest\n",
    "from enum import auto\n",
    "\n",
    "#Models from sklearn (Linear, Lasso, and Ridge)\n",
    "from sklearn.linear_model import LinearRegression\n",
    "from sklearn.linear_model import Lasso\n",
    "from sklearn.linear_model import Ridge\n",
    "\n",
    "#ElasticNet from sklearn\n",
    "from sklearn.linear_model import ElasticNet\n",
    "from sklearn.linear_model import ElasticNetCV\n",
    "from sklearn.model_selection import GridSearchCV \n",
    "from sklearn.model_selection import RepeatedKFold \n",
    "from numpy import arange \n",
    "\n",
    "#Other from sklearn\n",
    "from sklearn.model_selection import train_test_split\n",
    "from sklearn.model_selection import KFold\n",
    "from sklearn.model_selection import cross_val_score\n",
    "from sklearn.metrics import mean_squared_error\n",
    "\n",
    "#Other\n",
    "from math import sqrt\n",
    "import warnings"
   ]
  },
  {
   "cell_type": "markdown",
   "metadata": {
    "id": "3hSs0WmVJvZ8"
   },
   "source": [
    "## Import Files"
   ]
  },
  {
   "cell_type": "code",
   "execution_count": 2,
   "metadata": {
    "colab": {
     "base_uri": "https://localhost:8080/",
     "height": 142,
     "resources": {
      "http://localhost:8080/nbextensions/google.colab/files.js": {
       "data": "Ly8gQ29weXJpZ2h0IDIwMTcgR29vZ2xlIExMQwovLwovLyBMaWNlbnNlZCB1bmRlciB0aGUgQXBhY2hlIExpY2Vuc2UsIFZlcnNpb24gMi4wICh0aGUgIkxpY2Vuc2UiKTsKLy8geW91IG1heSBub3QgdXNlIHRoaXMgZmlsZSBleGNlcHQgaW4gY29tcGxpYW5jZSB3aXRoIHRoZSBMaWNlbnNlLgovLyBZb3UgbWF5IG9idGFpbiBhIGNvcHkgb2YgdGhlIExpY2Vuc2UgYXQKLy8KLy8gICAgICBodHRwOi8vd3d3LmFwYWNoZS5vcmcvbGljZW5zZXMvTElDRU5TRS0yLjAKLy8KLy8gVW5sZXNzIHJlcXVpcmVkIGJ5IGFwcGxpY2FibGUgbGF3IG9yIGFncmVlZCB0byBpbiB3cml0aW5nLCBzb2Z0d2FyZQovLyBkaXN0cmlidXRlZCB1bmRlciB0aGUgTGljZW5zZSBpcyBkaXN0cmlidXRlZCBvbiBhbiAiQVMgSVMiIEJBU0lTLAovLyBXSVRIT1VUIFdBUlJBTlRJRVMgT1IgQ09ORElUSU9OUyBPRiBBTlkgS0lORCwgZWl0aGVyIGV4cHJlc3Mgb3IgaW1wbGllZC4KLy8gU2VlIHRoZSBMaWNlbnNlIGZvciB0aGUgc3BlY2lmaWMgbGFuZ3VhZ2UgZ292ZXJuaW5nIHBlcm1pc3Npb25zIGFuZAovLyBsaW1pdGF0aW9ucyB1bmRlciB0aGUgTGljZW5zZS4KCi8qKgogKiBAZmlsZW92ZXJ2aWV3IEhlbHBlcnMgZm9yIGdvb2dsZS5jb2xhYiBQeXRob24gbW9kdWxlLgogKi8KKGZ1bmN0aW9uKHNjb3BlKSB7CmZ1bmN0aW9uIHNwYW4odGV4dCwgc3R5bGVBdHRyaWJ1dGVzID0ge30pIHsKICBjb25zdCBlbGVtZW50ID0gZG9jdW1lbnQuY3JlYXRlRWxlbWVudCgnc3BhbicpOwogIGVsZW1lbnQudGV4dENvbnRlbnQgPSB0ZXh0OwogIGZvciAoY29uc3Qga2V5IG9mIE9iamVjdC5rZXlzKHN0eWxlQXR0cmlidXRlcykpIHsKICAgIGVsZW1lbnQuc3R5bGVba2V5XSA9IHN0eWxlQXR0cmlidXRlc1trZXldOwogIH0KICByZXR1cm4gZWxlbWVudDsKfQoKLy8gTWF4IG51bWJlciBvZiBieXRlcyB3aGljaCB3aWxsIGJlIHVwbG9hZGVkIGF0IGEgdGltZS4KY29uc3QgTUFYX1BBWUxPQURfU0laRSA9IDEwMCAqIDEwMjQ7CgpmdW5jdGlvbiBfdXBsb2FkRmlsZXMoaW5wdXRJZCwgb3V0cHV0SWQpIHsKICBjb25zdCBzdGVwcyA9IHVwbG9hZEZpbGVzU3RlcChpbnB1dElkLCBvdXRwdXRJZCk7CiAgY29uc3Qgb3V0cHV0RWxlbWVudCA9IGRvY3VtZW50LmdldEVsZW1lbnRCeUlkKG91dHB1dElkKTsKICAvLyBDYWNoZSBzdGVwcyBvbiB0aGUgb3V0cHV0RWxlbWVudCB0byBtYWtlIGl0IGF2YWlsYWJsZSBmb3IgdGhlIG5leHQgY2FsbAogIC8vIHRvIHVwbG9hZEZpbGVzQ29udGludWUgZnJvbSBQeXRob24uCiAgb3V0cHV0RWxlbWVudC5zdGVwcyA9IHN0ZXBzOwoKICByZXR1cm4gX3VwbG9hZEZpbGVzQ29udGludWUob3V0cHV0SWQpOwp9CgovLyBUaGlzIGlzIHJvdWdobHkgYW4gYXN5bmMgZ2VuZXJhdG9yIChub3Qgc3VwcG9ydGVkIGluIHRoZSBicm93c2VyIHlldCksCi8vIHdoZXJlIHRoZXJlIGFyZSBtdWx0aXBsZSBhc3luY2hyb25vdXMgc3RlcHMgYW5kIHRoZSBQeXRob24gc2lkZSBpcyBnb2luZwovLyB0byBwb2xsIGZvciBjb21wbGV0aW9uIG9mIGVhY2ggc3RlcC4KLy8gVGhpcyB1c2VzIGEgUHJvbWlzZSB0byBibG9jayB0aGUgcHl0aG9uIHNpZGUgb24gY29tcGxldGlvbiBvZiBlYWNoIHN0ZXAsCi8vIHRoZW4gcGFzc2VzIHRoZSByZXN1bHQgb2YgdGhlIHByZXZpb3VzIHN0ZXAgYXMgdGhlIGlucHV0IHRvIHRoZSBuZXh0IHN0ZXAuCmZ1bmN0aW9uIF91cGxvYWRGaWxlc0NvbnRpbnVlKG91dHB1dElkKSB7CiAgY29uc3Qgb3V0cHV0RWxlbWVudCA9IGRvY3VtZW50LmdldEVsZW1lbnRCeUlkKG91dHB1dElkKTsKICBjb25zdCBzdGVwcyA9IG91dHB1dEVsZW1lbnQuc3RlcHM7CgogIGNvbnN0IG5leHQgPSBzdGVwcy5uZXh0KG91dHB1dEVsZW1lbnQubGFzdFByb21pc2VWYWx1ZSk7CiAgcmV0dXJuIFByb21pc2UucmVzb2x2ZShuZXh0LnZhbHVlLnByb21pc2UpLnRoZW4oKHZhbHVlKSA9PiB7CiAgICAvLyBDYWNoZSB0aGUgbGFzdCBwcm9taXNlIHZhbHVlIHRvIG1ha2UgaXQgYXZhaWxhYmxlIHRvIHRoZSBuZXh0CiAgICAvLyBzdGVwIG9mIHRoZSBnZW5lcmF0b3IuCiAgICBvdXRwdXRFbGVtZW50Lmxhc3RQcm9taXNlVmFsdWUgPSB2YWx1ZTsKICAgIHJldHVybiBuZXh0LnZhbHVlLnJlc3BvbnNlOwogIH0pOwp9CgovKioKICogR2VuZXJhdG9yIGZ1bmN0aW9uIHdoaWNoIGlzIGNhbGxlZCBiZXR3ZWVuIGVhY2ggYXN5bmMgc3RlcCBvZiB0aGUgdXBsb2FkCiAqIHByb2Nlc3MuCiAqIEBwYXJhbSB7c3RyaW5nfSBpbnB1dElkIEVsZW1lbnQgSUQgb2YgdGhlIGlucHV0IGZpbGUgcGlja2VyIGVsZW1lbnQuCiAqIEBwYXJhbSB7c3RyaW5nfSBvdXRwdXRJZCBFbGVtZW50IElEIG9mIHRoZSBvdXRwdXQgZGlzcGxheS4KICogQHJldHVybiB7IUl0ZXJhYmxlPCFPYmplY3Q+fSBJdGVyYWJsZSBvZiBuZXh0IHN0ZXBzLgogKi8KZnVuY3Rpb24qIHVwbG9hZEZpbGVzU3RlcChpbnB1dElkLCBvdXRwdXRJZCkgewogIGNvbnN0IGlucHV0RWxlbWVudCA9IGRvY3VtZW50LmdldEVsZW1lbnRCeUlkKGlucHV0SWQpOwogIGlucHV0RWxlbWVudC5kaXNhYmxlZCA9IGZhbHNlOwoKICBjb25zdCBvdXRwdXRFbGVtZW50ID0gZG9jdW1lbnQuZ2V0RWxlbWVudEJ5SWQob3V0cHV0SWQpOwogIG91dHB1dEVsZW1lbnQuaW5uZXJIVE1MID0gJyc7CgogIGNvbnN0IHBpY2tlZFByb21pc2UgPSBuZXcgUHJvbWlzZSgocmVzb2x2ZSkgPT4gewogICAgaW5wdXRFbGVtZW50LmFkZEV2ZW50TGlzdGVuZXIoJ2NoYW5nZScsIChlKSA9PiB7CiAgICAgIHJlc29sdmUoZS50YXJnZXQuZmlsZXMpOwogICAgfSk7CiAgfSk7CgogIGNvbnN0IGNhbmNlbCA9IGRvY3VtZW50LmNyZWF0ZUVsZW1lbnQoJ2J1dHRvbicpOwogIGlucHV0RWxlbWVudC5wYXJlbnRFbGVtZW50LmFwcGVuZENoaWxkKGNhbmNlbCk7CiAgY2FuY2VsLnRleHRDb250ZW50ID0gJ0NhbmNlbCB1cGxvYWQnOwogIGNvbnN0IGNhbmNlbFByb21pc2UgPSBuZXcgUHJvbWlzZSgocmVzb2x2ZSkgPT4gewogICAgY2FuY2VsLm9uY2xpY2sgPSAoKSA9PiB7CiAgICAgIHJlc29sdmUobnVsbCk7CiAgICB9OwogIH0pOwoKICAvLyBXYWl0IGZvciB0aGUgdXNlciB0byBwaWNrIHRoZSBmaWxlcy4KICBjb25zdCBmaWxlcyA9IHlpZWxkIHsKICAgIHByb21pc2U6IFByb21pc2UucmFjZShbcGlja2VkUHJvbWlzZSwgY2FuY2VsUHJvbWlzZV0pLAogICAgcmVzcG9uc2U6IHsKICAgICAgYWN0aW9uOiAnc3RhcnRpbmcnLAogICAgfQogIH07CgogIGNhbmNlbC5yZW1vdmUoKTsKCiAgLy8gRGlzYWJsZSB0aGUgaW5wdXQgZWxlbWVudCBzaW5jZSBmdXJ0aGVyIHBpY2tzIGFyZSBub3QgYWxsb3dlZC4KICBpbnB1dEVsZW1lbnQuZGlzYWJsZWQgPSB0cnVlOwoKICBpZiAoIWZpbGVzKSB7CiAgICByZXR1cm4gewogICAgICByZXNwb25zZTogewogICAgICAgIGFjdGlvbjogJ2NvbXBsZXRlJywKICAgICAgfQogICAgfTsKICB9CgogIGZvciAoY29uc3QgZmlsZSBvZiBmaWxlcykgewogICAgY29uc3QgbGkgPSBkb2N1bWVudC5jcmVhdGVFbGVtZW50KCdsaScpOwogICAgbGkuYXBwZW5kKHNwYW4oZmlsZS5uYW1lLCB7Zm9udFdlaWdodDogJ2JvbGQnfSkpOwogICAgbGkuYXBwZW5kKHNwYW4oCiAgICAgICAgYCgke2ZpbGUudHlwZSB8fCAnbi9hJ30pIC0gJHtmaWxlLnNpemV9IGJ5dGVzLCBgICsKICAgICAgICBgbGFzdCBtb2RpZmllZDogJHsKICAgICAgICAgICAgZmlsZS5sYXN0TW9kaWZpZWREYXRlID8gZmlsZS5sYXN0TW9kaWZpZWREYXRlLnRvTG9jYWxlRGF0ZVN0cmluZygpIDoKICAgICAgICAgICAgICAgICAgICAgICAgICAgICAgICAgICAgJ24vYSd9IC0gYCkpOwogICAgY29uc3QgcGVyY2VudCA9IHNwYW4oJzAlIGRvbmUnKTsKICAgIGxpLmFwcGVuZENoaWxkKHBlcmNlbnQpOwoKICAgIG91dHB1dEVsZW1lbnQuYXBwZW5kQ2hpbGQobGkpOwoKICAgIGNvbnN0IGZpbGVEYXRhUHJvbWlzZSA9IG5ldyBQcm9taXNlKChyZXNvbHZlKSA9PiB7CiAgICAgIGNvbnN0IHJlYWRlciA9IG5ldyBGaWxlUmVhZGVyKCk7CiAgICAgIHJlYWRlci5vbmxvYWQgPSAoZSkgPT4gewogICAgICAgIHJlc29sdmUoZS50YXJnZXQucmVzdWx0KTsKICAgICAgfTsKICAgICAgcmVhZGVyLnJlYWRBc0FycmF5QnVmZmVyKGZpbGUpOwogICAgfSk7CiAgICAvLyBXYWl0IGZvciB0aGUgZGF0YSB0byBiZSByZWFkeS4KICAgIGxldCBmaWxlRGF0YSA9IHlpZWxkIHsKICAgICAgcHJvbWlzZTogZmlsZURhdGFQcm9taXNlLAogICAgICByZXNwb25zZTogewogICAgICAgIGFjdGlvbjogJ2NvbnRpbnVlJywKICAgICAgfQogICAgfTsKCiAgICAvLyBVc2UgYSBjaHVua2VkIHNlbmRpbmcgdG8gYXZvaWQgbWVzc2FnZSBzaXplIGxpbWl0cy4gU2VlIGIvNjIxMTU2NjAuCiAgICBsZXQgcG9zaXRpb24gPSAwOwogICAgZG8gewogICAgICBjb25zdCBsZW5ndGggPSBNYXRoLm1pbihmaWxlRGF0YS5ieXRlTGVuZ3RoIC0gcG9zaXRpb24sIE1BWF9QQVlMT0FEX1NJWkUpOwogICAgICBjb25zdCBjaHVuayA9IG5ldyBVaW50OEFycmF5KGZpbGVEYXRhLCBwb3NpdGlvbiwgbGVuZ3RoKTsKICAgICAgcG9zaXRpb24gKz0gbGVuZ3RoOwoKICAgICAgY29uc3QgYmFzZTY0ID0gYnRvYShTdHJpbmcuZnJvbUNoYXJDb2RlLmFwcGx5KG51bGwsIGNodW5rKSk7CiAgICAgIHlpZWxkIHsKICAgICAgICByZXNwb25zZTogewogICAgICAgICAgYWN0aW9uOiAnYXBwZW5kJywKICAgICAgICAgIGZpbGU6IGZpbGUubmFtZSwKICAgICAgICAgIGRhdGE6IGJhc2U2NCwKICAgICAgICB9LAogICAgICB9OwoKICAgICAgbGV0IHBlcmNlbnREb25lID0gZmlsZURhdGEuYnl0ZUxlbmd0aCA9PT0gMCA/CiAgICAgICAgICAxMDAgOgogICAgICAgICAgTWF0aC5yb3VuZCgocG9zaXRpb24gLyBmaWxlRGF0YS5ieXRlTGVuZ3RoKSAqIDEwMCk7CiAgICAgIHBlcmNlbnQudGV4dENvbnRlbnQgPSBgJHtwZXJjZW50RG9uZX0lIGRvbmVgOwoKICAgIH0gd2hpbGUgKHBvc2l0aW9uIDwgZmlsZURhdGEuYnl0ZUxlbmd0aCk7CiAgfQoKICAvLyBBbGwgZG9uZS4KICB5aWVsZCB7CiAgICByZXNwb25zZTogewogICAgICBhY3Rpb246ICdjb21wbGV0ZScsCiAgICB9CiAgfTsKfQoKc2NvcGUuZ29vZ2xlID0gc2NvcGUuZ29vZ2xlIHx8IHt9OwpzY29wZS5nb29nbGUuY29sYWIgPSBzY29wZS5nb29nbGUuY29sYWIgfHwge307CnNjb3BlLmdvb2dsZS5jb2xhYi5fZmlsZXMgPSB7CiAgX3VwbG9hZEZpbGVzLAogIF91cGxvYWRGaWxlc0NvbnRpbnVlLAp9Owp9KShzZWxmKTsK",
       "headers": [
        [
         "content-type",
         "application/javascript"
        ]
       ],
       "ok": true,
       "status": 200,
       "status_text": ""
      }
     }
    },
    "id": "mblCBynfoq3g",
    "outputId": "a49c281f-1f31-4576-a781-031d74473f02"
   },
   "outputs": [],
   "source": [
    "#Import train.csv and test.csv from the Kaggle page linked above\n",
    "#from google.colab import files\n",
    "#uploaded = files.upload()"
   ]
  },
  {
   "cell_type": "code",
   "execution_count": 3,
   "metadata": {
    "id": "u2NcL_jLaunT"
   },
   "outputs": [],
   "source": [
    "df = pd.read_csv(\"train.csv\")"
   ]
  },
  {
   "cell_type": "markdown",
   "metadata": {
    "id": "cGR3WNCHoCbX"
   },
   "source": [
    "\n",
    "# EDA"
   ]
  },
  {
   "cell_type": "markdown",
   "metadata": {
    "id": "L8pQ3UYEJ6Aw"
   },
   "source": [
    "#### Intro Stats"
   ]
  },
  {
   "cell_type": "code",
   "execution_count": 4,
   "metadata": {
    "colab": {
     "base_uri": "https://localhost:8080/"
    },
    "id": "Hrl5nwXa-3H6",
    "outputId": "2b2ee498-6801-4723-dfe9-2c85c558f26a"
   },
   "outputs": [
    {
     "name": "stdout",
     "output_type": "stream",
     "text": [
      "<class 'pandas.core.frame.DataFrame'>\n",
      "RangeIndex: 1460 entries, 0 to 1459\n",
      "Data columns (total 81 columns):\n",
      " #   Column         Non-Null Count  Dtype  \n",
      "---  ------         --------------  -----  \n",
      " 0   Id             1460 non-null   int64  \n",
      " 1   MSSubClass     1460 non-null   int64  \n",
      " 2   MSZoning       1460 non-null   object \n",
      " 3   LotFrontage    1201 non-null   float64\n",
      " 4   LotArea        1460 non-null   int64  \n",
      " 5   Street         1460 non-null   object \n",
      " 6   Alley          91 non-null     object \n",
      " 7   LotShape       1460 non-null   object \n",
      " 8   LandContour    1460 non-null   object \n",
      " 9   Utilities      1460 non-null   object \n",
      " 10  LotConfig      1460 non-null   object \n",
      " 11  LandSlope      1460 non-null   object \n",
      " 12  Neighborhood   1460 non-null   object \n",
      " 13  Condition1     1460 non-null   object \n",
      " 14  Condition2     1460 non-null   object \n",
      " 15  BldgType       1460 non-null   object \n",
      " 16  HouseStyle     1460 non-null   object \n",
      " 17  OverallQual    1460 non-null   int64  \n",
      " 18  OverallCond    1460 non-null   int64  \n",
      " 19  YearBuilt      1460 non-null   int64  \n",
      " 20  YearRemodAdd   1460 non-null   int64  \n",
      " 21  RoofStyle      1460 non-null   object \n",
      " 22  RoofMatl       1460 non-null   object \n",
      " 23  Exterior1st    1460 non-null   object \n",
      " 24  Exterior2nd    1460 non-null   object \n",
      " 25  MasVnrType     1452 non-null   object \n",
      " 26  MasVnrArea     1452 non-null   float64\n",
      " 27  ExterQual      1460 non-null   object \n",
      " 28  ExterCond      1460 non-null   object \n",
      " 29  Foundation     1460 non-null   object \n",
      " 30  BsmtQual       1423 non-null   object \n",
      " 31  BsmtCond       1423 non-null   object \n",
      " 32  BsmtExposure   1422 non-null   object \n",
      " 33  BsmtFinType1   1423 non-null   object \n",
      " 34  BsmtFinSF1     1460 non-null   int64  \n",
      " 35  BsmtFinType2   1422 non-null   object \n",
      " 36  BsmtFinSF2     1460 non-null   int64  \n",
      " 37  BsmtUnfSF      1460 non-null   int64  \n",
      " 38  TotalBsmtSF    1460 non-null   int64  \n",
      " 39  Heating        1460 non-null   object \n",
      " 40  HeatingQC      1460 non-null   object \n",
      " 41  CentralAir     1460 non-null   object \n",
      " 42  Electrical     1459 non-null   object \n",
      " 43  1stFlrSF       1460 non-null   int64  \n",
      " 44  2ndFlrSF       1460 non-null   int64  \n",
      " 45  LowQualFinSF   1460 non-null   int64  \n",
      " 46  GrLivArea      1460 non-null   int64  \n",
      " 47  BsmtFullBath   1460 non-null   int64  \n",
      " 48  BsmtHalfBath   1460 non-null   int64  \n",
      " 49  FullBath       1460 non-null   int64  \n",
      " 50  HalfBath       1460 non-null   int64  \n",
      " 51  BedroomAbvGr   1460 non-null   int64  \n",
      " 52  KitchenAbvGr   1460 non-null   int64  \n",
      " 53  KitchenQual    1460 non-null   object \n",
      " 54  TotRmsAbvGrd   1460 non-null   int64  \n",
      " 55  Functional     1460 non-null   object \n",
      " 56  Fireplaces     1460 non-null   int64  \n",
      " 57  FireplaceQu    770 non-null    object \n",
      " 58  GarageType     1379 non-null   object \n",
      " 59  GarageYrBlt    1379 non-null   float64\n",
      " 60  GarageFinish   1379 non-null   object \n",
      " 61  GarageCars     1460 non-null   int64  \n",
      " 62  GarageArea     1460 non-null   int64  \n",
      " 63  GarageQual     1379 non-null   object \n",
      " 64  GarageCond     1379 non-null   object \n",
      " 65  PavedDrive     1460 non-null   object \n",
      " 66  WoodDeckSF     1460 non-null   int64  \n",
      " 67  OpenPorchSF    1460 non-null   int64  \n",
      " 68  EnclosedPorch  1460 non-null   int64  \n",
      " 69  3SsnPorch      1460 non-null   int64  \n",
      " 70  ScreenPorch    1460 non-null   int64  \n",
      " 71  PoolArea       1460 non-null   int64  \n",
      " 72  PoolQC         7 non-null      object \n",
      " 73  Fence          281 non-null    object \n",
      " 74  MiscFeature    54 non-null     object \n",
      " 75  MiscVal        1460 non-null   int64  \n",
      " 76  MoSold         1460 non-null   int64  \n",
      " 77  YrSold         1460 non-null   int64  \n",
      " 78  SaleType       1460 non-null   object \n",
      " 79  SaleCondition  1460 non-null   object \n",
      " 80  SalePrice      1460 non-null   int64  \n",
      "dtypes: float64(3), int64(35), object(43)\n",
      "memory usage: 924.0+ KB\n"
     ]
    }
   ],
   "source": [
    "df.info()"
   ]
  },
  {
   "cell_type": "code",
   "execution_count": 5,
   "metadata": {
    "colab": {
     "base_uri": "https://localhost:8080/",
     "height": 235
    },
    "id": "5Y-20zzLyFC4",
    "outputId": "e7d21a03-a808-4a30-e3c8-7dcd8989a826"
   },
   "outputs": [
    {
     "data": {
      "text/html": [
       "<div>\n",
       "<style scoped>\n",
       "    .dataframe tbody tr th:only-of-type {\n",
       "        vertical-align: middle;\n",
       "    }\n",
       "\n",
       "    .dataframe tbody tr th {\n",
       "        vertical-align: top;\n",
       "    }\n",
       "\n",
       "    .dataframe thead th {\n",
       "        text-align: right;\n",
       "    }\n",
       "</style>\n",
       "<table border=\"1\" class=\"dataframe\">\n",
       "  <thead>\n",
       "    <tr style=\"text-align: right;\">\n",
       "      <th></th>\n",
       "      <th>Id</th>\n",
       "      <th>MSSubClass</th>\n",
       "      <th>MSZoning</th>\n",
       "      <th>LotFrontage</th>\n",
       "      <th>LotArea</th>\n",
       "      <th>Street</th>\n",
       "      <th>Alley</th>\n",
       "      <th>LotShape</th>\n",
       "      <th>LandContour</th>\n",
       "      <th>Utilities</th>\n",
       "      <th>...</th>\n",
       "      <th>PoolArea</th>\n",
       "      <th>PoolQC</th>\n",
       "      <th>Fence</th>\n",
       "      <th>MiscFeature</th>\n",
       "      <th>MiscVal</th>\n",
       "      <th>MoSold</th>\n",
       "      <th>YrSold</th>\n",
       "      <th>SaleType</th>\n",
       "      <th>SaleCondition</th>\n",
       "      <th>SalePrice</th>\n",
       "    </tr>\n",
       "  </thead>\n",
       "  <tbody>\n",
       "    <tr>\n",
       "      <th>0</th>\n",
       "      <td>1</td>\n",
       "      <td>60</td>\n",
       "      <td>RL</td>\n",
       "      <td>65.0</td>\n",
       "      <td>8450</td>\n",
       "      <td>Pave</td>\n",
       "      <td>NaN</td>\n",
       "      <td>Reg</td>\n",
       "      <td>Lvl</td>\n",
       "      <td>AllPub</td>\n",
       "      <td>...</td>\n",
       "      <td>0</td>\n",
       "      <td>NaN</td>\n",
       "      <td>NaN</td>\n",
       "      <td>NaN</td>\n",
       "      <td>0</td>\n",
       "      <td>2</td>\n",
       "      <td>2008</td>\n",
       "      <td>WD</td>\n",
       "      <td>Normal</td>\n",
       "      <td>208500</td>\n",
       "    </tr>\n",
       "    <tr>\n",
       "      <th>1</th>\n",
       "      <td>2</td>\n",
       "      <td>20</td>\n",
       "      <td>RL</td>\n",
       "      <td>80.0</td>\n",
       "      <td>9600</td>\n",
       "      <td>Pave</td>\n",
       "      <td>NaN</td>\n",
       "      <td>Reg</td>\n",
       "      <td>Lvl</td>\n",
       "      <td>AllPub</td>\n",
       "      <td>...</td>\n",
       "      <td>0</td>\n",
       "      <td>NaN</td>\n",
       "      <td>NaN</td>\n",
       "      <td>NaN</td>\n",
       "      <td>0</td>\n",
       "      <td>5</td>\n",
       "      <td>2007</td>\n",
       "      <td>WD</td>\n",
       "      <td>Normal</td>\n",
       "      <td>181500</td>\n",
       "    </tr>\n",
       "    <tr>\n",
       "      <th>2</th>\n",
       "      <td>3</td>\n",
       "      <td>60</td>\n",
       "      <td>RL</td>\n",
       "      <td>68.0</td>\n",
       "      <td>11250</td>\n",
       "      <td>Pave</td>\n",
       "      <td>NaN</td>\n",
       "      <td>IR1</td>\n",
       "      <td>Lvl</td>\n",
       "      <td>AllPub</td>\n",
       "      <td>...</td>\n",
       "      <td>0</td>\n",
       "      <td>NaN</td>\n",
       "      <td>NaN</td>\n",
       "      <td>NaN</td>\n",
       "      <td>0</td>\n",
       "      <td>9</td>\n",
       "      <td>2008</td>\n",
       "      <td>WD</td>\n",
       "      <td>Normal</td>\n",
       "      <td>223500</td>\n",
       "    </tr>\n",
       "    <tr>\n",
       "      <th>3</th>\n",
       "      <td>4</td>\n",
       "      <td>70</td>\n",
       "      <td>RL</td>\n",
       "      <td>60.0</td>\n",
       "      <td>9550</td>\n",
       "      <td>Pave</td>\n",
       "      <td>NaN</td>\n",
       "      <td>IR1</td>\n",
       "      <td>Lvl</td>\n",
       "      <td>AllPub</td>\n",
       "      <td>...</td>\n",
       "      <td>0</td>\n",
       "      <td>NaN</td>\n",
       "      <td>NaN</td>\n",
       "      <td>NaN</td>\n",
       "      <td>0</td>\n",
       "      <td>2</td>\n",
       "      <td>2006</td>\n",
       "      <td>WD</td>\n",
       "      <td>Abnorml</td>\n",
       "      <td>140000</td>\n",
       "    </tr>\n",
       "    <tr>\n",
       "      <th>4</th>\n",
       "      <td>5</td>\n",
       "      <td>60</td>\n",
       "      <td>RL</td>\n",
       "      <td>84.0</td>\n",
       "      <td>14260</td>\n",
       "      <td>Pave</td>\n",
       "      <td>NaN</td>\n",
       "      <td>IR1</td>\n",
       "      <td>Lvl</td>\n",
       "      <td>AllPub</td>\n",
       "      <td>...</td>\n",
       "      <td>0</td>\n",
       "      <td>NaN</td>\n",
       "      <td>NaN</td>\n",
       "      <td>NaN</td>\n",
       "      <td>0</td>\n",
       "      <td>12</td>\n",
       "      <td>2008</td>\n",
       "      <td>WD</td>\n",
       "      <td>Normal</td>\n",
       "      <td>250000</td>\n",
       "    </tr>\n",
       "  </tbody>\n",
       "</table>\n",
       "<p>5 rows × 81 columns</p>\n",
       "</div>"
      ],
      "text/plain": [
       "   Id  MSSubClass MSZoning  LotFrontage  LotArea Street Alley LotShape  \\\n",
       "0   1          60       RL         65.0     8450   Pave   NaN      Reg   \n",
       "1   2          20       RL         80.0     9600   Pave   NaN      Reg   \n",
       "2   3          60       RL         68.0    11250   Pave   NaN      IR1   \n",
       "3   4          70       RL         60.0     9550   Pave   NaN      IR1   \n",
       "4   5          60       RL         84.0    14260   Pave   NaN      IR1   \n",
       "\n",
       "  LandContour Utilities  ... PoolArea PoolQC Fence MiscFeature MiscVal MoSold  \\\n",
       "0         Lvl    AllPub  ...        0    NaN   NaN         NaN       0      2   \n",
       "1         Lvl    AllPub  ...        0    NaN   NaN         NaN       0      5   \n",
       "2         Lvl    AllPub  ...        0    NaN   NaN         NaN       0      9   \n",
       "3         Lvl    AllPub  ...        0    NaN   NaN         NaN       0      2   \n",
       "4         Lvl    AllPub  ...        0    NaN   NaN         NaN       0     12   \n",
       "\n",
       "  YrSold  SaleType  SaleCondition  SalePrice  \n",
       "0   2008        WD         Normal     208500  \n",
       "1   2007        WD         Normal     181500  \n",
       "2   2008        WD         Normal     223500  \n",
       "3   2006        WD        Abnorml     140000  \n",
       "4   2008        WD         Normal     250000  \n",
       "\n",
       "[5 rows x 81 columns]"
      ]
     },
     "execution_count": 5,
     "metadata": {},
     "output_type": "execute_result"
    }
   ],
   "source": [
    "df.head()"
   ]
  },
  {
   "cell_type": "markdown",
   "metadata": {
    "id": "Bh5Lvd4kjZzO"
   },
   "source": [
    "Descriptive statistics and visualizations to help understand the marginal distribution of the dependent variable."
   ]
  },
  {
   "cell_type": "code",
   "execution_count": 6,
   "metadata": {
    "colab": {
     "base_uri": "https://localhost:8080/"
    },
    "id": "X2Ka25SWuQkE",
    "outputId": "0d967bfc-f35c-4d11-aaeb-67afbe5ab1bf"
   },
   "outputs": [
    {
     "data": {
      "text/plain": [
       "count      1460.000000\n",
       "mean     180921.195890\n",
       "std       79442.502883\n",
       "min       34900.000000\n",
       "25%      129975.000000\n",
       "50%      163000.000000\n",
       "75%      214000.000000\n",
       "max      755000.000000\n",
       "Name: SalePrice, dtype: float64"
      ]
     },
     "execution_count": 6,
     "metadata": {},
     "output_type": "execute_result"
    }
   ],
   "source": [
    "df[\"SalePrice\"].describe()"
   ]
  },
  {
   "cell_type": "markdown",
   "metadata": {
    "id": "d6ATvKtyJ-vN"
   },
   "source": [
    "#### EDA SalePrice Graphs"
   ]
  },
  {
   "cell_type": "code",
   "execution_count": 7,
   "metadata": {
    "colab": {
     "base_uri": "https://localhost:8080/",
     "height": 297
    },
    "id": "upBsSOMWux61",
    "outputId": "ba18f0cb-a166-4ed4-abef-de3c4289c4b2"
   },
   "outputs": [
    {
     "data": {
      "text/plain": [
       "<AxesSubplot:xlabel='SalePrice', ylabel='Count'>"
      ]
     },
     "execution_count": 7,
     "metadata": {},
     "output_type": "execute_result"
    },
    {
     "data": {
      "image/png": "[encoded data removed]",
      "text/plain": [
       "<Figure size 432x288 with 1 Axes>"
      ]
     },
     "metadata": {
      "needs_background": "light"
     },
     "output_type": "display_data"
    }
   ],
   "source": [
    "sns.histplot(x=\"SalePrice\", data=df)"
   ]
  },
  {
   "cell_type": "code",
   "execution_count": 8,
   "metadata": {
    "colab": {
     "base_uri": "https://localhost:8080/",
     "height": 297
    },
    "id": "rqw5aahxvF-C",
    "outputId": "3e386bfe-f53a-4f20-c984-bee6604c6599"
   },
   "outputs": [
    {
     "data": {
      "text/plain": [
       "<AxesSubplot:xlabel='SalePrice'>"
      ]
     },
     "execution_count": 8,
     "metadata": {},
     "output_type": "execute_result"
    },
    {
     "data": {
      "image/png": "[encoded data removed]",
      "text/plain": [
       "<Figure size 432x288 with 1 Axes>"
      ]
     },
     "metadata": {
      "needs_background": "light"
     },
     "output_type": "display_data"
    }
   ],
   "source": [
    "sns.boxplot(x=\"SalePrice\", data=df)"
   ]
  },
  {
   "cell_type": "markdown",
   "metadata": {
    "id": "0ko3cSMBariH"
   },
   "source": [
    "#### Investigate Missing Data and Outliers"
   ]
  },
  {
   "cell_type": "markdown",
   "metadata": {
    "id": "OYrG69VjkdVE"
   },
   "source": [
    "##### Missing Data:"
   ]
  },
  {
   "cell_type": "code",
   "execution_count": 9,
   "metadata": {
    "id": "1EqcbVoIlfjt"
   },
   "outputs": [],
   "source": [
    "#Toggle this to see results below\n",
    "pd.set_option('max_rows', 20)"
   ]
  },
  {
   "cell_type": "code",
   "execution_count": 10,
   "metadata": {
    "colab": {
     "base_uri": "https://localhost:8080/"
    },
    "id": "s9HzC7XWkf2V",
    "outputId": "e5ce94aa-304f-410e-b5d4-22a1c81b8938"
   },
   "outputs": [
    {
     "data": {
      "text/plain": [
       "Id                 0\n",
       "MSSubClass         0\n",
       "MSZoning           0\n",
       "LotFrontage      259\n",
       "LotArea            0\n",
       "                ... \n",
       "MoSold             0\n",
       "YrSold             0\n",
       "SaleType           0\n",
       "SaleCondition      0\n",
       "SalePrice          0\n",
       "Length: 81, dtype: int64"
      ]
     },
     "execution_count": 10,
     "metadata": {},
     "output_type": "execute_result"
    }
   ],
   "source": [
    "df.isnull().sum()"
   ]
  },
  {
   "cell_type": "markdown",
   "metadata": {
    "id": "E6Wi8X_imCWz"
   },
   "source": [
    "The following categories have null values: \n",
    "\n",
    "*   LotFrontage\n",
    "*   Alley\n",
    "*   MasVnrType\n",
    "*   MasVnrArea\n",
    "*   BsmtQual\n",
    "*   BsmtCond\n",
    "*   BsmtExposure\n",
    "*   BsmtFinType1\n",
    "*   BsmtFinType2\n",
    "*   Electrical\n",
    "*   FireplaceQu\n",
    "*   GarageType\n",
    "*   GarageYrBlt\n",
    "*   GarageFinish\n",
    "*   GarageQual\n",
    "*   GarageCond\n",
    "*   PoolQC\n",
    "*   Fence\n",
    "*   MiscFeature"
   ]
  },
  {
   "cell_type": "markdown",
   "metadata": {
    "id": "4Zc52_14n8NI"
   },
   "source": [
    "We're not concerned about most of these columns having null values. It makes sense that some of the data would be missing for each (if a house doesn't have a pool, for example). We're going to drop all of the columns that have null values with the exception of \"Electrical.\" For 'Electrical,' we'll remove the row with the null value. "
   ]
  },
  {
   "cell_type": "code",
   "execution_count": 11,
   "metadata": {
    "colab": {
     "base_uri": "https://localhost:8080/"
    },
    "id": "MbDwBT69vpEA",
    "outputId": "bbfb5a85-a326-4522-8012-30e0ca924bdb"
   },
   "outputs": [
    {
     "name": "stdout",
     "output_type": "stream",
     "text": [
      "<class 'pandas.core.frame.DataFrame'>\n",
      "Int64Index: 1460 entries, 0 to 1459\n",
      "Data columns (total 35 columns):\n",
      " #   Column         Non-Null Count  Dtype\n",
      "---  ------         --------------  -----\n",
      " 0   Id             1460 non-null   int64\n",
      " 1   MSSubClass     1460 non-null   int64\n",
      " 2   LotArea        1460 non-null   int64\n",
      " 3   OverallQual    1460 non-null   int64\n",
      " 4   OverallCond    1460 non-null   int64\n",
      " 5   YearBuilt      1460 non-null   int64\n",
      " 6   YearRemodAdd   1460 non-null   int64\n",
      " 7   BsmtFinSF1     1460 non-null   int64\n",
      " 8   BsmtFinSF2     1460 non-null   int64\n",
      " 9   BsmtUnfSF      1460 non-null   int64\n",
      " 10  TotalBsmtSF    1460 non-null   int64\n",
      " 11  1stFlrSF       1460 non-null   int64\n",
      " 12  2ndFlrSF       1460 non-null   int64\n",
      " 13  LowQualFinSF   1460 non-null   int64\n",
      " 14  GrLivArea      1460 non-null   int64\n",
      " 15  BsmtFullBath   1460 non-null   int64\n",
      " 16  BsmtHalfBath   1460 non-null   int64\n",
      " 17  FullBath       1460 non-null   int64\n",
      " 18  HalfBath       1460 non-null   int64\n",
      " 19  BedroomAbvGr   1460 non-null   int64\n",
      " 20  KitchenAbvGr   1460 non-null   int64\n",
      " 21  TotRmsAbvGrd   1460 non-null   int64\n",
      " 22  Fireplaces     1460 non-null   int64\n",
      " 23  GarageCars     1460 non-null   int64\n",
      " 24  GarageArea     1460 non-null   int64\n",
      " 25  WoodDeckSF     1460 non-null   int64\n",
      " 26  OpenPorchSF    1460 non-null   int64\n",
      " 27  EnclosedPorch  1460 non-null   int64\n",
      " 28  3SsnPorch      1460 non-null   int64\n",
      " 29  ScreenPorch    1460 non-null   int64\n",
      " 30  PoolArea       1460 non-null   int64\n",
      " 31  MiscVal        1460 non-null   int64\n",
      " 32  MoSold         1460 non-null   int64\n",
      " 33  YrSold         1460 non-null   int64\n",
      " 34  SalePrice      1460 non-null   int64\n",
      "dtypes: int64(35)\n",
      "memory usage: 410.6 KB\n"
     ]
    }
   ],
   "source": [
    "col_to_drop = ['LotFrontage','Alley','MasVnrType','MasVnrArea',\n",
    "               'BsmtQual', 'BsmtCond', 'BsmtExposure','BsmtFinType1', 'BsmtFinType2', 'FireplaceQu', 'GarageType', 'GarageYrBlt',\n",
    "               'GarageFinish', 'GarageQual', 'GarageCond', 'PoolQC', 'Fence', 'MiscFeature'] \n",
    "\n",
    "df2a = df.drop(columns=col_to_drop, inplace=False)\n",
    "\n",
    "col_to_drop_2 = ['MSZoning', 'Street','LotShape','LandContour', 'Utilities', 'LotConfig', 'LandSlope',\n",
    "                'Neighborhood', 'Condition1', 'Condition2', 'BldgType', 'HouseStyle','RoofStyle', \n",
    "                'RoofMatl', 'Exterior1st', 'Exterior2nd', 'ExterQual', 'ExterCond', 'Foundation', \n",
    "                'Heating', 'HeatingQC','CentralAir', 'Electrical', 'KitchenQual', 'Functional', \n",
    "                'PavedDrive', 'SaleType', 'SaleCondition'] \n",
    "df2b = df2a.drop(columns= col_to_drop_2, inplace=False)\n",
    "\n",
    "\n",
    "df3 = df2b.dropna()\n",
    "df3.info()"
   ]
  },
  {
   "cell_type": "markdown",
   "metadata": {
    "id": "_jUhU7-g1Jjn"
   },
   "source": [
    "##### Removing Anomolies"
   ]
  },
  {
   "cell_type": "code",
   "execution_count": 12,
   "metadata": {
    "colab": {
     "base_uri": "https://localhost:8080/"
    },
    "id": "kuFtLPbWPskD",
    "outputId": "9e74c2d5-3785-4745-e9f8-fa905452d015"
   },
   "outputs": [
    {
     "name": "stdout",
     "output_type": "stream",
     "text": [
      "{'bootstrap': False, 'contamination': 0.05, 'max_features': 1.0, 'max_samples': 'auto', 'n_estimators': 100, 'n_jobs': None, 'random_state': 42, 'verbose': 0, 'warm_start': False}\n"
     ]
    }
   ],
   "source": [
    "#Isolation Forest Removes anomalies\n",
    "model=IsolationForest(n_estimators=100, contamination=float(.05), random_state=42)\n",
    "\n",
    "model.fit(df3[['SalePrice']])\n",
    "\n",
    "print(model.get_params())"
   ]
  },
  {
   "cell_type": "code",
   "execution_count": 13,
   "metadata": {
    "colab": {
     "base_uri": "https://localhost:8080/"
    },
    "id": "yjYPX5AHPsnD",
    "outputId": "68cb43ae-e48b-434a-a45f-08e8f81b42ca"
   },
   "outputs": [
    {
     "data": {
      "text/plain": [
       "(1387, 37)"
      ]
     },
     "execution_count": 13,
     "metadata": {},
     "output_type": "execute_result"
    }
   ],
   "source": [
    "df3['scores'] = model.decision_function(df3[['SalePrice']])\n",
    "\n",
    "df3['anomaly_score'] = model.predict(df3[['SalePrice']])\n",
    "\n",
    "df4 = df3[df3['anomaly_score']!=-1]\n",
    "\n",
    "df4.shape"
   ]
  },
  {
   "cell_type": "markdown",
   "metadata": {
    "id": "4S7IqFr3KWsr"
   },
   "source": [
    "##### EDA SalePrice Stats/Graphs (Cleaned Data)"
   ]
  },
  {
   "cell_type": "code",
   "execution_count": 14,
   "metadata": {
    "colab": {
     "base_uri": "https://localhost:8080/"
    },
    "id": "e-r8T1vQ6QX6",
    "outputId": "a42156ae-bcee-4d68-8859-c5032b04df91"
   },
   "outputs": [
    {
     "data": {
      "text/plain": [
       "count      1387.000000\n",
       "mean     173354.517664\n",
       "std       59601.459217\n",
       "min       72500.000000\n",
       "25%      130000.000000\n",
       "50%      160200.000000\n",
       "75%      206600.000000\n",
       "max      361919.000000\n",
       "Name: SalePrice, dtype: float64"
      ]
     },
     "execution_count": 14,
     "metadata": {},
     "output_type": "execute_result"
    }
   ],
   "source": [
    "df4[\"SalePrice\"].describe()"
   ]
  },
  {
   "cell_type": "code",
   "execution_count": 15,
   "metadata": {
    "colab": {
     "base_uri": "https://localhost:8080/",
     "height": 297
    },
    "id": "s8WjASSDbnOe",
    "outputId": "693d9d30-17c0-454f-9c4a-1488dc921acb"
   },
   "outputs": [
    {
     "data": {
      "text/plain": [
       "<AxesSubplot:xlabel='SalePrice', ylabel='Count'>"
      ]
     },
     "execution_count": 15,
     "metadata": {},
     "output_type": "execute_result"
    },
    {
     "data": {
      "image/png": "[encoded data removed]",
      "text/plain": [
       "<Figure size 432x288 with 1 Axes>"
      ]
     },
     "metadata": {
      "needs_background": "light"
     },
     "output_type": "display_data"
    }
   ],
   "source": [
    "sns.histplot(x=\"SalePrice\", data=df4)"
   ]
  },
  {
   "cell_type": "code",
   "execution_count": 16,
   "metadata": {
    "colab": {
     "base_uri": "https://localhost:8080/",
     "height": 297
    },
    "id": "Pv1UyODOcL7i",
    "outputId": "45bf0f10-85fe-4d8a-af07-be0827621d9f"
   },
   "outputs": [
    {
     "data": {
      "text/plain": [
       "<AxesSubplot:xlabel='SalePrice'>"
      ]
     },
     "execution_count": 16,
     "metadata": {},
     "output_type": "execute_result"
    },
    {
     "data": {
      "image/png": "[encoded data removed]",
      "text/plain": [
       "<Figure size 432x288 with 1 Axes>"
      ]
     },
     "metadata": {
      "needs_background": "light"
     },
     "output_type": "display_data"
    }
   ],
   "source": [
    "sns.boxplot(x=\"SalePrice\", data=df4)"
   ]
  },
  {
   "cell_type": "markdown",
   "metadata": {
    "id": "5Kbu9c1ot37X"
   },
   "source": [
    "####Feature Engineering"
   ]
  },
  {
   "cell_type": "code",
   "execution_count": 17,
   "metadata": {
    "colab": {
     "base_uri": "https://localhost:8080/",
     "height": 623
    },
    "id": "-WSnY5Pqtu9v",
    "outputId": "48686782-9d92-4152-fcec-55320237d2fa"
   },
   "outputs": [
    {
     "name": "stderr",
     "output_type": "stream",
     "text": [
      "<ipython-input-17-d7942eafcf14>:16: SettingWithCopyWarning: \n",
      "A value is trying to be set on a copy of a slice from a DataFrame.\n",
      "Try using .loc[row_indexer,col_indexer] = value instead\n",
      "\n",
      "See the caveats in the documentation: https://pandas.pydata.org/pandas-docs/stable/user_guide/indexing.html#returning-a-view-versus-a-copy\n",
      "  df4['tot_sq'] = sum_column\n",
      "<ipython-input-17-d7942eafcf14>:17: SettingWithCopyWarning: \n",
      "A value is trying to be set on a copy of a slice from a DataFrame.\n",
      "Try using .loc[row_indexer,col_indexer] = value instead\n",
      "\n",
      "See the caveats in the documentation: https://pandas.pydata.org/pandas-docs/stable/user_guide/indexing.html#returning-a-view-versus-a-copy\n",
      "  df4['qual_space'] = mult_column\n",
      "<ipython-input-17-d7942eafcf14>:18: SettingWithCopyWarning: \n",
      "A value is trying to be set on a copy of a slice from a DataFrame.\n",
      "Try using .loc[row_indexer,col_indexer] = value instead\n",
      "\n",
      "See the caveats in the documentation: https://pandas.pydata.org/pandas-docs/stable/user_guide/indexing.html#returning-a-view-versus-a-copy\n",
      "  df4['baths'] = bath_column\n",
      "<ipython-input-17-d7942eafcf14>:19: SettingWithCopyWarning: \n",
      "A value is trying to be set on a copy of a slice from a DataFrame.\n",
      "Try using .loc[row_indexer,col_indexer] = value instead\n",
      "\n",
      "See the caveats in the documentation: https://pandas.pydata.org/pandas-docs/stable/user_guide/indexing.html#returning-a-view-versus-a-copy\n",
      "  df4['newness_value'] = newness_column\n"
     ]
    },
    {
     "data": {
      "text/html": [
       "<div>\n",
       "<style scoped>\n",
       "    .dataframe tbody tr th:only-of-type {\n",
       "        vertical-align: middle;\n",
       "    }\n",
       "\n",
       "    .dataframe tbody tr th {\n",
       "        vertical-align: top;\n",
       "    }\n",
       "\n",
       "    .dataframe thead th {\n",
       "        text-align: right;\n",
       "    }\n",
       "</style>\n",
       "<table border=\"1\" class=\"dataframe\">\n",
       "  <thead>\n",
       "    <tr style=\"text-align: right;\">\n",
       "      <th></th>\n",
       "      <th>Id</th>\n",
       "      <th>MSSubClass</th>\n",
       "      <th>LotArea</th>\n",
       "      <th>OverallQual</th>\n",
       "      <th>OverallCond</th>\n",
       "      <th>YearBuilt</th>\n",
       "      <th>YearRemodAdd</th>\n",
       "      <th>BsmtFinSF1</th>\n",
       "      <th>BsmtFinSF2</th>\n",
       "      <th>BsmtUnfSF</th>\n",
       "      <th>...</th>\n",
       "      <th>MiscVal</th>\n",
       "      <th>MoSold</th>\n",
       "      <th>YrSold</th>\n",
       "      <th>SalePrice</th>\n",
       "      <th>scores</th>\n",
       "      <th>anomaly_score</th>\n",
       "      <th>tot_sq</th>\n",
       "      <th>qual_space</th>\n",
       "      <th>baths</th>\n",
       "      <th>newness_value</th>\n",
       "    </tr>\n",
       "  </thead>\n",
       "  <tbody>\n",
       "    <tr>\n",
       "      <th>0</th>\n",
       "      <td>1</td>\n",
       "      <td>60</td>\n",
       "      <td>8450</td>\n",
       "      <td>7</td>\n",
       "      <td>5</td>\n",
       "      <td>2003</td>\n",
       "      <td>2003</td>\n",
       "      <td>706</td>\n",
       "      <td>0</td>\n",
       "      <td>150</td>\n",
       "      <td>...</td>\n",
       "      <td>0</td>\n",
       "      <td>2</td>\n",
       "      <td>2008</td>\n",
       "      <td>208500</td>\n",
       "      <td>0.157790</td>\n",
       "      <td>1</td>\n",
       "      <td>2566</td>\n",
       "      <td>17962</td>\n",
       "      <td>2.5</td>\n",
       "      <td>2004.000000</td>\n",
       "    </tr>\n",
       "    <tr>\n",
       "      <th>1</th>\n",
       "      <td>2</td>\n",
       "      <td>20</td>\n",
       "      <td>9600</td>\n",
       "      <td>6</td>\n",
       "      <td>8</td>\n",
       "      <td>1976</td>\n",
       "      <td>1976</td>\n",
       "      <td>978</td>\n",
       "      <td>0</td>\n",
       "      <td>284</td>\n",
       "      <td>...</td>\n",
       "      <td>0</td>\n",
       "      <td>5</td>\n",
       "      <td>2007</td>\n",
       "      <td>181500</td>\n",
       "      <td>0.190851</td>\n",
       "      <td>1</td>\n",
       "      <td>2524</td>\n",
       "      <td>15144</td>\n",
       "      <td>2.0</td>\n",
       "      <td>1977.000000</td>\n",
       "    </tr>\n",
       "    <tr>\n",
       "      <th>2</th>\n",
       "      <td>3</td>\n",
       "      <td>60</td>\n",
       "      <td>11250</td>\n",
       "      <td>7</td>\n",
       "      <td>5</td>\n",
       "      <td>2001</td>\n",
       "      <td>2002</td>\n",
       "      <td>486</td>\n",
       "      <td>0</td>\n",
       "      <td>434</td>\n",
       "      <td>...</td>\n",
       "      <td>0</td>\n",
       "      <td>9</td>\n",
       "      <td>2008</td>\n",
       "      <td>223500</td>\n",
       "      <td>0.155139</td>\n",
       "      <td>1</td>\n",
       "      <td>2706</td>\n",
       "      <td>18942</td>\n",
       "      <td>2.5</td>\n",
       "      <td>2002.000500</td>\n",
       "    </tr>\n",
       "    <tr>\n",
       "      <th>3</th>\n",
       "      <td>4</td>\n",
       "      <td>70</td>\n",
       "      <td>9550</td>\n",
       "      <td>7</td>\n",
       "      <td>5</td>\n",
       "      <td>1915</td>\n",
       "      <td>1970</td>\n",
       "      <td>216</td>\n",
       "      <td>0</td>\n",
       "      <td>540</td>\n",
       "      <td>...</td>\n",
       "      <td>0</td>\n",
       "      <td>2</td>\n",
       "      <td>2006</td>\n",
       "      <td>140000</td>\n",
       "      <td>0.213389</td>\n",
       "      <td>1</td>\n",
       "      <td>2473</td>\n",
       "      <td>17311</td>\n",
       "      <td>1.0</td>\n",
       "      <td>1916.028721</td>\n",
       "    </tr>\n",
       "    <tr>\n",
       "      <th>4</th>\n",
       "      <td>5</td>\n",
       "      <td>60</td>\n",
       "      <td>14260</td>\n",
       "      <td>8</td>\n",
       "      <td>5</td>\n",
       "      <td>2000</td>\n",
       "      <td>2000</td>\n",
       "      <td>655</td>\n",
       "      <td>0</td>\n",
       "      <td>490</td>\n",
       "      <td>...</td>\n",
       "      <td>0</td>\n",
       "      <td>12</td>\n",
       "      <td>2008</td>\n",
       "      <td>250000</td>\n",
       "      <td>0.121703</td>\n",
       "      <td>1</td>\n",
       "      <td>3343</td>\n",
       "      <td>26744</td>\n",
       "      <td>2.5</td>\n",
       "      <td>2001.000000</td>\n",
       "    </tr>\n",
       "  </tbody>\n",
       "</table>\n",
       "<p>5 rows × 41 columns</p>\n",
       "</div>"
      ],
      "text/plain": [
       "   Id  MSSubClass  LotArea  OverallQual  OverallCond  YearBuilt  YearRemodAdd  \\\n",
       "0   1          60     8450            7            5       2003          2003   \n",
       "1   2          20     9600            6            8       1976          1976   \n",
       "2   3          60    11250            7            5       2001          2002   \n",
       "3   4          70     9550            7            5       1915          1970   \n",
       "4   5          60    14260            8            5       2000          2000   \n",
       "\n",
       "   BsmtFinSF1  BsmtFinSF2  BsmtUnfSF  ...  MiscVal  MoSold  YrSold  SalePrice  \\\n",
       "0         706           0        150  ...        0       2    2008     208500   \n",
       "1         978           0        284  ...        0       5    2007     181500   \n",
       "2         486           0        434  ...        0       9    2008     223500   \n",
       "3         216           0        540  ...        0       2    2006     140000   \n",
       "4         655           0        490  ...        0      12    2008     250000   \n",
       "\n",
       "     scores  anomaly_score  tot_sq  qual_space  baths  newness_value  \n",
       "0  0.157790              1    2566       17962    2.5    2004.000000  \n",
       "1  0.190851              1    2524       15144    2.0    1977.000000  \n",
       "2  0.155139              1    2706       18942    2.5    2002.000500  \n",
       "3  0.213389              1    2473       17311    1.0    1916.028721  \n",
       "4  0.121703              1    3343       26744    2.5    2001.000000  \n",
       "\n",
       "[5 rows x 41 columns]"
      ]
     },
     "execution_count": 17,
     "metadata": {},
     "output_type": "execute_result"
    }
   ],
   "source": [
    "# sum 1st floor, 2nd floor, and basement square footage to get total square footage\n",
    "sum_column = df4['1stFlrSF'] + df4['2ndFlrSF'] + df4['TotalBsmtSF']\n",
    "\n",
    "# multiply total square footage by overall quality to generate new predictor variable qual_space\n",
    "mult_column = sum_column*df4['OverallQual']\n",
    "\n",
    "#Sum the baths and the halfbaths\n",
    "bath_column = df4['FullBath'] + 0.5*df4['HalfBath']\n",
    "\n",
    "#Create a newness score (YearBuilt + (YearRemodAdd/YearBuilt))\n",
    "newness_column = df4['YearBuilt'] + (df4['YearRemodAdd'] / df4['YearBuilt'])\n",
    "\n",
    "\n",
    "\n",
    "# add new predictor variables to dataframe\n",
    "df4['tot_sq'] = sum_column\n",
    "df4['qual_space'] = mult_column\n",
    "df4['baths'] = bath_column\n",
    "df4['newness_value'] = newness_column\n",
    "df4.head()"
   ]
  },
  {
   "cell_type": "markdown",
   "metadata": {
    "id": "buzCCHqwKeTt"
   },
   "source": [
    "#### Correlations"
   ]
  },
  {
   "cell_type": "code",
   "execution_count": 18,
   "metadata": {
    "colab": {
     "base_uri": "https://localhost:8080/",
     "height": 456
    },
    "id": "6A5JppaL_8Cc",
    "outputId": "4e5be21a-b2f8-4b6b-bee0-b0bbdef799df"
   },
   "outputs": [
    {
     "data": {
      "image/png": "[encoded data removed]",
      "text/plain": [
       "<Figure size 648x432 with 2 Axes>"
      ]
     },
     "metadata": {
      "needs_background": "light"
     },
     "output_type": "display_data"
    }
   ],
   "source": [
    "# setting the columns to correlate\n",
    "\n",
    "columns = ['SalePrice', 'OverallQual', 'GrLivArea', 'GarageCars', 'qual_space', 'LotArea', 'OverallCond', 'baths', 'newness_value']\n",
    "df_corr = df4[columns]\n",
    "# running the correlation\n",
    "df_corr.corr()\n",
    "\n",
    "# setting up the heatmap\n",
    "corrmat = df_corr.corr()\n",
    "\n",
    "# set the figure size\n",
    "f, ax = plt.subplots(figsize=(9, 6))\n",
    "\n",
    "# pass the data and set the parameters\n",
    "sns.heatmap(corrmat, vmax=1, square=True, annot=True, cmap='BrBG', linewidths=.5 )\n",
    "plt.title('Correlation Heatmap of Predictor Variables')\n",
    "\n",
    "# images can be saved - default is .png\n",
    "# https://matplotlib.org/3.1.1/api/_as_gen/matplotlib.pyplot.savefig.html\n",
    "plt.savefig('Correlation Heatmap of New Predictor Variables')"
   ]
  },
  {
   "cell_type": "markdown",
   "metadata": {
    "id": "j_f-2woXzIVK"
   },
   "source": [
    "## Graphs"
   ]
  },
  {
   "cell_type": "markdown",
   "metadata": {
    "id": "Z5qGJGKeKjpw"
   },
   "source": [
    "### Scatterplots"
   ]
  },
  {
   "cell_type": "code",
   "execution_count": 19,
   "metadata": {
    "colab": {
     "base_uri": "https://localhost:8080/",
     "height": 387
    },
    "id": "G_9VQa3M5pG7",
    "outputId": "cf999784-8461-409c-8ccf-1879b20f4b83"
   },
   "outputs": [
    {
     "data": {
      "text/plain": [
       "<seaborn.axisgrid.FacetGrid at 0x2be387ffb80>"
      ]
     },
     "execution_count": 19,
     "metadata": {},
     "output_type": "execute_result"
    },
    {
     "data": {
      "image/png": "[encoded data removed]",
      "text/plain": [
       "<Figure size 360x360 with 1 Axes>"
      ]
     },
     "metadata": {
      "needs_background": "light"
     },
     "output_type": "display_data"
    }
   ],
   "source": [
    "#sns.scatterplot(x='OverallQual', y='SalePrice', data=df4)\n",
    "sns.lmplot(x='OverallQual', y='SalePrice', data=df4)"
   ]
  },
  {
   "cell_type": "code",
   "execution_count": 20,
   "metadata": {
    "colab": {
     "base_uri": "https://localhost:8080/",
     "height": 387
    },
    "id": "GgXcftMX5aG0",
    "outputId": "7b766e09-e103-46c6-d903-c448ade50cd2"
   },
   "outputs": [
    {
     "data": {
      "text/plain": [
       "<seaborn.axisgrid.FacetGrid at 0x2be386339a0>"
      ]
     },
     "execution_count": 20,
     "metadata": {},
     "output_type": "execute_result"
    },
    {
     "data": {
      "image/png": "[encoded data removed]",
      "text/plain": [
       "<Figure size 360x360 with 1 Axes>"
      ]
     },
     "metadata": {
      "needs_background": "light"
     },
     "output_type": "display_data"
    }
   ],
   "source": [
    "#sns.scatterplot(x=\"GrLivArea\", y=\"SalePrice\", data=df4)\n",
    "sns.lmplot(x=\"GrLivArea\", y=\"SalePrice\", data=df4)"
   ]
  },
  {
   "cell_type": "code",
   "execution_count": 21,
   "metadata": {
    "colab": {
     "base_uri": "https://localhost:8080/",
     "height": 387
    },
    "id": "nWT79jVtGdI3",
    "outputId": "2c1e379f-b620-4198-8f8a-5325083ac4b3"
   },
   "outputs": [
    {
     "data": {
      "text/plain": [
       "<seaborn.axisgrid.FacetGrid at 0x2be386bbe20>"
      ]
     },
     "execution_count": 21,
     "metadata": {},
     "output_type": "execute_result"
    },
    {
     "data": {
      "image/png": "[encoded data removed]",
      "text/plain": [
       "<Figure size 360x360 with 1 Axes>"
      ]
     },
     "metadata": {
      "needs_background": "light"
     },
     "output_type": "display_data"
    }
   ],
   "source": [
    "#sns.scatterplot(x=\"GarageCars\", y=\"SalePrice\", data=df4)\n",
    "sns.lmplot(x=\"GarageCars\", y=\"SalePrice\", data=df4)"
   ]
  },
  {
   "cell_type": "code",
   "execution_count": 22,
   "metadata": {
    "colab": {
     "base_uri": "https://localhost:8080/",
     "height": 387
    },
    "id": "LsRdSStZ5jLg",
    "outputId": "21403d51-b18f-4ba4-e4cd-cde902ef0b19"
   },
   "outputs": [
    {
     "data": {
      "text/plain": [
       "<seaborn.axisgrid.FacetGrid at 0x2be39811b50>"
      ]
     },
     "execution_count": 22,
     "metadata": {},
     "output_type": "execute_result"
    },
    {
     "data": {
      "image/png": "[encoded data removed]",
      "text/plain": [
       "<Figure size 360x360 with 1 Axes>"
      ]
     },
     "metadata": {
      "needs_background": "light"
     },
     "output_type": "display_data"
    }
   ],
   "source": [
    "#sns.scatterplot(x=\"GarageArea\", y=\"SalePrice\", data=df4)\n",
    "sns.lmplot(x=\"GarageArea\", y=\"SalePrice\", data=df4)"
   ]
  },
  {
   "cell_type": "code",
   "execution_count": 23,
   "metadata": {
    "colab": {
     "base_uri": "https://localhost:8080/",
     "height": 387
    },
    "id": "KbEyQYJzvAOX",
    "outputId": "18adc97e-a9ee-455f-962c-14ef73c1a2c1"
   },
   "outputs": [
    {
     "data": {
      "text/plain": [
       "<seaborn.axisgrid.FacetGrid at 0x2be323aa940>"
      ]
     },
     "execution_count": 23,
     "metadata": {},
     "output_type": "execute_result"
    },
    {
     "data": {
      "image/png": "[encoded data removed]",
      "text/plain": [
       "<Figure size 360x360 with 1 Axes>"
      ]
     },
     "metadata": {
      "needs_background": "light"
     },
     "output_type": "display_data"
    }
   ],
   "source": [
    "#scatterplot total square ft vs. SalePrice\n",
    "sns.lmplot(x=\"tot_sq\", y=\"SalePrice\", data=df4)"
   ]
  },
  {
   "cell_type": "code",
   "execution_count": 24,
   "metadata": {
    "colab": {
     "base_uri": "https://localhost:8080/",
     "height": 387
    },
    "id": "NFtPaLxovDZ-",
    "outputId": "f0729dd4-32b1-40e9-d94f-9566596c4668"
   },
   "outputs": [
    {
     "data": {
      "text/plain": [
       "<seaborn.axisgrid.FacetGrid at 0x2be398c4ee0>"
      ]
     },
     "execution_count": 24,
     "metadata": {},
     "output_type": "execute_result"
    },
    {
     "data": {
      "image/png": "[encoded data removed]",
      "text/plain": [
       "<Figure size 360x360 with 1 Axes>"
      ]
     },
     "metadata": {
      "needs_background": "light"
     },
     "output_type": "display_data"
    }
   ],
   "source": [
    "#scatterplot qual_space vs. SalePrice\n",
    "sns.lmplot(x=\"qual_space\", y=\"SalePrice\", data=df4)"
   ]
  },
  {
   "cell_type": "code",
   "execution_count": 25,
   "metadata": {
    "colab": {
     "base_uri": "https://localhost:8080/",
     "height": 387
    },
    "id": "nkvao5YyvGzb",
    "outputId": "cb00c544-cf02-4d10-cb83-2844b6edbede"
   },
   "outputs": [
    {
     "data": {
      "text/plain": [
       "<seaborn.axisgrid.FacetGrid at 0x2be399175e0>"
      ]
     },
     "execution_count": 25,
     "metadata": {},
     "output_type": "execute_result"
    },
    {
     "data": {
      "image/png": "[encoded data removed]",
      "text/plain": [
       "<Figure size 360x360 with 1 Axes>"
      ]
     },
     "metadata": {
      "needs_background": "light"
     },
     "output_type": "display_data"
    }
   ],
   "source": [
    "#scatterplot baths vs. SalePrice\n",
    "sns.lmplot(x=\"baths\", y=\"SalePrice\", data=df4)"
   ]
  },
  {
   "cell_type": "code",
   "execution_count": 26,
   "metadata": {
    "colab": {
     "base_uri": "https://localhost:8080/",
     "height": 387
    },
    "id": "faS9RGQDvNWp",
    "outputId": "38a98957-03ff-4f4f-d875-ecd2463f5c4d"
   },
   "outputs": [
    {
     "data": {
      "text/plain": [
       "<seaborn.axisgrid.FacetGrid at 0x2be39930d60>"
      ]
     },
     "execution_count": 26,
     "metadata": {},
     "output_type": "execute_result"
    },
    {
     "data": {
      "image/png": "[encoded data removed]",
      "text/plain": [
       "<Figure size 360x360 with 1 Axes>"
      ]
     },
     "metadata": {
      "needs_background": "light"
     },
     "output_type": "display_data"
    }
   ],
   "source": [
    "# scatterplot of newness value vs SalePrice\n",
    "sns.lmplot(x=\"newness_value\", y=\"SalePrice\", data=df4)"
   ]
  },
  {
   "cell_type": "markdown",
   "metadata": {
    "id": "MV09RTb2Gqti"
   },
   "source": [
    "### Boxplots"
   ]
  },
  {
   "cell_type": "code",
   "execution_count": 27,
   "metadata": {
    "colab": {
     "base_uri": "https://localhost:8080/",
     "height": 297
    },
    "id": "6z3ZRquUGv79",
    "outputId": "36df6763-7de7-415c-d8ad-eceb58c486cc"
   },
   "outputs": [
    {
     "data": {
      "text/plain": [
       "<AxesSubplot:xlabel='OverallQual', ylabel='SalePrice'>"
      ]
     },
     "execution_count": 27,
     "metadata": {},
     "output_type": "execute_result"
    },
    {
     "data": {
      "image/png": "[encoded data removed]",
      "text/plain": [
       "<Figure size 432x288 with 1 Axes>"
      ]
     },
     "metadata": {
      "needs_background": "light"
     },
     "output_type": "display_data"
    }
   ],
   "source": [
    "var = 'OverallQual'\n",
    "data = pd.concat([df4['SalePrice'], df4[var]], axis=1)\n",
    "sns.boxplot(x=var, y='SalePrice', data=data)"
   ]
  },
  {
   "cell_type": "code",
   "execution_count": 28,
   "metadata": {
    "colab": {
     "base_uri": "https://localhost:8080/",
     "height": 297
    },
    "id": "rW2BoK1EGyaC",
    "outputId": "a08a915c-fcaa-4346-d46d-a970c6d72f52"
   },
   "outputs": [
    {
     "data": {
      "text/plain": [
       "<AxesSubplot:xlabel='GarageCars', ylabel='SalePrice'>"
      ]
     },
     "execution_count": 28,
     "metadata": {},
     "output_type": "execute_result"
    },
    {
     "data": {
      "image/png": "[encoded data removed]",
      "text/plain": [
       "<Figure size 432x288 with 1 Axes>"
      ]
     },
     "metadata": {
      "needs_background": "light"
     },
     "output_type": "display_data"
    }
   ],
   "source": [
    "var = 'GarageCars'\n",
    "data = pd.concat([df4['SalePrice'], df4[var]], axis=1)\n",
    "sns.boxplot(x=var, y='SalePrice', data=data)"
   ]
  },
  {
   "cell_type": "code",
   "execution_count": 29,
   "metadata": {
    "colab": {
     "base_uri": "https://localhost:8080/",
     "height": 297
    },
    "id": "UClUwCkWXb53",
    "outputId": "cfa521c3-322f-4e0c-b2fd-be13223b29ff"
   },
   "outputs": [
    {
     "data": {
      "text/plain": [
       "<AxesSubplot:xlabel='baths', ylabel='SalePrice'>"
      ]
     },
     "execution_count": 29,
     "metadata": {},
     "output_type": "execute_result"
    },
    {
     "data": {
      "image/png": "[encoded data removed]",
      "text/plain": [
       "<Figure size 432x288 with 1 Axes>"
      ]
     },
     "metadata": {
      "needs_background": "light"
     },
     "output_type": "display_data"
    }
   ],
   "source": [
    "# side by side boxplot of baths vs. SalePrice\n",
    "var = 'baths'\n",
    "data = pd.concat([df4['SalePrice'], df4[var]], axis=1)\n",
    "sns.boxplot(x=var, y='SalePrice', data=data)"
   ]
  },
  {
   "cell_type": "markdown",
   "metadata": {
    "id": "7ED7FpIIoPHx"
   },
   "source": [
    "# Regression Models"
   ]
  },
  {
   "cell_type": "markdown",
   "metadata": {
    "id": "qi5tw5r-yT46"
   },
   "source": [
    "## Lasso, Ridge, and ElasticNet"
   ]
  },
  {
   "cell_type": "markdown",
   "metadata": {
    "id": "pGGA4H7tvwHm"
   },
   "source": [
    "### Variable Selection"
   ]
  },
  {
   "cell_type": "code",
   "execution_count": 30,
   "metadata": {
    "id": "GKL40578vwHn"
   },
   "outputs": [],
   "source": [
    "z = df4.drop(columns = ['SalePrice', 'Id', 'scores', 'anomaly_score'])\n",
    "y = df4['SalePrice']"
   ]
  },
  {
   "cell_type": "code",
   "execution_count": 31,
   "metadata": {
    "colab": {
     "base_uri": "https://localhost:8080/"
    },
    "id": "q80rOYDqvwHn",
    "outputId": "860e3f9c-6d6b-4d72-e03c-1b8ccec41d24"
   },
   "outputs": [
    {
     "data": {
      "text/plain": [
       "array([ 1, 24,  1,  1,  1,  1, 13, 18, 19,  6, 23, 16,  3,  1,  1, 21, 11,\n",
       "       14,  1,  4, 25,  1,  9,  2,  8,  5, 10, 17,  1, 15, 26,  1,  7, 22,\n",
       "       20, 12,  1])"
      ]
     },
     "execution_count": 31,
     "metadata": {},
     "output_type": "execute_result"
    }
   ],
   "source": [
    "from sklearn.feature_selection import RFE\n",
    "from sklearn.svm import SVR\n",
    "estimator = SVR(kernel=\"linear\")\n",
    "selector = RFE(estimator, n_features_to_select=12, step=1)\n",
    "selector = selector.fit(z, y)\n",
    "\n",
    "df_ranks = selector.ranking_\n",
    "df_ranks"
   ]
  },
  {
   "cell_type": "code",
   "execution_count": 32,
   "metadata": {
    "colab": {
     "base_uri": "https://localhost:8080/"
    },
    "id": "W5nelxdVvwHn",
    "outputId": "fa996bcf-539a-4241-8c64-8e4fee530b3e"
   },
   "outputs": [
    {
     "name": "stdout",
     "output_type": "stream",
     "text": [
      "Column: 0, Selected True, Rank: 1.000\n",
      "Column: 1, Selected False, Rank: 24.000\n",
      "Column: 2, Selected True, Rank: 1.000\n",
      "Column: 3, Selected True, Rank: 1.000\n",
      "Column: 4, Selected True, Rank: 1.000\n",
      "Column: 5, Selected True, Rank: 1.000\n",
      "Column: 6, Selected False, Rank: 13.000\n",
      "Column: 7, Selected False, Rank: 18.000\n",
      "Column: 8, Selected False, Rank: 19.000\n",
      "Column: 9, Selected False, Rank: 6.000\n",
      "Column: 10, Selected False, Rank: 23.000\n",
      "Column: 11, Selected False, Rank: 16.000\n",
      "Column: 12, Selected False, Rank: 3.000\n",
      "Column: 13, Selected True, Rank: 1.000\n",
      "Column: 14, Selected True, Rank: 1.000\n",
      "Column: 15, Selected False, Rank: 21.000\n",
      "Column: 16, Selected False, Rank: 11.000\n",
      "Column: 17, Selected False, Rank: 14.000\n",
      "Column: 18, Selected True, Rank: 1.000\n",
      "Column: 19, Selected False, Rank: 4.000\n",
      "Column: 20, Selected False, Rank: 25.000\n",
      "Column: 21, Selected True, Rank: 1.000\n",
      "Column: 22, Selected False, Rank: 9.000\n",
      "Column: 23, Selected False, Rank: 2.000\n",
      "Column: 24, Selected False, Rank: 8.000\n",
      "Column: 25, Selected False, Rank: 5.000\n",
      "Column: 26, Selected False, Rank: 10.000\n",
      "Column: 27, Selected False, Rank: 17.000\n",
      "Column: 28, Selected True, Rank: 1.000\n",
      "Column: 29, Selected False, Rank: 15.000\n",
      "Column: 30, Selected False, Rank: 26.000\n",
      "Column: 31, Selected True, Rank: 1.000\n",
      "Column: 32, Selected False, Rank: 7.000\n",
      "Column: 33, Selected False, Rank: 22.000\n",
      "Column: 34, Selected False, Rank: 20.000\n",
      "Column: 35, Selected False, Rank: 12.000\n",
      "Column: 36, Selected True, Rank: 1.000\n"
     ]
    }
   ],
   "source": [
    "for i in range(z.shape[1]):\n",
    "    print('Column: %d, Selected %s, Rank: %.3f' % (i, selector.support_[i], selector.ranking_[i]))"
   ]
  },
  {
   "cell_type": "code",
   "execution_count": 33,
   "metadata": {
    "colab": {
     "base_uri": "https://localhost:8080/"
    },
    "id": "T5ihj72cvwHn",
    "outputId": "91612f7d-933d-4446-a773-aae54b7ac119"
   },
   "outputs": [
    {
     "data": {
      "text/plain": [
       "array(['LotArea', 'BsmtFinSF1', 'BsmtFinSF2', 'BsmtUnfSF', 'TotalBsmtSF',\n",
       "       '1stFlrSF', '2ndFlrSF', 'LowQualFinSF', 'BsmtHalfBath', 'FullBath',\n",
       "       'HalfBath', 'KitchenAbvGr', 'TotRmsAbvGrd', 'GarageCars',\n",
       "       'GarageArea', 'WoodDeckSF', 'OpenPorchSF', 'EnclosedPorch',\n",
       "       '3SsnPorch', 'PoolArea', 'MiscVal', 'YrSold', 'tot_sq',\n",
       "       'qual_space', 'baths'], dtype=object)"
      ]
     },
     "execution_count": 33,
     "metadata": {},
     "output_type": "execute_result"
    }
   ],
   "source": [
    "cols_to_keep = selector.support_\n",
    "\n",
    "columns_to_remove = z.columns.values[np.logical_not(cols_to_keep)]\n",
    "columns_to_remove"
   ]
  },
  {
   "cell_type": "code",
   "execution_count": 34,
   "metadata": {
    "id": "nwCl6GhdvwHn"
   },
   "outputs": [],
   "source": [
    "X = z.drop(columns=columns_to_remove)"
   ]
  },
  {
   "cell_type": "code",
   "execution_count": 35,
   "metadata": {
    "id": "OHMoNFOTvwHn"
   },
   "outputs": [],
   "source": [
    "name_list = list(X.columns.values)"
   ]
  },
  {
   "cell_type": "code",
   "execution_count": 36,
   "metadata": {
    "id": "jCQwBK7IwZT1"
   },
   "outputs": [],
   "source": [
    "# split data in to training and test data\n",
    "X_train, X_test, y_train, y_test = train_test_split(X, y, test_size=0.2, random_state=42)"
   ]
  },
  {
   "cell_type": "markdown",
   "metadata": {
    "id": "n9lDiCxPyhvc"
   },
   "source": [
    "#### Lasso"
   ]
  },
  {
   "cell_type": "code",
   "execution_count": 37,
   "metadata": {
    "colab": {
     "base_uri": "https://localhost:8080/"
    },
    "id": "Qi6X_hBgyapY",
    "outputId": "5082c9a0-94cd-4696-e92d-00f7d4581c4d"
   },
   "outputs": [
    {
     "name": "stderr",
     "output_type": "stream",
     "text": [
      "C:\\Users\\sjue\\Anaconda3\\lib\\site-packages\\sklearn\\linear_model\\_coordinate_descent.py:530: ConvergenceWarning: Objective did not converge. You might want to increase the number of iterations. Duality gap: 252181185368.77197, tolerance: 391652989.5874466\n",
      "  model = cd_fast.enet_coordinate_descent(\n"
     ]
    }
   ],
   "source": [
    "lasso_model = Lasso().fit(X_train, y_train)"
   ]
  },
  {
   "cell_type": "code",
   "execution_count": 38,
   "metadata": {
    "colab": {
     "base_uri": "https://localhost:8080/"
    },
    "id": "_mhBsEB-yapY",
    "outputId": "5da63254-ea4f-4992-8828-3c529138f6df"
   },
   "outputs": [
    {
     "name": "stdout",
     "output_type": "stream",
     "text": [
      "Coefficient: [ -184.8503518  16919.65968894  4601.01154766   773.00000906\n",
      "   242.8726669     47.86135961 12663.89886906  -146.81819531\n",
      "  9517.1057251     38.50881059   441.93502156  -261.3806402 ]\n",
      "Scores: 0.7850997031385983 0.8452896114591302\n"
     ]
    }
   ],
   "source": [
    "# display model coefficients and r-sqaured scores\n",
    "print('Coefficient:', lasso_model.coef_)\n",
    "print('Scores:', lasso_model.score(X_train, y_train), lasso_model.score(X_test, y_test))"
   ]
  },
  {
   "cell_type": "code",
   "execution_count": 39,
   "metadata": {
    "id": "pWwBUodYyapY"
   },
   "outputs": [],
   "source": [
    "y_prediction = lasso_model.predict(X_test)"
   ]
  },
  {
   "cell_type": "code",
   "execution_count": 40,
   "metadata": {
    "colab": {
     "base_uri": "https://localhost:8080/"
    },
    "id": "YMjoyyxkyapY",
    "outputId": "1ce58557-ff52-4405-bed3-fe70da8f8960"
   },
   "outputs": [
    {
     "name": "stdout",
     "output_type": "stream",
     "text": [
      "23671.36807136452\n"
     ]
    }
   ],
   "source": [
    "RMSE = sqrt(mean_squared_error(y_true = y_test, y_pred = y_prediction))\n",
    "print(RMSE)"
   ]
  },
  {
   "cell_type": "code",
   "execution_count": 41,
   "metadata": {
    "colab": {
     "base_uri": "https://localhost:8080/"
    },
    "id": "IHsIIt0ayapZ",
    "outputId": "c7549eb6-f4c3-47b3-87b8-667711381c9d"
   },
   "outputs": [
    {
     "name": "stderr",
     "output_type": "stream",
     "text": [
      "C:\\Users\\sjue\\Anaconda3\\lib\\site-packages\\sklearn\\linear_model\\_coordinate_descent.py:530: ConvergenceWarning: Objective did not converge. You might want to increase the number of iterations. Duality gap: 159442389699.83508, tolerance: 349942370.4286453\n",
      "  model = cd_fast.enet_coordinate_descent(\n",
      "C:\\Users\\sjue\\Anaconda3\\lib\\site-packages\\sklearn\\linear_model\\_coordinate_descent.py:530: ConvergenceWarning: Objective did not converge. You might want to increase the number of iterations. Duality gap: 240491473312.28214, tolerance: 358098534.9982602\n",
      "  model = cd_fast.enet_coordinate_descent(\n",
      "C:\\Users\\sjue\\Anaconda3\\lib\\site-packages\\sklearn\\linear_model\\_coordinate_descent.py:530: ConvergenceWarning: Objective did not converge. You might want to increase the number of iterations. Duality gap: 257471428599.45276, tolerance: 352103963.30287695\n",
      "  model = cd_fast.enet_coordinate_descent(\n",
      "C:\\Users\\sjue\\Anaconda3\\lib\\site-packages\\sklearn\\linear_model\\_coordinate_descent.py:530: ConvergenceWarning: Objective did not converge. You might want to increase the number of iterations. Duality gap: 234137496056.25336, tolerance: 350488682.0942842\n",
      "  model = cd_fast.enet_coordinate_descent(\n",
      "C:\\Users\\sjue\\Anaconda3\\lib\\site-packages\\sklearn\\linear_model\\_coordinate_descent.py:530: ConvergenceWarning: Objective did not converge. You might want to increase the number of iterations. Duality gap: 224939046827.40213, tolerance: 354871608.4190128\n",
      "  model = cd_fast.enet_coordinate_descent(\n",
      "C:\\Users\\sjue\\Anaconda3\\lib\\site-packages\\sklearn\\linear_model\\_coordinate_descent.py:530: ConvergenceWarning: Objective did not converge. You might want to increase the number of iterations. Duality gap: 235702317972.3842, tolerance: 353892070.0463491\n",
      "  model = cd_fast.enet_coordinate_descent(\n",
      "C:\\Users\\sjue\\Anaconda3\\lib\\site-packages\\sklearn\\linear_model\\_coordinate_descent.py:530: ConvergenceWarning: Objective did not converge. You might want to increase the number of iterations. Duality gap: 228559442578.34668, tolerance: 358505522.52503693\n",
      "  model = cd_fast.enet_coordinate_descent(\n",
      "C:\\Users\\sjue\\Anaconda3\\lib\\site-packages\\sklearn\\linear_model\\_coordinate_descent.py:530: ConvergenceWarning: Objective did not converge. You might want to increase the number of iterations. Duality gap: 234993704730.1338, tolerance: 354596261.958572\n",
      "  model = cd_fast.enet_coordinate_descent(\n",
      "C:\\Users\\sjue\\Anaconda3\\lib\\site-packages\\sklearn\\linear_model\\_coordinate_descent.py:530: ConvergenceWarning: Objective did not converge. You might want to increase the number of iterations. Duality gap: 204457064914.1339, tolerance: 342271461.336998\n",
      "  model = cd_fast.enet_coordinate_descent(\n",
      "C:\\Users\\sjue\\Anaconda3\\lib\\site-packages\\sklearn\\linear_model\\_coordinate_descent.py:530: ConvergenceWarning: Objective did not converge. You might want to increase the number of iterations. Duality gap: 228607664943.06372, tolerance: 349753857.90445185\n",
      "  model = cd_fast.enet_coordinate_descent(\n"
     ]
    },
    {
     "data": {
      "text/plain": [
       "array([0.21617453, 0.81793705, 0.814242  , 0.80530174, 0.84199673,\n",
       "       0.77720259, 0.83293262, 0.86101777, 0.84267756, 0.83439144])"
      ]
     },
     "execution_count": 41,
     "metadata": {},
     "output_type": "execute_result"
    }
   ],
   "source": [
    "# K-fold CV\n",
    "score_lasso = cross_val_score(lasso_model, X_train, y_train, cv=10)\n",
    "score_lasso"
   ]
  },
  {
   "cell_type": "code",
   "execution_count": 42,
   "metadata": {
    "colab": {
     "base_uri": "https://localhost:8080/"
    },
    "id": "Aygko1V1yapZ",
    "outputId": "b84bfc35-5df1-4859-9cb2-9b16751096fa"
   },
   "outputs": [
    {
     "name": "stdout",
     "output_type": "stream",
     "text": [
      "CV mean score: 0.7643874019363353\n",
      "CV mean std dev score: 0.1840699886195586\n"
     ]
    }
   ],
   "source": [
    "print(\"CV mean score:\", score_lasso.mean())\n",
    "print(\"CV mean std dev score:\", score_lasso.std())"
   ]
  },
  {
   "cell_type": "markdown",
   "metadata": {
    "id": "uz1llxQKyapZ"
   },
   "source": [
    "#### Ridge"
   ]
  },
  {
   "cell_type": "code",
   "execution_count": 43,
   "metadata": {
    "id": "z3sy-127yapZ"
   },
   "outputs": [],
   "source": [
    "ridge_model = Ridge().fit(X_train, y_train)"
   ]
  },
  {
   "cell_type": "code",
   "execution_count": 44,
   "metadata": {
    "colab": {
     "base_uri": "https://localhost:8080/"
    },
    "id": "p8D__MqOyapZ",
    "outputId": "e493bd8b-ab73-4a78-88ed-2e82b2e17a4d"
   },
   "outputs": [
    {
     "name": "stdout",
     "output_type": "stream",
     "text": [
      "Coefficient: [ -184.89174119 16898.96824051  4600.54796505   110.86242785\n",
      "   242.67866877    47.90472505 12623.20965672  -159.96286104\n",
      "  9500.41241026    38.55707027   441.83585603   401.52193551]\n",
      "Scores: 0.7850995219712469 0.8452618243769616\n"
     ]
    }
   ],
   "source": [
    "# display model coefficients and r-sqaured scores\n",
    "print('Coefficient:', ridge_model.coef_)\n",
    "print('Scores:', ridge_model.score(X_train, y_train), ridge_model.score(X_test, y_test))"
   ]
  },
  {
   "cell_type": "code",
   "execution_count": 45,
   "metadata": {
    "id": "KHqeZD-8yapZ"
   },
   "outputs": [],
   "source": [
    "y_prediction = ridge_model.predict(X_test)"
   ]
  },
  {
   "cell_type": "code",
   "execution_count": 46,
   "metadata": {
    "colab": {
     "base_uri": "https://localhost:8080/"
    },
    "id": "kDpXOMugyapZ",
    "outputId": "8aeed4e6-3606-405a-dd2c-f2b056b9cbab"
   },
   "outputs": [
    {
     "name": "stdout",
     "output_type": "stream",
     "text": [
      "23673.493748650915\n"
     ]
    }
   ],
   "source": [
    "RMSE = sqrt(mean_squared_error(y_true = y_test, y_pred = y_prediction))\n",
    "print(RMSE)"
   ]
  },
  {
   "cell_type": "code",
   "execution_count": 47,
   "metadata": {
    "colab": {
     "base_uri": "https://localhost:8080/"
    },
    "id": "anTv7UW0yapZ",
    "outputId": "a11d5d09-c17b-4a85-ec4a-6fc64b4f3dea"
   },
   "outputs": [
    {
     "data": {
      "text/plain": [
       "array([0.85424213, 0.82381643, 0.84794958, 0.69904866, 0.80175182,\n",
       "       0.84572206, 0.86013341, 0.84208571, 0.45201179, 0.80802269])"
      ]
     },
     "execution_count": 47,
     "metadata": {},
     "output_type": "execute_result"
    }
   ],
   "source": [
    "# K-fold CV\n",
    "score_ridge = cross_val_score(ridge_model, X, y, cv=10)\n",
    "score_ridge"
   ]
  },
  {
   "cell_type": "code",
   "execution_count": 48,
   "metadata": {
    "colab": {
     "base_uri": "https://localhost:8080/"
    },
    "id": "TDbbKBZCyapZ",
    "outputId": "56ab8368-1822-477c-c8c6-6fd3c47d7a9e"
   },
   "outputs": [
    {
     "name": "stdout",
     "output_type": "stream",
     "text": [
      "CV mean score: 0.783478428785822\n",
      "CV mean std dev score: 0.11912645070598336\n"
     ]
    }
   ],
   "source": [
    "print(\"CV mean score:\", score_ridge.mean())\n",
    "print(\"CV mean std dev score:\", score_ridge.std())"
   ]
  },
  {
   "cell_type": "markdown",
   "metadata": {
    "id": "E1so-tnByapZ"
   },
   "source": [
    "#### ElasticNet"
   ]
  },
  {
   "cell_type": "code",
   "execution_count": 49,
   "metadata": {
    "id": "4ZsRRRP-yapZ"
   },
   "outputs": [],
   "source": [
    "# assigning the 3 predictor variables with the highest correlation coefficient\n",
    "y = df4['SalePrice']\n",
    "# split data in to training and test data\n",
    "X_train, X_test, y_train, y_test = train_test_split(X, y, test_size=0.2, random_state=42)"
   ]
  },
  {
   "cell_type": "code",
   "execution_count": 50,
   "metadata": {
    "colab": {
     "base_uri": "https://localhost:8080/"
    },
    "id": "BMrapMd4yapZ",
    "outputId": "a8c50f08-d883-4233-cad0-ca2e1588f417"
   },
   "outputs": [
    {
     "name": "stdout",
     "output_type": "stream",
     "text": [
      "alpha: 38192.218001\n",
      "l1_ratio_: 0.500000\n"
     ]
    }
   ],
   "source": [
    "elasticnet_model = ElasticNetCV().fit(X_train, y_train)\n",
    "print('alpha: %f' % elasticnet_model.alpha_)\n",
    "print('l1_ratio_: %f' % elasticnet_model.l1_ratio_)"
   ]
  },
  {
   "cell_type": "code",
   "execution_count": 51,
   "metadata": {
    "colab": {
     "base_uri": "https://localhost:8080/"
    },
    "id": "Iv7EOGtLyapZ",
    "outputId": "9e3ba127-8a88-4027-dad4-6af6367b5d7c"
   },
   "outputs": [
    {
     "name": "stdout",
     "output_type": "stream",
     "text": [
      "Coefficient: [-17.22392455   0.60378846  -0.          37.30089983  20.67096224\n",
      "  74.35217833   0.          -0.           0.           6.05083074\n",
      "   0.          37.29217547]\n",
      "Scores: 0.4777999630212376 0.47266375696458496\n"
     ]
    }
   ],
   "source": [
    "# display model coefficients and r-sqaured scores\n",
    "print('Coefficient:', elasticnet_model.coef_)\n",
    "print('Scores:', elasticnet_model.score(X_train, y_train), elasticnet_model.score(X_test, y_test))"
   ]
  },
  {
   "cell_type": "code",
   "execution_count": 52,
   "metadata": {
    "id": "9Rc6D6_nyapZ"
   },
   "outputs": [],
   "source": [
    "y_prediction = elasticnet_model.predict(X_test)"
   ]
  },
  {
   "cell_type": "code",
   "execution_count": 53,
   "metadata": {
    "colab": {
     "base_uri": "https://localhost:8080/"
    },
    "id": "W_a8vrDAyapZ",
    "outputId": "e3405a68-433d-4a91-f6da-ed2e3c06375d"
   },
   "outputs": [
    {
     "name": "stdout",
     "output_type": "stream",
     "text": [
      "43702.615614180504\n"
     ]
    }
   ],
   "source": [
    "RMSE = sqrt(mean_squared_error(y_true = y_test, y_pred = y_prediction))\n",
    "print(RMSE)"
   ]
  },
  {
   "cell_type": "code",
   "execution_count": 54,
   "metadata": {
    "colab": {
     "base_uri": "https://localhost:8080/"
    },
    "id": "l3-kpuc2yapZ",
    "outputId": "438768d2-03a4-4566-908c-292eee928c1e"
   },
   "outputs": [
    {
     "data": {
      "text/plain": [
       "array([0.19161431, 0.44163616, 0.4326376 , 0.44292176, 0.59162816,\n",
       "       0.56427655, 0.56562971, 0.48415912, 0.50829106, 0.4319808 ])"
      ]
     },
     "execution_count": 54,
     "metadata": {},
     "output_type": "execute_result"
    }
   ],
   "source": [
    "# K-fold CV\n",
    "score_en = cross_val_score(elasticnet_model, X_train, y_train, cv=10)\n",
    "score_en"
   ]
  },
  {
   "cell_type": "code",
   "execution_count": 55,
   "metadata": {
    "colab": {
     "base_uri": "https://localhost:8080/"
    },
    "id": "HlFJ2vT4yapZ",
    "outputId": "0986b950-4dce-4414-81e9-91c23c684356"
   },
   "outputs": [
    {
     "name": "stdout",
     "output_type": "stream",
     "text": [
      "CV mean score: 0.4654775219223496\n",
      "CV mean std dev score: 0.10778052509578841\n"
     ]
    }
   ],
   "source": [
    "print(\"CV mean score:\", score_en.mean())\n",
    "print(\"CV mean std dev score:\", score_en.std())"
   ]
  },
  {
   "cell_type": "markdown",
   "metadata": {
    "id": "AxCR-OUZyapa"
   },
   "source": [
    "#### Tuning hyperparameters for ElasticNetCV():"
   ]
  },
  {
   "cell_type": "code",
   "execution_count": 56,
   "metadata": {},
   "outputs": [],
   "source": [
    "def warn(*args, **kwargs):\n",
    "    pass\n",
    "import warnings\n",
    "warnings.warn = warn"
   ]
  },
  {
   "cell_type": "code",
   "execution_count": 57,
   "metadata": {
    "colab": {
     "base_uri": "https://localhost:8080/"
    },
    "id": "p7cJxDKcyapa",
    "outputId": "c6369f36-c6bd-4e06-c6fa-85f0d8e611c1"
   },
   "outputs": [],
   "source": [
    "# define model evaluation method\n",
    "cv = RepeatedKFold(n_splits=10, n_repeats=3, random_state=1) \n",
    "\n",
    "# define model \n",
    "ratios = arange(0, 1, 0.01) \n",
    "\n",
    "alphas = [1e-5, 1e-4, 1e-3, 1e-2, 1e-1, 0.0, 1.0, 10.0, 100.0] \n",
    "\n",
    "model = ElasticNetCV(l1_ratio=ratios, alphas=alphas, cv=cv, n_jobs=-1);\n",
    "\n",
    "# fit model \n",
    "model.fit(X_train, y_train)\n",
    "elasticnet_tuned_model = model.fit(X_train, y_train)\n",
    "\n",
    "warnings.filterwarnings(\"ignore\")"
   ]
  },
  {
   "cell_type": "code",
   "execution_count": 58,
   "metadata": {
    "colab": {
     "base_uri": "https://localhost:8080/"
    },
    "id": "bo9GyXL1yapa",
    "outputId": "cd7a6ff4-c4d0-412c-dda7-aed8fafb9037"
   },
   "outputs": [
    {
     "name": "stdout",
     "output_type": "stream",
     "text": [
      "alpha: 0.100000\n",
      "l1_ratio_: 0.750000\n"
     ]
    }
   ],
   "source": [
    "# summarize chosen configuration \n",
    "print('alpha: %f' % elasticnet_tuned_model.alpha_)\n",
    "print('l1_ratio_: %f' % elasticnet_tuned_model.l1_ratio_)"
   ]
  },
  {
   "cell_type": "code",
   "execution_count": 59,
   "metadata": {
    "colab": {
     "base_uri": "https://localhost:8080/"
    },
    "id": "a9hed78uduKi",
    "outputId": "2f087994-0303-4aed-efe8-78fe796e86de"
   },
   "outputs": [],
   "source": [
    "score_en_2 = cross_val_score(elasticnet_tuned_model, X_train, y_train, scoring='r2', cv=10)\n",
    "warnings.filterwarnings(\"ignore\")"
   ]
  },
  {
   "cell_type": "code",
   "execution_count": 60,
   "metadata": {
    "colab": {
     "base_uri": "https://localhost:8080/"
    },
    "id": "z-YeRLqVhIeu",
    "outputId": "811f6489-ea3f-410a-a5eb-f4e07d39c45b"
   },
   "outputs": [
    {
     "name": "stdout",
     "output_type": "stream",
     "text": [
      "CV mean score: 0.7648433160971997\n",
      "CV mean std dev score: 0.18398241474890692\n"
     ]
    }
   ],
   "source": [
    "print(\"CV mean score:\", score_en_2.mean())\n",
    "print(\"CV mean std dev score:\", score_en_2.std())"
   ]
  },
  {
   "cell_type": "markdown",
   "metadata": {
    "id": "PZv-ZtqvyYgL"
   },
   "source": [
    "## Linear Regression Models"
   ]
  },
  {
   "cell_type": "markdown",
   "metadata": {
    "id": "9p7IMMA9yYgL"
   },
   "source": [
    "#### Liner Regression Model One ([OverallQual] [GRliveArea] [GarageCars])"
   ]
  },
  {
   "cell_type": "code",
   "execution_count": 61,
   "metadata": {
    "id": "6hskGSv5yYgL"
   },
   "outputs": [],
   "source": [
    "# assigning the 3 predictor variables with the highest correlation coefficient\n",
    "features = ['OverallQual', 'GrLivArea', 'GarageCars']"
   ]
  },
  {
   "cell_type": "code",
   "execution_count": 62,
   "metadata": {
    "id": "rz1ydlcSyYgL"
   },
   "outputs": [],
   "source": [
    "X = df4[features]"
   ]
  },
  {
   "cell_type": "code",
   "execution_count": 63,
   "metadata": {
    "id": "UBU2CqGbyYgL"
   },
   "outputs": [],
   "source": [
    "y = df4['SalePrice']"
   ]
  },
  {
   "cell_type": "code",
   "execution_count": 64,
   "metadata": {
    "id": "mskdJ1pKyYgL"
   },
   "outputs": [],
   "source": [
    "# split data in to training and test data\n",
    "X_train, X_test, y_train, y_test = train_test_split(X, y, test_size=0.2, random_state=42)"
   ]
  },
  {
   "cell_type": "code",
   "execution_count": 65,
   "metadata": {
    "id": "qCNYC9mByYgL"
   },
   "outputs": [],
   "source": [
    "# creating linear regression model\n",
    "model_1 = LinearRegression().fit(X_train, y_train)"
   ]
  },
  {
   "cell_type": "code",
   "execution_count": 66,
   "metadata": {
    "colab": {
     "base_uri": "https://localhost:8080/"
    },
    "id": "xWhMqKmkyYgL",
    "outputId": "95181d27-fe2b-4dc7-e0a1-238f8058c91b"
   },
   "outputs": [
    {
     "name": "stdout",
     "output_type": "stream",
     "text": [
      "Coefficient: [22538.88119918    38.51336476 20167.98961928]\n",
      "Scores: 0.7206411884255531 0.7741153103217534\n"
     ]
    }
   ],
   "source": [
    "# display model coefficients and r-sqaured scores\n",
    "print('Coefficient:', model_1.coef_)\n",
    "print('Scores:', model_1.score(X_train, y_train), model_1.score(X_test, y_test))"
   ]
  },
  {
   "cell_type": "code",
   "execution_count": 67,
   "metadata": {
    "id": "LahyPncdyYgL"
   },
   "outputs": [],
   "source": [
    "# predicted housing prices\n",
    "y_prediction = model_1.predict(X_test)"
   ]
  },
  {
   "cell_type": "code",
   "execution_count": 68,
   "metadata": {
    "colab": {
     "base_uri": "https://localhost:8080/"
    },
    "id": "oTqTFTrHyYgL",
    "outputId": "61047da9-1ac7-4e17-e30b-925ec1535b43"
   },
   "outputs": [
    {
     "name": "stdout",
     "output_type": "stream",
     "text": [
      "28602.699133713417\n"
     ]
    }
   ],
   "source": [
    "# model RMSE \n",
    "RMSE = sqrt(mean_squared_error(y_true = y_test, y_pred = y_prediction))\n",
    "print(RMSE)"
   ]
  },
  {
   "cell_type": "code",
   "execution_count": 69,
   "metadata": {
    "colab": {
     "base_uri": "https://localhost:8080/"
    },
    "id": "gr48pvo_yYgM",
    "outputId": "f0e281f4-7317-4911-a5f0-f4d8c30af88c"
   },
   "outputs": [
    {
     "data": {
      "text/plain": [
       "array([0.49854734, 0.7155773 , 0.7375631 , 0.77589921, 0.78229407])"
      ]
     },
     "execution_count": 69,
     "metadata": {},
     "output_type": "execute_result"
    }
   ],
   "source": [
    "# k-fold CV\n",
    "scores_1 = cross_val_score(model_1, X_train, y_train, scoring='r2', cv=5)\n",
    "scores_1"
   ]
  },
  {
   "cell_type": "code",
   "execution_count": 70,
   "metadata": {
    "colab": {
     "base_uri": "https://localhost:8080/"
    },
    "id": "lAUz6sj9yYgM",
    "outputId": "ee55ae12-793b-48c9-aa9f-977ff36a4aa0"
   },
   "outputs": [
    {
     "name": "stdout",
     "output_type": "stream",
     "text": [
      "mean cv score: 0.7019762044171018\n",
      "std dev cv score: 0.10464252297556577\n"
     ]
    }
   ],
   "source": [
    "print(\"mean cv score:\", scores_1.mean())\n",
    "print(\"std dev cv score:\", scores_1.std())"
   ]
  },
  {
   "cell_type": "markdown",
   "metadata": {
    "id": "2XVhNFyryYgM"
   },
   "source": [
    "#### Liner Regression Model Two ([OverallQual])"
   ]
  },
  {
   "cell_type": "code",
   "execution_count": 71,
   "metadata": {
    "colab": {
     "base_uri": "https://localhost:8080/"
    },
    "id": "Kuco1YU2yYgM",
    "outputId": "1c3418d7-68ca-4f3b-ca9b-9d3adebe6838"
   },
   "outputs": [
    {
     "name": "stdout",
     "output_type": "stream",
     "text": [
      "Coefficient: [37061.76313825]\n",
      "Scores: 0.5904688256569957 0.6768312441106439\n",
      "RMSE: 34211.9873818558\n"
     ]
    }
   ],
   "source": [
    "x = df4['OverallQual'].values.reshape((-1, 1))\n",
    "y = df4['SalePrice']\n",
    "\n",
    "# split data in to training and test data\n",
    "X_train, X_test, y_train, y_test = train_test_split(x, y, test_size=0.2, random_state=42)\n",
    "\n",
    "# creating linear regression model\n",
    "model_2 = LinearRegression().fit(X_train, y_train)\n",
    "\n",
    "# display model coefficients and r-sqaured scores\n",
    "print('Coefficient:', model_2.coef_)\n",
    "print('Scores:', model_2.score(X_train, y_train), model_2.score(X_test, y_test))\n",
    "\n",
    "# predicted housing prices\n",
    "y_prediction = model_2.predict(X_test)\n",
    "\n",
    "# model RMSE \n",
    "RMSE = sqrt(mean_squared_error(y_true = y_test, y_pred = y_prediction))\n",
    "print('RMSE:', RMSE)"
   ]
  },
  {
   "cell_type": "code",
   "execution_count": 72,
   "metadata": {
    "colab": {
     "base_uri": "https://localhost:8080/"
    },
    "id": "3jfCEuwVyYgM",
    "outputId": "cb4b9e54-3b0c-430c-c723-eff67ebda427"
   },
   "outputs": [
    {
     "data": {
      "text/plain": [
       "array([0.45569586, 0.58430409, 0.58196803, 0.63339208, 0.65503852])"
      ]
     },
     "execution_count": 72,
     "metadata": {},
     "output_type": "execute_result"
    }
   ],
   "source": [
    "# k-fold CV\n",
    "scores_2 = cross_val_score(model_2, X_train, y_train, scoring='r2', cv=5)\n",
    "scores_2"
   ]
  },
  {
   "cell_type": "code",
   "execution_count": 73,
   "metadata": {
    "colab": {
     "base_uri": "https://localhost:8080/"
    },
    "id": "1IuF7g5gyYgM",
    "outputId": "214ebed0-5ae0-42c7-87f9-9a3afa8f0611"
   },
   "outputs": [
    {
     "name": "stdout",
     "output_type": "stream",
     "text": [
      "mean cv score: 0.5820797157345505\n",
      "std dev cv score: 0.06918639380526288\n"
     ]
    }
   ],
   "source": [
    "print(\"mean cv score:\", scores_2.mean())\n",
    "print(\"std dev cv score:\", scores_2.std())"
   ]
  },
  {
   "cell_type": "code",
   "execution_count": 74,
   "metadata": {
    "colab": {
     "base_uri": "https://localhost:8080/",
     "height": 295
    },
    "id": "gInCHZqiyYgM",
    "outputId": "bc63b7fe-4167-461a-8351-88bd91791d03"
   },
   "outputs": [
    {
     "data": {
      "image/png": "[encoded data removed]",
      "text/plain": [
       "<Figure size 432x288 with 1 Axes>"
      ]
     },
     "metadata": {
      "needs_background": "light"
     },
     "output_type": "display_data"
    }
   ],
   "source": [
    "plt.scatter(X_test, y_test, color = \"blue\")\n",
    "plt.plot(X_train, model_2.predict(X_train), color = \"red\")\n",
    "plt.title(\"OverallQual vs SalePrice\")\n",
    "plt.xlabel(\"OverallQual\")\n",
    "plt.ylabel(\"SalePrice\")\n",
    "plt.show()"
   ]
  },
  {
   "cell_type": "markdown",
   "metadata": {
    "id": "jjSq1PCoyYgM"
   },
   "source": [
    "#### Liner Regression Model Three ([qual_space])"
   ]
  },
  {
   "cell_type": "code",
   "execution_count": 75,
   "metadata": {
    "colab": {
     "base_uri": "https://localhost:8080/"
    },
    "id": "7TQaTlCfyYgM",
    "outputId": "27aedbec-eed0-4206-c42e-eb3ca91140b6"
   },
   "outputs": [
    {
     "name": "stdout",
     "output_type": "stream",
     "text": [
      "Coefficient: [6.18124111]\n",
      "Scores: 0.6121381394496235 0.7881827084140843\n",
      "27697.739433000243\n"
     ]
    }
   ],
   "source": [
    "x = df4['qual_space'].values.reshape((-1, 1))\n",
    "y = df4['SalePrice']\n",
    "\n",
    "# split data in to training and test data\n",
    "X_train, X_test, y_train, y_test = train_test_split(x, y, test_size=0.2, random_state=42)\n",
    "\n",
    "# creating linear regression model\n",
    "model_3 = LinearRegression().fit(X_train, y_train)\n",
    "\n",
    "# display model coefficients and r-sqaured scores\n",
    "print('Coefficient:', model_3.coef_)\n",
    "print('Scores:', model_3.score(X_train, y_train), model_3.score(X_test, y_test))\n",
    "\n",
    "# predicted housing prices\n",
    "y_prediction = model_3.predict(X_test)\n",
    "\n",
    "# model RMSE \n",
    "RMSE = sqrt(mean_squared_error(y_true = y_test, y_pred = y_prediction))\n",
    "print(RMSE)"
   ]
  },
  {
   "cell_type": "code",
   "execution_count": 76,
   "metadata": {
    "colab": {
     "base_uri": "https://localhost:8080/"
    },
    "id": "e0WU5Kb_yYgM",
    "outputId": "075d519d-6145-48ed-b895-972579fe2dae"
   },
   "outputs": [
    {
     "data": {
      "text/plain": [
       "array([-0.48826011,  0.72447673,  0.72755186,  0.76212847,  0.73907445])"
      ]
     },
     "execution_count": 76,
     "metadata": {},
     "output_type": "execute_result"
    }
   ],
   "source": [
    "# k-fold CV\n",
    "scores_3 = cross_val_score(model_3, X_train, y_train, scoring='r2', cv=5)\n",
    "scores_3"
   ]
  },
  {
   "cell_type": "code",
   "execution_count": 77,
   "metadata": {
    "colab": {
     "base_uri": "https://localhost:8080/"
    },
    "id": "Up7BURkLyYgM",
    "outputId": "7d1bb362-1ebd-4e7d-d073-b3175b12e307"
   },
   "outputs": [
    {
     "name": "stdout",
     "output_type": "stream",
     "text": [
      "mean cv score: 0.49299427905186183\n",
      "std dev cv score: 0.490805507437618\n"
     ]
    }
   ],
   "source": [
    "print(\"mean cv score:\", scores_3.mean())\n",
    "print(\"std dev cv score:\", scores_3.std())"
   ]
  },
  {
   "cell_type": "code",
   "execution_count": 78,
   "metadata": {
    "colab": {
     "base_uri": "https://localhost:8080/",
     "height": 296
    },
    "id": "eqlfmifpyYgM",
    "outputId": "54b6ea42-1d87-42f9-e450-ab60f8c7f5ae"
   },
   "outputs": [
    {
     "data": {
      "image/png": "[encoded data removed]",
      "text/plain": [
       "<Figure size 432x288 with 1 Axes>"
      ]
     },
     "metadata": {
      "needs_background": "light"
     },
     "output_type": "display_data"
    }
   ],
   "source": [
    "plt.scatter(X_test, y_test, color = \"blue\")\n",
    "plt.plot(X_train, model_3.predict(X_train), color = \"red\")\n",
    "plt.title(\"Qual_space vs SalePrice\")\n",
    "plt.xlabel(\"Qual_space\")\n",
    "plt.ylabel(\"SalePrice\")\n",
    "plt.show()"
   ]
  },
  {
   "cell_type": "markdown",
   "metadata": {
    "id": "oC9c1oNUyYgM"
   },
   "source": [
    "#### Liner Regression Model Four ([qual_space] and [GarageCars])"
   ]
  },
  {
   "cell_type": "code",
   "execution_count": 79,
   "metadata": {
    "id": "dh_gsUZ-yYgM"
   },
   "outputs": [],
   "source": [
    "features_2 = ['qual_space', 'GarageCars']"
   ]
  },
  {
   "cell_type": "code",
   "execution_count": 80,
   "metadata": {
    "id": "Uje7OVc7yYgM"
   },
   "outputs": [],
   "source": [
    "x = df4[features_2]"
   ]
  },
  {
   "cell_type": "code",
   "execution_count": 81,
   "metadata": {
    "id": "HtJVS4g_yYgM"
   },
   "outputs": [],
   "source": [
    "# split data in to training and test data\n",
    "X_train, X_test, y_train, y_test = train_test_split(x, y, test_size=0.2, random_state=42)"
   ]
  },
  {
   "cell_type": "code",
   "execution_count": 82,
   "metadata": {
    "colab": {
     "base_uri": "https://localhost:8080/"
    },
    "id": "8FvHbNORyYgM",
    "outputId": "06a2cb15-2bcb-43e1-cf9a-c1c4f96316bc"
   },
   "outputs": [
    {
     "name": "stdout",
     "output_type": "stream",
     "text": [
      "Coefficient: [4.98130032e+00 2.37770262e+04]\n",
      "Scores: 0.6740395847353984 0.7992757120508557\n"
     ]
    }
   ],
   "source": [
    "# creating linear regression model\n",
    "model_4 = LinearRegression().fit(X_train, y_train)\n",
    "\n",
    "# display model coefficients and r-sqaured scores\n",
    "print('Coefficient:', model_4.coef_)\n",
    "print('Scores:', model_4.score(X_train, y_train), model_4.score(X_test, y_test))"
   ]
  },
  {
   "cell_type": "code",
   "execution_count": 83,
   "metadata": {
    "colab": {
     "base_uri": "https://localhost:8080/"
    },
    "id": "mGDjRX_tyYgN",
    "outputId": "4f1d64d2-0242-4fe9-c868-f573d6925c04"
   },
   "outputs": [
    {
     "name": "stdout",
     "output_type": "stream",
     "text": [
      "26962.7126297012\n"
     ]
    }
   ],
   "source": [
    "# predicted housing prices\n",
    "y_prediction = model_4.predict(X_test)\n",
    "\n",
    "# model RMSE\n",
    "RMSE = sqrt(mean_squared_error(y_true = y_test, y_pred = y_prediction))\n",
    "print(RMSE)"
   ]
  },
  {
   "cell_type": "code",
   "execution_count": 84,
   "metadata": {
    "colab": {
     "base_uri": "https://localhost:8080/"
    },
    "id": "iglcudk1yYgN",
    "outputId": "1f80bd13-cab9-4099-d2af-aebca6f954f3"
   },
   "outputs": [
    {
     "data": {
      "text/plain": [
       "array([-0.24877286,  0.76434323,  0.73928354,  0.77900656,  0.77871593])"
      ]
     },
     "execution_count": 84,
     "metadata": {},
     "output_type": "execute_result"
    }
   ],
   "source": [
    "# k-fold CV\n",
    "scores_4 = cross_val_score(model_4, X_train, y_train, scoring='r2', cv=5)\n",
    "scores_4"
   ]
  },
  {
   "cell_type": "code",
   "execution_count": 85,
   "metadata": {
    "colab": {
     "base_uri": "https://localhost:8080/"
    },
    "id": "LkQdUkrZyYgN",
    "outputId": "2f994c51-2d4a-4033-af00-7cdf42108482"
   },
   "outputs": [
    {
     "name": "stdout",
     "output_type": "stream",
     "text": [
      "mean cv score: 0.5625152805883451\n",
      "std dev cv score: 0.405901757942075\n"
     ]
    }
   ],
   "source": [
    "print(\"mean cv score:\", scores_4.mean())\n",
    "print(\"std dev cv score:\", scores_4.std())"
   ]
  },
  {
   "cell_type": "markdown",
   "metadata": {
    "id": "46w6iOwZyYgN"
   },
   "source": [
    "When comparing the linear regression models above, the final model using [OverallQual] and [GarageCars] produced the lowest Root Mean Square Error (RMSE). However, the results appear to have slight instability. Using k-fold cross validation, Model 1 has the highest mean score and lowest standard deviation."
   ]
  },
  {
   "cell_type": "markdown",
   "metadata": {
    "id": "PesLPsBWp-5n"
   },
   "source": [
    "# Testing"
   ]
  },
  {
   "cell_type": "code",
   "execution_count": 86,
   "metadata": {
    "id": "c3Tvc5QD5Ie9"
   },
   "outputs": [],
   "source": [
    "# create dataframe using test data from kaggle\n",
    "df_test = pd.read_csv(\"test.csv\")"
   ]
  },
  {
   "cell_type": "code",
   "execution_count": 87,
   "metadata": {
    "id": "hY8l0rVY5Ie-"
   },
   "outputs": [],
   "source": [
    "# replace NaN values with zero for the test data\n",
    "df_test = df_test.fillna(0)"
   ]
  },
  {
   "cell_type": "code",
   "execution_count": 88,
   "metadata": {
    "id": "vJ3DIi5NzdWf"
   },
   "outputs": [],
   "source": [
    "# sum 1st floor, 2nd floor, and basement square footage to get total square footage\n",
    "sum_column = df_test['1stFlrSF'] + df_test['2ndFlrSF'] + df_test['TotalBsmtSF']\n",
    "\n",
    "# multiply total square footage by overall quality to generate new predictor variable qual_space\n",
    "mult_column = sum_column*df_test['OverallQual']\n",
    "\n",
    "#Sum the baths and the halfbaths\n",
    "bath_column = df_test['FullBath'] + 0.5*df_test['HalfBath']\n",
    "\n",
    "#Create a newness score (YearBuilt + (YearRemodAdd/YearBuilt))\n",
    "newness_column = df_test['YearBuilt'] + (df_test['YearRemodAdd'] / df_test['YearBuilt'])\n",
    "\n",
    "# add new predictor variables to dataframe\n",
    "df_test['tot_sq'] = sum_column\n",
    "df_test['qual_space'] = mult_column\n",
    "df_test['baths'] = bath_column\n",
    "df_test['newness_value'] = newness_column"
   ]
  },
  {
   "cell_type": "markdown",
   "metadata": {
    "id": "iBxkjRzgzshd"
   },
   "source": [
    "## Linear Regression Model One"
   ]
  },
  {
   "cell_type": "code",
   "execution_count": 89,
   "metadata": {
    "id": "8wCFuP6Q5Ie-"
   },
   "outputs": [],
   "source": [
    "features_test = ['OverallQual', 'GrLivArea', 'GarageCars']"
   ]
  },
  {
   "cell_type": "code",
   "execution_count": 90,
   "metadata": {
    "id": "mCM57RPd5Ie-"
   },
   "outputs": [],
   "source": [
    "X = df_test[features_test]"
   ]
  },
  {
   "cell_type": "code",
   "execution_count": 91,
   "metadata": {
    "id": "KxMzyens5Ie-"
   },
   "outputs": [],
   "source": [
    "test_prediction_linear = model_1.predict(X)"
   ]
  },
  {
   "cell_type": "markdown",
   "metadata": {
    "id": "c6i_fmZB0j4p"
   },
   "source": [
    "## Lasso, Ridge, and ElasticNet"
   ]
  },
  {
   "cell_type": "code",
   "execution_count": 92,
   "metadata": {
    "id": "UTAkVvko0ii9"
   },
   "outputs": [],
   "source": [
    "X = df_test[name_list]"
   ]
  },
  {
   "cell_type": "code",
   "execution_count": 93,
   "metadata": {
    "id": "1GKGdyu00fMT"
   },
   "outputs": [],
   "source": [
    "test_prediction_lasso = lasso_model.predict(X)\n",
    "test_prediction_ridge = ridge_model.predict(X)\n",
    "test_prediction_elasticnet = elasticnet_tuned_model.predict(X)"
   ]
  },
  {
   "cell_type": "code",
   "execution_count": 94,
   "metadata": {
    "colab": {
     "base_uri": "https://localhost:8080/",
     "height": 17
    },
    "id": "f0fI-VTg5Ie_",
    "outputId": "08b8fe10-050e-426a-a80d-1087118aa956"
   },
   "outputs": [],
   "source": [
    "#from google.colab import files\n",
    "\n",
    "df_linear = pd.DataFrame({'id':df_test['Id'], 'SalePrice':test_prediction_linear})\n",
    "df_lasso = pd.DataFrame({'id':df_test['Id'], 'SalePrice':test_prediction_lasso})\n",
    "df_ridge = pd.DataFrame({'id':df_test['Id'], 'SalePrice':test_prediction_ridge})\n",
    "df_elasticnet = pd.DataFrame({'id':df_test['Id'], 'SalePrice':test_prediction_elasticnet})\n",
    "\n",
    "df_linear.to_csv('group_5_linear_m3.csv', index=False)\n",
    "df_lasso.to_csv('group_5_lasso_m3.csv', index=False)\n",
    "df_ridge.to_csv('group_5_ridge_m3.csv', index=False)\n",
    "df_elasticnet.to_csv('group_5_elasticnet_m3.csv', index=False)\n",
    "\n",
    "# files.download('group_5_linear_m3.csv')\n",
    "# files.download('group_5_lasso_m3.csv')\n",
    "# files.download('group_5_ridge_m3.csv')\n",
    "# files.download('group_5_elasticnet_m3.csv')"
   ]
  }
 ],
 "metadata": {
  "colab": {
   "collapsed_sections": [],
   "name": "Module_3_Assignment_1.ipynb",
   "provenance": [],
   "toc_visible": true
  },
  "kernelspec": {
   "display_name": "Python 3",
   "language": "python",
   "name": "python3"
  },
  "language_info": {
   "codemirror_mode": {
    "name": "ipython",
    "version": 3
   },
   "file_extension": ".py",
   "mimetype": "text/x-python",
   "name": "python",
   "nbconvert_exporter": "python",
   "pygments_lexer": "ipython3",
   "version": "3.8.8"
  }
 },
 "nbformat": 4,
 "nbformat_minor": 1
}

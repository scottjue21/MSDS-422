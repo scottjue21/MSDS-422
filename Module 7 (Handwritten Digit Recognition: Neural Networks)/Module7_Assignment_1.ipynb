{
 "cells": [
  {
   "cell_type": "markdown",
   "metadata": {
    "id": "Suw4bbSnlwPD"
   },
   "source": [
    "# Intro"
   ]
  },
  {
   "cell_type": "markdown",
   "metadata": {
    "id": "KPZRXa2vlwaj"
   },
   "source": [
    "## Links"
   ]
  },
  {
   "cell_type": "markdown",
   "metadata": {
    "id": "8p8f6v8Yl7_5"
   },
   "source": [
    "Canvas: https://canvas.northwestern.edu/courses/167719/assignments/1078608?module_item_id=2319275\n",
    "\n"
   ]
  },
  {
   "cell_type": "markdown",
   "metadata": {
    "id": "CBegFTAElwe4"
   },
   "source": [
    "Kaggle: https://www.kaggle.com/c/digit-recognizer"
   ]
  },
  {
   "cell_type": "markdown",
   "metadata": {
    "id": "nl967FJQtOkO"
   },
   "source": [
    "## Modules"
   ]
  },
  {
   "cell_type": "code",
   "execution_count": 1,
   "metadata": {
    "id": "doVUP12atSX7"
   },
   "outputs": [],
   "source": [
    "#For data manipulation and visualization\n",
    "#from google.colab import files\n",
    "\n",
    "import pandas as pd\n",
    "import numpy as np\n",
    "import matplotlib.pyplot as plt\n",
    "from matplotlib.pyplot import figure\n",
    "from matplotlib.pyplot import subplots_adjust\n",
    "import seaborn as sns\n",
    "\n",
    "\n",
    "from sklearn.model_selection import train_test_split, cross_val_score\n",
    "from sklearn.ensemble import RandomForestClassifier\n",
    "from sklearn.decomposition import PCA\n",
    "from sklearn.metrics import accuracy_score, f1_score, classification_report, confusion_matrix, precision_score, recall_score, precision_recall_curve\n",
    "from sklearn.preprocessing import StandardScaler\n",
    "from sklearn.cluster import MiniBatchKMeans\n",
    "from sklearn import cluster\n",
    "\n",
    "from datetime import datetime"
   ]
  },
  {
   "cell_type": "markdown",
   "metadata": {
    "id": "KGbTSRHpmiqR"
   },
   "source": [
    "## Import Data"
   ]
  },
  {
   "cell_type": "code",
   "execution_count": 2,
   "metadata": {
    "colab": {
     "base_uri": "https://localhost:8080/",
     "height": 39,
     "resources": {
      "http://localhost:8080/nbextensions/google.colab/files.js": {
       "data": "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",
       "headers": [
        [
         "content-type",
         "application/javascript"
        ]
       ],
       "ok": true,
       "status": 200,
       "status_text": ""
      }
     }
    },
    "id": "noXoSCXYnqAS",
    "outputId": "67d65a69-902b-4ca9-fba3-58b1b1f9a3dc"
   },
   "outputs": [],
   "source": [
    "# #Import data.csv from the Kaggle page linked above\n",
    "# from google.colab import files\n",
    "# files.upload()"
   ]
  },
  {
   "cell_type": "code",
   "execution_count": 3,
   "metadata": {
    "id": "u2NcL_jLaunT"
   },
   "outputs": [],
   "source": [
    "df = pd.read_csv(\"train.csv\")"
   ]
  },
  {
   "cell_type": "markdown",
   "metadata": {
    "id": "cGR3WNCHoCbX"
   },
   "source": [
    "# EDA"
   ]
  },
  {
   "cell_type": "markdown",
   "metadata": {
    "id": "L8pQ3UYEJ6Aw"
   },
   "source": [
    "## Intro Stats"
   ]
  },
  {
   "cell_type": "code",
   "execution_count": 4,
   "metadata": {
    "colab": {
     "base_uri": "https://localhost:8080/"
    },
    "id": "aJU7NpfoFVBG",
    "outputId": "8caea3ac-40ad-462f-a50c-3be95bb5ea04"
   },
   "outputs": [
    {
     "data": {
      "text/plain": [
       "(42000, 785)"
      ]
     },
     "execution_count": 4,
     "metadata": {},
     "output_type": "execute_result"
    }
   ],
   "source": [
    "df.shape"
   ]
  },
  {
   "cell_type": "code",
   "execution_count": 5,
   "metadata": {
    "colab": {
     "base_uri": "https://localhost:8080/"
    },
    "id": "Hrl5nwXa-3H6",
    "outputId": "730fe242-081e-458e-8242-b7603a94a926"
   },
   "outputs": [
    {
     "name": "stdout",
     "output_type": "stream",
     "text": [
      "<class 'pandas.core.frame.DataFrame'>\n",
      "RangeIndex: 42000 entries, 0 to 41999\n",
      "Columns: 785 entries, label to pixel783\n",
      "dtypes: int64(785)\n",
      "memory usage: 251.5 MB\n"
     ]
    }
   ],
   "source": [
    "df.info()"
   ]
  },
  {
   "cell_type": "code",
   "execution_count": 6,
   "metadata": {
    "colab": {
     "base_uri": "https://localhost:8080/"
    },
    "id": "0YDsYG-wlMZg",
    "outputId": "0f002067-e34b-4659-d4b6-253ad346c411"
   },
   "outputs": [
    {
     "name": "stdout",
     "output_type": "stream",
     "text": [
      "0\n",
      "0\n",
      "0\n"
     ]
    }
   ],
   "source": [
    "# check for missing values\n",
    "print(df.isna().sum().sum())\n",
    "print(np.isnan(df).sum().sum())\n",
    "print(df.isnull().sum().sum())"
   ]
  },
  {
   "cell_type": "code",
   "execution_count": 7,
   "metadata": {
    "colab": {
     "base_uri": "https://localhost:8080/",
     "height": 392
    },
    "id": "5Y-20zzLyFC4",
    "outputId": "c54c6102-0640-4361-d2aa-d9b0f279bcaf"
   },
   "outputs": [
    {
     "data": {
      "text/html": [
       "<div>\n",
       "<style scoped>\n",
       "    .dataframe tbody tr th:only-of-type {\n",
       "        vertical-align: middle;\n",
       "    }\n",
       "\n",
       "    .dataframe tbody tr th {\n",
       "        vertical-align: top;\n",
       "    }\n",
       "\n",
       "    .dataframe thead th {\n",
       "        text-align: right;\n",
       "    }\n",
       "</style>\n",
       "<table border=\"1\" class=\"dataframe\">\n",
       "  <thead>\n",
       "    <tr style=\"text-align: right;\">\n",
       "      <th></th>\n",
       "      <th>label</th>\n",
       "      <th>pixel0</th>\n",
       "      <th>pixel1</th>\n",
       "      <th>pixel2</th>\n",
       "      <th>pixel3</th>\n",
       "      <th>pixel4</th>\n",
       "      <th>pixel5</th>\n",
       "      <th>pixel6</th>\n",
       "      <th>pixel7</th>\n",
       "      <th>pixel8</th>\n",
       "      <th>...</th>\n",
       "      <th>pixel774</th>\n",
       "      <th>pixel775</th>\n",
       "      <th>pixel776</th>\n",
       "      <th>pixel777</th>\n",
       "      <th>pixel778</th>\n",
       "      <th>pixel779</th>\n",
       "      <th>pixel780</th>\n",
       "      <th>pixel781</th>\n",
       "      <th>pixel782</th>\n",
       "      <th>pixel783</th>\n",
       "    </tr>\n",
       "  </thead>\n",
       "  <tbody>\n",
       "    <tr>\n",
       "      <th>0</th>\n",
       "      <td>1</td>\n",
       "      <td>0</td>\n",
       "      <td>0</td>\n",
       "      <td>0</td>\n",
       "      <td>0</td>\n",
       "      <td>0</td>\n",
       "      <td>0</td>\n",
       "      <td>0</td>\n",
       "      <td>0</td>\n",
       "      <td>0</td>\n",
       "      <td>...</td>\n",
       "      <td>0</td>\n",
       "      <td>0</td>\n",
       "      <td>0</td>\n",
       "      <td>0</td>\n",
       "      <td>0</td>\n",
       "      <td>0</td>\n",
       "      <td>0</td>\n",
       "      <td>0</td>\n",
       "      <td>0</td>\n",
       "      <td>0</td>\n",
       "    </tr>\n",
       "    <tr>\n",
       "      <th>1</th>\n",
       "      <td>0</td>\n",
       "      <td>0</td>\n",
       "      <td>0</td>\n",
       "      <td>0</td>\n",
       "      <td>0</td>\n",
       "      <td>0</td>\n",
       "      <td>0</td>\n",
       "      <td>0</td>\n",
       "      <td>0</td>\n",
       "      <td>0</td>\n",
       "      <td>...</td>\n",
       "      <td>0</td>\n",
       "      <td>0</td>\n",
       "      <td>0</td>\n",
       "      <td>0</td>\n",
       "      <td>0</td>\n",
       "      <td>0</td>\n",
       "      <td>0</td>\n",
       "      <td>0</td>\n",
       "      <td>0</td>\n",
       "      <td>0</td>\n",
       "    </tr>\n",
       "    <tr>\n",
       "      <th>2</th>\n",
       "      <td>1</td>\n",
       "      <td>0</td>\n",
       "      <td>0</td>\n",
       "      <td>0</td>\n",
       "      <td>0</td>\n",
       "      <td>0</td>\n",
       "      <td>0</td>\n",
       "      <td>0</td>\n",
       "      <td>0</td>\n",
       "      <td>0</td>\n",
       "      <td>...</td>\n",
       "      <td>0</td>\n",
       "      <td>0</td>\n",
       "      <td>0</td>\n",
       "      <td>0</td>\n",
       "      <td>0</td>\n",
       "      <td>0</td>\n",
       "      <td>0</td>\n",
       "      <td>0</td>\n",
       "      <td>0</td>\n",
       "      <td>0</td>\n",
       "    </tr>\n",
       "    <tr>\n",
       "      <th>3</th>\n",
       "      <td>4</td>\n",
       "      <td>0</td>\n",
       "      <td>0</td>\n",
       "      <td>0</td>\n",
       "      <td>0</td>\n",
       "      <td>0</td>\n",
       "      <td>0</td>\n",
       "      <td>0</td>\n",
       "      <td>0</td>\n",
       "      <td>0</td>\n",
       "      <td>...</td>\n",
       "      <td>0</td>\n",
       "      <td>0</td>\n",
       "      <td>0</td>\n",
       "      <td>0</td>\n",
       "      <td>0</td>\n",
       "      <td>0</td>\n",
       "      <td>0</td>\n",
       "      <td>0</td>\n",
       "      <td>0</td>\n",
       "      <td>0</td>\n",
       "    </tr>\n",
       "    <tr>\n",
       "      <th>4</th>\n",
       "      <td>0</td>\n",
       "      <td>0</td>\n",
       "      <td>0</td>\n",
       "      <td>0</td>\n",
       "      <td>0</td>\n",
       "      <td>0</td>\n",
       "      <td>0</td>\n",
       "      <td>0</td>\n",
       "      <td>0</td>\n",
       "      <td>0</td>\n",
       "      <td>...</td>\n",
       "      <td>0</td>\n",
       "      <td>0</td>\n",
       "      <td>0</td>\n",
       "      <td>0</td>\n",
       "      <td>0</td>\n",
       "      <td>0</td>\n",
       "      <td>0</td>\n",
       "      <td>0</td>\n",
       "      <td>0</td>\n",
       "      <td>0</td>\n",
       "    </tr>\n",
       "    <tr>\n",
       "      <th>5</th>\n",
       "      <td>0</td>\n",
       "      <td>0</td>\n",
       "      <td>0</td>\n",
       "      <td>0</td>\n",
       "      <td>0</td>\n",
       "      <td>0</td>\n",
       "      <td>0</td>\n",
       "      <td>0</td>\n",
       "      <td>0</td>\n",
       "      <td>0</td>\n",
       "      <td>...</td>\n",
       "      <td>0</td>\n",
       "      <td>0</td>\n",
       "      <td>0</td>\n",
       "      <td>0</td>\n",
       "      <td>0</td>\n",
       "      <td>0</td>\n",
       "      <td>0</td>\n",
       "      <td>0</td>\n",
       "      <td>0</td>\n",
       "      <td>0</td>\n",
       "    </tr>\n",
       "    <tr>\n",
       "      <th>6</th>\n",
       "      <td>7</td>\n",
       "      <td>0</td>\n",
       "      <td>0</td>\n",
       "      <td>0</td>\n",
       "      <td>0</td>\n",
       "      <td>0</td>\n",
       "      <td>0</td>\n",
       "      <td>0</td>\n",
       "      <td>0</td>\n",
       "      <td>0</td>\n",
       "      <td>...</td>\n",
       "      <td>0</td>\n",
       "      <td>0</td>\n",
       "      <td>0</td>\n",
       "      <td>0</td>\n",
       "      <td>0</td>\n",
       "      <td>0</td>\n",
       "      <td>0</td>\n",
       "      <td>0</td>\n",
       "      <td>0</td>\n",
       "      <td>0</td>\n",
       "    </tr>\n",
       "    <tr>\n",
       "      <th>7</th>\n",
       "      <td>3</td>\n",
       "      <td>0</td>\n",
       "      <td>0</td>\n",
       "      <td>0</td>\n",
       "      <td>0</td>\n",
       "      <td>0</td>\n",
       "      <td>0</td>\n",
       "      <td>0</td>\n",
       "      <td>0</td>\n",
       "      <td>0</td>\n",
       "      <td>...</td>\n",
       "      <td>0</td>\n",
       "      <td>0</td>\n",
       "      <td>0</td>\n",
       "      <td>0</td>\n",
       "      <td>0</td>\n",
       "      <td>0</td>\n",
       "      <td>0</td>\n",
       "      <td>0</td>\n",
       "      <td>0</td>\n",
       "      <td>0</td>\n",
       "    </tr>\n",
       "    <tr>\n",
       "      <th>8</th>\n",
       "      <td>5</td>\n",
       "      <td>0</td>\n",
       "      <td>0</td>\n",
       "      <td>0</td>\n",
       "      <td>0</td>\n",
       "      <td>0</td>\n",
       "      <td>0</td>\n",
       "      <td>0</td>\n",
       "      <td>0</td>\n",
       "      <td>0</td>\n",
       "      <td>...</td>\n",
       "      <td>0</td>\n",
       "      <td>0</td>\n",
       "      <td>0</td>\n",
       "      <td>0</td>\n",
       "      <td>0</td>\n",
       "      <td>0</td>\n",
       "      <td>0</td>\n",
       "      <td>0</td>\n",
       "      <td>0</td>\n",
       "      <td>0</td>\n",
       "    </tr>\n",
       "    <tr>\n",
       "      <th>9</th>\n",
       "      <td>3</td>\n",
       "      <td>0</td>\n",
       "      <td>0</td>\n",
       "      <td>0</td>\n",
       "      <td>0</td>\n",
       "      <td>0</td>\n",
       "      <td>0</td>\n",
       "      <td>0</td>\n",
       "      <td>0</td>\n",
       "      <td>0</td>\n",
       "      <td>...</td>\n",
       "      <td>0</td>\n",
       "      <td>0</td>\n",
       "      <td>0</td>\n",
       "      <td>0</td>\n",
       "      <td>0</td>\n",
       "      <td>0</td>\n",
       "      <td>0</td>\n",
       "      <td>0</td>\n",
       "      <td>0</td>\n",
       "      <td>0</td>\n",
       "    </tr>\n",
       "  </tbody>\n",
       "</table>\n",
       "<p>10 rows × 785 columns</p>\n",
       "</div>"
      ],
      "text/plain": [
       "   label  pixel0  pixel1  pixel2  pixel3  pixel4  pixel5  pixel6  pixel7  \\\n",
       "0      1       0       0       0       0       0       0       0       0   \n",
       "1      0       0       0       0       0       0       0       0       0   \n",
       "2      1       0       0       0       0       0       0       0       0   \n",
       "3      4       0       0       0       0       0       0       0       0   \n",
       "4      0       0       0       0       0       0       0       0       0   \n",
       "5      0       0       0       0       0       0       0       0       0   \n",
       "6      7       0       0       0       0       0       0       0       0   \n",
       "7      3       0       0       0       0       0       0       0       0   \n",
       "8      5       0       0       0       0       0       0       0       0   \n",
       "9      3       0       0       0       0       0       0       0       0   \n",
       "\n",
       "   pixel8  ...  pixel774  pixel775  pixel776  pixel777  pixel778  pixel779  \\\n",
       "0       0  ...         0         0         0         0         0         0   \n",
       "1       0  ...         0         0         0         0         0         0   \n",
       "2       0  ...         0         0         0         0         0         0   \n",
       "3       0  ...         0         0         0         0         0         0   \n",
       "4       0  ...         0         0         0         0         0         0   \n",
       "5       0  ...         0         0         0         0         0         0   \n",
       "6       0  ...         0         0         0         0         0         0   \n",
       "7       0  ...         0         0         0         0         0         0   \n",
       "8       0  ...         0         0         0         0         0         0   \n",
       "9       0  ...         0         0         0         0         0         0   \n",
       "\n",
       "   pixel780  pixel781  pixel782  pixel783  \n",
       "0         0         0         0         0  \n",
       "1         0         0         0         0  \n",
       "2         0         0         0         0  \n",
       "3         0         0         0         0  \n",
       "4         0         0         0         0  \n",
       "5         0         0         0         0  \n",
       "6         0         0         0         0  \n",
       "7         0         0         0         0  \n",
       "8         0         0         0         0  \n",
       "9         0         0         0         0  \n",
       "\n",
       "[10 rows x 785 columns]"
      ]
     },
     "execution_count": 7,
     "metadata": {},
     "output_type": "execute_result"
    }
   ],
   "source": [
    "df.head(10)"
   ]
  },
  {
   "cell_type": "code",
   "execution_count": 8,
   "metadata": {
    "colab": {
     "base_uri": "https://localhost:8080/",
     "height": 517
    },
    "id": "3GCv7B9DFoIR",
    "outputId": "b0225d9d-c445-4a76-a8b6-d2460dbee688"
   },
   "outputs": [
    {
     "data": {
      "image/png": "[encoded data removed]",
      "text/plain": [
       "<Figure size 842.4x595.44 with 1 Axes>"
      ]
     },
     "metadata": {},
     "output_type": "display_data"
    }
   ],
   "source": [
    "#Setting plot size\n",
    "sns.set(rc={'figure.figsize':(11.7,8.27)})\n",
    "\n",
    "#Countplot\n",
    "ax = sns.countplot(x=\"label\", data=df,\n",
    "                   facecolor=(0, 0, 0, 0),\n",
    "                   linewidth=5,\n",
    "                   edgecolor=sns.color_palette(\"dark\", 3),\n",
    "                   order = df['label'].value_counts().index)"
   ]
  },
  {
   "cell_type": "markdown",
   "metadata": {
    "id": "Y2mV4CtkZZOm"
   },
   "source": [
    "## Data Prep"
   ]
  },
  {
   "cell_type": "code",
   "execution_count": 9,
   "metadata": {
    "id": "GS0-7ajckWUC"
   },
   "outputs": [],
   "source": [
    "y = df['label']\n",
    "X = df.drop(columns = ['label'])"
   ]
  },
  {
   "cell_type": "markdown",
   "metadata": {
    "id": "AoRJDsv4lAr_"
   },
   "source": [
    "## Scale Data"
   ]
  },
  {
   "cell_type": "code",
   "execution_count": 10,
   "metadata": {
    "id": "sQXHMg5tk5LQ"
   },
   "outputs": [],
   "source": [
    "# Conversion to float\n",
    "X = X.astype('float32') \n",
    "\n",
    "# Normalization\n",
    "X = X/255.0"
   ]
  },
  {
   "cell_type": "markdown",
   "metadata": {
    "id": "82hKoph_gL9j"
   },
   "source": [
    "## Flatten Data"
   ]
  },
  {
   "cell_type": "markdown",
   "metadata": {
    "id": "sEjrujZQgO-d"
   },
   "source": [
    "https://thedatafrog.com/en/articles/handwritten-digit-recognition-scikit-learn/"
   ]
  },
  {
   "cell_type": "code",
   "execution_count": 11,
   "metadata": {
    "colab": {
     "base_uri": "https://localhost:8080/"
    },
    "id": "v6W5omuSgNnP",
    "outputId": "4959987d-02bc-4e6a-c36d-60b1f926913d"
   },
   "outputs": [
    {
     "data": {
      "text/plain": [
       "(42000, 784)"
      ]
     },
     "execution_count": 11,
     "metadata": {},
     "output_type": "execute_result"
    }
   ],
   "source": [
    "X = X.to_numpy().reshape((len(X), -1))\n",
    "X.shape"
   ]
  },
  {
   "cell_type": "markdown",
   "metadata": {
    "id": "CXV9KJX-hZ1P"
   },
   "source": [
    "## Split Data"
   ]
  },
  {
   "cell_type": "code",
   "execution_count": 12,
   "metadata": {
    "id": "PDBqE8DIhcR1"
   },
   "outputs": [],
   "source": [
    "# split data in to training and test data\n",
    "X_train, X_test, y_train, y_test = train_test_split(X, y, test_size=0.2, random_state=42)"
   ]
  },
  {
   "cell_type": "markdown",
   "metadata": {
    "id": "ydog0BQhfqKu"
   },
   "source": [
    "# Neural Networks"
   ]
  },
  {
   "cell_type": "markdown",
   "metadata": {
    "id": "6ckgb7Rvf5aY"
   },
   "source": [
    "### Sequential Model"
   ]
  },
  {
   "cell_type": "markdown",
   "metadata": {
    "id": "0HV5_n9KhewH"
   },
   "source": [
    "https://hackernoon.com/how-to-perform-mnist-digit-recognition-with-a-multi-layer-neural-network-xn223td8"
   ]
  },
  {
   "cell_type": "code",
   "execution_count": 13,
   "metadata": {
    "id": "Dl_n9L2dftT5"
   },
   "outputs": [],
   "source": [
    "import tensorflow as tf\n",
    "import keras\n",
    "from keras.models import Sequential\n",
    "from keras.layers import Flatten, Dense"
   ]
  },
  {
   "cell_type": "markdown",
   "metadata": {
    "id": "UDznj8MGsark"
   },
   "source": [
    "#### Model 1: 2 Layers, 50 Nodes"
   ]
  },
  {
   "cell_type": "code",
   "execution_count": 14,
   "metadata": {
    "id": "cJXhLuq2ftkp"
   },
   "outputs": [],
   "source": [
    "# creating model (2 layers, 50 nodes)\n",
    "model1 = Sequential()\n",
    "hidden_layer1 = Dense(50, activation='relu')\n",
    "model1.add(hidden_layer1)\n",
    "hidden_layer2 = Dense(50, activation='relu')\n",
    "model1.add(hidden_layer2)\n",
    "output_layer=Dense(10, activation='softmax')\n",
    "model1.add(output_layer)"
   ]
  },
  {
   "cell_type": "code",
   "execution_count": 15,
   "metadata": {
    "id": "PMvhik5hftn-"
   },
   "outputs": [],
   "source": [
    "# compiling the sequential model\n",
    "model1.compile(optimizer='adam',\n",
    "              loss='sparse_categorical_crossentropy',\n",
    "              metrics=['accuracy'])"
   ]
  },
  {
   "cell_type": "code",
   "execution_count": 16,
   "metadata": {
    "id": "sD_OrTdafXn8"
   },
   "outputs": [],
   "source": [
    "# early stopping callback to interrupt training when it measures no progress on the validation set for a number of epochs\n",
    "early_stopping_cb = keras.callbacks.EarlyStopping(patience=20)"
   ]
  },
  {
   "cell_type": "code",
   "execution_count": 17,
   "metadata": {
    "colab": {
     "base_uri": "https://localhost:8080/"
    },
    "id": "LdsRW49ehuaS",
    "outputId": "03bb60da-a03a-486b-ba31-22d805ec8d60"
   },
   "outputs": [
    {
     "name": "stdout",
     "output_type": "stream",
     "text": [
      "Epoch 1/100\n",
      "1050/1050 [==============================] - 2s 1ms/step - loss: 0.3610 - accuracy: 0.8982 - val_loss: 0.1891 - val_accuracy: 0.9448\n",
      "Epoch 2/100\n",
      "1050/1050 [==============================] - 1s 1ms/step - loss: 0.1617 - accuracy: 0.9522 - val_loss: 0.1608 - val_accuracy: 0.9532\n",
      "Epoch 3/100\n",
      "1050/1050 [==============================] - 1s 984us/step - loss: 0.1205 - accuracy: 0.9653 - val_loss: 0.1382 - val_accuracy: 0.9602\n",
      "Epoch 4/100\n",
      "1050/1050 [==============================] - 1s 1ms/step - loss: 0.0951 - accuracy: 0.9713 - val_loss: 0.1245 - val_accuracy: 0.9636\n",
      "Epoch 5/100\n",
      "1050/1050 [==============================] - 1s 1ms/step - loss: 0.0793 - accuracy: 0.9749 - val_loss: 0.1185 - val_accuracy: 0.9657\n",
      "Epoch 6/100\n",
      "1050/1050 [==============================] - 1s 1ms/step - loss: 0.0668 - accuracy: 0.9789 - val_loss: 0.1292 - val_accuracy: 0.9613\n",
      "Epoch 7/100\n",
      "1050/1050 [==============================] - 1s 1ms/step - loss: 0.0574 - accuracy: 0.9825 - val_loss: 0.1155 - val_accuracy: 0.9654\n",
      "Epoch 8/100\n",
      "1050/1050 [==============================] - 1s 1ms/step - loss: 0.0485 - accuracy: 0.9850 - val_loss: 0.1267 - val_accuracy: 0.9643\n",
      "Epoch 9/100\n",
      "1050/1050 [==============================] - 2s 2ms/step - loss: 0.0412 - accuracy: 0.9863 - val_loss: 0.1350 - val_accuracy: 0.9613\n",
      "Epoch 10/100\n",
      "1050/1050 [==============================] - 1s 1ms/step - loss: 0.0371 - accuracy: 0.9874 - val_loss: 0.1298 - val_accuracy: 0.9662\n",
      "Epoch 11/100\n",
      "1050/1050 [==============================] - 1s 1ms/step - loss: 0.0313 - accuracy: 0.9896 - val_loss: 0.1438 - val_accuracy: 0.9619\n",
      "Epoch 12/100\n",
      "1050/1050 [==============================] - 2s 2ms/step - loss: 0.0273 - accuracy: 0.9910 - val_loss: 0.1298 - val_accuracy: 0.9675\n",
      "Epoch 13/100\n",
      "1050/1050 [==============================] - 1s 1ms/step - loss: 0.0252 - accuracy: 0.9912 - val_loss: 0.1384 - val_accuracy: 0.9643\n",
      "Epoch 14/100\n",
      "1050/1050 [==============================] - 1s 1ms/step - loss: 0.0233 - accuracy: 0.9924 - val_loss: 0.1390 - val_accuracy: 0.9679\n",
      "Epoch 15/100\n",
      "1050/1050 [==============================] - 2s 1ms/step - loss: 0.0198 - accuracy: 0.9935 - val_loss: 0.1514 - val_accuracy: 0.9654\n",
      "Epoch 16/100\n",
      "1050/1050 [==============================] - 1s 1ms/step - loss: 0.0183 - accuracy: 0.9941 - val_loss: 0.1485 - val_accuracy: 0.9685\n",
      "Epoch 17/100\n",
      "1050/1050 [==============================] - 1s 1ms/step - loss: 0.0179 - accuracy: 0.9943 - val_loss: 0.1484 - val_accuracy: 0.9683\n",
      "Epoch 18/100\n",
      "1050/1050 [==============================] - 1s 1ms/step - loss: 0.0141 - accuracy: 0.9948 - val_loss: 0.1557 - val_accuracy: 0.9686\n",
      "Epoch 19/100\n",
      "1050/1050 [==============================] - 1s 1ms/step - loss: 0.0132 - accuracy: 0.9956 - val_loss: 0.1716 - val_accuracy: 0.9645\n",
      "Epoch 20/100\n",
      "1050/1050 [==============================] - 1s 1ms/step - loss: 0.0154 - accuracy: 0.9946 - val_loss: 0.1743 - val_accuracy: 0.9648\n",
      "Epoch 21/100\n",
      "1050/1050 [==============================] - 1s 1ms/step - loss: 0.0128 - accuracy: 0.9957 - val_loss: 0.1865 - val_accuracy: 0.9654\n",
      "Epoch 22/100\n",
      "1050/1050 [==============================] - 1s 1ms/step - loss: 0.0166 - accuracy: 0.9944 - val_loss: 0.2107 - val_accuracy: 0.9645\n",
      "Epoch 23/100\n",
      "1050/1050 [==============================] - 1s 1ms/step - loss: 0.0111 - accuracy: 0.9960 - val_loss: 0.2003 - val_accuracy: 0.9631\n",
      "Epoch 24/100\n",
      "1050/1050 [==============================] - 2s 2ms/step - loss: 0.0106 - accuracy: 0.9963 - val_loss: 0.1981 - val_accuracy: 0.9661\n",
      "Epoch 25/100\n",
      "1050/1050 [==============================] - 1s 1ms/step - loss: 0.0101 - accuracy: 0.9964 - val_loss: 0.1873 - val_accuracy: 0.9688\n",
      "Epoch 26/100\n",
      "1050/1050 [==============================] - 1s 1ms/step - loss: 0.0123 - accuracy: 0.9954 - val_loss: 0.2148 - val_accuracy: 0.9650\n",
      "Epoch 27/100\n",
      "1050/1050 [==============================] - 1s 1ms/step - loss: 0.0108 - accuracy: 0.9966 - val_loss: 0.2033 - val_accuracy: 0.9674\n"
     ]
    }
   ],
   "source": [
    "start = datetime.now()\n",
    "model1.fit(X_train, y_train, epochs=100,\n",
    "          validation_data=(X_test, y_test),\n",
    "          callbacks=[early_stopping_cb])\n",
    "end = datetime.now()"
   ]
  },
  {
   "cell_type": "code",
   "execution_count": 120,
   "metadata": {},
   "outputs": [
    {
     "name": "stdout",
     "output_type": "stream",
     "text": [
      "Epoch 1/100\n",
      "1050/1050 [==============================] - 1s 1ms/step - loss: 0.0062 - accuracy: 0.9982 - val_loss: 0.2083 - val_accuracy: 0.9667\n",
      "Epoch 2/100\n",
      "1050/1050 [==============================] - 1s 1ms/step - loss: 0.0115 - accuracy: 0.9962 - val_loss: 0.2067 - val_accuracy: 0.9649\n",
      "Epoch 3/100\n",
      "1050/1050 [==============================] - 1s 1ms/step - loss: 0.0068 - accuracy: 0.9978 - val_loss: 0.2039 - val_accuracy: 0.9661\n",
      "Epoch 4/100\n",
      "1050/1050 [==============================] - 1s 1ms/step - loss: 0.0110 - accuracy: 0.9959 - val_loss: 0.1944 - val_accuracy: 0.9676\n",
      "Epoch 5/100\n",
      "1050/1050 [==============================] - 1s 1ms/step - loss: 0.0086 - accuracy: 0.9970 - val_loss: 0.2096 - val_accuracy: 0.9651\n",
      "Epoch 6/100\n",
      "1050/1050 [==============================] - 1s 1ms/step - loss: 0.0077 - accuracy: 0.9974 - val_loss: 0.2578 - val_accuracy: 0.9601\n",
      "Epoch 7/100\n",
      "1050/1050 [==============================] - 1s 1ms/step - loss: 0.0074 - accuracy: 0.9976 - val_loss: 0.2278 - val_accuracy: 0.9671\n",
      "Epoch 8/100\n",
      "1050/1050 [==============================] - 1s 1ms/step - loss: 0.0055 - accuracy: 0.9980 - val_loss: 0.2458 - val_accuracy: 0.9631\n",
      "Epoch 9/100\n",
      "1050/1050 [==============================] - 1s 1ms/step - loss: 0.0124 - accuracy: 0.9953 - val_loss: 0.2044 - val_accuracy: 0.9674\n",
      "Epoch 10/100\n",
      "1050/1050 [==============================] - 1s 1ms/step - loss: 0.0049 - accuracy: 0.9984 - val_loss: 0.2284 - val_accuracy: 0.9676\n",
      "Epoch 11/100\n",
      "1050/1050 [==============================] - 1s 1ms/step - loss: 0.0042 - accuracy: 0.9985 - val_loss: 0.2617 - val_accuracy: 0.9663\n",
      "Epoch 12/100\n",
      "1050/1050 [==============================] - 1s 1ms/step - loss: 0.0133 - accuracy: 0.9959 - val_loss: 0.2479 - val_accuracy: 0.9665\n",
      "Epoch 13/100\n",
      "1050/1050 [==============================] - 1s 1ms/step - loss: 0.0104 - accuracy: 0.9970 - val_loss: 0.2209 - val_accuracy: 0.9673\n",
      "Epoch 14/100\n",
      "1050/1050 [==============================] - 1s 1ms/step - loss: 0.0037 - accuracy: 0.9988 - val_loss: 0.2113 - val_accuracy: 0.9698\n",
      "Epoch 15/100\n",
      "1050/1050 [==============================] - 1s 1ms/step - loss: 0.0086 - accuracy: 0.9975 - val_loss: 0.2633 - val_accuracy: 0.9664\n",
      "Epoch 16/100\n",
      "1050/1050 [==============================] - 1s 1ms/step - loss: 0.0083 - accuracy: 0.9975 - val_loss: 0.2352 - val_accuracy: 0.9692\n",
      "Epoch 17/100\n",
      "1050/1050 [==============================] - 2s 1ms/step - loss: 0.0070 - accuracy: 0.9981 - val_loss: 0.2586 - val_accuracy: 0.9644\n",
      "Epoch 18/100\n",
      "1050/1050 [==============================] - 1s 1ms/step - loss: 0.0065 - accuracy: 0.9979 - val_loss: 0.2524 - val_accuracy: 0.9654\n",
      "Epoch 19/100\n",
      "1050/1050 [==============================] - 1s 1ms/step - loss: 0.0038 - accuracy: 0.9985 - val_loss: 0.2402 - val_accuracy: 0.9682\n",
      "Epoch 20/100\n",
      "1050/1050 [==============================] - 1s 1ms/step - loss: 0.0085 - accuracy: 0.9971 - val_loss: 0.2431 - val_accuracy: 0.9668\n",
      "Epoch 21/100\n",
      "1050/1050 [==============================] - 1s 1ms/step - loss: 0.0058 - accuracy: 0.9982 - val_loss: 0.2677 - val_accuracy: 0.9644\n",
      "Epoch 22/100\n",
      "1050/1050 [==============================] - 1s 1ms/step - loss: 0.0051 - accuracy: 0.9982 - val_loss: 0.2521 - val_accuracy: 0.9658\n",
      "Epoch 23/100\n",
      "1050/1050 [==============================] - 1s 1ms/step - loss: 0.0099 - accuracy: 0.9969 - val_loss: 0.2814 - val_accuracy: 0.9648\n",
      "Epoch 24/100\n",
      "1050/1050 [==============================] - 1s 1ms/step - loss: 0.0055 - accuracy: 0.9983 - val_loss: 0.2766 - val_accuracy: 0.9676\n",
      "Epoch 25/100\n",
      "1050/1050 [==============================] - 1s 1ms/step - loss: 0.0075 - accuracy: 0.9974 - val_loss: 0.2931 - val_accuracy: 0.9652\n",
      "Epoch 26/100\n",
      "1050/1050 [==============================] - 1s 1ms/step - loss: 0.0060 - accuracy: 0.9982 - val_loss: 0.2829 - val_accuracy: 0.9662\n",
      "Epoch 27/100\n",
      "1050/1050 [==============================] - 2s 2ms/step - loss: 0.0044 - accuracy: 0.9987 - val_loss: 0.2580 - val_accuracy: 0.9687\n",
      "Epoch 28/100\n",
      "1050/1050 [==============================] - 2s 1ms/step - loss: 0.0087 - accuracy: 0.9972 - val_loss: 0.2639 - val_accuracy: 0.9674\n",
      "Epoch 29/100\n",
      "1050/1050 [==============================] - 2s 2ms/step - loss: 9.5961e-04 - accuracy: 0.9997 - val_loss: 0.2800 - val_accuracy: 0.9664\n",
      "Epoch 30/100\n",
      "1050/1050 [==============================] - 2s 2ms/step - loss: 0.0108 - accuracy: 0.9965 - val_loss: 0.2738 - val_accuracy: 0.9662\n",
      "Epoch 31/100\n",
      "1050/1050 [==============================] - 2s 1ms/step - loss: 0.0054 - accuracy: 0.9982 - val_loss: 0.2641 - val_accuracy: 0.9693\n",
      "Epoch 32/100\n",
      "1050/1050 [==============================] - 1s 1ms/step - loss: 0.0047 - accuracy: 0.9986 - val_loss: 0.2871 - val_accuracy: 0.9651\n",
      "Epoch 33/100\n",
      "1050/1050 [==============================] - 2s 2ms/step - loss: 0.0062 - accuracy: 0.9983 - val_loss: 0.2915 - val_accuracy: 0.9660\n",
      "Epoch 34/100\n",
      "1050/1050 [==============================] - 2s 2ms/step - loss: 0.0072 - accuracy: 0.9979 - val_loss: 0.2942 - val_accuracy: 0.9664\n",
      "Epoch 35/100\n",
      "1050/1050 [==============================] - 2s 1ms/step - loss: 0.0068 - accuracy: 0.9980 - val_loss: 0.2920 - val_accuracy: 0.9664\n",
      "Epoch 36/100\n",
      "1050/1050 [==============================] - 1s 1ms/step - loss: 0.0041 - accuracy: 0.9987 - val_loss: 0.2759 - val_accuracy: 0.9680\n",
      "Epoch 37/100\n",
      "1050/1050 [==============================] - 1s 1ms/step - loss: 0.0062 - accuracy: 0.9977 - val_loss: 0.3018 - val_accuracy: 0.9673\n",
      "Epoch 38/100\n",
      "1050/1050 [==============================] - 1s 1ms/step - loss: 0.0062 - accuracy: 0.9980 - val_loss: 0.3018 - val_accuracy: 0.9654\n",
      "Epoch 39/100\n",
      "1050/1050 [==============================] - 1s 1ms/step - loss: 0.0071 - accuracy: 0.9983 - val_loss: 0.3309 - val_accuracy: 0.9654\n",
      "Epoch 40/100\n",
      "1050/1050 [==============================] - 1s 1ms/step - loss: 0.0048 - accuracy: 0.9984 - val_loss: 0.3178 - val_accuracy: 0.9664\n",
      "Epoch 41/100\n",
      "1050/1050 [==============================] - 2s 1ms/step - loss: 0.0035 - accuracy: 0.9990 - val_loss: 0.3002 - val_accuracy: 0.9662\n",
      "Epoch 42/100\n",
      "1050/1050 [==============================] - 1s 1ms/step - loss: 0.0038 - accuracy: 0.9991 - val_loss: 0.3616 - val_accuracy: 0.9626\n",
      "Epoch 43/100\n",
      "1050/1050 [==============================] - 2s 1ms/step - loss: 0.0096 - accuracy: 0.9970 - val_loss: 0.3047 - val_accuracy: 0.9676\n",
      "Epoch 44/100\n",
      "1050/1050 [==============================] - 2s 1ms/step - loss: 0.0063 - accuracy: 0.9986 - val_loss: 0.3049 - val_accuracy: 0.9675\n",
      "Epoch 45/100\n",
      "1050/1050 [==============================] - 1s 1ms/step - loss: 0.0030 - accuracy: 0.9988 - val_loss: 0.2972 - val_accuracy: 0.9675\n",
      "Epoch 46/100\n",
      "1050/1050 [==============================] - 2s 1ms/step - loss: 0.0040 - accuracy: 0.9991 - val_loss: 0.3029 - val_accuracy: 0.9677\n",
      "Epoch 47/100\n",
      "1050/1050 [==============================] - 2s 1ms/step - loss: 0.0084 - accuracy: 0.9975 - val_loss: 0.2963 - val_accuracy: 0.9676\n",
      "Epoch 48/100\n",
      "1050/1050 [==============================] - 1s 1ms/step - loss: 9.1166e-04 - accuracy: 0.9997 - val_loss: 0.3113 - val_accuracy: 0.9685\n",
      "Epoch 49/100\n",
      "1050/1050 [==============================] - 1s 1ms/step - loss: 0.0093 - accuracy: 0.9975 - val_loss: 0.3448 - val_accuracy: 0.9657\n",
      "Epoch 50/100\n",
      "1050/1050 [==============================] - 1s 1ms/step - loss: 0.0062 - accuracy: 0.9982 - val_loss: 0.3415 - val_accuracy: 0.9680\n",
      "Epoch 51/100\n",
      "1050/1050 [==============================] - 1s 1ms/step - loss: 0.0060 - accuracy: 0.9982 - val_loss: 0.3062 - val_accuracy: 0.9683\n",
      "Epoch 52/100\n",
      "1050/1050 [==============================] - 1s 1ms/step - loss: 0.0022 - accuracy: 0.9993 - val_loss: 0.3088 - val_accuracy: 0.9675\n",
      "Epoch 53/100\n",
      "1050/1050 [==============================] - 1s 1ms/step - loss: 0.0022 - accuracy: 0.9993 - val_loss: 0.3134 - val_accuracy: 0.9667\n",
      "Epoch 54/100\n",
      "1050/1050 [==============================] - 1s 1ms/step - loss: 0.0106 - accuracy: 0.9967 - val_loss: 0.3191 - val_accuracy: 0.9664\n",
      "Epoch 55/100\n",
      "1050/1050 [==============================] - 1s 1ms/step - loss: 0.0044 - accuracy: 0.9986 - val_loss: 0.3568 - val_accuracy: 0.9670\n",
      "Epoch 56/100\n",
      "1050/1050 [==============================] - 1s 1ms/step - loss: 0.0048 - accuracy: 0.9985 - val_loss: 0.3472 - val_accuracy: 0.9658\n",
      "Epoch 57/100\n"
     ]
    },
    {
     "name": "stdout",
     "output_type": "stream",
     "text": [
      "1050/1050 [==============================] - 1s 1ms/step - loss: 0.0043 - accuracy: 0.9985 - val_loss: 0.3291 - val_accuracy: 0.9665\n",
      "Epoch 58/100\n",
      "1050/1050 [==============================] - 1s 1ms/step - loss: 0.0075 - accuracy: 0.9978 - val_loss: 0.3247 - val_accuracy: 0.9670\n",
      "Epoch 59/100\n",
      "1050/1050 [==============================] - 1s 1ms/step - loss: 0.0042 - accuracy: 0.9987 - val_loss: 0.3147 - val_accuracy: 0.9693\n",
      "Epoch 60/100\n",
      "1050/1050 [==============================] - 1s 1ms/step - loss: 0.0022 - accuracy: 0.9992 - val_loss: 0.3097 - val_accuracy: 0.9668\n",
      "Epoch 61/100\n",
      "1050/1050 [==============================] - 2s 2ms/step - loss: 0.0044 - accuracy: 0.9986 - val_loss: 0.3399 - val_accuracy: 0.9656\n",
      "Epoch 62/100\n",
      "1050/1050 [==============================] - 1s 1ms/step - loss: 0.0057 - accuracy: 0.9981 - val_loss: 0.3512 - val_accuracy: 0.9657\n",
      "Epoch 63/100\n",
      "1050/1050 [==============================] - 1s 1ms/step - loss: 0.0078 - accuracy: 0.9977 - val_loss: 0.3580 - val_accuracy: 0.9657\n",
      "Epoch 64/100\n",
      "1050/1050 [==============================] - 1s 1ms/step - loss: 0.0017 - accuracy: 0.9993 - val_loss: 0.3623 - val_accuracy: 0.9668\n",
      "Epoch 65/100\n",
      "1050/1050 [==============================] - 1s 1ms/step - loss: 0.0053 - accuracy: 0.9987 - val_loss: 0.4348 - val_accuracy: 0.9606\n",
      "Epoch 66/100\n",
      "1050/1050 [==============================] - 1s 1ms/step - loss: 0.0042 - accuracy: 0.9987 - val_loss: 0.3775 - val_accuracy: 0.9660\n",
      "Epoch 67/100\n",
      "1050/1050 [==============================] - 1s 1ms/step - loss: 0.0066 - accuracy: 0.9981 - val_loss: 0.3644 - val_accuracy: 0.9665\n",
      "Epoch 68/100\n",
      "1050/1050 [==============================] - 1s 1ms/step - loss: 0.0014 - accuracy: 0.9996 - val_loss: 0.3617 - val_accuracy: 0.9681\n",
      "Epoch 69/100\n",
      "1050/1050 [==============================] - 1s 1ms/step - loss: 0.0027 - accuracy: 0.9994 - val_loss: 0.4006 - val_accuracy: 0.9667\n",
      "Epoch 70/100\n",
      "1050/1050 [==============================] - 2s 1ms/step - loss: 0.0095 - accuracy: 0.9978 - val_loss: 0.3492 - val_accuracy: 0.9664\n",
      "Epoch 71/100\n",
      "1050/1050 [==============================] - 1s 1ms/step - loss: 0.0030 - accuracy: 0.9988 - val_loss: 0.3517 - val_accuracy: 0.9685\n",
      "Epoch 72/100\n",
      "1050/1050 [==============================] - 1s 1ms/step - loss: 0.0041 - accuracy: 0.9990 - val_loss: 0.3597 - val_accuracy: 0.9677\n",
      "Epoch 73/100\n",
      "1050/1050 [==============================] - 1s 1ms/step - loss: 0.0047 - accuracy: 0.9987 - val_loss: 0.3980 - val_accuracy: 0.9656\n",
      "Epoch 74/100\n",
      "1050/1050 [==============================] - 1s 1ms/step - loss: 0.0045 - accuracy: 0.9987 - val_loss: 0.3884 - val_accuracy: 0.9660\n",
      "Epoch 75/100\n",
      "1050/1050 [==============================] - 1s 1ms/step - loss: 0.0039 - accuracy: 0.9986 - val_loss: 0.3770 - val_accuracy: 0.9682\n",
      "Epoch 76/100\n",
      "1050/1050 [==============================] - 2s 1ms/step - loss: 0.0070 - accuracy: 0.9983 - val_loss: 0.3360 - val_accuracy: 0.9680\n",
      "Epoch 77/100\n",
      "1050/1050 [==============================] - 1s 1ms/step - loss: 0.0022 - accuracy: 0.9993 - val_loss: 0.3507 - val_accuracy: 0.9690\n",
      "Epoch 78/100\n",
      "1050/1050 [==============================] - 1s 1ms/step - loss: 0.0079 - accuracy: 0.9979 - val_loss: 0.3767 - val_accuracy: 0.9689\n",
      "Epoch 79/100\n",
      "1050/1050 [==============================] - 1s 1ms/step - loss: 0.0032 - accuracy: 0.9992 - val_loss: 0.3821 - val_accuracy: 0.9686\n",
      "Epoch 80/100\n",
      "1050/1050 [==============================] - 1s 1ms/step - loss: 0.0050 - accuracy: 0.9986 - val_loss: 0.3635 - val_accuracy: 0.9699\n",
      "Epoch 81/100\n",
      "1050/1050 [==============================] - 1s 1ms/step - loss: 0.0015 - accuracy: 0.9996 - val_loss: 0.3920 - val_accuracy: 0.9658\n",
      "Epoch 82/100\n",
      "1050/1050 [==============================] - 1s 1ms/step - loss: 0.0069 - accuracy: 0.9981 - val_loss: 0.3835 - val_accuracy: 0.9689\n",
      "Epoch 83/100\n",
      "1050/1050 [==============================] - 1s 1ms/step - loss: 0.0031 - accuracy: 0.9990 - val_loss: 0.3550 - val_accuracy: 0.9688\n",
      "Epoch 84/100\n",
      "1050/1050 [==============================] - 1s 1ms/step - loss: 0.0059 - accuracy: 0.9983 - val_loss: 0.3571 - val_accuracy: 0.9705\n",
      "Epoch 85/100\n",
      "1050/1050 [==============================] - 1s 1ms/step - loss: 0.0018 - accuracy: 0.9994 - val_loss: 0.3782 - val_accuracy: 0.9686\n",
      "Epoch 86/100\n",
      "1050/1050 [==============================] - 1s 1ms/step - loss: 0.0059 - accuracy: 0.9985 - val_loss: 0.3940 - val_accuracy: 0.9687\n",
      "Epoch 87/100\n",
      "1050/1050 [==============================] - 1s 1ms/step - loss: 0.0078 - accuracy: 0.9982 - val_loss: 0.3666 - val_accuracy: 0.9695\n",
      "Epoch 88/100\n",
      "1050/1050 [==============================] - 1s 1ms/step - loss: 0.0037 - accuracy: 0.9989 - val_loss: 0.4347 - val_accuracy: 0.9669\n",
      "Epoch 89/100\n",
      "1050/1050 [==============================] - 1s 1ms/step - loss: 0.0046 - accuracy: 0.9988 - val_loss: 0.3934 - val_accuracy: 0.9696\n",
      "Epoch 90/100\n",
      "1050/1050 [==============================] - 1s 1ms/step - loss: 0.0048 - accuracy: 0.9989 - val_loss: 0.4094 - val_accuracy: 0.9687\n",
      "Epoch 91/100\n",
      "1050/1050 [==============================] - 1s 1ms/step - loss: 0.0021 - accuracy: 0.9994 - val_loss: 0.3848 - val_accuracy: 0.9698\n",
      "Epoch 92/100\n",
      "1050/1050 [==============================] - 1s 1ms/step - loss: 0.0064 - accuracy: 0.9983 - val_loss: 0.3757 - val_accuracy: 0.9689\n",
      "Epoch 93/100\n",
      "1050/1050 [==============================] - 1s 1ms/step - loss: 0.0034 - accuracy: 0.9990 - val_loss: 0.3713 - val_accuracy: 0.9706\n",
      "Epoch 94/100\n",
      "1050/1050 [==============================] - 1s 1ms/step - loss: 0.0054 - accuracy: 0.9985 - val_loss: 0.3917 - val_accuracy: 0.9663\n",
      "Epoch 95/100\n",
      "1050/1050 [==============================] - 1s 1ms/step - loss: 0.0031 - accuracy: 0.9991 - val_loss: 0.3950 - val_accuracy: 0.9669\n",
      "Epoch 96/100\n",
      "1050/1050 [==============================] - 1s 1ms/step - loss: 0.0064 - accuracy: 0.9984 - val_loss: 0.4158 - val_accuracy: 0.9661\n",
      "Epoch 97/100\n",
      "1050/1050 [==============================] - 1s 1ms/step - loss: 0.0027 - accuracy: 0.9991 - val_loss: 0.4105 - val_accuracy: 0.9687\n",
      "Epoch 98/100\n",
      "1050/1050 [==============================] - 1s 1ms/step - loss: 4.6682e-04 - accuracy: 0.9998 - val_loss: 0.3795 - val_accuracy: 0.9690\n",
      "Epoch 99/100\n",
      "1050/1050 [==============================] - 1s 1ms/step - loss: 0.0040 - accuracy: 0.9989 - val_loss: 0.4006 - val_accuracy: 0.9680\n",
      "Epoch 100/100\n",
      "1050/1050 [==============================] - 1s 1ms/step - loss: 0.0055 - accuracy: 0.9985 - val_loss: 0.3795 - val_accuracy: 0.9694\n"
     ]
    }
   ],
   "source": [
    "start = datetime.now()\n",
    "model1.fit(X_train, y_train, epochs=100,\n",
    "          validation_data=(X_test, y_test))\n",
    "          #callbacks=[early_stopping_cb])\n",
    "end = datetime.now()"
   ]
  },
  {
   "cell_type": "code",
   "execution_count": 121,
   "metadata": {
    "colab": {
     "base_uri": "https://localhost:8080/"
    },
    "id": "STbcJ5d-MoNB",
    "outputId": "89725bdf-6dad-4bf1-8006-6e1079673cab"
   },
   "outputs": [
    {
     "name": "stdout",
     "output_type": "stream",
     "text": [
      "0:02:20.414279\n"
     ]
    }
   ],
   "source": [
    "delta = end-start\n",
    "print(delta) #0:00:36.952485"
   ]
  },
  {
   "cell_type": "code",
   "execution_count": 19,
   "metadata": {
    "colab": {
     "base_uri": "https://localhost:8080/"
    },
    "id": "IYeoHKwDDzIe",
    "outputId": "f542c807-ef7e-4d5f-e6fb-5399c2dad780"
   },
   "outputs": [
    {
     "name": "stdout",
     "output_type": "stream",
     "text": [
      "1050/1050 - 1s - loss: 0.0071 - accuracy: 0.9976 - 832ms/epoch - 793us/step\n",
      "Training Loss: 0.007092489395290613\n",
      "Training Accuracy: 0.9975595474243164\n"
     ]
    }
   ],
   "source": [
    "train_loss_and_acc = model1.evaluate(X_train, y_train, verbose=2)\n",
    "print('Training Loss:', train_loss_and_acc[0])\n",
    "print('Training Accuracy:', train_loss_and_acc[1])"
   ]
  },
  {
   "cell_type": "code",
   "execution_count": 122,
   "metadata": {
    "colab": {
     "base_uri": "https://localhost:8080/"
    },
    "id": "BDIpDQUaqxaX",
    "outputId": "be4e8f15-658f-4e3e-e489-afdea406ed41"
   },
   "outputs": [
    {
     "name": "stdout",
     "output_type": "stream",
     "text": [
      "263/263 - 0s - loss: 0.3795 - accuracy: 0.9694 - 198ms/epoch - 751us/step\n",
      "Test Loss: 0.37953755259513855\n",
      "Test Accuracy: 0.9694047570228577\n"
     ]
    }
   ],
   "source": [
    "test_loss_and_acc = model1.evaluate(X_test, y_test, verbose=2)\n",
    "print('Test Loss:', test_loss_and_acc[0])\n",
    "print('Test Accuracy:', test_loss_and_acc[1])\n",
    "\n",
    "# Test Loss: 0.2032758593559265\n",
    "# Test Accuracy: 0.967380940914154"
   ]
  },
  {
   "cell_type": "code",
   "execution_count": 21,
   "metadata": {
    "colab": {
     "base_uri": "https://localhost:8080/",
     "height": 81
    },
    "id": "1HrmQZbLlXQV",
    "outputId": "c1ece566-651d-4cc0-ff4c-e57d07371645"
   },
   "outputs": [
    {
     "data": {
      "text/html": [
       "<div>\n",
       "<style scoped>\n",
       "    .dataframe tbody tr th:only-of-type {\n",
       "        vertical-align: middle;\n",
       "    }\n",
       "\n",
       "    .dataframe tbody tr th {\n",
       "        vertical-align: top;\n",
       "    }\n",
       "\n",
       "    .dataframe thead th {\n",
       "        text-align: right;\n",
       "    }\n",
       "</style>\n",
       "<table border=\"1\" class=\"dataframe\">\n",
       "  <thead>\n",
       "    <tr style=\"text-align: right;\">\n",
       "      <th></th>\n",
       "      <th>Model</th>\n",
       "      <th>Layers</th>\n",
       "      <th>Nodes</th>\n",
       "      <th>Time</th>\n",
       "      <th>Training Accuracy</th>\n",
       "      <th>Testing Accuracy</th>\n",
       "    </tr>\n",
       "  </thead>\n",
       "  <tbody>\n",
       "    <tr>\n",
       "      <th>0</th>\n",
       "      <td>Model 1 (Seq, 2, 50)</td>\n",
       "      <td>2</td>\n",
       "      <td>50</td>\n",
       "      <td>36.952485</td>\n",
       "      <td>0.99756</td>\n",
       "      <td>0.967381</td>\n",
       "    </tr>\n",
       "  </tbody>\n",
       "</table>\n",
       "</div>"
      ],
      "text/plain": [
       "                  Model Layers Nodes       Time  Training Accuracy  \\\n",
       "0  Model 1 (Seq, 2, 50)      2    50  36.952485            0.99756   \n",
       "\n",
       "   Testing Accuracy  \n",
       "0          0.967381  "
      ]
     },
     "execution_count": 21,
     "metadata": {},
     "output_type": "execute_result"
    }
   ],
   "source": [
    "results = pd.DataFrame(columns = ['Model', 'Layers', 'Nodes', 'Time', 'Training Accuracy', 'Testing Accuracy'])\n",
    "\n",
    "#eval\n",
    "Model = 'Model 1 (Seq, 2, 50)' \n",
    "Layers = 2\n",
    "Nodes = 50\n",
    "Time = delta.total_seconds()\n",
    "Training_Accuracy = train_loss_and_acc[1]\n",
    "Testing_Accuracy = test_loss_and_acc[1]\n",
    "row = [Model, Layers, Nodes, Time, Training_Accuracy, Testing_Accuracy]\n",
    "results = results.append(pd.DataFrame([row], columns=results.columns), ignore_index=True)\n",
    "results"
   ]
  },
  {
   "cell_type": "markdown",
   "metadata": {
    "id": "5TlPqHGEsRzS"
   },
   "source": [
    "#### Model 2: 2 Layers, 100 Nodes"
   ]
  },
  {
   "cell_type": "code",
   "execution_count": 22,
   "metadata": {
    "id": "yNtATZybqxWZ"
   },
   "outputs": [],
   "source": [
    "# creating model (2 layers, 100 nodes)\n",
    "model2 = Sequential()\n",
    "hidden_layer1 = Dense(100, activation='relu')\n",
    "model2.add(hidden_layer1)\n",
    "hidden_layer2 = Dense(100, activation='relu')\n",
    "model2.add(hidden_layer2)\n",
    "output_layer=Dense(10, activation='softmax')\n",
    "model2.add(output_layer)"
   ]
  },
  {
   "cell_type": "code",
   "execution_count": 23,
   "metadata": {
    "id": "WZWHbczRqxWZ"
   },
   "outputs": [],
   "source": [
    "# compiling the sequential model\n",
    "model2.compile(optimizer='adam',\n",
    "              loss='sparse_categorical_crossentropy',\n",
    "              metrics=['accuracy'])"
   ]
  },
  {
   "cell_type": "code",
   "execution_count": 24,
   "metadata": {
    "colab": {
     "base_uri": "https://localhost:8080/"
    },
    "id": "kfBwSFHYqxWZ",
    "outputId": "17248177-aa27-41b6-e9d9-c4d7f7d4dd47"
   },
   "outputs": [
    {
     "name": "stdout",
     "output_type": "stream",
     "text": [
      "Epoch 1/100\n",
      "1050/1050 [==============================] - 2s 1ms/step - loss: 0.3165 - accuracy: 0.9065 - val_loss: 0.1695 - val_accuracy: 0.9499\n",
      "Epoch 2/100\n",
      "1050/1050 [==============================] - 1s 1ms/step - loss: 0.1355 - accuracy: 0.9604 - val_loss: 0.1330 - val_accuracy: 0.9581\n",
      "Epoch 3/100\n",
      "1050/1050 [==============================] - 1s 1ms/step - loss: 0.0945 - accuracy: 0.9707 - val_loss: 0.1407 - val_accuracy: 0.9561\n",
      "Epoch 4/100\n",
      "1050/1050 [==============================] - 1s 1ms/step - loss: 0.0694 - accuracy: 0.9782 - val_loss: 0.1031 - val_accuracy: 0.9680\n",
      "Epoch 5/100\n",
      "1050/1050 [==============================] - 1s 1ms/step - loss: 0.0549 - accuracy: 0.9824 - val_loss: 0.1126 - val_accuracy: 0.9679\n",
      "Epoch 6/100\n",
      "1050/1050 [==============================] - 1s 1ms/step - loss: 0.0435 - accuracy: 0.9861 - val_loss: 0.1048 - val_accuracy: 0.9698\n",
      "Epoch 7/100\n",
      "1050/1050 [==============================] - 1s 1ms/step - loss: 0.0354 - accuracy: 0.9888 - val_loss: 0.1193 - val_accuracy: 0.9687\n",
      "Epoch 8/100\n",
      "1050/1050 [==============================] - 1s 1ms/step - loss: 0.0283 - accuracy: 0.9907 - val_loss: 0.1218 - val_accuracy: 0.9677\n",
      "Epoch 9/100\n",
      "1050/1050 [==============================] - 1s 1ms/step - loss: 0.0260 - accuracy: 0.9916 - val_loss: 0.1374 - val_accuracy: 0.9679\n",
      "Epoch 10/100\n",
      "1050/1050 [==============================] - 1s 1ms/step - loss: 0.0229 - accuracy: 0.9919 - val_loss: 0.1344 - val_accuracy: 0.9670\n",
      "Epoch 11/100\n",
      "1050/1050 [==============================] - 1s 1ms/step - loss: 0.0192 - accuracy: 0.9934 - val_loss: 0.1445 - val_accuracy: 0.9695\n",
      "Epoch 12/100\n",
      "1050/1050 [==============================] - 1s 1ms/step - loss: 0.0176 - accuracy: 0.9942 - val_loss: 0.1435 - val_accuracy: 0.9714\n",
      "Epoch 13/100\n",
      "1050/1050 [==============================] - 1s 1ms/step - loss: 0.0141 - accuracy: 0.9951 - val_loss: 0.1382 - val_accuracy: 0.9696\n",
      "Epoch 14/100\n",
      "1050/1050 [==============================] - 1s 1ms/step - loss: 0.0149 - accuracy: 0.9948 - val_loss: 0.1336 - val_accuracy: 0.9721\n",
      "Epoch 15/100\n",
      "1050/1050 [==============================] - 1s 1ms/step - loss: 0.0150 - accuracy: 0.9945 - val_loss: 0.1388 - val_accuracy: 0.9725\n",
      "Epoch 16/100\n",
      "1050/1050 [==============================] - 1s 1ms/step - loss: 0.0140 - accuracy: 0.9952 - val_loss: 0.1457 - val_accuracy: 0.9712\n",
      "Epoch 17/100\n",
      "1050/1050 [==============================] - 1s 1ms/step - loss: 0.0118 - accuracy: 0.9958 - val_loss: 0.1499 - val_accuracy: 0.9726\n",
      "Epoch 18/100\n",
      "1050/1050 [==============================] - 2s 1ms/step - loss: 0.0148 - accuracy: 0.9954 - val_loss: 0.1592 - val_accuracy: 0.9720\n",
      "Epoch 19/100\n",
      "1050/1050 [==============================] - 1s 1ms/step - loss: 0.0095 - accuracy: 0.9972 - val_loss: 0.1568 - val_accuracy: 0.9742\n",
      "Epoch 20/100\n",
      "1050/1050 [==============================] - 1s 1ms/step - loss: 0.0138 - accuracy: 0.9953 - val_loss: 0.1600 - val_accuracy: 0.9717\n",
      "Epoch 21/100\n",
      "1050/1050 [==============================] - 1s 1ms/step - loss: 0.0047 - accuracy: 0.9986 - val_loss: 0.1553 - val_accuracy: 0.9745\n",
      "Epoch 22/100\n",
      "1050/1050 [==============================] - 1s 1ms/step - loss: 0.0104 - accuracy: 0.9967 - val_loss: 0.1888 - val_accuracy: 0.9710\n",
      "Epoch 23/100\n",
      "1050/1050 [==============================] - 1s 1ms/step - loss: 0.0116 - accuracy: 0.9963 - val_loss: 0.2015 - val_accuracy: 0.9696\n",
      "Epoch 24/100\n",
      "1050/1050 [==============================] - 2s 2ms/step - loss: 0.0127 - accuracy: 0.9959 - val_loss: 0.1804 - val_accuracy: 0.9702\n"
     ]
    }
   ],
   "source": [
    "start = datetime.now()\n",
    "model2.fit(X_train, y_train, epochs=100,\n",
    "          validation_data=(X_test, y_test),\n",
    "          callbacks=[early_stopping_cb])\n",
    "end = datetime.now()"
   ]
  },
  {
   "cell_type": "code",
   "execution_count": 25,
   "metadata": {
    "id": "iLRA-XNVAHWK"
   },
   "outputs": [
    {
     "name": "stdout",
     "output_type": "stream",
     "text": [
      "0:00:33.675868\n"
     ]
    }
   ],
   "source": [
    "delta = end-start\n",
    "print(delta)"
   ]
  },
  {
   "cell_type": "code",
   "execution_count": 26,
   "metadata": {
    "id": "auPfgD_8EOOI"
   },
   "outputs": [
    {
     "name": "stdout",
     "output_type": "stream",
     "text": [
      "1050/1050 - 1s - loss: 0.0057 - accuracy: 0.9981 - 841ms/epoch - 801us/step\n",
      "Training Loss: 0.0057073901407420635\n",
      "Training Accuracy: 0.9980654716491699\n"
     ]
    }
   ],
   "source": [
    "train_loss_and_acc = model2.evaluate(X_train, y_train, verbose=2)\n",
    "print('Training Loss:', train_loss_and_acc[0])\n",
    "print('Training Accuracy:', train_loss_and_acc[1])"
   ]
  },
  {
   "cell_type": "code",
   "execution_count": 27,
   "metadata": {
    "id": "NQAluzA_qxWa"
   },
   "outputs": [
    {
     "name": "stdout",
     "output_type": "stream",
     "text": [
      "263/263 - 0s - loss: 0.1804 - accuracy: 0.9702 - 201ms/epoch - 763us/step\n",
      "Test Loss: 0.1804232895374298\n",
      "Test Accuracy: 0.9702380895614624\n"
     ]
    }
   ],
   "source": [
    "test_loss_and_acc = model2.evaluate(X_test, y_test, verbose=2)\n",
    "print('Test Loss:', test_loss_and_acc[0])\n",
    "print('Test Accuracy:', test_loss_and_acc[1])"
   ]
  },
  {
   "cell_type": "code",
   "execution_count": 28,
   "metadata": {
    "id": "Ng0JREOThFOE"
   },
   "outputs": [
    {
     "data": {
      "text/html": [
       "<div>\n",
       "<style scoped>\n",
       "    .dataframe tbody tr th:only-of-type {\n",
       "        vertical-align: middle;\n",
       "    }\n",
       "\n",
       "    .dataframe tbody tr th {\n",
       "        vertical-align: top;\n",
       "    }\n",
       "\n",
       "    .dataframe thead th {\n",
       "        text-align: right;\n",
       "    }\n",
       "</style>\n",
       "<table border=\"1\" class=\"dataframe\">\n",
       "  <thead>\n",
       "    <tr style=\"text-align: right;\">\n",
       "      <th></th>\n",
       "      <th>Model</th>\n",
       "      <th>Layers</th>\n",
       "      <th>Nodes</th>\n",
       "      <th>Time</th>\n",
       "      <th>Training Accuracy</th>\n",
       "      <th>Testing Accuracy</th>\n",
       "    </tr>\n",
       "  </thead>\n",
       "  <tbody>\n",
       "    <tr>\n",
       "      <th>0</th>\n",
       "      <td>Model 1 (Seq, 2, 50)</td>\n",
       "      <td>2</td>\n",
       "      <td>50</td>\n",
       "      <td>36.952485</td>\n",
       "      <td>0.997560</td>\n",
       "      <td>0.967381</td>\n",
       "    </tr>\n",
       "    <tr>\n",
       "      <th>1</th>\n",
       "      <td>Model 2 (Seq, 2, 100)</td>\n",
       "      <td>2</td>\n",
       "      <td>100</td>\n",
       "      <td>33.675868</td>\n",
       "      <td>0.998065</td>\n",
       "      <td>0.970238</td>\n",
       "    </tr>\n",
       "  </tbody>\n",
       "</table>\n",
       "</div>"
      ],
      "text/plain": [
       "                   Model Layers Nodes       Time  Training Accuracy  \\\n",
       "0   Model 1 (Seq, 2, 50)      2    50  36.952485           0.997560   \n",
       "1  Model 2 (Seq, 2, 100)      2   100  33.675868           0.998065   \n",
       "\n",
       "   Testing Accuracy  \n",
       "0          0.967381  \n",
       "1          0.970238  "
      ]
     },
     "execution_count": 28,
     "metadata": {},
     "output_type": "execute_result"
    }
   ],
   "source": [
    "#eval\n",
    "Model = 'Model 2 (Seq, 2, 100)' \n",
    "Layers = 2\n",
    "Nodes = 100\n",
    "Time = delta.total_seconds()\n",
    "Training_Accuracy = train_loss_and_acc[1]\n",
    "Testing_Accuracy = test_loss_and_acc[1]\n",
    "row = [Model, Layers, Nodes, Time, Training_Accuracy, Testing_Accuracy]\n",
    "results = results.append(pd.DataFrame([row], columns=results.columns), ignore_index=True)\n",
    "results"
   ]
  },
  {
   "cell_type": "markdown",
   "metadata": {
    "id": "xugRxpxEsnTH"
   },
   "source": [
    "#### Model 3: 4 Layers, 50 Nodes"
   ]
  },
  {
   "cell_type": "code",
   "execution_count": 29,
   "metadata": {
    "id": "RbgN8f4Xan-C"
   },
   "outputs": [],
   "source": [
    "# creating model (4 layers, 50 nodes)\n",
    "model3 = Sequential()\n",
    "hidden_layer1 = Dense(50, activation='relu')\n",
    "model3.add(hidden_layer1)\n",
    "hidden_layer2 = Dense(50, activation='relu')\n",
    "model3.add(hidden_layer2)\n",
    "hidden_layer3 = Dense(50, activation='relu')\n",
    "model3.add(hidden_layer3)\n",
    "hidden_layer4 = Dense(50, activation='relu')\n",
    "model3.add(hidden_layer4)\n",
    "output_layer=Dense(10, activation='softmax')\n",
    "model3.add(output_layer)"
   ]
  },
  {
   "cell_type": "code",
   "execution_count": 30,
   "metadata": {
    "id": "eEJ3um2Man-C"
   },
   "outputs": [],
   "source": [
    "# compiling the sequential model\n",
    "model3.compile(optimizer='adam',\n",
    "              loss='sparse_categorical_crossentropy',\n",
    "              metrics=['accuracy'])"
   ]
  },
  {
   "cell_type": "code",
   "execution_count": 31,
   "metadata": {
    "id": "vny72JSkan-C"
   },
   "outputs": [
    {
     "name": "stdout",
     "output_type": "stream",
     "text": [
      "Epoch 1/100\n",
      "1050/1050 [==============================] - 2s 1ms/step - loss: 0.4000 - accuracy: 0.8721 - val_loss: 0.1992 - val_accuracy: 0.9424\n",
      "Epoch 2/100\n",
      "1050/1050 [==============================] - 2s 2ms/step - loss: 0.1624 - accuracy: 0.9498 - val_loss: 0.1584 - val_accuracy: 0.9500\n",
      "Epoch 3/100\n",
      "1050/1050 [==============================] - 1s 1ms/step - loss: 0.1244 - accuracy: 0.9603 - val_loss: 0.1405 - val_accuracy: 0.9595\n",
      "Epoch 4/100\n",
      "1050/1050 [==============================] - 1s 1ms/step - loss: 0.1005 - accuracy: 0.9692 - val_loss: 0.1371 - val_accuracy: 0.9592\n",
      "Epoch 5/100\n",
      "1050/1050 [==============================] - 1s 1ms/step - loss: 0.0837 - accuracy: 0.9746 - val_loss: 0.1557 - val_accuracy: 0.9549\n",
      "Epoch 6/100\n",
      "1050/1050 [==============================] - 1s 1ms/step - loss: 0.0738 - accuracy: 0.9765 - val_loss: 0.1425 - val_accuracy: 0.9574\n",
      "Epoch 7/100\n",
      "1050/1050 [==============================] - 1s 1ms/step - loss: 0.0645 - accuracy: 0.9791 - val_loss: 0.1315 - val_accuracy: 0.9625\n",
      "Epoch 8/100\n",
      "1050/1050 [==============================] - 1s 1ms/step - loss: 0.0581 - accuracy: 0.9808 - val_loss: 0.1219 - val_accuracy: 0.9667\n",
      "Epoch 9/100\n",
      "1050/1050 [==============================] - 1s 1ms/step - loss: 0.0509 - accuracy: 0.9836 - val_loss: 0.1397 - val_accuracy: 0.9627\n",
      "Epoch 10/100\n",
      "1050/1050 [==============================] - 2s 1ms/step - loss: 0.0440 - accuracy: 0.9856 - val_loss: 0.1349 - val_accuracy: 0.9648\n",
      "Epoch 11/100\n",
      "1050/1050 [==============================] - 2s 1ms/step - loss: 0.0432 - accuracy: 0.9851 - val_loss: 0.1564 - val_accuracy: 0.9621\n",
      "Epoch 12/100\n",
      "1050/1050 [==============================] - 1s 1ms/step - loss: 0.0347 - accuracy: 0.9885 - val_loss: 0.1444 - val_accuracy: 0.9654\n",
      "Epoch 13/100\n",
      "1050/1050 [==============================] - 1s 1ms/step - loss: 0.0356 - accuracy: 0.9880 - val_loss: 0.1504 - val_accuracy: 0.9669\n",
      "Epoch 14/100\n",
      "1050/1050 [==============================] - 1s 1ms/step - loss: 0.0284 - accuracy: 0.9907 - val_loss: 0.1685 - val_accuracy: 0.9593\n",
      "Epoch 15/100\n",
      "1050/1050 [==============================] - 1s 1ms/step - loss: 0.0301 - accuracy: 0.9905 - val_loss: 0.1462 - val_accuracy: 0.9673\n",
      "Epoch 16/100\n",
      "1050/1050 [==============================] - 1s 1ms/step - loss: 0.0282 - accuracy: 0.9902 - val_loss: 0.1668 - val_accuracy: 0.9654\n",
      "Epoch 17/100\n",
      "1050/1050 [==============================] - 1s 1ms/step - loss: 0.0239 - accuracy: 0.9918 - val_loss: 0.1645 - val_accuracy: 0.9656\n",
      "Epoch 18/100\n",
      "1050/1050 [==============================] - 1s 1ms/step - loss: 0.0259 - accuracy: 0.9918 - val_loss: 0.1901 - val_accuracy: 0.9630\n",
      "Epoch 19/100\n",
      "1050/1050 [==============================] - 1s 1ms/step - loss: 0.0216 - accuracy: 0.9929 - val_loss: 0.1679 - val_accuracy: 0.9657\n",
      "Epoch 20/100\n",
      "1050/1050 [==============================] - 1s 1ms/step - loss: 0.0233 - accuracy: 0.9925 - val_loss: 0.1848 - val_accuracy: 0.9631\n",
      "Epoch 21/100\n",
      "1050/1050 [==============================] - 1s 1ms/step - loss: 0.0183 - accuracy: 0.9936 - val_loss: 0.1960 - val_accuracy: 0.9652\n",
      "Epoch 22/100\n",
      "1050/1050 [==============================] - 1s 1ms/step - loss: 0.0245 - accuracy: 0.9918 - val_loss: 0.1858 - val_accuracy: 0.9667\n",
      "Epoch 23/100\n",
      "1050/1050 [==============================] - 1s 1ms/step - loss: 0.0168 - accuracy: 0.9950 - val_loss: 0.1796 - val_accuracy: 0.9668\n",
      "Epoch 24/100\n",
      "1050/1050 [==============================] - 1s 1ms/step - loss: 0.0175 - accuracy: 0.9945 - val_loss: 0.1694 - val_accuracy: 0.9667\n",
      "Epoch 25/100\n",
      "1050/1050 [==============================] - 1s 1ms/step - loss: 0.0202 - accuracy: 0.9935 - val_loss: 0.1851 - val_accuracy: 0.9661\n",
      "Epoch 26/100\n",
      "1050/1050 [==============================] - 1s 1ms/step - loss: 0.0177 - accuracy: 0.9945 - val_loss: 0.1790 - val_accuracy: 0.9657\n",
      "Epoch 27/100\n",
      "1050/1050 [==============================] - 1s 1ms/step - loss: 0.0192 - accuracy: 0.9935 - val_loss: 0.2142 - val_accuracy: 0.9624\n",
      "Epoch 28/100\n",
      "1050/1050 [==============================] - 1s 1ms/step - loss: 0.0154 - accuracy: 0.9952 - val_loss: 0.2008 - val_accuracy: 0.9640\n"
     ]
    }
   ],
   "source": [
    "start = datetime.now()\n",
    "model3.fit(X_train, y_train, epochs=100,\n",
    "          validation_data=(X_test, y_test),\n",
    "          callbacks=[early_stopping_cb])\n",
    "end = datetime.now()"
   ]
  },
  {
   "cell_type": "code",
   "execution_count": 32,
   "metadata": {
    "id": "b3acy-ttAUKv"
   },
   "outputs": [
    {
     "name": "stdout",
     "output_type": "stream",
     "text": [
      "0:00:39.674650\n"
     ]
    }
   ],
   "source": [
    "delta = end-start\n",
    "print(delta)"
   ]
  },
  {
   "cell_type": "code",
   "execution_count": 33,
   "metadata": {
    "id": "fnzkzbOEEdgX"
   },
   "outputs": [
    {
     "name": "stdout",
     "output_type": "stream",
     "text": [
      "1050/1050 - 1s - loss: 0.0217 - accuracy: 0.9932 - 815ms/epoch - 777us/step\n",
      "Training Loss: 0.021664045751094818\n",
      "Training Accuracy: 0.9932143092155457\n"
     ]
    }
   ],
   "source": [
    "train_loss_and_acc = model3.evaluate(X_train, y_train, verbose=2)\n",
    "print('Training Loss:', train_loss_and_acc[0])\n",
    "print('Training Accuracy:', train_loss_and_acc[1])"
   ]
  },
  {
   "cell_type": "code",
   "execution_count": 34,
   "metadata": {
    "id": "0iEBB1Z-AUKv"
   },
   "outputs": [
    {
     "name": "stdout",
     "output_type": "stream",
     "text": [
      "263/263 - 0s - loss: 0.2008 - accuracy: 0.9640 - 209ms/epoch - 796us/step\n",
      "Test Loss: 0.2007841318845749\n",
      "Test Accuracy: 0.9640476107597351\n"
     ]
    }
   ],
   "source": [
    "test_loss_and_acc = model3.evaluate(X_test, y_test, verbose=2)\n",
    "print('Test Loss:', test_loss_and_acc[0])\n",
    "print('Test Accuracy:', test_loss_and_acc[1])"
   ]
  },
  {
   "cell_type": "code",
   "execution_count": 35,
   "metadata": {
    "id": "BPiQmwGVAUKv"
   },
   "outputs": [
    {
     "data": {
      "text/html": [
       "<div>\n",
       "<style scoped>\n",
       "    .dataframe tbody tr th:only-of-type {\n",
       "        vertical-align: middle;\n",
       "    }\n",
       "\n",
       "    .dataframe tbody tr th {\n",
       "        vertical-align: top;\n",
       "    }\n",
       "\n",
       "    .dataframe thead th {\n",
       "        text-align: right;\n",
       "    }\n",
       "</style>\n",
       "<table border=\"1\" class=\"dataframe\">\n",
       "  <thead>\n",
       "    <tr style=\"text-align: right;\">\n",
       "      <th></th>\n",
       "      <th>Model</th>\n",
       "      <th>Layers</th>\n",
       "      <th>Nodes</th>\n",
       "      <th>Time</th>\n",
       "      <th>Training Accuracy</th>\n",
       "      <th>Testing Accuracy</th>\n",
       "    </tr>\n",
       "  </thead>\n",
       "  <tbody>\n",
       "    <tr>\n",
       "      <th>0</th>\n",
       "      <td>Model 1 (Seq, 2, 50)</td>\n",
       "      <td>2</td>\n",
       "      <td>50</td>\n",
       "      <td>36.952485</td>\n",
       "      <td>0.997560</td>\n",
       "      <td>0.967381</td>\n",
       "    </tr>\n",
       "    <tr>\n",
       "      <th>1</th>\n",
       "      <td>Model 2 (Seq, 2, 100)</td>\n",
       "      <td>2</td>\n",
       "      <td>100</td>\n",
       "      <td>33.675868</td>\n",
       "      <td>0.998065</td>\n",
       "      <td>0.970238</td>\n",
       "    </tr>\n",
       "    <tr>\n",
       "      <th>2</th>\n",
       "      <td>Model 3 (Seq, 4, 50)</td>\n",
       "      <td>4</td>\n",
       "      <td>50</td>\n",
       "      <td>39.674650</td>\n",
       "      <td>0.993214</td>\n",
       "      <td>0.964048</td>\n",
       "    </tr>\n",
       "  </tbody>\n",
       "</table>\n",
       "</div>"
      ],
      "text/plain": [
       "                   Model Layers Nodes       Time  Training Accuracy  \\\n",
       "0   Model 1 (Seq, 2, 50)      2    50  36.952485           0.997560   \n",
       "1  Model 2 (Seq, 2, 100)      2   100  33.675868           0.998065   \n",
       "2   Model 3 (Seq, 4, 50)      4    50  39.674650           0.993214   \n",
       "\n",
       "   Testing Accuracy  \n",
       "0          0.967381  \n",
       "1          0.970238  \n",
       "2          0.964048  "
      ]
     },
     "execution_count": 35,
     "metadata": {},
     "output_type": "execute_result"
    }
   ],
   "source": [
    "#eval\n",
    "Model = 'Model 3 (Seq, 4, 50)' \n",
    "Layers = 4\n",
    "Nodes = 50\n",
    "Time = delta.total_seconds()\n",
    "Training_Accuracy = train_loss_and_acc[1]\n",
    "Testing_Accuracy = test_loss_and_acc[1]\n",
    "row = [Model, Layers, Nodes, Time, Training_Accuracy, Testing_Accuracy]\n",
    "results = results.append(pd.DataFrame([row], columns=results.columns), ignore_index=True)\n",
    "results"
   ]
  },
  {
   "cell_type": "markdown",
   "metadata": {
    "id": "dwmFYC1vbBmn"
   },
   "source": [
    "#### Model 4: 4 Layers, 100 Nodes"
   ]
  },
  {
   "cell_type": "code",
   "execution_count": 36,
   "metadata": {
    "id": "z93Lgq-WbJjP"
   },
   "outputs": [],
   "source": [
    "# creating model (4 layers, 100 nodes)\n",
    "model4 = Sequential()\n",
    "hidden_layer1 = Dense(100, activation='relu')\n",
    "model4.add(hidden_layer1)\n",
    "hidden_layer2 = Dense(100, activation='relu')\n",
    "model4.add(hidden_layer2)\n",
    "hidden_layer3 = Dense(100, activation='relu')\n",
    "model4.add(hidden_layer3)\n",
    "hidden_layer4 = Dense(100, activation='relu')\n",
    "model4.add(hidden_layer4)\n",
    "output_layer=Dense(10, activation='softmax')\n",
    "model4.add(output_layer)"
   ]
  },
  {
   "cell_type": "code",
   "execution_count": 37,
   "metadata": {
    "id": "gkvkRsUjbJjQ"
   },
   "outputs": [],
   "source": [
    "# compiling the sequential model\n",
    "model4.compile(optimizer='adam',\n",
    "              loss='sparse_categorical_crossentropy',\n",
    "              metrics=['accuracy'])"
   ]
  },
  {
   "cell_type": "code",
   "execution_count": 38,
   "metadata": {
    "id": "BjlFYqC4bJjQ"
   },
   "outputs": [
    {
     "name": "stdout",
     "output_type": "stream",
     "text": [
      "Epoch 1/100\n",
      "1050/1050 [==============================] - 2s 2ms/step - loss: 0.3162 - accuracy: 0.9024 - val_loss: 0.1656 - val_accuracy: 0.9514\n",
      "Epoch 2/100\n",
      "1050/1050 [==============================] - 2s 2ms/step - loss: 0.1343 - accuracy: 0.9580 - val_loss: 0.1509 - val_accuracy: 0.9540\n",
      "Epoch 3/100\n",
      "1050/1050 [==============================] - 2s 1ms/step - loss: 0.0978 - accuracy: 0.9690 - val_loss: 0.1222 - val_accuracy: 0.9637\n",
      "Epoch 4/100\n",
      "1050/1050 [==============================] - 2s 1ms/step - loss: 0.0754 - accuracy: 0.9757 - val_loss: 0.1206 - val_accuracy: 0.9658\n",
      "Epoch 5/100\n",
      "1050/1050 [==============================] - 2s 1ms/step - loss: 0.0600 - accuracy: 0.9809 - val_loss: 0.1455 - val_accuracy: 0.9614\n",
      "Epoch 6/100\n",
      "1050/1050 [==============================] - 2s 1ms/step - loss: 0.0548 - accuracy: 0.9830 - val_loss: 0.1004 - val_accuracy: 0.9719\n",
      "Epoch 7/100\n",
      "1050/1050 [==============================] - 2s 1ms/step - loss: 0.0428 - accuracy: 0.9864 - val_loss: 0.1149 - val_accuracy: 0.9682\n",
      "Epoch 8/100\n",
      "1050/1050 [==============================] - 2s 1ms/step - loss: 0.0386 - accuracy: 0.9873 - val_loss: 0.1343 - val_accuracy: 0.9649\n",
      "Epoch 9/100\n",
      "1050/1050 [==============================] - 2s 2ms/step - loss: 0.0345 - accuracy: 0.9890 - val_loss: 0.1070 - val_accuracy: 0.9730\n",
      "Epoch 10/100\n",
      "1050/1050 [==============================] - 2s 1ms/step - loss: 0.0289 - accuracy: 0.9910 - val_loss: 0.1264 - val_accuracy: 0.9706\n",
      "Epoch 11/100\n",
      "1050/1050 [==============================] - 2s 1ms/step - loss: 0.0268 - accuracy: 0.9912 - val_loss: 0.1116 - val_accuracy: 0.9717\n",
      "Epoch 12/100\n",
      "1050/1050 [==============================] - 2s 1ms/step - loss: 0.0233 - accuracy: 0.9928 - val_loss: 0.1409 - val_accuracy: 0.9701\n",
      "Epoch 13/100\n",
      "1050/1050 [==============================] - 2s 2ms/step - loss: 0.0250 - accuracy: 0.9921 - val_loss: 0.1519 - val_accuracy: 0.9687\n",
      "Epoch 14/100\n",
      "1050/1050 [==============================] - 2s 1ms/step - loss: 0.0258 - accuracy: 0.9919 - val_loss: 0.1309 - val_accuracy: 0.9718\n",
      "Epoch 15/100\n",
      "1050/1050 [==============================] - 2s 1ms/step - loss: 0.0212 - accuracy: 0.9935 - val_loss: 0.1550 - val_accuracy: 0.9689\n",
      "Epoch 16/100\n",
      "1050/1050 [==============================] - 2s 1ms/step - loss: 0.0186 - accuracy: 0.9942 - val_loss: 0.1962 - val_accuracy: 0.9633\n",
      "Epoch 17/100\n",
      "1050/1050 [==============================] - 2s 2ms/step - loss: 0.0173 - accuracy: 0.9949 - val_loss: 0.1596 - val_accuracy: 0.9706\n",
      "Epoch 18/100\n",
      "1050/1050 [==============================] - 2s 2ms/step - loss: 0.0213 - accuracy: 0.9930 - val_loss: 0.1437 - val_accuracy: 0.9710\n",
      "Epoch 19/100\n",
      "1050/1050 [==============================] - 2s 1ms/step - loss: 0.0157 - accuracy: 0.9951 - val_loss: 0.1490 - val_accuracy: 0.9711\n",
      "Epoch 20/100\n",
      "1050/1050 [==============================] - 2s 1ms/step - loss: 0.0174 - accuracy: 0.9951 - val_loss: 0.1514 - val_accuracy: 0.9689\n",
      "Epoch 21/100\n",
      "1050/1050 [==============================] - 2s 2ms/step - loss: 0.0157 - accuracy: 0.9950 - val_loss: 0.1420 - val_accuracy: 0.9724\n",
      "Epoch 22/100\n",
      "1050/1050 [==============================] - 2s 1ms/step - loss: 0.0143 - accuracy: 0.9964 - val_loss: 0.1624 - val_accuracy: 0.9689\n",
      "Epoch 23/100\n",
      "1050/1050 [==============================] - 2s 1ms/step - loss: 0.0129 - accuracy: 0.9959 - val_loss: 0.1681 - val_accuracy: 0.9706\n",
      "Epoch 24/100\n",
      "1050/1050 [==============================] - 2s 1ms/step - loss: 0.0173 - accuracy: 0.9948 - val_loss: 0.1626 - val_accuracy: 0.9711\n",
      "Epoch 25/100\n",
      "1050/1050 [==============================] - 2s 1ms/step - loss: 0.0123 - accuracy: 0.9959 - val_loss: 0.1288 - val_accuracy: 0.9724\n",
      "Epoch 26/100\n",
      "1050/1050 [==============================] - 2s 1ms/step - loss: 0.0123 - accuracy: 0.9967 - val_loss: 0.1599 - val_accuracy: 0.9715\n"
     ]
    }
   ],
   "source": [
    "start = datetime.now()\n",
    "model4.fit(X_train, y_train, epochs=100,\n",
    "          validation_data=(X_test, y_test),\n",
    "          callbacks=[early_stopping_cb])\n",
    "end = datetime.now()"
   ]
  },
  {
   "cell_type": "code",
   "execution_count": 39,
   "metadata": {
    "id": "kCNWlE2sAvY1"
   },
   "outputs": [
    {
     "name": "stdout",
     "output_type": "stream",
     "text": [
      "0:00:41.149301\n"
     ]
    }
   ],
   "source": [
    "delta = end-start\n",
    "print(delta)"
   ]
  },
  {
   "cell_type": "code",
   "execution_count": 40,
   "metadata": {
    "id": "NXp9dcBpEpop"
   },
   "outputs": [
    {
     "name": "stdout",
     "output_type": "stream",
     "text": [
      "1050/1050 - 1s - loss: 0.0118 - accuracy: 0.9964 - 894ms/epoch - 851us/step\n",
      "Training Loss: 0.011782404035329819\n",
      "Training Accuracy: 0.9963988065719604\n"
     ]
    }
   ],
   "source": [
    "train_loss_and_acc = model4.evaluate(X_train, y_train, verbose=2)\n",
    "print('Training Loss:', train_loss_and_acc[0])\n",
    "print('Training Accuracy:', train_loss_and_acc[1])"
   ]
  },
  {
   "cell_type": "code",
   "execution_count": 41,
   "metadata": {
    "id": "8n4VUqK5Epoq"
   },
   "outputs": [
    {
     "name": "stdout",
     "output_type": "stream",
     "text": [
      "263/263 - 0s - loss: 0.1599 - accuracy: 0.9715 - 219ms/epoch - 834us/step\n",
      "Test Loss: 0.15993531048297882\n",
      "Test Accuracy: 0.9715476036071777\n"
     ]
    }
   ],
   "source": [
    "test_loss_and_acc = model4.evaluate(X_test, y_test, verbose=2)\n",
    "print('Test Loss:', test_loss_and_acc[0])\n",
    "print('Test Accuracy:', test_loss_and_acc[1])"
   ]
  },
  {
   "cell_type": "code",
   "execution_count": 42,
   "metadata": {
    "id": "TnEwqPT-AvY1"
   },
   "outputs": [
    {
     "data": {
      "text/html": [
       "<div>\n",
       "<style scoped>\n",
       "    .dataframe tbody tr th:only-of-type {\n",
       "        vertical-align: middle;\n",
       "    }\n",
       "\n",
       "    .dataframe tbody tr th {\n",
       "        vertical-align: top;\n",
       "    }\n",
       "\n",
       "    .dataframe thead th {\n",
       "        text-align: right;\n",
       "    }\n",
       "</style>\n",
       "<table border=\"1\" class=\"dataframe\">\n",
       "  <thead>\n",
       "    <tr style=\"text-align: right;\">\n",
       "      <th></th>\n",
       "      <th>Model</th>\n",
       "      <th>Layers</th>\n",
       "      <th>Nodes</th>\n",
       "      <th>Time</th>\n",
       "      <th>Training Accuracy</th>\n",
       "      <th>Testing Accuracy</th>\n",
       "    </tr>\n",
       "  </thead>\n",
       "  <tbody>\n",
       "    <tr>\n",
       "      <th>0</th>\n",
       "      <td>Model 1 (Seq, 2, 50)</td>\n",
       "      <td>2</td>\n",
       "      <td>50</td>\n",
       "      <td>36.952485</td>\n",
       "      <td>0.997560</td>\n",
       "      <td>0.967381</td>\n",
       "    </tr>\n",
       "    <tr>\n",
       "      <th>1</th>\n",
       "      <td>Model 2 (Seq, 2, 100)</td>\n",
       "      <td>2</td>\n",
       "      <td>100</td>\n",
       "      <td>33.675868</td>\n",
       "      <td>0.998065</td>\n",
       "      <td>0.970238</td>\n",
       "    </tr>\n",
       "    <tr>\n",
       "      <th>2</th>\n",
       "      <td>Model 3 (Seq, 4, 50)</td>\n",
       "      <td>4</td>\n",
       "      <td>50</td>\n",
       "      <td>39.674650</td>\n",
       "      <td>0.993214</td>\n",
       "      <td>0.964048</td>\n",
       "    </tr>\n",
       "    <tr>\n",
       "      <th>3</th>\n",
       "      <td>Model 4 (Seq, 4, 100)</td>\n",
       "      <td>4</td>\n",
       "      <td>100</td>\n",
       "      <td>41.149301</td>\n",
       "      <td>0.996399</td>\n",
       "      <td>0.971548</td>\n",
       "    </tr>\n",
       "  </tbody>\n",
       "</table>\n",
       "</div>"
      ],
      "text/plain": [
       "                   Model Layers Nodes       Time  Training Accuracy  \\\n",
       "0   Model 1 (Seq, 2, 50)      2    50  36.952485           0.997560   \n",
       "1  Model 2 (Seq, 2, 100)      2   100  33.675868           0.998065   \n",
       "2   Model 3 (Seq, 4, 50)      4    50  39.674650           0.993214   \n",
       "3  Model 4 (Seq, 4, 100)      4   100  41.149301           0.996399   \n",
       "\n",
       "   Testing Accuracy  \n",
       "0          0.967381  \n",
       "1          0.970238  \n",
       "2          0.964048  \n",
       "3          0.971548  "
      ]
     },
     "execution_count": 42,
     "metadata": {},
     "output_type": "execute_result"
    }
   ],
   "source": [
    "#eval\n",
    "Model = 'Model 4 (Seq, 4, 100)' \n",
    "Layers = 4\n",
    "Nodes = 100\n",
    "Time = delta.total_seconds()\n",
    "Training_Accuracy = train_loss_and_acc[1]\n",
    "Testing_Accuracy = test_loss_and_acc[1]\n",
    "row = [Model, Layers, Nodes, Time, Training_Accuracy, Testing_Accuracy]\n",
    "results = results.append(pd.DataFrame([row], columns=results.columns), ignore_index=True)\n",
    "results"
   ]
  },
  {
   "cell_type": "markdown",
   "metadata": {
    "id": "sOQc-Q3SftMU"
   },
   "source": [
    "## MLP Classfier Model"
   ]
  },
  {
   "cell_type": "code",
   "execution_count": 43,
   "metadata": {
    "id": "q49n1f5vHYbg"
   },
   "outputs": [],
   "source": [
    "import warnings\n",
    "import matplotlib.pyplot as plt\n",
    "from sklearn.datasets import fetch_openml\n",
    "from sklearn.exceptions import ConvergenceWarning\n",
    "from sklearn.neural_network import MLPClassifier\n",
    "from sklearn.model_selection import train_test_split"
   ]
  },
  {
   "cell_type": "code",
   "execution_count": 44,
   "metadata": {
    "id": "CtihZHiYA4OH"
   },
   "outputs": [],
   "source": [
    "from sklearn.neural_network import MLPClassifier\n",
    "layer_sizes_10x1 = (10,)\n",
    "layer_sizes_50x1 = (50,)\n",
    "layer_sizes_100x1 = (100,)\n",
    "layer_sizes_10x3 = (10,10,10)\n",
    "layer_sizes_50x3 = (50,50,50)\n",
    "layer_sizes_100x3 = (100,100,100)\n",
    "layer_sizes_10x5 = (10,10,10,10,10)\n",
    "layer_sizes_50x5 = (50,50,50,50,50)\n",
    "layer_sizes_100x5 = (100,100,100,100,100)"
   ]
  },
  {
   "cell_type": "markdown",
   "metadata": {
    "id": "Y0dBqN7PMa2n"
   },
   "source": [
    "### 1 Layer"
   ]
  },
  {
   "cell_type": "markdown",
   "metadata": {
    "id": "xEnqdV-dKojx"
   },
   "source": [
    "#### 10 Nodes"
   ]
  },
  {
   "cell_type": "code",
   "execution_count": 45,
   "metadata": {
    "id": "gAMqasWDfYlw"
   },
   "outputs": [
    {
     "name": "stdout",
     "output_type": "stream",
     "text": [
      "Iteration 1, loss = 0.46799789\n",
      "Iteration 2, loss = 0.28337209\n",
      "Iteration 3, loss = 0.26004510\n",
      "Iteration 4, loss = 0.24543112\n",
      "Iteration 5, loss = 0.23922180\n",
      "Iteration 6, loss = 0.23108309\n",
      "Iteration 7, loss = 0.23014608\n",
      "Iteration 8, loss = 0.21869644\n",
      "Iteration 9, loss = 0.21827797\n",
      "Iteration 10, loss = 0.21678182\n",
      "Iteration 11, loss = 0.21008014\n",
      "Iteration 12, loss = 0.20553513\n",
      "Iteration 13, loss = 0.20457491\n",
      "Iteration 14, loss = 0.19738307\n",
      "Iteration 15, loss = 0.19873571\n",
      "Iteration 16, loss = 0.19578736\n",
      "Iteration 17, loss = 0.19436931\n",
      "Iteration 18, loss = 0.19221754\n",
      "Iteration 19, loss = 0.18757736\n",
      "Iteration 20, loss = 0.18641514\n",
      "Iteration 21, loss = 0.18723098\n",
      "Iteration 22, loss = 0.18257645\n",
      "Iteration 23, loss = 0.18053602\n",
      "Iteration 24, loss = 0.18286422\n",
      "Iteration 25, loss = 0.17846300\n",
      "Iteration 26, loss = 0.17725075\n",
      "Iteration 27, loss = 0.17867561\n",
      "Iteration 28, loss = 0.17128354\n",
      "Iteration 29, loss = 0.17497341\n",
      "Iteration 30, loss = 0.16668537\n",
      "Iteration 31, loss = 0.17080538\n",
      "Iteration 32, loss = 0.16887190\n",
      "Iteration 33, loss = 0.16410179\n",
      "Iteration 34, loss = 0.16463814\n",
      "Iteration 35, loss = 0.16336772\n",
      "Iteration 36, loss = 0.16395531\n",
      "Iteration 37, loss = 0.16170666\n",
      "Iteration 38, loss = 0.16577991\n",
      "Iteration 39, loss = 0.16077357\n",
      "Iteration 40, loss = 0.15725368\n",
      "Iteration 41, loss = 0.15527804\n",
      "Iteration 42, loss = 0.15517271\n",
      "Iteration 43, loss = 0.15480795\n",
      "Iteration 44, loss = 0.15452442\n",
      "Iteration 45, loss = 0.15767771\n",
      "Iteration 46, loss = 0.15563256\n",
      "Iteration 47, loss = 0.15388912\n",
      "Iteration 48, loss = 0.14967470\n",
      "Iteration 49, loss = 0.15146286\n",
      "Iteration 50, loss = 0.15292202\n",
      "Iteration 51, loss = 0.14993475\n",
      "Iteration 52, loss = 0.14900185\n",
      "Iteration 53, loss = 0.14653540\n",
      "Iteration 54, loss = 0.15025065\n",
      "Iteration 55, loss = 0.14929180\n",
      "Iteration 56, loss = 0.14675219\n",
      "Iteration 57, loss = 0.15061054\n",
      "Iteration 58, loss = 0.14927762\n",
      "Iteration 59, loss = 0.15083743\n",
      "Iteration 60, loss = 0.14438355\n",
      "Iteration 61, loss = 0.14205400\n",
      "Iteration 62, loss = 0.14743674\n",
      "Iteration 63, loss = 0.13996177\n",
      "Iteration 64, loss = 0.14431671\n",
      "Iteration 65, loss = 0.14527572\n",
      "Iteration 66, loss = 0.14160146\n",
      "Iteration 67, loss = 0.14380693\n",
      "Iteration 68, loss = 0.14414260\n",
      "Iteration 69, loss = 0.14214776\n",
      "Iteration 70, loss = 0.14230648\n",
      "Iteration 71, loss = 0.14140478\n",
      "Iteration 72, loss = 0.13778057\n",
      "Iteration 73, loss = 0.13949324\n",
      "Iteration 74, loss = 0.14034866\n",
      "Iteration 75, loss = 0.13802927\n",
      "Iteration 76, loss = 0.14341789\n",
      "Iteration 77, loss = 0.13859883\n",
      "Iteration 78, loss = 0.13650487\n",
      "Iteration 79, loss = 0.13386188\n",
      "Iteration 80, loss = 0.13689800\n",
      "Iteration 81, loss = 0.13715766\n",
      "Iteration 82, loss = 0.13643560\n",
      "Iteration 83, loss = 0.14068233\n",
      "Iteration 84, loss = 0.13448595\n",
      "Iteration 85, loss = 0.13549297\n",
      "Iteration 86, loss = 0.13506786\n",
      "Iteration 87, loss = 0.13726068\n",
      "Iteration 88, loss = 0.13295125\n",
      "Iteration 89, loss = 0.13365700\n",
      "Iteration 90, loss = 0.13551863\n",
      "Iteration 91, loss = 0.13414394\n",
      "Iteration 92, loss = 0.13262250\n",
      "Iteration 93, loss = 0.13323267\n",
      "Iteration 94, loss = 0.13416315\n",
      "Iteration 95, loss = 0.13160296\n",
      "Iteration 96, loss = 0.13289975\n",
      "Iteration 97, loss = 0.13365570\n",
      "Iteration 98, loss = 0.13217884\n",
      "Iteration 99, loss = 0.13416245\n",
      "Iteration 100, loss = 0.13264885\n",
      "Training set score: 0.961786\n",
      "Test set score: 0.926071\n"
     ]
    },
    {
     "name": "stderr",
     "output_type": "stream",
     "text": [
      "C:\\Users\\sjue\\Anaconda3\\lib\\site-packages\\sklearn\\neural_network\\_multilayer_perceptron.py:702: ConvergenceWarning: Stochastic Optimizer: Maximum iterations (100) reached and the optimization hasn't converged yet.\n",
      "  warnings.warn(\n"
     ]
    }
   ],
   "source": [
    "mlp1 = MLPClassifier(\n",
    "    hidden_layer_sizes=layer_sizes_10x1,\n",
    "    max_iter=100,\n",
    "    alpha=1e-4,\n",
    "    solver=\"sgd\",\n",
    "    verbose=10,\n",
    "    random_state=42,\n",
    "    learning_rate_init=0.2,\n",
    ")\n",
    "\n",
    "start = datetime.now()              \n",
    "mlp1.fit(X_train, y_train)\n",
    "end = datetime.now()\n",
    "print(\"Training set score: %f\" % mlp1.score(X_train, y_train))\n",
    "print(\"Test set score: %f\" % mlp1.score(X_test, y_test))"
   ]
  },
  {
   "cell_type": "code",
   "execution_count": 46,
   "metadata": {
    "id": "v7JqUSIfBtGT"
   },
   "outputs": [
    {
     "name": "stdout",
     "output_type": "stream",
     "text": [
      "0:00:18.248337\n"
     ]
    }
   ],
   "source": [
    "delta = end-start\n",
    "print(delta)"
   ]
  },
  {
   "cell_type": "code",
   "execution_count": 47,
   "metadata": {
    "id": "FxVczr95Ds58"
   },
   "outputs": [],
   "source": [
    "mlp1_test_pred = mlp1.score(X_test, y_test)\n",
    "mlp1_train_pred = mlp1.score(X_train, y_train)"
   ]
  },
  {
   "cell_type": "code",
   "execution_count": 48,
   "metadata": {
    "id": "FzgMqNyDBvQP"
   },
   "outputs": [
    {
     "data": {
      "text/html": [
       "<div>\n",
       "<style scoped>\n",
       "    .dataframe tbody tr th:only-of-type {\n",
       "        vertical-align: middle;\n",
       "    }\n",
       "\n",
       "    .dataframe tbody tr th {\n",
       "        vertical-align: top;\n",
       "    }\n",
       "\n",
       "    .dataframe thead th {\n",
       "        text-align: right;\n",
       "    }\n",
       "</style>\n",
       "<table border=\"1\" class=\"dataframe\">\n",
       "  <thead>\n",
       "    <tr style=\"text-align: right;\">\n",
       "      <th></th>\n",
       "      <th>Model</th>\n",
       "      <th>Layers</th>\n",
       "      <th>Nodes</th>\n",
       "      <th>Time</th>\n",
       "      <th>Training Accuracy</th>\n",
       "      <th>Testing Accuracy</th>\n",
       "    </tr>\n",
       "  </thead>\n",
       "  <tbody>\n",
       "    <tr>\n",
       "      <th>0</th>\n",
       "      <td>Model 1 (Seq, 2, 50)</td>\n",
       "      <td>2</td>\n",
       "      <td>50</td>\n",
       "      <td>36.952485</td>\n",
       "      <td>0.997560</td>\n",
       "      <td>0.967381</td>\n",
       "    </tr>\n",
       "    <tr>\n",
       "      <th>1</th>\n",
       "      <td>Model 2 (Seq, 2, 100)</td>\n",
       "      <td>2</td>\n",
       "      <td>100</td>\n",
       "      <td>33.675868</td>\n",
       "      <td>0.998065</td>\n",
       "      <td>0.970238</td>\n",
       "    </tr>\n",
       "    <tr>\n",
       "      <th>2</th>\n",
       "      <td>Model 3 (Seq, 4, 50)</td>\n",
       "      <td>4</td>\n",
       "      <td>50</td>\n",
       "      <td>39.674650</td>\n",
       "      <td>0.993214</td>\n",
       "      <td>0.964048</td>\n",
       "    </tr>\n",
       "    <tr>\n",
       "      <th>3</th>\n",
       "      <td>Model 4 (Seq, 4, 100)</td>\n",
       "      <td>4</td>\n",
       "      <td>100</td>\n",
       "      <td>41.149301</td>\n",
       "      <td>0.996399</td>\n",
       "      <td>0.971548</td>\n",
       "    </tr>\n",
       "    <tr>\n",
       "      <th>4</th>\n",
       "      <td>Model 5 (MLP, 1, 10)</td>\n",
       "      <td>1</td>\n",
       "      <td>10</td>\n",
       "      <td>18.248337</td>\n",
       "      <td>0.926071</td>\n",
       "      <td>0.961786</td>\n",
       "    </tr>\n",
       "  </tbody>\n",
       "</table>\n",
       "</div>"
      ],
      "text/plain": [
       "                   Model Layers Nodes       Time  Training Accuracy  \\\n",
       "0   Model 1 (Seq, 2, 50)      2    50  36.952485           0.997560   \n",
       "1  Model 2 (Seq, 2, 100)      2   100  33.675868           0.998065   \n",
       "2   Model 3 (Seq, 4, 50)      4    50  39.674650           0.993214   \n",
       "3  Model 4 (Seq, 4, 100)      4   100  41.149301           0.996399   \n",
       "4   Model 5 (MLP, 1, 10)      1    10  18.248337           0.926071   \n",
       "\n",
       "   Testing Accuracy  \n",
       "0          0.967381  \n",
       "1          0.970238  \n",
       "2          0.964048  \n",
       "3          0.971548  \n",
       "4          0.961786  "
      ]
     },
     "execution_count": 48,
     "metadata": {},
     "output_type": "execute_result"
    }
   ],
   "source": [
    "#eval\n",
    "Model = 'Model 5 (MLP, 1, 10)' \n",
    "Layers = 1\n",
    "Nodes = 10\n",
    "Time = delta.total_seconds()\n",
    "Training_Accuracy = mlp1_test_pred\n",
    "Testing_Accuracy = mlp1_train_pred\n",
    "row = [Model, Layers, Nodes, Time, Training_Accuracy, Testing_Accuracy]\n",
    "results = results.append(pd.DataFrame([row], columns=results.columns), ignore_index=True)\n",
    "results"
   ]
  },
  {
   "cell_type": "markdown",
   "metadata": {
    "id": "GnIueaBRK0xy"
   },
   "source": [
    "#### 50 Nodes"
   ]
  },
  {
   "cell_type": "code",
   "execution_count": 49,
   "metadata": {
    "id": "SpVzfTH1HbHa"
   },
   "outputs": [
    {
     "name": "stdout",
     "output_type": "stream",
     "text": [
      "Iteration 1, loss = 0.33812117\n",
      "Iteration 2, loss = 0.13744666\n",
      "Iteration 3, loss = 0.10501313\n",
      "Iteration 4, loss = 0.08500181\n",
      "Iteration 5, loss = 0.06995283\n",
      "Iteration 6, loss = 0.06114768\n",
      "Iteration 7, loss = 0.05183904\n",
      "Iteration 8, loss = 0.04595707\n",
      "Iteration 9, loss = 0.03593902\n",
      "Iteration 10, loss = 0.03226649\n",
      "Iteration 11, loss = 0.02851820\n",
      "Iteration 12, loss = 0.02372226\n",
      "Iteration 13, loss = 0.02137845\n",
      "Iteration 14, loss = 0.01935074\n",
      "Iteration 15, loss = 0.01543476\n",
      "Iteration 16, loss = 0.01155923\n",
      "Iteration 17, loss = 0.01227434\n",
      "Iteration 18, loss = 0.00864990\n",
      "Iteration 19, loss = 0.00715568\n",
      "Iteration 20, loss = 0.00479896\n",
      "Iteration 21, loss = 0.00317698\n",
      "Iteration 22, loss = 0.00211373\n",
      "Iteration 23, loss = 0.00177557\n",
      "Iteration 24, loss = 0.00151011\n",
      "Iteration 25, loss = 0.00139539\n",
      "Iteration 26, loss = 0.00129437\n",
      "Iteration 27, loss = 0.00125639\n",
      "Iteration 28, loss = 0.00119228\n",
      "Iteration 29, loss = 0.00114205\n",
      "Iteration 30, loss = 0.00110769\n",
      "Iteration 31, loss = 0.00105695\n",
      "Iteration 32, loss = 0.00102615\n",
      "Iteration 33, loss = 0.00100543\n",
      "Iteration 34, loss = 0.00097124\n",
      "Iteration 35, loss = 0.00094304\n",
      "Iteration 36, loss = 0.00091842\n",
      "Iteration 37, loss = 0.00089950\n",
      "Training loss did not improve more than tol=0.000100 for 10 consecutive epochs. Stopping.\n",
      "Training set score: 1.000000\n",
      "Test set score: 0.970476\n"
     ]
    }
   ],
   "source": [
    "mlp2 = MLPClassifier(\n",
    "    hidden_layer_sizes=layer_sizes_50x1,\n",
    "    max_iter=100,\n",
    "    alpha=1e-4,\n",
    "    solver=\"sgd\",\n",
    "    verbose=10,\n",
    "    random_state=42,\n",
    "    learning_rate_init=0.2,\n",
    ")\n",
    "\n",
    "start = datetime.now()              \n",
    "mlp2.fit(X_train, y_train)\n",
    "end = datetime.now()              \n",
    "\n",
    "print(\"Training set score: %f\" % mlp2.score(X_train, y_train))\n",
    "print(\"Test set score: %f\" % mlp2.score(X_test, y_test))"
   ]
  },
  {
   "cell_type": "code",
   "execution_count": 50,
   "metadata": {
    "id": "zaKS7mXrEAbA"
   },
   "outputs": [
    {
     "name": "stdout",
     "output_type": "stream",
     "text": [
      "0:00:11.281538\n"
     ]
    }
   ],
   "source": [
    "delta = end-start\n",
    "print(delta)"
   ]
  },
  {
   "cell_type": "code",
   "execution_count": 51,
   "metadata": {
    "id": "kN3AhPGWEAbB"
   },
   "outputs": [],
   "source": [
    "mlp2_test_pred = mlp2.score(X_test, y_test)\n",
    "mlp2_train_pred = mlp2.score(X_train, y_train)"
   ]
  },
  {
   "cell_type": "code",
   "execution_count": 52,
   "metadata": {
    "id": "Ztfm1baLEAbB"
   },
   "outputs": [
    {
     "data": {
      "text/html": [
       "<div>\n",
       "<style scoped>\n",
       "    .dataframe tbody tr th:only-of-type {\n",
       "        vertical-align: middle;\n",
       "    }\n",
       "\n",
       "    .dataframe tbody tr th {\n",
       "        vertical-align: top;\n",
       "    }\n",
       "\n",
       "    .dataframe thead th {\n",
       "        text-align: right;\n",
       "    }\n",
       "</style>\n",
       "<table border=\"1\" class=\"dataframe\">\n",
       "  <thead>\n",
       "    <tr style=\"text-align: right;\">\n",
       "      <th></th>\n",
       "      <th>Model</th>\n",
       "      <th>Layers</th>\n",
       "      <th>Nodes</th>\n",
       "      <th>Time</th>\n",
       "      <th>Training Accuracy</th>\n",
       "      <th>Testing Accuracy</th>\n",
       "    </tr>\n",
       "  </thead>\n",
       "  <tbody>\n",
       "    <tr>\n",
       "      <th>0</th>\n",
       "      <td>Model 1 (Seq, 2, 50)</td>\n",
       "      <td>2</td>\n",
       "      <td>50</td>\n",
       "      <td>36.952485</td>\n",
       "      <td>0.997560</td>\n",
       "      <td>0.967381</td>\n",
       "    </tr>\n",
       "    <tr>\n",
       "      <th>1</th>\n",
       "      <td>Model 2 (Seq, 2, 100)</td>\n",
       "      <td>2</td>\n",
       "      <td>100</td>\n",
       "      <td>33.675868</td>\n",
       "      <td>0.998065</td>\n",
       "      <td>0.970238</td>\n",
       "    </tr>\n",
       "    <tr>\n",
       "      <th>2</th>\n",
       "      <td>Model 3 (Seq, 4, 50)</td>\n",
       "      <td>4</td>\n",
       "      <td>50</td>\n",
       "      <td>39.674650</td>\n",
       "      <td>0.993214</td>\n",
       "      <td>0.964048</td>\n",
       "    </tr>\n",
       "    <tr>\n",
       "      <th>3</th>\n",
       "      <td>Model 4 (Seq, 4, 100)</td>\n",
       "      <td>4</td>\n",
       "      <td>100</td>\n",
       "      <td>41.149301</td>\n",
       "      <td>0.996399</td>\n",
       "      <td>0.971548</td>\n",
       "    </tr>\n",
       "    <tr>\n",
       "      <th>4</th>\n",
       "      <td>Model 5 (MLP, 1, 10)</td>\n",
       "      <td>1</td>\n",
       "      <td>10</td>\n",
       "      <td>18.248337</td>\n",
       "      <td>0.926071</td>\n",
       "      <td>0.961786</td>\n",
       "    </tr>\n",
       "    <tr>\n",
       "      <th>5</th>\n",
       "      <td>Model 6 (MLP, 1, 50)</td>\n",
       "      <td>1</td>\n",
       "      <td>50</td>\n",
       "      <td>11.281538</td>\n",
       "      <td>0.970476</td>\n",
       "      <td>1.000000</td>\n",
       "    </tr>\n",
       "  </tbody>\n",
       "</table>\n",
       "</div>"
      ],
      "text/plain": [
       "                   Model Layers Nodes       Time  Training Accuracy  \\\n",
       "0   Model 1 (Seq, 2, 50)      2    50  36.952485           0.997560   \n",
       "1  Model 2 (Seq, 2, 100)      2   100  33.675868           0.998065   \n",
       "2   Model 3 (Seq, 4, 50)      4    50  39.674650           0.993214   \n",
       "3  Model 4 (Seq, 4, 100)      4   100  41.149301           0.996399   \n",
       "4   Model 5 (MLP, 1, 10)      1    10  18.248337           0.926071   \n",
       "5   Model 6 (MLP, 1, 50)      1    50  11.281538           0.970476   \n",
       "\n",
       "   Testing Accuracy  \n",
       "0          0.967381  \n",
       "1          0.970238  \n",
       "2          0.964048  \n",
       "3          0.971548  \n",
       "4          0.961786  \n",
       "5          1.000000  "
      ]
     },
     "execution_count": 52,
     "metadata": {},
     "output_type": "execute_result"
    }
   ],
   "source": [
    "#eval\n",
    "Model = 'Model 6 (MLP, 1, 50)' \n",
    "Layers = 1\n",
    "Nodes = 50\n",
    "Time = delta.total_seconds()\n",
    "Training_Accuracy = mlp2_test_pred\n",
    "Testing_Accuracy = mlp2_train_pred\n",
    "row = [Model, Layers, Nodes, Time, Training_Accuracy, Testing_Accuracy]\n",
    "results = results.append(pd.DataFrame([row], columns=results.columns), ignore_index=True)\n",
    "results"
   ]
  },
  {
   "cell_type": "markdown",
   "metadata": {
    "id": "FTpeyQ_GK6_e"
   },
   "source": [
    "#### 100 Nodes"
   ]
  },
  {
   "cell_type": "code",
   "execution_count": 53,
   "metadata": {
    "id": "wKaT3WoAH70a"
   },
   "outputs": [
    {
     "name": "stdout",
     "output_type": "stream",
     "text": [
      "Iteration 1, loss = 0.32167365\n",
      "Iteration 2, loss = 0.12200411\n",
      "Iteration 3, loss = 0.08494004\n",
      "Iteration 4, loss = 0.06455943\n",
      "Iteration 5, loss = 0.04928552\n",
      "Iteration 6, loss = 0.03773648\n",
      "Iteration 7, loss = 0.03102117\n",
      "Iteration 8, loss = 0.02460724\n",
      "Iteration 9, loss = 0.01995751\n",
      "Iteration 10, loss = 0.01349303\n",
      "Iteration 11, loss = 0.01251578\n",
      "Iteration 12, loss = 0.00956929\n",
      "Iteration 13, loss = 0.00542790\n",
      "Iteration 14, loss = 0.00443356\n",
      "Iteration 15, loss = 0.00293126\n",
      "Iteration 16, loss = 0.00219065\n",
      "Iteration 17, loss = 0.00186604\n",
      "Iteration 18, loss = 0.00166548\n",
      "Iteration 19, loss = 0.00151996\n",
      "Iteration 20, loss = 0.00141091\n",
      "Iteration 21, loss = 0.00134208\n",
      "Iteration 22, loss = 0.00129608\n",
      "Iteration 23, loss = 0.00118608\n",
      "Iteration 24, loss = 0.00112978\n",
      "Iteration 25, loss = 0.00109271\n",
      "Iteration 26, loss = 0.00104337\n",
      "Iteration 27, loss = 0.00100573\n",
      "Iteration 28, loss = 0.00097580\n",
      "Iteration 29, loss = 0.00095161\n",
      "Iteration 30, loss = 0.00091180\n",
      "Iteration 31, loss = 0.00089629\n",
      "Iteration 32, loss = 0.00086426\n",
      "Iteration 33, loss = 0.00084528\n",
      "Iteration 34, loss = 0.00082363\n",
      "Training loss did not improve more than tol=0.000100 for 10 consecutive epochs. Stopping.\n",
      "Training set score: 1.000000\n",
      "Test set score: 0.973690\n"
     ]
    }
   ],
   "source": [
    "mlp3 = MLPClassifier(\n",
    "    hidden_layer_sizes=layer_sizes_100x1,\n",
    "    max_iter=100,\n",
    "    alpha=1e-4,\n",
    "    solver=\"sgd\",\n",
    "    verbose=10,\n",
    "    random_state=42,\n",
    "    learning_rate_init=0.2,\n",
    ")\n",
    "\n",
    "start = datetime.now()              \n",
    "mlp3.fit(X_train, y_train)\n",
    "end = datetime.now()              \n",
    "\n",
    "\n",
    "print(\"Training set score: %f\" % mlp3.score(X_train, y_train))\n",
    "print(\"Test set score: %f\" % mlp3.score(X_test, y_test))"
   ]
  },
  {
   "cell_type": "code",
   "execution_count": 54,
   "metadata": {
    "id": "QQZFN_UeES2Z"
   },
   "outputs": [
    {
     "name": "stdout",
     "output_type": "stream",
     "text": [
      "0:00:15.372456\n"
     ]
    }
   ],
   "source": [
    "delta = end-start\n",
    "print(delta)"
   ]
  },
  {
   "cell_type": "code",
   "execution_count": 55,
   "metadata": {
    "id": "kFtRaMQsES2a"
   },
   "outputs": [],
   "source": [
    "mlp3_test_pred = mlp3.score(X_test, y_test)\n",
    "mlp3_train_pred = mlp3.score(X_train, y_train)"
   ]
  },
  {
   "cell_type": "code",
   "execution_count": 56,
   "metadata": {
    "id": "AuGvTRnNES2a"
   },
   "outputs": [
    {
     "data": {
      "text/html": [
       "<div>\n",
       "<style scoped>\n",
       "    .dataframe tbody tr th:only-of-type {\n",
       "        vertical-align: middle;\n",
       "    }\n",
       "\n",
       "    .dataframe tbody tr th {\n",
       "        vertical-align: top;\n",
       "    }\n",
       "\n",
       "    .dataframe thead th {\n",
       "        text-align: right;\n",
       "    }\n",
       "</style>\n",
       "<table border=\"1\" class=\"dataframe\">\n",
       "  <thead>\n",
       "    <tr style=\"text-align: right;\">\n",
       "      <th></th>\n",
       "      <th>Model</th>\n",
       "      <th>Layers</th>\n",
       "      <th>Nodes</th>\n",
       "      <th>Time</th>\n",
       "      <th>Training Accuracy</th>\n",
       "      <th>Testing Accuracy</th>\n",
       "    </tr>\n",
       "  </thead>\n",
       "  <tbody>\n",
       "    <tr>\n",
       "      <th>0</th>\n",
       "      <td>Model 1 (Seq, 2, 50)</td>\n",
       "      <td>2</td>\n",
       "      <td>50</td>\n",
       "      <td>36.952485</td>\n",
       "      <td>0.997560</td>\n",
       "      <td>0.967381</td>\n",
       "    </tr>\n",
       "    <tr>\n",
       "      <th>1</th>\n",
       "      <td>Model 2 (Seq, 2, 100)</td>\n",
       "      <td>2</td>\n",
       "      <td>100</td>\n",
       "      <td>33.675868</td>\n",
       "      <td>0.998065</td>\n",
       "      <td>0.970238</td>\n",
       "    </tr>\n",
       "    <tr>\n",
       "      <th>2</th>\n",
       "      <td>Model 3 (Seq, 4, 50)</td>\n",
       "      <td>4</td>\n",
       "      <td>50</td>\n",
       "      <td>39.674650</td>\n",
       "      <td>0.993214</td>\n",
       "      <td>0.964048</td>\n",
       "    </tr>\n",
       "    <tr>\n",
       "      <th>3</th>\n",
       "      <td>Model 4 (Seq, 4, 100)</td>\n",
       "      <td>4</td>\n",
       "      <td>100</td>\n",
       "      <td>41.149301</td>\n",
       "      <td>0.996399</td>\n",
       "      <td>0.971548</td>\n",
       "    </tr>\n",
       "    <tr>\n",
       "      <th>4</th>\n",
       "      <td>Model 5 (MLP, 1, 10)</td>\n",
       "      <td>1</td>\n",
       "      <td>10</td>\n",
       "      <td>18.248337</td>\n",
       "      <td>0.926071</td>\n",
       "      <td>0.961786</td>\n",
       "    </tr>\n",
       "    <tr>\n",
       "      <th>5</th>\n",
       "      <td>Model 6 (MLP, 1, 50)</td>\n",
       "      <td>1</td>\n",
       "      <td>50</td>\n",
       "      <td>11.281538</td>\n",
       "      <td>0.970476</td>\n",
       "      <td>1.000000</td>\n",
       "    </tr>\n",
       "    <tr>\n",
       "      <th>6</th>\n",
       "      <td>Model 7 (MLP, 1, 100)</td>\n",
       "      <td>1</td>\n",
       "      <td>100</td>\n",
       "      <td>15.372456</td>\n",
       "      <td>0.973690</td>\n",
       "      <td>1.000000</td>\n",
       "    </tr>\n",
       "  </tbody>\n",
       "</table>\n",
       "</div>"
      ],
      "text/plain": [
       "                   Model Layers Nodes       Time  Training Accuracy  \\\n",
       "0   Model 1 (Seq, 2, 50)      2    50  36.952485           0.997560   \n",
       "1  Model 2 (Seq, 2, 100)      2   100  33.675868           0.998065   \n",
       "2   Model 3 (Seq, 4, 50)      4    50  39.674650           0.993214   \n",
       "3  Model 4 (Seq, 4, 100)      4   100  41.149301           0.996399   \n",
       "4   Model 5 (MLP, 1, 10)      1    10  18.248337           0.926071   \n",
       "5   Model 6 (MLP, 1, 50)      1    50  11.281538           0.970476   \n",
       "6  Model 7 (MLP, 1, 100)      1   100  15.372456           0.973690   \n",
       "\n",
       "   Testing Accuracy  \n",
       "0          0.967381  \n",
       "1          0.970238  \n",
       "2          0.964048  \n",
       "3          0.971548  \n",
       "4          0.961786  \n",
       "5          1.000000  \n",
       "6          1.000000  "
      ]
     },
     "execution_count": 56,
     "metadata": {},
     "output_type": "execute_result"
    }
   ],
   "source": [
    "#eval\n",
    "Model = 'Model 7 (MLP, 1, 100)' \n",
    "Layers = 1\n",
    "Nodes = 100\n",
    "Time = delta.total_seconds()\n",
    "Training_Accuracy = mlp3_test_pred\n",
    "Testing_Accuracy = mlp3_train_pred\n",
    "row = [Model, Layers, Nodes, Time, Training_Accuracy, Testing_Accuracy]\n",
    "results = results.append(pd.DataFrame([row], columns=results.columns), ignore_index=True)\n",
    "results"
   ]
  },
  {
   "cell_type": "markdown",
   "metadata": {
    "id": "Jgwl_27MK-jD"
   },
   "source": [
    "### 3 Layers"
   ]
  },
  {
   "cell_type": "markdown",
   "metadata": {
    "id": "1jylRhnSMIhU"
   },
   "source": [
    "#### 10 Nodes"
   ]
  },
  {
   "cell_type": "code",
   "execution_count": 57,
   "metadata": {
    "id": "2w-C4CjCIBCY"
   },
   "outputs": [
    {
     "name": "stdout",
     "output_type": "stream",
     "text": [
      "Iteration 1, loss = 0.95200348\n",
      "Iteration 2, loss = 0.49537485\n",
      "Iteration 3, loss = 0.42375075\n",
      "Iteration 4, loss = 0.36630830\n",
      "Iteration 5, loss = 0.34513270\n",
      "Iteration 6, loss = 0.32719876\n",
      "Iteration 7, loss = 0.31331080\n",
      "Iteration 8, loss = 0.31718798\n",
      "Iteration 9, loss = 0.30375754\n",
      "Iteration 10, loss = 0.29615480\n",
      "Iteration 11, loss = 0.29065328\n",
      "Iteration 12, loss = 0.28912365\n",
      "Iteration 13, loss = 0.28349875\n",
      "Iteration 14, loss = 0.28413518\n",
      "Iteration 15, loss = 0.27920261\n",
      "Iteration 16, loss = 0.27726201\n",
      "Iteration 17, loss = 0.26929211\n",
      "Iteration 18, loss = 0.27078912\n",
      "Iteration 19, loss = 0.26838341\n",
      "Iteration 20, loss = 0.26876391\n",
      "Iteration 21, loss = 0.26670843\n",
      "Iteration 22, loss = 0.26207022\n",
      "Iteration 23, loss = 0.26472387\n",
      "Iteration 24, loss = 0.25967084\n",
      "Iteration 25, loss = 0.25990658\n",
      "Iteration 26, loss = 0.26050995\n",
      "Iteration 27, loss = 0.25320391\n",
      "Iteration 28, loss = 0.25541233\n",
      "Iteration 29, loss = 0.25730853\n",
      "Iteration 30, loss = 0.25246449\n",
      "Iteration 31, loss = 0.24903140\n",
      "Iteration 32, loss = 0.24509865\n",
      "Iteration 33, loss = 0.24133469\n",
      "Iteration 34, loss = 0.24180556\n",
      "Iteration 35, loss = 0.23978958\n",
      "Iteration 36, loss = 0.23895530\n",
      "Iteration 37, loss = 0.23489046\n",
      "Iteration 38, loss = 0.23072863\n",
      "Iteration 39, loss = 0.22581056\n",
      "Iteration 40, loss = 0.23381132\n",
      "Iteration 41, loss = 0.22169284\n",
      "Iteration 42, loss = 0.22709626\n",
      "Iteration 43, loss = 0.22327762\n",
      "Iteration 44, loss = 0.22147225\n",
      "Iteration 45, loss = 0.21730356\n",
      "Iteration 46, loss = 0.21627244\n",
      "Iteration 47, loss = 0.21637593\n",
      "Iteration 48, loss = 0.21416641\n",
      "Iteration 49, loss = 0.21047881\n",
      "Iteration 50, loss = 0.21779899\n",
      "Iteration 51, loss = 0.21671118\n",
      "Iteration 52, loss = 0.21425793\n",
      "Iteration 53, loss = 0.21136803\n",
      "Iteration 54, loss = 0.20835240\n",
      "Iteration 55, loss = 0.20721170\n",
      "Iteration 56, loss = 0.20844192\n",
      "Iteration 57, loss = 0.20772467\n",
      "Iteration 58, loss = 0.20413349\n",
      "Iteration 59, loss = 0.20510409\n",
      "Iteration 60, loss = 0.20453301\n",
      "Iteration 61, loss = 0.20619270\n",
      "Iteration 62, loss = 0.20376114\n",
      "Iteration 63, loss = 0.20181528\n",
      "Iteration 64, loss = 0.20847558\n",
      "Iteration 65, loss = 0.20119562\n",
      "Iteration 66, loss = 0.20543950\n",
      "Iteration 67, loss = 0.19740208\n",
      "Iteration 68, loss = 0.19886402\n",
      "Iteration 69, loss = 0.20305287\n",
      "Iteration 70, loss = 0.19295018\n",
      "Iteration 71, loss = 0.19509171\n",
      "Iteration 72, loss = 0.19782918\n",
      "Iteration 73, loss = 0.19588872\n",
      "Iteration 74, loss = 0.19435749\n",
      "Iteration 75, loss = 0.19423982\n",
      "Iteration 76, loss = 0.19689540\n",
      "Iteration 77, loss = 0.19312529\n",
      "Iteration 78, loss = 0.19491269\n",
      "Iteration 79, loss = 0.19691840\n",
      "Iteration 80, loss = 0.19529473\n",
      "Iteration 81, loss = 0.19397768\n",
      "Training loss did not improve more than tol=0.000100 for 10 consecutive epochs. Stopping.\n",
      "Training set score: 0.948423\n",
      "Test set score: 0.922619\n"
     ]
    }
   ],
   "source": [
    "mlp4 = MLPClassifier(\n",
    "    hidden_layer_sizes=layer_sizes_10x3,\n",
    "    max_iter=100,\n",
    "    alpha=1e-4,\n",
    "    solver=\"sgd\",\n",
    "    verbose=10,\n",
    "    random_state=42,\n",
    "    learning_rate_init=0.2,\n",
    ")\n",
    "\n",
    "start = datetime.now()              \n",
    "mlp4.fit(X_train, y_train)\n",
    "end = datetime.now() \n",
    "\n",
    "print(\"Training set score: %f\" % mlp4.score(X_train, y_train))\n",
    "print(\"Test set score: %f\" % mlp4.score(X_test, y_test))"
   ]
  },
  {
   "cell_type": "code",
   "execution_count": 58,
   "metadata": {
    "id": "B3QFyoB8Ee8z"
   },
   "outputs": [
    {
     "name": "stdout",
     "output_type": "stream",
     "text": [
      "0:00:19.170453\n"
     ]
    }
   ],
   "source": [
    "delta = end-start\n",
    "print(delta)"
   ]
  },
  {
   "cell_type": "code",
   "execution_count": 59,
   "metadata": {
    "id": "jMbNUzLGEe8z"
   },
   "outputs": [],
   "source": [
    "mlp4_test_pred = mlp4.score(X_test, y_test)\n",
    "mlp4_train_pred = mlp4.score(X_train, y_train)"
   ]
  },
  {
   "cell_type": "code",
   "execution_count": 60,
   "metadata": {
    "id": "rS3XWW6_Ee8z"
   },
   "outputs": [
    {
     "data": {
      "text/html": [
       "<div>\n",
       "<style scoped>\n",
       "    .dataframe tbody tr th:only-of-type {\n",
       "        vertical-align: middle;\n",
       "    }\n",
       "\n",
       "    .dataframe tbody tr th {\n",
       "        vertical-align: top;\n",
       "    }\n",
       "\n",
       "    .dataframe thead th {\n",
       "        text-align: right;\n",
       "    }\n",
       "</style>\n",
       "<table border=\"1\" class=\"dataframe\">\n",
       "  <thead>\n",
       "    <tr style=\"text-align: right;\">\n",
       "      <th></th>\n",
       "      <th>Model</th>\n",
       "      <th>Layers</th>\n",
       "      <th>Nodes</th>\n",
       "      <th>Time</th>\n",
       "      <th>Training Accuracy</th>\n",
       "      <th>Testing Accuracy</th>\n",
       "    </tr>\n",
       "  </thead>\n",
       "  <tbody>\n",
       "    <tr>\n",
       "      <th>0</th>\n",
       "      <td>Model 1 (Seq, 2, 50)</td>\n",
       "      <td>2</td>\n",
       "      <td>50</td>\n",
       "      <td>36.952485</td>\n",
       "      <td>0.997560</td>\n",
       "      <td>0.967381</td>\n",
       "    </tr>\n",
       "    <tr>\n",
       "      <th>1</th>\n",
       "      <td>Model 2 (Seq, 2, 100)</td>\n",
       "      <td>2</td>\n",
       "      <td>100</td>\n",
       "      <td>33.675868</td>\n",
       "      <td>0.998065</td>\n",
       "      <td>0.970238</td>\n",
       "    </tr>\n",
       "    <tr>\n",
       "      <th>2</th>\n",
       "      <td>Model 3 (Seq, 4, 50)</td>\n",
       "      <td>4</td>\n",
       "      <td>50</td>\n",
       "      <td>39.674650</td>\n",
       "      <td>0.993214</td>\n",
       "      <td>0.964048</td>\n",
       "    </tr>\n",
       "    <tr>\n",
       "      <th>3</th>\n",
       "      <td>Model 4 (Seq, 4, 100)</td>\n",
       "      <td>4</td>\n",
       "      <td>100</td>\n",
       "      <td>41.149301</td>\n",
       "      <td>0.996399</td>\n",
       "      <td>0.971548</td>\n",
       "    </tr>\n",
       "    <tr>\n",
       "      <th>4</th>\n",
       "      <td>Model 5 (MLP, 1, 10)</td>\n",
       "      <td>1</td>\n",
       "      <td>10</td>\n",
       "      <td>18.248337</td>\n",
       "      <td>0.926071</td>\n",
       "      <td>0.961786</td>\n",
       "    </tr>\n",
       "    <tr>\n",
       "      <th>5</th>\n",
       "      <td>Model 6 (MLP, 1, 50)</td>\n",
       "      <td>1</td>\n",
       "      <td>50</td>\n",
       "      <td>11.281538</td>\n",
       "      <td>0.970476</td>\n",
       "      <td>1.000000</td>\n",
       "    </tr>\n",
       "    <tr>\n",
       "      <th>6</th>\n",
       "      <td>Model 7 (MLP, 1, 100)</td>\n",
       "      <td>1</td>\n",
       "      <td>100</td>\n",
       "      <td>15.372456</td>\n",
       "      <td>0.973690</td>\n",
       "      <td>1.000000</td>\n",
       "    </tr>\n",
       "    <tr>\n",
       "      <th>7</th>\n",
       "      <td>Model 8 (MLP, 3, 10)</td>\n",
       "      <td>3</td>\n",
       "      <td>10</td>\n",
       "      <td>19.170453</td>\n",
       "      <td>0.922619</td>\n",
       "      <td>0.948423</td>\n",
       "    </tr>\n",
       "  </tbody>\n",
       "</table>\n",
       "</div>"
      ],
      "text/plain": [
       "                   Model Layers Nodes       Time  Training Accuracy  \\\n",
       "0   Model 1 (Seq, 2, 50)      2    50  36.952485           0.997560   \n",
       "1  Model 2 (Seq, 2, 100)      2   100  33.675868           0.998065   \n",
       "2   Model 3 (Seq, 4, 50)      4    50  39.674650           0.993214   \n",
       "3  Model 4 (Seq, 4, 100)      4   100  41.149301           0.996399   \n",
       "4   Model 5 (MLP, 1, 10)      1    10  18.248337           0.926071   \n",
       "5   Model 6 (MLP, 1, 50)      1    50  11.281538           0.970476   \n",
       "6  Model 7 (MLP, 1, 100)      1   100  15.372456           0.973690   \n",
       "7   Model 8 (MLP, 3, 10)      3    10  19.170453           0.922619   \n",
       "\n",
       "   Testing Accuracy  \n",
       "0          0.967381  \n",
       "1          0.970238  \n",
       "2          0.964048  \n",
       "3          0.971548  \n",
       "4          0.961786  \n",
       "5          1.000000  \n",
       "6          1.000000  \n",
       "7          0.948423  "
      ]
     },
     "execution_count": 60,
     "metadata": {},
     "output_type": "execute_result"
    }
   ],
   "source": [
    "#eval\n",
    "Model = 'Model 8 (MLP, 3, 10)' \n",
    "Layers = 3\n",
    "Nodes = 10\n",
    "Time = delta.total_seconds()\n",
    "Training_Accuracy = mlp4_test_pred\n",
    "Testing_Accuracy = mlp4_train_pred\n",
    "row = [Model, Layers, Nodes, Time, Training_Accuracy, Testing_Accuracy]\n",
    "results = results.append(pd.DataFrame([row], columns=results.columns), ignore_index=True)\n",
    "results"
   ]
  },
  {
   "cell_type": "markdown",
   "metadata": {
    "id": "fvXlpSU3LHEM"
   },
   "source": [
    "#### 50 Nodes"
   ]
  },
  {
   "cell_type": "code",
   "execution_count": 61,
   "metadata": {
    "id": "kmw7oRqfJ_0S"
   },
   "outputs": [
    {
     "name": "stdout",
     "output_type": "stream",
     "text": [
      "Iteration 1, loss = 0.45871904\n",
      "Iteration 2, loss = 0.17437994\n",
      "Iteration 3, loss = 0.14009937\n",
      "Iteration 4, loss = 0.12222580\n",
      "Iteration 5, loss = 0.10187893\n",
      "Iteration 6, loss = 0.09147139\n",
      "Iteration 7, loss = 0.08225719\n",
      "Iteration 8, loss = 0.07842556\n",
      "Iteration 9, loss = 0.07434273\n",
      "Iteration 10, loss = 0.06572201\n",
      "Iteration 11, loss = 0.06337553\n",
      "Iteration 12, loss = 0.06245802\n",
      "Iteration 13, loss = 0.06310806\n",
      "Iteration 14, loss = 0.05442029\n",
      "Iteration 15, loss = 0.05853271\n",
      "Iteration 16, loss = 0.04964991\n",
      "Iteration 17, loss = 0.04539171\n",
      "Iteration 18, loss = 0.04298113\n",
      "Iteration 19, loss = 0.05096939\n",
      "Iteration 20, loss = 0.04377763\n",
      "Iteration 21, loss = 0.04091264\n",
      "Iteration 22, loss = 0.04343825\n",
      "Iteration 23, loss = 0.04497801\n",
      "Iteration 24, loss = 0.04454707\n",
      "Iteration 25, loss = 0.04035827\n",
      "Iteration 26, loss = 0.04309277\n",
      "Iteration 27, loss = 0.04109823\n",
      "Iteration 28, loss = 0.04410669\n",
      "Iteration 29, loss = 0.04623591\n",
      "Iteration 30, loss = 0.04106406\n",
      "Iteration 31, loss = 0.04423567\n",
      "Iteration 32, loss = 0.03186252\n",
      "Iteration 33, loss = 0.02720727\n",
      "Iteration 34, loss = 0.04704205\n",
      "Iteration 35, loss = 0.03888651\n",
      "Iteration 36, loss = 0.03517685\n",
      "Iteration 37, loss = 0.03219988\n",
      "Iteration 38, loss = 0.03721443\n",
      "Iteration 39, loss = 0.03154602\n",
      "Iteration 40, loss = 0.04794059\n",
      "Iteration 41, loss = 0.03522032\n",
      "Iteration 42, loss = 0.04999745\n",
      "Iteration 43, loss = 0.03857026\n",
      "Iteration 44, loss = 0.02964172\n",
      "Training loss did not improve more than tol=0.000100 for 10 consecutive epochs. Stopping.\n",
      "Training set score: 0.993452\n",
      "Test set score: 0.966905\n"
     ]
    }
   ],
   "source": [
    "mlp5 = MLPClassifier(\n",
    "    hidden_layer_sizes=layer_sizes_50x3,\n",
    "    max_iter=100,\n",
    "    alpha=1e-4,\n",
    "    solver=\"sgd\",\n",
    "    verbose=10,\n",
    "    random_state=42,\n",
    "    learning_rate_init=0.2,\n",
    ")\n",
    "\n",
    "start = datetime.now()              \n",
    "mlp5.fit(X_train, y_train)\n",
    "end = datetime.now()               \n",
    "\n",
    "print(\"Training set score: %f\" % mlp5.score(X_train, y_train))\n",
    "print(\"Test set score: %f\" % mlp5.score(X_test, y_test))"
   ]
  },
  {
   "cell_type": "code",
   "execution_count": 62,
   "metadata": {
    "id": "BTjna1bQEpPA"
   },
   "outputs": [
    {
     "name": "stdout",
     "output_type": "stream",
     "text": [
      "0:00:18.911334\n"
     ]
    }
   ],
   "source": [
    "delta = end-start\n",
    "print(delta)"
   ]
  },
  {
   "cell_type": "code",
   "execution_count": 63,
   "metadata": {
    "id": "_SMoA0C9EpPB"
   },
   "outputs": [],
   "source": [
    "mlp5_test_pred = mlp5.score(X_test, y_test)\n",
    "mlp5_train_pred = mlp5.score(X_train, y_train)"
   ]
  },
  {
   "cell_type": "code",
   "execution_count": 64,
   "metadata": {
    "id": "nVM4lmiaEpPC"
   },
   "outputs": [
    {
     "data": {
      "text/html": [
       "<div>\n",
       "<style scoped>\n",
       "    .dataframe tbody tr th:only-of-type {\n",
       "        vertical-align: middle;\n",
       "    }\n",
       "\n",
       "    .dataframe tbody tr th {\n",
       "        vertical-align: top;\n",
       "    }\n",
       "\n",
       "    .dataframe thead th {\n",
       "        text-align: right;\n",
       "    }\n",
       "</style>\n",
       "<table border=\"1\" class=\"dataframe\">\n",
       "  <thead>\n",
       "    <tr style=\"text-align: right;\">\n",
       "      <th></th>\n",
       "      <th>Model</th>\n",
       "      <th>Layers</th>\n",
       "      <th>Nodes</th>\n",
       "      <th>Time</th>\n",
       "      <th>Training Accuracy</th>\n",
       "      <th>Testing Accuracy</th>\n",
       "    </tr>\n",
       "  </thead>\n",
       "  <tbody>\n",
       "    <tr>\n",
       "      <th>0</th>\n",
       "      <td>Model 1 (Seq, 2, 50)</td>\n",
       "      <td>2</td>\n",
       "      <td>50</td>\n",
       "      <td>36.952485</td>\n",
       "      <td>0.997560</td>\n",
       "      <td>0.967381</td>\n",
       "    </tr>\n",
       "    <tr>\n",
       "      <th>1</th>\n",
       "      <td>Model 2 (Seq, 2, 100)</td>\n",
       "      <td>2</td>\n",
       "      <td>100</td>\n",
       "      <td>33.675868</td>\n",
       "      <td>0.998065</td>\n",
       "      <td>0.970238</td>\n",
       "    </tr>\n",
       "    <tr>\n",
       "      <th>2</th>\n",
       "      <td>Model 3 (Seq, 4, 50)</td>\n",
       "      <td>4</td>\n",
       "      <td>50</td>\n",
       "      <td>39.674650</td>\n",
       "      <td>0.993214</td>\n",
       "      <td>0.964048</td>\n",
       "    </tr>\n",
       "    <tr>\n",
       "      <th>3</th>\n",
       "      <td>Model 4 (Seq, 4, 100)</td>\n",
       "      <td>4</td>\n",
       "      <td>100</td>\n",
       "      <td>41.149301</td>\n",
       "      <td>0.996399</td>\n",
       "      <td>0.971548</td>\n",
       "    </tr>\n",
       "    <tr>\n",
       "      <th>4</th>\n",
       "      <td>Model 5 (MLP, 1, 10)</td>\n",
       "      <td>1</td>\n",
       "      <td>10</td>\n",
       "      <td>18.248337</td>\n",
       "      <td>0.926071</td>\n",
       "      <td>0.961786</td>\n",
       "    </tr>\n",
       "    <tr>\n",
       "      <th>5</th>\n",
       "      <td>Model 6 (MLP, 1, 50)</td>\n",
       "      <td>1</td>\n",
       "      <td>50</td>\n",
       "      <td>11.281538</td>\n",
       "      <td>0.970476</td>\n",
       "      <td>1.000000</td>\n",
       "    </tr>\n",
       "    <tr>\n",
       "      <th>6</th>\n",
       "      <td>Model 7 (MLP, 1, 100)</td>\n",
       "      <td>1</td>\n",
       "      <td>100</td>\n",
       "      <td>15.372456</td>\n",
       "      <td>0.973690</td>\n",
       "      <td>1.000000</td>\n",
       "    </tr>\n",
       "    <tr>\n",
       "      <th>7</th>\n",
       "      <td>Model 8 (MLP, 3, 10)</td>\n",
       "      <td>3</td>\n",
       "      <td>10</td>\n",
       "      <td>19.170453</td>\n",
       "      <td>0.922619</td>\n",
       "      <td>0.948423</td>\n",
       "    </tr>\n",
       "    <tr>\n",
       "      <th>8</th>\n",
       "      <td>Model 9 (MLP, 3, 50)</td>\n",
       "      <td>3</td>\n",
       "      <td>50</td>\n",
       "      <td>18.911334</td>\n",
       "      <td>0.966905</td>\n",
       "      <td>0.993452</td>\n",
       "    </tr>\n",
       "  </tbody>\n",
       "</table>\n",
       "</div>"
      ],
      "text/plain": [
       "                   Model Layers Nodes       Time  Training Accuracy  \\\n",
       "0   Model 1 (Seq, 2, 50)      2    50  36.952485           0.997560   \n",
       "1  Model 2 (Seq, 2, 100)      2   100  33.675868           0.998065   \n",
       "2   Model 3 (Seq, 4, 50)      4    50  39.674650           0.993214   \n",
       "3  Model 4 (Seq, 4, 100)      4   100  41.149301           0.996399   \n",
       "4   Model 5 (MLP, 1, 10)      1    10  18.248337           0.926071   \n",
       "5   Model 6 (MLP, 1, 50)      1    50  11.281538           0.970476   \n",
       "6  Model 7 (MLP, 1, 100)      1   100  15.372456           0.973690   \n",
       "7   Model 8 (MLP, 3, 10)      3    10  19.170453           0.922619   \n",
       "8   Model 9 (MLP, 3, 50)      3    50  18.911334           0.966905   \n",
       "\n",
       "   Testing Accuracy  \n",
       "0          0.967381  \n",
       "1          0.970238  \n",
       "2          0.964048  \n",
       "3          0.971548  \n",
       "4          0.961786  \n",
       "5          1.000000  \n",
       "6          1.000000  \n",
       "7          0.948423  \n",
       "8          0.993452  "
      ]
     },
     "execution_count": 64,
     "metadata": {},
     "output_type": "execute_result"
    }
   ],
   "source": [
    "#eval\n",
    "Model = 'Model 9 (MLP, 3, 50)' \n",
    "Layers = 3\n",
    "Nodes = 50\n",
    "Time = delta.total_seconds()\n",
    "Training_Accuracy = mlp5_test_pred\n",
    "Testing_Accuracy = mlp5_train_pred\n",
    "row = [Model, Layers, Nodes, Time, Training_Accuracy, Testing_Accuracy]\n",
    "results = results.append(pd.DataFrame([row], columns=results.columns), ignore_index=True)\n",
    "results"
   ]
  },
  {
   "cell_type": "markdown",
   "metadata": {
    "id": "GdjVqRoDLPLA"
   },
   "source": [
    "#### 100 Nodes"
   ]
  },
  {
   "cell_type": "code",
   "execution_count": 65,
   "metadata": {
    "id": "COpjGiuLJ_0S"
   },
   "outputs": [
    {
     "name": "stdout",
     "output_type": "stream",
     "text": [
      "Iteration 1, loss = 0.52164476\n",
      "Iteration 2, loss = 0.16402378\n",
      "Iteration 3, loss = 0.12330468\n",
      "Iteration 4, loss = 0.10269050\n",
      "Iteration 5, loss = 0.08547243\n",
      "Iteration 6, loss = 0.07110801\n",
      "Iteration 7, loss = 0.06503341\n",
      "Iteration 8, loss = 0.06123416\n",
      "Iteration 9, loss = 0.05784609\n",
      "Iteration 10, loss = 0.04944880\n",
      "Iteration 11, loss = 0.05467753\n",
      "Iteration 12, loss = 0.04675435\n",
      "Iteration 13, loss = 0.03782403\n",
      "Iteration 14, loss = 0.03772119\n",
      "Iteration 15, loss = 0.03686301\n",
      "Iteration 16, loss = 0.03476929\n",
      "Iteration 17, loss = 0.03707047\n",
      "Iteration 18, loss = 0.03141235\n",
      "Iteration 19, loss = 0.02953099\n",
      "Iteration 20, loss = 0.02785696\n",
      "Iteration 21, loss = 0.02868018\n",
      "Iteration 22, loss = 0.03017021\n",
      "Iteration 23, loss = 0.02582090\n",
      "Iteration 24, loss = 0.02934057\n",
      "Iteration 25, loss = 0.03017075\n",
      "Iteration 26, loss = 0.03563241\n",
      "Iteration 27, loss = 0.02531422\n",
      "Iteration 28, loss = 0.03070848\n",
      "Iteration 29, loss = 0.01830584\n",
      "Iteration 30, loss = 0.02320620\n",
      "Iteration 31, loss = 0.01657743\n",
      "Iteration 32, loss = 0.01536999\n",
      "Iteration 33, loss = 0.02340464\n",
      "Iteration 34, loss = 0.02702605\n",
      "Iteration 35, loss = 0.02032714\n",
      "Iteration 36, loss = 0.02627075\n",
      "Iteration 37, loss = 0.01428419\n",
      "Iteration 38, loss = 0.01827018\n",
      "Iteration 39, loss = 0.02238833\n",
      "Iteration 40, loss = 0.01796843\n",
      "Iteration 41, loss = 0.01250539\n",
      "Iteration 42, loss = 0.02029697\n",
      "Iteration 43, loss = 0.01864376\n",
      "Iteration 44, loss = 0.02039657\n",
      "Iteration 45, loss = 0.02202145\n",
      "Iteration 46, loss = 0.01223888\n",
      "Iteration 47, loss = 0.01492640\n",
      "Iteration 48, loss = 0.01606106\n",
      "Iteration 49, loss = 0.01659242\n",
      "Iteration 50, loss = 0.01653984\n",
      "Iteration 51, loss = 0.01395894\n",
      "Iteration 52, loss = 0.02120525\n",
      "Iteration 53, loss = 0.02010606\n",
      "Iteration 54, loss = 0.01606660\n",
      "Iteration 55, loss = 0.01965114\n",
      "Iteration 56, loss = 0.01672052\n",
      "Iteration 57, loss = 0.01064272\n",
      "Iteration 58, loss = 0.00980046\n",
      "Iteration 59, loss = 0.01114746\n",
      "Iteration 60, loss = 0.01737239\n",
      "Iteration 61, loss = 0.01563515\n",
      "Iteration 62, loss = 0.01964429\n",
      "Iteration 63, loss = 0.02012231\n",
      "Iteration 64, loss = 0.01970246\n",
      "Iteration 65, loss = 0.02374014\n",
      "Iteration 66, loss = 0.02634564\n",
      "Iteration 67, loss = 0.01698695\n",
      "Iteration 68, loss = 0.01333169\n",
      "Iteration 69, loss = 0.01792261\n",
      "Training loss did not improve more than tol=0.000100 for 10 consecutive epochs. Stopping.\n",
      "Training set score: 0.997113\n",
      "Test set score: 0.967738\n"
     ]
    }
   ],
   "source": [
    "mlp6 = MLPClassifier(\n",
    "    hidden_layer_sizes=layer_sizes_100x3,\n",
    "    max_iter=100,\n",
    "    alpha=1e-4,\n",
    "    solver=\"sgd\",\n",
    "    verbose=10,\n",
    "    random_state=42,\n",
    "    learning_rate_init=0.2,\n",
    ")\n",
    "              \n",
    "start = datetime.now()              \n",
    "mlp6.fit(X_train, y_train)\n",
    "end = datetime.now()   \n",
    "\n",
    "print(\"Training set score: %f\" % mlp6.score(X_train, y_train))\n",
    "print(\"Test set score: %f\" % mlp6.score(X_test, y_test))"
   ]
  },
  {
   "cell_type": "code",
   "execution_count": 66,
   "metadata": {
    "id": "2q4aJ47DE2Nf"
   },
   "outputs": [
    {
     "name": "stdout",
     "output_type": "stream",
     "text": [
      "0:00:44.649760\n"
     ]
    }
   ],
   "source": [
    "delta = end-start\n",
    "print(delta)"
   ]
  },
  {
   "cell_type": "code",
   "execution_count": 67,
   "metadata": {
    "id": "K_MtFJifE2Ng"
   },
   "outputs": [],
   "source": [
    "mlp6_test_pred = mlp6.score(X_test, y_test)\n",
    "mlp6_train_pred = mlp6.score(X_train, y_train)"
   ]
  },
  {
   "cell_type": "code",
   "execution_count": 68,
   "metadata": {
    "id": "ymzoVG47E2Ng"
   },
   "outputs": [
    {
     "data": {
      "text/html": [
       "<div>\n",
       "<style scoped>\n",
       "    .dataframe tbody tr th:only-of-type {\n",
       "        vertical-align: middle;\n",
       "    }\n",
       "\n",
       "    .dataframe tbody tr th {\n",
       "        vertical-align: top;\n",
       "    }\n",
       "\n",
       "    .dataframe thead th {\n",
       "        text-align: right;\n",
       "    }\n",
       "</style>\n",
       "<table border=\"1\" class=\"dataframe\">\n",
       "  <thead>\n",
       "    <tr style=\"text-align: right;\">\n",
       "      <th></th>\n",
       "      <th>Model</th>\n",
       "      <th>Layers</th>\n",
       "      <th>Nodes</th>\n",
       "      <th>Time</th>\n",
       "      <th>Training Accuracy</th>\n",
       "      <th>Testing Accuracy</th>\n",
       "    </tr>\n",
       "  </thead>\n",
       "  <tbody>\n",
       "    <tr>\n",
       "      <th>0</th>\n",
       "      <td>Model 1 (Seq, 2, 50)</td>\n",
       "      <td>2</td>\n",
       "      <td>50</td>\n",
       "      <td>36.952485</td>\n",
       "      <td>0.997560</td>\n",
       "      <td>0.967381</td>\n",
       "    </tr>\n",
       "    <tr>\n",
       "      <th>1</th>\n",
       "      <td>Model 2 (Seq, 2, 100)</td>\n",
       "      <td>2</td>\n",
       "      <td>100</td>\n",
       "      <td>33.675868</td>\n",
       "      <td>0.998065</td>\n",
       "      <td>0.970238</td>\n",
       "    </tr>\n",
       "    <tr>\n",
       "      <th>2</th>\n",
       "      <td>Model 3 (Seq, 4, 50)</td>\n",
       "      <td>4</td>\n",
       "      <td>50</td>\n",
       "      <td>39.674650</td>\n",
       "      <td>0.993214</td>\n",
       "      <td>0.964048</td>\n",
       "    </tr>\n",
       "    <tr>\n",
       "      <th>3</th>\n",
       "      <td>Model 4 (Seq, 4, 100)</td>\n",
       "      <td>4</td>\n",
       "      <td>100</td>\n",
       "      <td>41.149301</td>\n",
       "      <td>0.996399</td>\n",
       "      <td>0.971548</td>\n",
       "    </tr>\n",
       "    <tr>\n",
       "      <th>4</th>\n",
       "      <td>Model 5 (MLP, 1, 10)</td>\n",
       "      <td>1</td>\n",
       "      <td>10</td>\n",
       "      <td>18.248337</td>\n",
       "      <td>0.926071</td>\n",
       "      <td>0.961786</td>\n",
       "    </tr>\n",
       "    <tr>\n",
       "      <th>5</th>\n",
       "      <td>Model 6 (MLP, 1, 50)</td>\n",
       "      <td>1</td>\n",
       "      <td>50</td>\n",
       "      <td>11.281538</td>\n",
       "      <td>0.970476</td>\n",
       "      <td>1.000000</td>\n",
       "    </tr>\n",
       "    <tr>\n",
       "      <th>6</th>\n",
       "      <td>Model 7 (MLP, 1, 100)</td>\n",
       "      <td>1</td>\n",
       "      <td>100</td>\n",
       "      <td>15.372456</td>\n",
       "      <td>0.973690</td>\n",
       "      <td>1.000000</td>\n",
       "    </tr>\n",
       "    <tr>\n",
       "      <th>7</th>\n",
       "      <td>Model 8 (MLP, 3, 10)</td>\n",
       "      <td>3</td>\n",
       "      <td>10</td>\n",
       "      <td>19.170453</td>\n",
       "      <td>0.922619</td>\n",
       "      <td>0.948423</td>\n",
       "    </tr>\n",
       "    <tr>\n",
       "      <th>8</th>\n",
       "      <td>Model 9 (MLP, 3, 50)</td>\n",
       "      <td>3</td>\n",
       "      <td>50</td>\n",
       "      <td>18.911334</td>\n",
       "      <td>0.966905</td>\n",
       "      <td>0.993452</td>\n",
       "    </tr>\n",
       "    <tr>\n",
       "      <th>9</th>\n",
       "      <td>Model 10 (MLP, 3, 100)</td>\n",
       "      <td>3</td>\n",
       "      <td>100</td>\n",
       "      <td>44.649760</td>\n",
       "      <td>0.967738</td>\n",
       "      <td>0.997113</td>\n",
       "    </tr>\n",
       "  </tbody>\n",
       "</table>\n",
       "</div>"
      ],
      "text/plain": [
       "                    Model Layers Nodes       Time  Training Accuracy  \\\n",
       "0    Model 1 (Seq, 2, 50)      2    50  36.952485           0.997560   \n",
       "1   Model 2 (Seq, 2, 100)      2   100  33.675868           0.998065   \n",
       "2    Model 3 (Seq, 4, 50)      4    50  39.674650           0.993214   \n",
       "3   Model 4 (Seq, 4, 100)      4   100  41.149301           0.996399   \n",
       "4    Model 5 (MLP, 1, 10)      1    10  18.248337           0.926071   \n",
       "5    Model 6 (MLP, 1, 50)      1    50  11.281538           0.970476   \n",
       "6   Model 7 (MLP, 1, 100)      1   100  15.372456           0.973690   \n",
       "7    Model 8 (MLP, 3, 10)      3    10  19.170453           0.922619   \n",
       "8    Model 9 (MLP, 3, 50)      3    50  18.911334           0.966905   \n",
       "9  Model 10 (MLP, 3, 100)      3   100  44.649760           0.967738   \n",
       "\n",
       "   Testing Accuracy  \n",
       "0          0.967381  \n",
       "1          0.970238  \n",
       "2          0.964048  \n",
       "3          0.971548  \n",
       "4          0.961786  \n",
       "5          1.000000  \n",
       "6          1.000000  \n",
       "7          0.948423  \n",
       "8          0.993452  \n",
       "9          0.997113  "
      ]
     },
     "execution_count": 68,
     "metadata": {},
     "output_type": "execute_result"
    }
   ],
   "source": [
    "#eval\n",
    "Model = 'Model 10 (MLP, 3, 100)' \n",
    "Layers = 3\n",
    "Nodes = 100\n",
    "Time = delta.total_seconds()\n",
    "Training_Accuracy = mlp6_test_pred\n",
    "Testing_Accuracy = mlp6_train_pred\n",
    "row = [Model, Layers, Nodes, Time, Training_Accuracy, Testing_Accuracy]\n",
    "results = results.append(pd.DataFrame([row], columns=results.columns), ignore_index=True)\n",
    "results"
   ]
  },
  {
   "cell_type": "markdown",
   "metadata": {
    "id": "Vw-hTsfFLpK5"
   },
   "source": [
    "### 5 Layers"
   ]
  },
  {
   "cell_type": "markdown",
   "metadata": {
    "id": "82cTxbWlLYk1"
   },
   "source": [
    "#### 10 Nodes"
   ]
  },
  {
   "cell_type": "code",
   "execution_count": 69,
   "metadata": {
    "id": "_gEhNCe6KS7z"
   },
   "outputs": [
    {
     "name": "stdout",
     "output_type": "stream",
     "text": [
      "Iteration 1, loss = 1.65926315\n",
      "Iteration 2, loss = 2.18176474\n",
      "Iteration 3, loss = 2.29935690\n",
      "Iteration 4, loss = 2.30176772\n",
      "Iteration 5, loss = 2.30245862\n",
      "Iteration 6, loss = 2.30233233\n",
      "Iteration 7, loss = 2.30212881\n",
      "Iteration 8, loss = 2.30174824\n",
      "Iteration 9, loss = 2.30194928\n",
      "Iteration 10, loss = 2.30217997\n",
      "Iteration 11, loss = 2.30183751\n",
      "Iteration 12, loss = 2.30174213\n",
      "Training loss did not improve more than tol=0.000100 for 10 consecutive epochs. Stopping.\n",
      "Training set score: 0.113304\n",
      "Test set score: 0.109405\n"
     ]
    }
   ],
   "source": [
    "mlp7 = MLPClassifier(\n",
    "    hidden_layer_sizes=layer_sizes_10x5,\n",
    "    max_iter=100,\n",
    "    alpha=1e-4,\n",
    "    solver=\"sgd\",\n",
    "    verbose=10,\n",
    "    random_state=42,\n",
    "    learning_rate_init=0.2,\n",
    ")\n",
    "              \n",
    "start = datetime.now()              \n",
    "mlp7.fit(X_train, y_train)\n",
    "end = datetime.now() \n",
    "\n",
    "print(\"Training set score: %f\" % mlp7.score(X_train, y_train))\n",
    "print(\"Test set score: %f\" % mlp7.score(X_test, y_test))"
   ]
  },
  {
   "cell_type": "code",
   "execution_count": 70,
   "metadata": {
    "id": "c0LCIfHxFEPe"
   },
   "outputs": [
    {
     "name": "stdout",
     "output_type": "stream",
     "text": [
      "0:00:02.983746\n"
     ]
    }
   ],
   "source": [
    "delta = end-start\n",
    "print(delta)"
   ]
  },
  {
   "cell_type": "code",
   "execution_count": 71,
   "metadata": {
    "id": "IWgFDG-7FEPe"
   },
   "outputs": [],
   "source": [
    "mlp7_test_pred = mlp7.score(X_test, y_test)\n",
    "mlp7_train_pred = mlp7.score(X_train, y_train)"
   ]
  },
  {
   "cell_type": "code",
   "execution_count": 72,
   "metadata": {
    "id": "aVrDBeVuFEPe"
   },
   "outputs": [
    {
     "data": {
      "text/html": [
       "<div>\n",
       "<style scoped>\n",
       "    .dataframe tbody tr th:only-of-type {\n",
       "        vertical-align: middle;\n",
       "    }\n",
       "\n",
       "    .dataframe tbody tr th {\n",
       "        vertical-align: top;\n",
       "    }\n",
       "\n",
       "    .dataframe thead th {\n",
       "        text-align: right;\n",
       "    }\n",
       "</style>\n",
       "<table border=\"1\" class=\"dataframe\">\n",
       "  <thead>\n",
       "    <tr style=\"text-align: right;\">\n",
       "      <th></th>\n",
       "      <th>Model</th>\n",
       "      <th>Layers</th>\n",
       "      <th>Nodes</th>\n",
       "      <th>Time</th>\n",
       "      <th>Training Accuracy</th>\n",
       "      <th>Testing Accuracy</th>\n",
       "    </tr>\n",
       "  </thead>\n",
       "  <tbody>\n",
       "    <tr>\n",
       "      <th>0</th>\n",
       "      <td>Model 1 (Seq, 2, 50)</td>\n",
       "      <td>2</td>\n",
       "      <td>50</td>\n",
       "      <td>36.952485</td>\n",
       "      <td>0.997560</td>\n",
       "      <td>0.967381</td>\n",
       "    </tr>\n",
       "    <tr>\n",
       "      <th>1</th>\n",
       "      <td>Model 2 (Seq, 2, 100)</td>\n",
       "      <td>2</td>\n",
       "      <td>100</td>\n",
       "      <td>33.675868</td>\n",
       "      <td>0.998065</td>\n",
       "      <td>0.970238</td>\n",
       "    </tr>\n",
       "    <tr>\n",
       "      <th>2</th>\n",
       "      <td>Model 3 (Seq, 4, 50)</td>\n",
       "      <td>4</td>\n",
       "      <td>50</td>\n",
       "      <td>39.674650</td>\n",
       "      <td>0.993214</td>\n",
       "      <td>0.964048</td>\n",
       "    </tr>\n",
       "    <tr>\n",
       "      <th>3</th>\n",
       "      <td>Model 4 (Seq, 4, 100)</td>\n",
       "      <td>4</td>\n",
       "      <td>100</td>\n",
       "      <td>41.149301</td>\n",
       "      <td>0.996399</td>\n",
       "      <td>0.971548</td>\n",
       "    </tr>\n",
       "    <tr>\n",
       "      <th>4</th>\n",
       "      <td>Model 5 (MLP, 1, 10)</td>\n",
       "      <td>1</td>\n",
       "      <td>10</td>\n",
       "      <td>18.248337</td>\n",
       "      <td>0.926071</td>\n",
       "      <td>0.961786</td>\n",
       "    </tr>\n",
       "    <tr>\n",
       "      <th>5</th>\n",
       "      <td>Model 6 (MLP, 1, 50)</td>\n",
       "      <td>1</td>\n",
       "      <td>50</td>\n",
       "      <td>11.281538</td>\n",
       "      <td>0.970476</td>\n",
       "      <td>1.000000</td>\n",
       "    </tr>\n",
       "    <tr>\n",
       "      <th>6</th>\n",
       "      <td>Model 7 (MLP, 1, 100)</td>\n",
       "      <td>1</td>\n",
       "      <td>100</td>\n",
       "      <td>15.372456</td>\n",
       "      <td>0.973690</td>\n",
       "      <td>1.000000</td>\n",
       "    </tr>\n",
       "    <tr>\n",
       "      <th>7</th>\n",
       "      <td>Model 8 (MLP, 3, 10)</td>\n",
       "      <td>3</td>\n",
       "      <td>10</td>\n",
       "      <td>19.170453</td>\n",
       "      <td>0.922619</td>\n",
       "      <td>0.948423</td>\n",
       "    </tr>\n",
       "    <tr>\n",
       "      <th>8</th>\n",
       "      <td>Model 9 (MLP, 3, 50)</td>\n",
       "      <td>3</td>\n",
       "      <td>50</td>\n",
       "      <td>18.911334</td>\n",
       "      <td>0.966905</td>\n",
       "      <td>0.993452</td>\n",
       "    </tr>\n",
       "    <tr>\n",
       "      <th>9</th>\n",
       "      <td>Model 10 (MLP, 3, 100)</td>\n",
       "      <td>3</td>\n",
       "      <td>100</td>\n",
       "      <td>44.649760</td>\n",
       "      <td>0.967738</td>\n",
       "      <td>0.997113</td>\n",
       "    </tr>\n",
       "    <tr>\n",
       "      <th>10</th>\n",
       "      <td>Model 11 (MLP, 5, 10)</td>\n",
       "      <td>5</td>\n",
       "      <td>10</td>\n",
       "      <td>2.983746</td>\n",
       "      <td>0.109405</td>\n",
       "      <td>0.113304</td>\n",
       "    </tr>\n",
       "  </tbody>\n",
       "</table>\n",
       "</div>"
      ],
      "text/plain": [
       "                     Model Layers Nodes       Time  Training Accuracy  \\\n",
       "0     Model 1 (Seq, 2, 50)      2    50  36.952485           0.997560   \n",
       "1    Model 2 (Seq, 2, 100)      2   100  33.675868           0.998065   \n",
       "2     Model 3 (Seq, 4, 50)      4    50  39.674650           0.993214   \n",
       "3    Model 4 (Seq, 4, 100)      4   100  41.149301           0.996399   \n",
       "4     Model 5 (MLP, 1, 10)      1    10  18.248337           0.926071   \n",
       "5     Model 6 (MLP, 1, 50)      1    50  11.281538           0.970476   \n",
       "6    Model 7 (MLP, 1, 100)      1   100  15.372456           0.973690   \n",
       "7     Model 8 (MLP, 3, 10)      3    10  19.170453           0.922619   \n",
       "8     Model 9 (MLP, 3, 50)      3    50  18.911334           0.966905   \n",
       "9   Model 10 (MLP, 3, 100)      3   100  44.649760           0.967738   \n",
       "10   Model 11 (MLP, 5, 10)      5    10   2.983746           0.109405   \n",
       "\n",
       "    Testing Accuracy  \n",
       "0           0.967381  \n",
       "1           0.970238  \n",
       "2           0.964048  \n",
       "3           0.971548  \n",
       "4           0.961786  \n",
       "5           1.000000  \n",
       "6           1.000000  \n",
       "7           0.948423  \n",
       "8           0.993452  \n",
       "9           0.997113  \n",
       "10          0.113304  "
      ]
     },
     "execution_count": 72,
     "metadata": {},
     "output_type": "execute_result"
    }
   ],
   "source": [
    "#eval\n",
    "Model = 'Model 11 (MLP, 5, 10)' \n",
    "Layers = 5\n",
    "Nodes = 10\n",
    "Time = delta.total_seconds()\n",
    "Training_Accuracy = mlp7_test_pred\n",
    "Testing_Accuracy = mlp7_train_pred\n",
    "row = [Model, Layers, Nodes, Time, Training_Accuracy, Testing_Accuracy]\n",
    "results = results.append(pd.DataFrame([row], columns=results.columns), ignore_index=True)\n",
    "results"
   ]
  },
  {
   "cell_type": "markdown",
   "metadata": {
    "id": "5xl-H3S-Lc3_"
   },
   "source": [
    "#### 50 Nodes"
   ]
  },
  {
   "cell_type": "code",
   "execution_count": 73,
   "metadata": {
    "id": "P0A_VAW5KS70"
   },
   "outputs": [
    {
     "name": "stdout",
     "output_type": "stream",
     "text": [
      "Iteration 1, loss = 1.33298166\n",
      "Iteration 2, loss = 0.56228986\n",
      "Iteration 3, loss = 0.37054011\n",
      "Iteration 4, loss = 0.30428159\n",
      "Iteration 5, loss = 0.27811590\n",
      "Iteration 6, loss = 0.25683773\n",
      "Iteration 7, loss = 0.24304994\n",
      "Iteration 8, loss = 0.23908765\n",
      "Iteration 9, loss = 0.22275476\n",
      "Iteration 10, loss = 0.21691503\n",
      "Iteration 11, loss = 0.20732844\n",
      "Iteration 12, loss = 0.20797553\n",
      "Iteration 13, loss = 0.19814034\n",
      "Iteration 14, loss = 0.20593115\n",
      "Iteration 15, loss = 0.18688355\n",
      "Iteration 16, loss = 0.18373304\n",
      "Iteration 17, loss = 0.18307489\n",
      "Iteration 18, loss = 0.18259575\n",
      "Iteration 19, loss = 0.17538491\n",
      "Iteration 20, loss = 0.16984887\n",
      "Iteration 21, loss = 0.16828121\n",
      "Iteration 22, loss = 0.16565114\n",
      "Iteration 23, loss = 0.16180297\n",
      "Iteration 24, loss = 0.16187776\n",
      "Iteration 25, loss = 0.15270026\n",
      "Iteration 26, loss = 0.14888043\n",
      "Iteration 27, loss = 0.15526094\n",
      "Iteration 28, loss = 0.15593925\n",
      "Iteration 29, loss = 0.14624261\n",
      "Iteration 30, loss = 0.16611589\n",
      "Iteration 31, loss = 1583758.33619908\n",
      "Iteration 32, loss = 26365321.13103580\n",
      "Iteration 33, loss = 26630903.27309979\n",
      "Iteration 34, loss = 26621956.72254743\n",
      "Iteration 35, loss = 26613013.17178402\n",
      "Iteration 36, loss = 26604072.62479221\n",
      "Iteration 37, loss = 26595135.08229299\n",
      "Iteration 38, loss = 26586200.54163133\n",
      "Iteration 39, loss = 26577269.00345315\n",
      "Iteration 40, loss = 26568340.46524443\n",
      "Training loss did not improve more than tol=0.000100 for 10 consecutive epochs. Stopping.\n",
      "Training set score: 0.099137\n",
      "Test set score: 0.100714\n"
     ]
    }
   ],
   "source": [
    "mlp8 = MLPClassifier(\n",
    "    hidden_layer_sizes=layer_sizes_50x5,\n",
    "    max_iter=100,\n",
    "    alpha=1e-4,\n",
    "    solver=\"sgd\",\n",
    "    verbose=10,\n",
    "    random_state=42,\n",
    "    learning_rate_init=0.2,\n",
    ")\n",
    "              \n",
    "start = datetime.now()              \n",
    "mlp8.fit(X_train, y_train)\n",
    "end = datetime.now() \n",
    "\n",
    "print(\"Training set score: %f\" % mlp8.score(X_train, y_train))\n",
    "print(\"Test set score: %f\" % mlp8.score(X_test, y_test))"
   ]
  },
  {
   "cell_type": "code",
   "execution_count": 74,
   "metadata": {
    "id": "_BHkZ2DHFPDG"
   },
   "outputs": [
    {
     "name": "stdout",
     "output_type": "stream",
     "text": [
      "0:00:19.574841\n"
     ]
    }
   ],
   "source": [
    "delta = end-start\n",
    "print(delta)"
   ]
  },
  {
   "cell_type": "code",
   "execution_count": 75,
   "metadata": {
    "id": "Mr0LysEQFPDH"
   },
   "outputs": [],
   "source": [
    "mlp8_test_pred = mlp8.score(X_test, y_test)\n",
    "mlp8_train_pred = mlp8.score(X_train, y_train)"
   ]
  },
  {
   "cell_type": "code",
   "execution_count": 76,
   "metadata": {
    "id": "Kt07MYrpFPDH"
   },
   "outputs": [
    {
     "data": {
      "text/html": [
       "<div>\n",
       "<style scoped>\n",
       "    .dataframe tbody tr th:only-of-type {\n",
       "        vertical-align: middle;\n",
       "    }\n",
       "\n",
       "    .dataframe tbody tr th {\n",
       "        vertical-align: top;\n",
       "    }\n",
       "\n",
       "    .dataframe thead th {\n",
       "        text-align: right;\n",
       "    }\n",
       "</style>\n",
       "<table border=\"1\" class=\"dataframe\">\n",
       "  <thead>\n",
       "    <tr style=\"text-align: right;\">\n",
       "      <th></th>\n",
       "      <th>Model</th>\n",
       "      <th>Layers</th>\n",
       "      <th>Nodes</th>\n",
       "      <th>Time</th>\n",
       "      <th>Training Accuracy</th>\n",
       "      <th>Testing Accuracy</th>\n",
       "    </tr>\n",
       "  </thead>\n",
       "  <tbody>\n",
       "    <tr>\n",
       "      <th>0</th>\n",
       "      <td>Model 1 (Seq, 2, 50)</td>\n",
       "      <td>2</td>\n",
       "      <td>50</td>\n",
       "      <td>36.952485</td>\n",
       "      <td>0.997560</td>\n",
       "      <td>0.967381</td>\n",
       "    </tr>\n",
       "    <tr>\n",
       "      <th>1</th>\n",
       "      <td>Model 2 (Seq, 2, 100)</td>\n",
       "      <td>2</td>\n",
       "      <td>100</td>\n",
       "      <td>33.675868</td>\n",
       "      <td>0.998065</td>\n",
       "      <td>0.970238</td>\n",
       "    </tr>\n",
       "    <tr>\n",
       "      <th>2</th>\n",
       "      <td>Model 3 (Seq, 4, 50)</td>\n",
       "      <td>4</td>\n",
       "      <td>50</td>\n",
       "      <td>39.674650</td>\n",
       "      <td>0.993214</td>\n",
       "      <td>0.964048</td>\n",
       "    </tr>\n",
       "    <tr>\n",
       "      <th>3</th>\n",
       "      <td>Model 4 (Seq, 4, 100)</td>\n",
       "      <td>4</td>\n",
       "      <td>100</td>\n",
       "      <td>41.149301</td>\n",
       "      <td>0.996399</td>\n",
       "      <td>0.971548</td>\n",
       "    </tr>\n",
       "    <tr>\n",
       "      <th>4</th>\n",
       "      <td>Model 5 (MLP, 1, 10)</td>\n",
       "      <td>1</td>\n",
       "      <td>10</td>\n",
       "      <td>18.248337</td>\n",
       "      <td>0.926071</td>\n",
       "      <td>0.961786</td>\n",
       "    </tr>\n",
       "    <tr>\n",
       "      <th>5</th>\n",
       "      <td>Model 6 (MLP, 1, 50)</td>\n",
       "      <td>1</td>\n",
       "      <td>50</td>\n",
       "      <td>11.281538</td>\n",
       "      <td>0.970476</td>\n",
       "      <td>1.000000</td>\n",
       "    </tr>\n",
       "    <tr>\n",
       "      <th>6</th>\n",
       "      <td>Model 7 (MLP, 1, 100)</td>\n",
       "      <td>1</td>\n",
       "      <td>100</td>\n",
       "      <td>15.372456</td>\n",
       "      <td>0.973690</td>\n",
       "      <td>1.000000</td>\n",
       "    </tr>\n",
       "    <tr>\n",
       "      <th>7</th>\n",
       "      <td>Model 8 (MLP, 3, 10)</td>\n",
       "      <td>3</td>\n",
       "      <td>10</td>\n",
       "      <td>19.170453</td>\n",
       "      <td>0.922619</td>\n",
       "      <td>0.948423</td>\n",
       "    </tr>\n",
       "    <tr>\n",
       "      <th>8</th>\n",
       "      <td>Model 9 (MLP, 3, 50)</td>\n",
       "      <td>3</td>\n",
       "      <td>50</td>\n",
       "      <td>18.911334</td>\n",
       "      <td>0.966905</td>\n",
       "      <td>0.993452</td>\n",
       "    </tr>\n",
       "    <tr>\n",
       "      <th>9</th>\n",
       "      <td>Model 10 (MLP, 3, 100)</td>\n",
       "      <td>3</td>\n",
       "      <td>100</td>\n",
       "      <td>44.649760</td>\n",
       "      <td>0.967738</td>\n",
       "      <td>0.997113</td>\n",
       "    </tr>\n",
       "    <tr>\n",
       "      <th>10</th>\n",
       "      <td>Model 11 (MLP, 5, 10)</td>\n",
       "      <td>5</td>\n",
       "      <td>10</td>\n",
       "      <td>2.983746</td>\n",
       "      <td>0.109405</td>\n",
       "      <td>0.113304</td>\n",
       "    </tr>\n",
       "    <tr>\n",
       "      <th>11</th>\n",
       "      <td>Model 12 (MLP, 5, 50)</td>\n",
       "      <td>5</td>\n",
       "      <td>50</td>\n",
       "      <td>19.574841</td>\n",
       "      <td>0.100714</td>\n",
       "      <td>0.099137</td>\n",
       "    </tr>\n",
       "  </tbody>\n",
       "</table>\n",
       "</div>"
      ],
      "text/plain": [
       "                     Model Layers Nodes       Time  Training Accuracy  \\\n",
       "0     Model 1 (Seq, 2, 50)      2    50  36.952485           0.997560   \n",
       "1    Model 2 (Seq, 2, 100)      2   100  33.675868           0.998065   \n",
       "2     Model 3 (Seq, 4, 50)      4    50  39.674650           0.993214   \n",
       "3    Model 4 (Seq, 4, 100)      4   100  41.149301           0.996399   \n",
       "4     Model 5 (MLP, 1, 10)      1    10  18.248337           0.926071   \n",
       "5     Model 6 (MLP, 1, 50)      1    50  11.281538           0.970476   \n",
       "6    Model 7 (MLP, 1, 100)      1   100  15.372456           0.973690   \n",
       "7     Model 8 (MLP, 3, 10)      3    10  19.170453           0.922619   \n",
       "8     Model 9 (MLP, 3, 50)      3    50  18.911334           0.966905   \n",
       "9   Model 10 (MLP, 3, 100)      3   100  44.649760           0.967738   \n",
       "10   Model 11 (MLP, 5, 10)      5    10   2.983746           0.109405   \n",
       "11   Model 12 (MLP, 5, 50)      5    50  19.574841           0.100714   \n",
       "\n",
       "    Testing Accuracy  \n",
       "0           0.967381  \n",
       "1           0.970238  \n",
       "2           0.964048  \n",
       "3           0.971548  \n",
       "4           0.961786  \n",
       "5           1.000000  \n",
       "6           1.000000  \n",
       "7           0.948423  \n",
       "8           0.993452  \n",
       "9           0.997113  \n",
       "10          0.113304  \n",
       "11          0.099137  "
      ]
     },
     "execution_count": 76,
     "metadata": {},
     "output_type": "execute_result"
    }
   ],
   "source": [
    "#eval\n",
    "Model = 'Model 12 (MLP, 5, 50)' \n",
    "Layers = 5\n",
    "Nodes = 50\n",
    "Time = delta.total_seconds()\n",
    "Training_Accuracy = mlp8_test_pred\n",
    "Testing_Accuracy = mlp8_train_pred\n",
    "row = [Model, Layers, Nodes, Time, Training_Accuracy, Testing_Accuracy]\n",
    "results = results.append(pd.DataFrame([row], columns=results.columns), ignore_index=True)\n",
    "results"
   ]
  },
  {
   "cell_type": "markdown",
   "metadata": {
    "id": "cL7v_9HULl4L"
   },
   "source": [
    "#### 100 Nodes"
   ]
  },
  {
   "cell_type": "code",
   "execution_count": 77,
   "metadata": {
    "id": "H4_bOXI6KS70"
   },
   "outputs": [
    {
     "name": "stdout",
     "output_type": "stream",
     "text": [
      "Iteration 1, loss = 0.81648253\n",
      "Iteration 2, loss = 0.21923203\n",
      "Iteration 3, loss = 0.16311275\n",
      "Iteration 4, loss = 0.13162621\n",
      "Iteration 5, loss = 0.11535752\n",
      "Iteration 6, loss = 0.09349293\n",
      "Iteration 7, loss = 0.08865608\n",
      "Iteration 8, loss = 0.08041453\n",
      "Iteration 9, loss = 0.06911561\n",
      "Iteration 10, loss = 0.06949015\n",
      "Iteration 11, loss = 0.05939087\n",
      "Iteration 12, loss = 0.06019510\n",
      "Iteration 13, loss = 0.05525488\n",
      "Iteration 14, loss = 0.05353015\n",
      "Iteration 15, loss = 0.04777815\n",
      "Iteration 16, loss = 0.04135481\n",
      "Iteration 17, loss = 0.04212481\n",
      "Iteration 18, loss = 0.03968593\n",
      "Iteration 19, loss = 0.03838957\n",
      "Iteration 20, loss = 0.03899387\n",
      "Iteration 21, loss = 0.03745069\n",
      "Iteration 22, loss = 0.03796576\n",
      "Iteration 23, loss = 0.03380817\n",
      "Iteration 24, loss = 0.03332531\n",
      "Iteration 25, loss = 0.03562480\n",
      "Iteration 26, loss = 0.03022161\n",
      "Iteration 27, loss = 0.03203888\n",
      "Iteration 28, loss = 0.02593825\n",
      "Iteration 29, loss = 0.03003061\n",
      "Iteration 30, loss = 0.02810734\n",
      "Iteration 31, loss = 0.02606915\n",
      "Iteration 32, loss = 0.03021289\n",
      "Iteration 33, loss = 0.02431933\n",
      "Iteration 34, loss = 0.02463925\n",
      "Iteration 35, loss = 0.02775000\n",
      "Iteration 36, loss = 0.02490856\n",
      "Iteration 37, loss = 0.03479933\n",
      "Iteration 38, loss = 0.02630577\n",
      "Iteration 39, loss = 0.02504796\n",
      "Iteration 40, loss = 0.02385996\n",
      "Iteration 41, loss = 0.02570856\n",
      "Iteration 42, loss = 0.01835720\n",
      "Iteration 43, loss = 0.01670299\n",
      "Iteration 44, loss = 0.02055414\n",
      "Iteration 45, loss = 0.01756446\n",
      "Iteration 46, loss = 0.01263776\n",
      "Iteration 47, loss = 0.01776810\n",
      "Iteration 48, loss = 0.01535573\n",
      "Iteration 49, loss = 0.01630602\n",
      "Iteration 50, loss = 0.01717806\n",
      "Iteration 51, loss = 0.01075398\n",
      "Iteration 52, loss = 0.02093156\n",
      "Iteration 53, loss = 0.02009459\n",
      "Iteration 54, loss = 0.01275531\n",
      "Iteration 55, loss = 0.01594768\n",
      "Iteration 56, loss = 0.01317940\n",
      "Iteration 57, loss = 0.00917176\n",
      "Iteration 58, loss = 0.01090047\n",
      "Iteration 59, loss = 0.02058604\n",
      "Iteration 60, loss = 0.02117412\n",
      "Iteration 61, loss = 0.02109674\n",
      "Iteration 62, loss = 0.01589923\n",
      "Iteration 63, loss = 0.01431999\n",
      "Iteration 64, loss = 0.01131108\n",
      "Iteration 65, loss = 0.01513471\n"
     ]
    },
    {
     "name": "stderr",
     "output_type": "stream",
     "text": [
      "C:\\Users\\sjue\\Anaconda3\\lib\\site-packages\\sklearn\\neural_network\\_multilayer_perceptron.py:702: ConvergenceWarning: Stochastic Optimizer: Maximum iterations (65) reached and the optimization hasn't converged yet.\n",
      "  warnings.warn(\n"
     ]
    },
    {
     "name": "stdout",
     "output_type": "stream",
     "text": [
      "Training set score: 0.995863\n",
      "Test set score: 0.968333\n"
     ]
    }
   ],
   "source": [
    "mlp9 = MLPClassifier(\n",
    "    hidden_layer_sizes=layer_sizes_100x5,\n",
    "    max_iter=65,\n",
    "    alpha=1e-4,\n",
    "    solver=\"sgd\",\n",
    "    verbose=10,\n",
    "    random_state=42,\n",
    "    learning_rate_init=0.2,\n",
    ")\n",
    "              \n",
    "start = datetime.now()              \n",
    "mlp9.fit(X_train, y_train)\n",
    "end = datetime.now() \n",
    "\n",
    "print(\"Training set score: %f\" % mlp9.score(X_train, y_train))\n",
    "print(\"Test set score: %f\" % mlp9.score(X_test, y_test))"
   ]
  },
  {
   "cell_type": "code",
   "execution_count": 78,
   "metadata": {
    "id": "JmSVnhLlFan5"
   },
   "outputs": [
    {
     "name": "stdout",
     "output_type": "stream",
     "text": [
      "0:00:56.609293\n"
     ]
    }
   ],
   "source": [
    "delta = end-start\n",
    "print(delta)"
   ]
  },
  {
   "cell_type": "code",
   "execution_count": 79,
   "metadata": {
    "id": "O3_DTL1oFan6"
   },
   "outputs": [],
   "source": [
    "mlp9_test_pred = mlp9.score(X_test, y_test)\n",
    "mlp9_train_pred = mlp9.score(X_train, y_train)"
   ]
  },
  {
   "cell_type": "markdown",
   "metadata": {
    "id": "akzA0qnTpQPD"
   },
   "source": [
    "## Model Results Table"
   ]
  },
  {
   "cell_type": "code",
   "execution_count": 80,
   "metadata": {
    "id": "QJmfeV9NFan6"
   },
   "outputs": [
    {
     "data": {
      "text/html": [
       "<div>\n",
       "<style scoped>\n",
       "    .dataframe tbody tr th:only-of-type {\n",
       "        vertical-align: middle;\n",
       "    }\n",
       "\n",
       "    .dataframe tbody tr th {\n",
       "        vertical-align: top;\n",
       "    }\n",
       "\n",
       "    .dataframe thead th {\n",
       "        text-align: right;\n",
       "    }\n",
       "</style>\n",
       "<table border=\"1\" class=\"dataframe\">\n",
       "  <thead>\n",
       "    <tr style=\"text-align: right;\">\n",
       "      <th></th>\n",
       "      <th>Model</th>\n",
       "      <th>Layers</th>\n",
       "      <th>Nodes</th>\n",
       "      <th>Time</th>\n",
       "      <th>Training Accuracy</th>\n",
       "      <th>Testing Accuracy</th>\n",
       "    </tr>\n",
       "  </thead>\n",
       "  <tbody>\n",
       "    <tr>\n",
       "      <th>0</th>\n",
       "      <td>Model 1 (Seq, 2, 50)</td>\n",
       "      <td>2</td>\n",
       "      <td>50</td>\n",
       "      <td>36.952485</td>\n",
       "      <td>0.997560</td>\n",
       "      <td>0.967381</td>\n",
       "    </tr>\n",
       "    <tr>\n",
       "      <th>1</th>\n",
       "      <td>Model 2 (Seq, 2, 100)</td>\n",
       "      <td>2</td>\n",
       "      <td>100</td>\n",
       "      <td>33.675868</td>\n",
       "      <td>0.998065</td>\n",
       "      <td>0.970238</td>\n",
       "    </tr>\n",
       "    <tr>\n",
       "      <th>2</th>\n",
       "      <td>Model 3 (Seq, 4, 50)</td>\n",
       "      <td>4</td>\n",
       "      <td>50</td>\n",
       "      <td>39.674650</td>\n",
       "      <td>0.993214</td>\n",
       "      <td>0.964048</td>\n",
       "    </tr>\n",
       "    <tr>\n",
       "      <th>3</th>\n",
       "      <td>Model 4 (Seq, 4, 100)</td>\n",
       "      <td>4</td>\n",
       "      <td>100</td>\n",
       "      <td>41.149301</td>\n",
       "      <td>0.996399</td>\n",
       "      <td>0.971548</td>\n",
       "    </tr>\n",
       "    <tr>\n",
       "      <th>4</th>\n",
       "      <td>Model 5 (MLP, 1, 10)</td>\n",
       "      <td>1</td>\n",
       "      <td>10</td>\n",
       "      <td>18.248337</td>\n",
       "      <td>0.926071</td>\n",
       "      <td>0.961786</td>\n",
       "    </tr>\n",
       "    <tr>\n",
       "      <th>5</th>\n",
       "      <td>Model 6 (MLP, 1, 50)</td>\n",
       "      <td>1</td>\n",
       "      <td>50</td>\n",
       "      <td>11.281538</td>\n",
       "      <td>0.970476</td>\n",
       "      <td>1.000000</td>\n",
       "    </tr>\n",
       "    <tr>\n",
       "      <th>6</th>\n",
       "      <td>Model 7 (MLP, 1, 100)</td>\n",
       "      <td>1</td>\n",
       "      <td>100</td>\n",
       "      <td>15.372456</td>\n",
       "      <td>0.973690</td>\n",
       "      <td>1.000000</td>\n",
       "    </tr>\n",
       "    <tr>\n",
       "      <th>7</th>\n",
       "      <td>Model 8 (MLP, 3, 10)</td>\n",
       "      <td>3</td>\n",
       "      <td>10</td>\n",
       "      <td>19.170453</td>\n",
       "      <td>0.922619</td>\n",
       "      <td>0.948423</td>\n",
       "    </tr>\n",
       "    <tr>\n",
       "      <th>8</th>\n",
       "      <td>Model 9 (MLP, 3, 50)</td>\n",
       "      <td>3</td>\n",
       "      <td>50</td>\n",
       "      <td>18.911334</td>\n",
       "      <td>0.966905</td>\n",
       "      <td>0.993452</td>\n",
       "    </tr>\n",
       "    <tr>\n",
       "      <th>9</th>\n",
       "      <td>Model 10 (MLP, 3, 100)</td>\n",
       "      <td>3</td>\n",
       "      <td>100</td>\n",
       "      <td>44.649760</td>\n",
       "      <td>0.967738</td>\n",
       "      <td>0.997113</td>\n",
       "    </tr>\n",
       "    <tr>\n",
       "      <th>10</th>\n",
       "      <td>Model 11 (MLP, 5, 10)</td>\n",
       "      <td>5</td>\n",
       "      <td>10</td>\n",
       "      <td>2.983746</td>\n",
       "      <td>0.109405</td>\n",
       "      <td>0.113304</td>\n",
       "    </tr>\n",
       "    <tr>\n",
       "      <th>11</th>\n",
       "      <td>Model 12 (MLP, 5, 50)</td>\n",
       "      <td>5</td>\n",
       "      <td>50</td>\n",
       "      <td>19.574841</td>\n",
       "      <td>0.100714</td>\n",
       "      <td>0.099137</td>\n",
       "    </tr>\n",
       "    <tr>\n",
       "      <th>12</th>\n",
       "      <td>Model 13 (MLP, 5, 100)</td>\n",
       "      <td>5</td>\n",
       "      <td>100</td>\n",
       "      <td>56.609293</td>\n",
       "      <td>0.968333</td>\n",
       "      <td>0.995863</td>\n",
       "    </tr>\n",
       "  </tbody>\n",
       "</table>\n",
       "</div>"
      ],
      "text/plain": [
       "                     Model Layers Nodes       Time  Training Accuracy  \\\n",
       "0     Model 1 (Seq, 2, 50)      2    50  36.952485           0.997560   \n",
       "1    Model 2 (Seq, 2, 100)      2   100  33.675868           0.998065   \n",
       "2     Model 3 (Seq, 4, 50)      4    50  39.674650           0.993214   \n",
       "3    Model 4 (Seq, 4, 100)      4   100  41.149301           0.996399   \n",
       "4     Model 5 (MLP, 1, 10)      1    10  18.248337           0.926071   \n",
       "5     Model 6 (MLP, 1, 50)      1    50  11.281538           0.970476   \n",
       "6    Model 7 (MLP, 1, 100)      1   100  15.372456           0.973690   \n",
       "7     Model 8 (MLP, 3, 10)      3    10  19.170453           0.922619   \n",
       "8     Model 9 (MLP, 3, 50)      3    50  18.911334           0.966905   \n",
       "9   Model 10 (MLP, 3, 100)      3   100  44.649760           0.967738   \n",
       "10   Model 11 (MLP, 5, 10)      5    10   2.983746           0.109405   \n",
       "11   Model 12 (MLP, 5, 50)      5    50  19.574841           0.100714   \n",
       "12  Model 13 (MLP, 5, 100)      5   100  56.609293           0.968333   \n",
       "\n",
       "    Testing Accuracy  \n",
       "0           0.967381  \n",
       "1           0.970238  \n",
       "2           0.964048  \n",
       "3           0.971548  \n",
       "4           0.961786  \n",
       "5           1.000000  \n",
       "6           1.000000  \n",
       "7           0.948423  \n",
       "8           0.993452  \n",
       "9           0.997113  \n",
       "10          0.113304  \n",
       "11          0.099137  \n",
       "12          0.995863  "
      ]
     },
     "execution_count": 80,
     "metadata": {},
     "output_type": "execute_result"
    }
   ],
   "source": [
    "#eval\n",
    "Model = 'Model 13 (MLP, 5, 100)' \n",
    "Layers = 5\n",
    "Nodes = 100\n",
    "Time = delta.total_seconds()\n",
    "Training_Accuracy = mlp9_test_pred\n",
    "Testing_Accuracy = mlp9_train_pred\n",
    "row = [Model, Layers, Nodes, Time, Training_Accuracy, Testing_Accuracy]\n",
    "results = results.append(pd.DataFrame([row], columns=results.columns), ignore_index=True)\n",
    "results"
   ]
  },
  {
   "cell_type": "markdown",
   "metadata": {
    "id": "3pPZrdieZLfm"
   },
   "source": [
    "## Predictions"
   ]
  },
  {
   "cell_type": "code",
   "execution_count": 81,
   "metadata": {
    "id": "GfcnYRVAZTVz"
   },
   "outputs": [
    {
     "name": "stdout",
     "output_type": "stream",
     "text": [
      "263/263 [==============================] - 0s 746us/step\n",
      "263/263 [==============================] - 0s 725us/step\n",
      "263/263 [==============================] - 0s 687us/step\n",
      "263/263 [==============================] - 0s 742us/step\n"
     ]
    }
   ],
   "source": [
    "# Predicting the number labels\n",
    "\n",
    "# sequential model 1\n",
    "seq1_y_pred = model1.predict(X_test)\n",
    "seq1_y_pred = np.argmax(seq1_y_pred, axis=1) # Here we get the index of maximum value in the encoded vector\n",
    "\n",
    "# sequential model 2\n",
    "seq2_y_pred = model2.predict(X_test)\n",
    "seq2_y_pred = np.argmax(seq2_y_pred, axis=1)\n",
    "# sequential model 3\n",
    "seq3_y_pred = model3.predict(X_test)\n",
    "seq3_y_pred = np.argmax(seq3_y_pred, axis=1)\n",
    "\n",
    "# sequential model 4\n",
    "seq4_y_pred = model4.predict(X_test)\n",
    "seq4_y_pred = np.argmax(seq4_y_pred, axis=1)"
   ]
  },
  {
   "cell_type": "code",
   "execution_count": 82,
   "metadata": {
    "id": "2Oq1ItIFOsXy"
   },
   "outputs": [],
   "source": [
    "mlp1_test_pred = mlp1.predict(X_test)\n",
    "mlp1_train_pred = mlp1.predict(X_train)"
   ]
  },
  {
   "cell_type": "code",
   "execution_count": 83,
   "metadata": {
    "id": "AlxgJMFTPLXc"
   },
   "outputs": [],
   "source": [
    "mlp2_test_pred = mlp2.predict(X_test)\n",
    "mlp2_train_pred = mlp2.predict(X_train)"
   ]
  },
  {
   "cell_type": "code",
   "execution_count": 84,
   "metadata": {
    "id": "XRwOT3hBPLd2"
   },
   "outputs": [],
   "source": [
    "mlp3_test_pred = mlp3.predict(X_test)\n",
    "mlp3_train_pred = mlp3.predict(X_train)"
   ]
  },
  {
   "cell_type": "code",
   "execution_count": 85,
   "metadata": {
    "id": "QgyQN2qiPLjP"
   },
   "outputs": [],
   "source": [
    "mlp4_test_pred = mlp4.predict(X_test)\n",
    "mlp4_train_pred = mlp4.predict(X_train)"
   ]
  },
  {
   "cell_type": "code",
   "execution_count": 86,
   "metadata": {
    "id": "tlqTs9nvPLmx"
   },
   "outputs": [],
   "source": [
    "mlp5_test_pred = mlp5.predict(X_test)\n",
    "mlp5_train_pred = mlp5.predict(X_train)"
   ]
  },
  {
   "cell_type": "code",
   "execution_count": 87,
   "metadata": {
    "id": "HZ9HvhiHPLpW"
   },
   "outputs": [],
   "source": [
    "mlp6_test_pred = mlp6.predict(X_test)\n",
    "mlp6_train_pred = mlp6.predict(X_train)"
   ]
  },
  {
   "cell_type": "code",
   "execution_count": 88,
   "metadata": {
    "id": "roBoEWVSPLso"
   },
   "outputs": [],
   "source": [
    "mlp7_test_pred = mlp7.predict(X_test)\n",
    "mlp7_train_pred = mlp7.predict(X_train)"
   ]
  },
  {
   "cell_type": "code",
   "execution_count": 89,
   "metadata": {
    "id": "vorsB5TIPLvt"
   },
   "outputs": [],
   "source": [
    "mlp8_test_pred = mlp8.predict(X_test)\n",
    "mlp8_train_pred = mlp8.predict(X_train)"
   ]
  },
  {
   "cell_type": "code",
   "execution_count": 90,
   "metadata": {
    "id": "b91Juw-yPaRw"
   },
   "outputs": [],
   "source": [
    "mlp9_test_pred = mlp9.predict(X_test)\n",
    "mlp9_train_pred = mlp9.predict(X_train)"
   ]
  },
  {
   "cell_type": "markdown",
   "metadata": {
    "id": "FXdADRoSRVRX"
   },
   "source": [
    "## Confusion Matrices"
   ]
  },
  {
   "cell_type": "markdown",
   "metadata": {
    "id": "t22EV32GY4od"
   },
   "source": [
    "### Sequential Models"
   ]
  },
  {
   "cell_type": "markdown",
   "metadata": {
    "id": "OE9cS7iVkuJK"
   },
   "source": [
    "#### 2 Layers, 50 Nodes"
   ]
  },
  {
   "cell_type": "code",
   "execution_count": 91,
   "metadata": {
    "id": "CIcT-axgY4Dq"
   },
   "outputs": [
    {
     "data": {
      "image/png": "[encoded data removed]",
      "text/plain": [
       "<Figure size 720x720 with 2 Axes>"
      ]
     },
     "metadata": {},
     "output_type": "display_data"
    }
   ],
   "source": [
    "#Confusion matrix for sequential model 1\n",
    "con_mat=confusion_matrix(y_test, seq1_y_pred)\n",
    "plt.style.use('seaborn-deep')\n",
    "plt.figure(figsize=(10,10))\n",
    "sns.heatmap(con_mat,annot=True,annot_kws={'size': 15},linewidths=0.5,fmt=\"d\",cmap=\"gray\")\n",
    "plt.title('Sequential Model 1 True or False predicted digit MNIST\\n',fontweight='bold',fontsize=15)\n",
    "plt.show()"
   ]
  },
  {
   "cell_type": "markdown",
   "metadata": {
    "id": "jtx-3-g3kz0i"
   },
   "source": [
    "#### 2 layers, 100 Nodes"
   ]
  },
  {
   "cell_type": "code",
   "execution_count": 92,
   "metadata": {
    "id": "W1b5pnJDkV2b"
   },
   "outputs": [
    {
     "data": {
      "image/png": "[encoded data removed]",
      "text/plain": [
       "<Figure size 720x720 with 2 Axes>"
      ]
     },
     "metadata": {},
     "output_type": "display_data"
    }
   ],
   "source": [
    "#Confusion matrix for sequential model 2\n",
    "con_mat=confusion_matrix(y_test, seq2_y_pred)\n",
    "plt.style.use('seaborn-deep')\n",
    "plt.figure(figsize=(10,10))\n",
    "sns.heatmap(con_mat,annot=True,annot_kws={'size': 15},linewidths=0.5,fmt=\"d\",cmap=\"gray\")\n",
    "plt.title('Sequential Model 2 True or False predicted digit MNIST\\n',fontweight='bold',fontsize=15)\n",
    "plt.show()"
   ]
  },
  {
   "cell_type": "markdown",
   "metadata": {
    "id": "IMqODxPCk4Nu"
   },
   "source": [
    "#### 4 Layers, 50 Nodes"
   ]
  },
  {
   "cell_type": "code",
   "execution_count": 93,
   "metadata": {
    "id": "WseKMb7pkWRb"
   },
   "outputs": [
    {
     "data": {
      "image/png": "[encoded data removed]",
      "text/plain": [
       "<Figure size 720x720 with 2 Axes>"
      ]
     },
     "metadata": {},
     "output_type": "display_data"
    }
   ],
   "source": [
    "#Confusion matrix for sequential model 3\n",
    "con_mat=confusion_matrix(y_test, seq3_y_pred)\n",
    "plt.style.use('seaborn-deep')\n",
    "plt.figure(figsize=(10,10))\n",
    "sns.heatmap(con_mat,annot=True,annot_kws={'size': 15},linewidths=0.5,fmt=\"d\",cmap=\"gray\")\n",
    "plt.title('Sequential Model 3 True or False predicted digit MNIST\\n',fontweight='bold',fontsize=15)\n",
    "plt.show()"
   ]
  },
  {
   "cell_type": "markdown",
   "metadata": {
    "id": "rLT3EFCNk6-O"
   },
   "source": [
    "#### 4 Layers, 100 Nodes"
   ]
  },
  {
   "cell_type": "code",
   "execution_count": 94,
   "metadata": {
    "id": "FlEayUoqkWVb"
   },
   "outputs": [
    {
     "data": {
      "image/png": "[encoded data removed]",
      "text/plain": [
       "<Figure size 720x720 with 2 Axes>"
      ]
     },
     "metadata": {},
     "output_type": "display_data"
    }
   ],
   "source": [
    "#Confusion matrix for sequential model 4\n",
    "con_mat=confusion_matrix(y_test, seq4_y_pred)\n",
    "plt.style.use('seaborn-deep')\n",
    "plt.figure(figsize=(10,10))\n",
    "sns.heatmap(con_mat,annot=True,annot_kws={'size': 15},linewidths=0.5,fmt=\"d\",cmap=\"gray\")\n",
    "plt.title('Sequential Model 4 True or False predicted digit MNIST\\n',fontweight='bold',fontsize=15)\n",
    "plt.show()"
   ]
  },
  {
   "cell_type": "markdown",
   "metadata": {
    "id": "DMKTPX5mlF10"
   },
   "source": [
    "### MLP Classifier Models"
   ]
  },
  {
   "cell_type": "markdown",
   "metadata": {
    "id": "3uLJMeCrR0Up"
   },
   "source": [
    "### 1 Layer"
   ]
  },
  {
   "cell_type": "markdown",
   "metadata": {
    "id": "PlN5PI8qR46X"
   },
   "source": [
    "#### 10 Nodes"
   ]
  },
  {
   "cell_type": "code",
   "execution_count": 95,
   "metadata": {
    "id": "8y-NK_QaPy37"
   },
   "outputs": [
    {
     "data": {
      "image/png": "[encoded data removed]",
      "text/plain": [
       "<Figure size 1080x720 with 2 Axes>"
      ]
     },
     "metadata": {},
     "output_type": "display_data"
    }
   ],
   "source": [
    "cm1 = confusion_matrix(y_test, mlp1_test_pred)\n",
    "\n",
    "cm1_df = pd.DataFrame(cm1,\n",
    "                     index = ['One','Two','Three','Four','Five','Six','Seven','Eight','Nine','Ten'], \n",
    "                     columns = ['One','Two','Three','Four','Five','Six','Seven','Eight','Nine','Ten'])\n",
    "\n",
    "#Plotting the confusion matrix\n",
    "plt.figure(figsize=(15,10))\n",
    "sns.heatmap(cm1_df, annot=True)\n",
    "plt.title('Confusion Matrix')\n",
    "plt.ylabel('Actal Values')\n",
    "plt.xlabel('Predicted Values')\n",
    "plt.show()"
   ]
  },
  {
   "cell_type": "markdown",
   "metadata": {
    "id": "QlzIhTUWSSVJ"
   },
   "source": [
    "#### 50 Nodes"
   ]
  },
  {
   "cell_type": "code",
   "execution_count": 96,
   "metadata": {
    "id": "X8Avc9tPQQAX"
   },
   "outputs": [
    {
     "data": {
      "image/png": "[encoded data removed]",
      "text/plain": [
       "<Figure size 1080x720 with 2 Axes>"
      ]
     },
     "metadata": {},
     "output_type": "display_data"
    }
   ],
   "source": [
    "cm2 = confusion_matrix(y_test, mlp2_test_pred)\n",
    "\n",
    "cm2_df = pd.DataFrame(cm2,\n",
    "                     index = ['One','Two','Three','Four','Five','Six','Seven','Eight','Nine','Ten'], \n",
    "                     columns = ['One','Two','Three','Four','Five','Six','Seven','Eight','Nine','Ten'])\n",
    "\n",
    "#Plotting the confusion matrix\n",
    "plt.figure(figsize=(15,10))\n",
    "sns.heatmap(cm2_df, annot=True)\n",
    "plt.title('Confusion Matrix')\n",
    "plt.ylabel('Actal Values')\n",
    "plt.xlabel('Predicted Values')\n",
    "plt.show()"
   ]
  },
  {
   "cell_type": "markdown",
   "metadata": {
    "id": "EQaUtz0VR9p5"
   },
   "source": [
    "#### 100 Nodes"
   ]
  },
  {
   "cell_type": "code",
   "execution_count": 97,
   "metadata": {
    "id": "7z47T_lrR9p6"
   },
   "outputs": [
    {
     "data": {
      "image/png": "[encoded data removed]",
      "text/plain": [
       "<Figure size 1080x720 with 2 Axes>"
      ]
     },
     "metadata": {},
     "output_type": "display_data"
    }
   ],
   "source": [
    "cm3 = confusion_matrix(y_test, mlp3_test_pred)\n",
    "\n",
    "cm3_df = pd.DataFrame(cm3,\n",
    "                     index = ['One','Two','Three','Four','Five','Six','Seven','Eight','Nine','Ten'], \n",
    "                     columns = ['One','Two','Three','Four','Five','Six','Seven','Eight','Nine','Ten'])\n",
    "\n",
    "#Plotting the confusion matrix\n",
    "plt.figure(figsize=(15,10))\n",
    "sns.heatmap(cm3_df, annot=True)\n",
    "plt.title('Confusion Matrix')\n",
    "plt.ylabel('Actal Values')\n",
    "plt.xlabel('Predicted Values')\n",
    "plt.show()"
   ]
  },
  {
   "cell_type": "markdown",
   "metadata": {
    "id": "6V8LnLHESn65"
   },
   "source": [
    "### 3 Layers"
   ]
  },
  {
   "cell_type": "markdown",
   "metadata": {
    "id": "WZD9pWd-Sn7D"
   },
   "source": [
    "#### 10 Nodes"
   ]
  },
  {
   "cell_type": "code",
   "execution_count": 98,
   "metadata": {
    "id": "4MksxqdmSn7D"
   },
   "outputs": [
    {
     "data": {
      "image/png": "[encoded data removed]",
      "text/plain": [
       "<Figure size 1080x720 with 2 Axes>"
      ]
     },
     "metadata": {},
     "output_type": "display_data"
    }
   ],
   "source": [
    "cm4 = confusion_matrix(y_test, mlp4_test_pred)\n",
    "\n",
    "cm4_df = pd.DataFrame(cm4,\n",
    "                     index = ['One','Two','Three','Four','Five','Six','Seven','Eight','Nine','Ten'], \n",
    "                     columns = ['One','Two','Three','Four','Five','Six','Seven','Eight','Nine','Ten'])\n",
    "\n",
    "#Plotting the confusion matrix\n",
    "plt.figure(figsize=(15,10))\n",
    "sns.heatmap(cm4_df, annot=True)\n",
    "plt.title('Confusion Matrix')\n",
    "plt.ylabel('Actal Values')\n",
    "plt.xlabel('Predicted Values')\n",
    "plt.show()"
   ]
  },
  {
   "cell_type": "markdown",
   "metadata": {
    "id": "nMSsvMCTSn7E"
   },
   "source": [
    "#### 50 Nodes"
   ]
  },
  {
   "cell_type": "code",
   "execution_count": 99,
   "metadata": {
    "id": "WfJeSFu0Sn7E"
   },
   "outputs": [
    {
     "data": {
      "image/png": "[encoded data removed]",
      "text/plain": [
       "<Figure size 1080x720 with 2 Axes>"
      ]
     },
     "metadata": {},
     "output_type": "display_data"
    }
   ],
   "source": [
    "cm5 = confusion_matrix(y_test, mlp5_test_pred)\n",
    "\n",
    "cm5_df = pd.DataFrame(cm5,\n",
    "                     index = ['One','Two','Three','Four','Five','Six','Seven','Eight','Nine','Ten'], \n",
    "                     columns = ['One','Two','Three','Four','Five','Six','Seven','Eight','Nine','Ten'])\n",
    "\n",
    "#Plotting the confusion matrix\n",
    "plt.figure(figsize=(15,10))\n",
    "sns.heatmap(cm5_df, annot=True)\n",
    "plt.title('Confusion Matrix')\n",
    "plt.ylabel('Actal Values')\n",
    "plt.xlabel('Predicted Values')\n",
    "plt.show()"
   ]
  },
  {
   "cell_type": "markdown",
   "metadata": {
    "id": "03Kgwa5NSn7E"
   },
   "source": [
    "#### 100 Nodes"
   ]
  },
  {
   "cell_type": "code",
   "execution_count": 100,
   "metadata": {
    "id": "F2BmGxG1Sn7E"
   },
   "outputs": [
    {
     "data": {
      "image/png": "[encoded data removed]",
      "text/plain": [
       "<Figure size 1080x720 with 2 Axes>"
      ]
     },
     "metadata": {},
     "output_type": "display_data"
    }
   ],
   "source": [
    "cm6 = confusion_matrix(y_test, mlp6_test_pred)\n",
    "\n",
    "cm6_df = pd.DataFrame(cm6,\n",
    "                     index = ['One','Two','Three','Four','Five','Six','Seven','Eight','Nine','Ten'], \n",
    "                     columns = ['One','Two','Three','Four','Five','Six','Seven','Eight','Nine','Ten'])\n",
    "\n",
    "#Plotting the confusion matrix\n",
    "plt.figure(figsize=(15,10))\n",
    "sns.heatmap(cm6_df, annot=True)\n",
    "plt.title('Confusion Matrix')\n",
    "plt.ylabel('Actal Values')\n",
    "plt.xlabel('Predicted Values')\n",
    "plt.show()"
   ]
  },
  {
   "cell_type": "markdown",
   "metadata": {
    "id": "TUmYpiOxS2oE"
   },
   "source": [
    "### 5 Layers"
   ]
  },
  {
   "cell_type": "markdown",
   "metadata": {
    "id": "WfcA7YUlS2oP"
   },
   "source": [
    "#### 10 Nodes"
   ]
  },
  {
   "cell_type": "code",
   "execution_count": 101,
   "metadata": {
    "id": "0OKgy8COS2oP"
   },
   "outputs": [
    {
     "data": {
      "image/png": "[encoded data removed]",
      "text/plain": [
       "<Figure size 1080x720 with 2 Axes>"
      ]
     },
     "metadata": {},
     "output_type": "display_data"
    }
   ],
   "source": [
    "cm7 = confusion_matrix(y_test, mlp7_test_pred)\n",
    "\n",
    "cm7_df = pd.DataFrame(cm7,\n",
    "                     index = ['One','Two','Three','Four','Five','Six','Seven','Eight','Nine','Ten'], \n",
    "                     columns = ['One','Two','Three','Four','Five','Six','Seven','Eight','Nine','Ten'])\n",
    "\n",
    "#Plotting the confusion matrix\n",
    "plt.figure(figsize=(15,10))\n",
    "sns.heatmap(cm7_df, annot=True)\n",
    "plt.title('Confusion Matrix')\n",
    "plt.ylabel('Actal Values')\n",
    "plt.xlabel('Predicted Values')\n",
    "plt.show()"
   ]
  },
  {
   "cell_type": "markdown",
   "metadata": {
    "id": "lW1eTVgFS2oP"
   },
   "source": [
    "#### 50 Nodes"
   ]
  },
  {
   "cell_type": "code",
   "execution_count": 102,
   "metadata": {
    "id": "pr5QPjdTS2oP"
   },
   "outputs": [
    {
     "data": {
      "image/png": "[encoded data removed]",
      "text/plain": [
       "<Figure size 1080x720 with 2 Axes>"
      ]
     },
     "metadata": {},
     "output_type": "display_data"
    }
   ],
   "source": [
    "cm8 = confusion_matrix(y_test, mlp8_test_pred)\n",
    "\n",
    "cm8_df = pd.DataFrame(cm8,\n",
    "                     index = ['One','Two','Three','Four','Five','Six','Seven','Eight','Nine','Ten'], \n",
    "                     columns = ['One','Two','Three','Four','Five','Six','Seven','Eight','Nine','Ten'])\n",
    "\n",
    "#Plotting the confusion matrix\n",
    "plt.figure(figsize=(15,10))\n",
    "sns.heatmap(cm8_df, annot=True)\n",
    "plt.title('Confusion Matrix')\n",
    "plt.ylabel('Actal Values')\n",
    "plt.xlabel('Predicted Values')\n",
    "plt.show()"
   ]
  },
  {
   "cell_type": "markdown",
   "metadata": {
    "id": "6nGHsAGDS2oP"
   },
   "source": [
    "#### 100 Nodes"
   ]
  },
  {
   "cell_type": "code",
   "execution_count": 103,
   "metadata": {
    "id": "XYNEVZU9S2oP"
   },
   "outputs": [
    {
     "data": {
      "image/png": "[encoded data removed]",
      "text/plain": [
       "<Figure size 1080x720 with 2 Axes>"
      ]
     },
     "metadata": {},
     "output_type": "display_data"
    }
   ],
   "source": [
    "cm9 = confusion_matrix(y_test, mlp9_test_pred)\n",
    "\n",
    "cm9_df = pd.DataFrame(cm9,\n",
    "                     index = ['One','Two','Three','Four','Five','Six','Seven','Eight','Nine','Ten'], \n",
    "                     columns = ['One','Two','Three','Four','Five','Six','Seven','Eight','Nine','Ten'])\n",
    "\n",
    "#Plotting the confusion matrix\n",
    "plt.figure(figsize=(15,10))\n",
    "sns.heatmap(cm9_df, annot=True)\n",
    "plt.title('Confusion Matrix')\n",
    "plt.ylabel('Actal Values')\n",
    "plt.xlabel('Predicted Values')\n",
    "plt.show()"
   ]
  },
  {
   "cell_type": "markdown",
   "metadata": {
    "id": "ygY0SzjaFwtC"
   },
   "source": [
    "# Testing for Kaggle Submisson"
   ]
  },
  {
   "cell_type": "code",
   "execution_count": 104,
   "metadata": {
    "id": "wAyNXYRWKayt"
   },
   "outputs": [],
   "source": [
    "#create dataframe using test data from kaggle\n",
    "df_test = pd.read_csv(\"test.csv\")"
   ]
  },
  {
   "cell_type": "code",
   "execution_count": 105,
   "metadata": {
    "id": "1dK5gtV10MkJ"
   },
   "outputs": [
    {
     "data": {
      "text/plain": [
       "28000"
      ]
     },
     "execution_count": 105,
     "metadata": {},
     "output_type": "execute_result"
    }
   ],
   "source": [
    "len(df_test)"
   ]
  },
  {
   "cell_type": "markdown",
   "metadata": {
    "id": "y2nXP_jQUVJR"
   },
   "source": [
    "## Scale Data"
   ]
  },
  {
   "cell_type": "code",
   "execution_count": 106,
   "metadata": {
    "id": "ANX4gkegUVJR"
   },
   "outputs": [
    {
     "data": {
      "text/html": [
       "<div>\n",
       "<style scoped>\n",
       "    .dataframe tbody tr th:only-of-type {\n",
       "        vertical-align: middle;\n",
       "    }\n",
       "\n",
       "    .dataframe tbody tr th {\n",
       "        vertical-align: top;\n",
       "    }\n",
       "\n",
       "    .dataframe thead th {\n",
       "        text-align: right;\n",
       "    }\n",
       "</style>\n",
       "<table border=\"1\" class=\"dataframe\">\n",
       "  <thead>\n",
       "    <tr style=\"text-align: right;\">\n",
       "      <th></th>\n",
       "      <th>pixel0</th>\n",
       "      <th>pixel1</th>\n",
       "      <th>pixel2</th>\n",
       "      <th>pixel3</th>\n",
       "      <th>pixel4</th>\n",
       "      <th>pixel5</th>\n",
       "      <th>pixel6</th>\n",
       "      <th>pixel7</th>\n",
       "      <th>pixel8</th>\n",
       "      <th>pixel9</th>\n",
       "      <th>...</th>\n",
       "      <th>pixel774</th>\n",
       "      <th>pixel775</th>\n",
       "      <th>pixel776</th>\n",
       "      <th>pixel777</th>\n",
       "      <th>pixel778</th>\n",
       "      <th>pixel779</th>\n",
       "      <th>pixel780</th>\n",
       "      <th>pixel781</th>\n",
       "      <th>pixel782</th>\n",
       "      <th>pixel783</th>\n",
       "    </tr>\n",
       "  </thead>\n",
       "  <tbody>\n",
       "    <tr>\n",
       "      <th>0</th>\n",
       "      <td>0.0</td>\n",
       "      <td>0.0</td>\n",
       "      <td>0.0</td>\n",
       "      <td>0.0</td>\n",
       "      <td>0.0</td>\n",
       "      <td>0.0</td>\n",
       "      <td>0.0</td>\n",
       "      <td>0.0</td>\n",
       "      <td>0.0</td>\n",
       "      <td>0.0</td>\n",
       "      <td>...</td>\n",
       "      <td>0.0</td>\n",
       "      <td>0.0</td>\n",
       "      <td>0.0</td>\n",
       "      <td>0.0</td>\n",
       "      <td>0.0</td>\n",
       "      <td>0.0</td>\n",
       "      <td>0.0</td>\n",
       "      <td>0.0</td>\n",
       "      <td>0.0</td>\n",
       "      <td>0.0</td>\n",
       "    </tr>\n",
       "    <tr>\n",
       "      <th>1</th>\n",
       "      <td>0.0</td>\n",
       "      <td>0.0</td>\n",
       "      <td>0.0</td>\n",
       "      <td>0.0</td>\n",
       "      <td>0.0</td>\n",
       "      <td>0.0</td>\n",
       "      <td>0.0</td>\n",
       "      <td>0.0</td>\n",
       "      <td>0.0</td>\n",
       "      <td>0.0</td>\n",
       "      <td>...</td>\n",
       "      <td>0.0</td>\n",
       "      <td>0.0</td>\n",
       "      <td>0.0</td>\n",
       "      <td>0.0</td>\n",
       "      <td>0.0</td>\n",
       "      <td>0.0</td>\n",
       "      <td>0.0</td>\n",
       "      <td>0.0</td>\n",
       "      <td>0.0</td>\n",
       "      <td>0.0</td>\n",
       "    </tr>\n",
       "    <tr>\n",
       "      <th>2</th>\n",
       "      <td>0.0</td>\n",
       "      <td>0.0</td>\n",
       "      <td>0.0</td>\n",
       "      <td>0.0</td>\n",
       "      <td>0.0</td>\n",
       "      <td>0.0</td>\n",
       "      <td>0.0</td>\n",
       "      <td>0.0</td>\n",
       "      <td>0.0</td>\n",
       "      <td>0.0</td>\n",
       "      <td>...</td>\n",
       "      <td>0.0</td>\n",
       "      <td>0.0</td>\n",
       "      <td>0.0</td>\n",
       "      <td>0.0</td>\n",
       "      <td>0.0</td>\n",
       "      <td>0.0</td>\n",
       "      <td>0.0</td>\n",
       "      <td>0.0</td>\n",
       "      <td>0.0</td>\n",
       "      <td>0.0</td>\n",
       "    </tr>\n",
       "    <tr>\n",
       "      <th>3</th>\n",
       "      <td>0.0</td>\n",
       "      <td>0.0</td>\n",
       "      <td>0.0</td>\n",
       "      <td>0.0</td>\n",
       "      <td>0.0</td>\n",
       "      <td>0.0</td>\n",
       "      <td>0.0</td>\n",
       "      <td>0.0</td>\n",
       "      <td>0.0</td>\n",
       "      <td>0.0</td>\n",
       "      <td>...</td>\n",
       "      <td>0.0</td>\n",
       "      <td>0.0</td>\n",
       "      <td>0.0</td>\n",
       "      <td>0.0</td>\n",
       "      <td>0.0</td>\n",
       "      <td>0.0</td>\n",
       "      <td>0.0</td>\n",
       "      <td>0.0</td>\n",
       "      <td>0.0</td>\n",
       "      <td>0.0</td>\n",
       "    </tr>\n",
       "    <tr>\n",
       "      <th>4</th>\n",
       "      <td>0.0</td>\n",
       "      <td>0.0</td>\n",
       "      <td>0.0</td>\n",
       "      <td>0.0</td>\n",
       "      <td>0.0</td>\n",
       "      <td>0.0</td>\n",
       "      <td>0.0</td>\n",
       "      <td>0.0</td>\n",
       "      <td>0.0</td>\n",
       "      <td>0.0</td>\n",
       "      <td>...</td>\n",
       "      <td>0.0</td>\n",
       "      <td>0.0</td>\n",
       "      <td>0.0</td>\n",
       "      <td>0.0</td>\n",
       "      <td>0.0</td>\n",
       "      <td>0.0</td>\n",
       "      <td>0.0</td>\n",
       "      <td>0.0</td>\n",
       "      <td>0.0</td>\n",
       "      <td>0.0</td>\n",
       "    </tr>\n",
       "  </tbody>\n",
       "</table>\n",
       "<p>5 rows × 784 columns</p>\n",
       "</div>"
      ],
      "text/plain": [
       "   pixel0  pixel1  pixel2  pixel3  pixel4  pixel5  pixel6  pixel7  pixel8  \\\n",
       "0     0.0     0.0     0.0     0.0     0.0     0.0     0.0     0.0     0.0   \n",
       "1     0.0     0.0     0.0     0.0     0.0     0.0     0.0     0.0     0.0   \n",
       "2     0.0     0.0     0.0     0.0     0.0     0.0     0.0     0.0     0.0   \n",
       "3     0.0     0.0     0.0     0.0     0.0     0.0     0.0     0.0     0.0   \n",
       "4     0.0     0.0     0.0     0.0     0.0     0.0     0.0     0.0     0.0   \n",
       "\n",
       "   pixel9  ...  pixel774  pixel775  pixel776  pixel777  pixel778  pixel779  \\\n",
       "0     0.0  ...       0.0       0.0       0.0       0.0       0.0       0.0   \n",
       "1     0.0  ...       0.0       0.0       0.0       0.0       0.0       0.0   \n",
       "2     0.0  ...       0.0       0.0       0.0       0.0       0.0       0.0   \n",
       "3     0.0  ...       0.0       0.0       0.0       0.0       0.0       0.0   \n",
       "4     0.0  ...       0.0       0.0       0.0       0.0       0.0       0.0   \n",
       "\n",
       "   pixel780  pixel781  pixel782  pixel783  \n",
       "0       0.0       0.0       0.0       0.0  \n",
       "1       0.0       0.0       0.0       0.0  \n",
       "2       0.0       0.0       0.0       0.0  \n",
       "3       0.0       0.0       0.0       0.0  \n",
       "4       0.0       0.0       0.0       0.0  \n",
       "\n",
       "[5 rows x 784 columns]"
      ]
     },
     "execution_count": 106,
     "metadata": {},
     "output_type": "execute_result"
    }
   ],
   "source": [
    "# Conversion to float\n",
    "df_float = df_test.astype('float32')\n",
    "\n",
    "# Normalization\n",
    "X = df_float/255.0\n",
    "\n",
    "X.head()"
   ]
  },
  {
   "cell_type": "markdown",
   "metadata": {
    "id": "hNh9-USiLMkP"
   },
   "source": [
    "## Flatten Data"
   ]
  },
  {
   "cell_type": "code",
   "execution_count": 107,
   "metadata": {
    "id": "wKWqgoYgLL57"
   },
   "outputs": [
    {
     "data": {
      "text/plain": [
       "(28000, 784)"
      ]
     },
     "execution_count": 107,
     "metadata": {},
     "output_type": "execute_result"
    }
   ],
   "source": [
    "X = X.to_numpy().reshape((len(X), -1))\n",
    "X.shape"
   ]
  },
  {
   "cell_type": "markdown",
   "metadata": {
    "id": "6pFSRLqkU5kp"
   },
   "source": [
    "## Test Models"
   ]
  },
  {
   "cell_type": "code",
   "execution_count": 108,
   "metadata": {
    "id": "x1FzIDQdVR3I"
   },
   "outputs": [
    {
     "name": "stdout",
     "output_type": "stream",
     "text": [
      "875/875 [==============================] - 1s 720us/step\n"
     ]
    },
    {
     "data": {
      "text/html": [
       "<div>\n",
       "<style scoped>\n",
       "    .dataframe tbody tr th:only-of-type {\n",
       "        vertical-align: middle;\n",
       "    }\n",
       "\n",
       "    .dataframe tbody tr th {\n",
       "        vertical-align: top;\n",
       "    }\n",
       "\n",
       "    .dataframe thead th {\n",
       "        text-align: right;\n",
       "    }\n",
       "</style>\n",
       "<table border=\"1\" class=\"dataframe\">\n",
       "  <thead>\n",
       "    <tr style=\"text-align: right;\">\n",
       "      <th></th>\n",
       "      <th>ImageId</th>\n",
       "      <th>Label</th>\n",
       "    </tr>\n",
       "  </thead>\n",
       "  <tbody>\n",
       "    <tr>\n",
       "      <th>0</th>\n",
       "      <td>1</td>\n",
       "      <td>2</td>\n",
       "    </tr>\n",
       "    <tr>\n",
       "      <th>1</th>\n",
       "      <td>2</td>\n",
       "      <td>0</td>\n",
       "    </tr>\n",
       "    <tr>\n",
       "      <th>2</th>\n",
       "      <td>3</td>\n",
       "      <td>9</td>\n",
       "    </tr>\n",
       "    <tr>\n",
       "      <th>3</th>\n",
       "      <td>4</td>\n",
       "      <td>9</td>\n",
       "    </tr>\n",
       "    <tr>\n",
       "      <th>4</th>\n",
       "      <td>5</td>\n",
       "      <td>3</td>\n",
       "    </tr>\n",
       "  </tbody>\n",
       "</table>\n",
       "</div>"
      ],
      "text/plain": [
       "   ImageId  Label\n",
       "0        1      2\n",
       "1        2      0\n",
       "2        3      9\n",
       "3        4      9\n",
       "4        5      3"
      ]
     },
     "execution_count": 108,
     "metadata": {},
     "output_type": "execute_result"
    }
   ],
   "source": [
    "# Sequential Model 2\n",
    "seq2_pred = model2.predict(X)\n",
    "seq2_pred = np.argmax(seq2_pred, axis=1)\n",
    "seq2_pred = pd.DataFrame(seq2_pred ,columns = ['Label'])\n",
    "seq2_pred.insert(0, 'ImageId', range(1, 1 + len(X)))\n",
    "\n",
    "seq2_pred.head()"
   ]
  },
  {
   "cell_type": "code",
   "execution_count": 109,
   "metadata": {
    "id": "BuBwAA0mNQiy"
   },
   "outputs": [
    {
     "name": "stdout",
     "output_type": "stream",
     "text": [
      "875/875 [==============================] - 1s 797us/step\n"
     ]
    },
    {
     "data": {
      "text/html": [
       "<div>\n",
       "<style scoped>\n",
       "    .dataframe tbody tr th:only-of-type {\n",
       "        vertical-align: middle;\n",
       "    }\n",
       "\n",
       "    .dataframe tbody tr th {\n",
       "        vertical-align: top;\n",
       "    }\n",
       "\n",
       "    .dataframe thead th {\n",
       "        text-align: right;\n",
       "    }\n",
       "</style>\n",
       "<table border=\"1\" class=\"dataframe\">\n",
       "  <thead>\n",
       "    <tr style=\"text-align: right;\">\n",
       "      <th></th>\n",
       "      <th>ImageId</th>\n",
       "      <th>Label</th>\n",
       "    </tr>\n",
       "  </thead>\n",
       "  <tbody>\n",
       "    <tr>\n",
       "      <th>0</th>\n",
       "      <td>1</td>\n",
       "      <td>2</td>\n",
       "    </tr>\n",
       "    <tr>\n",
       "      <th>1</th>\n",
       "      <td>2</td>\n",
       "      <td>0</td>\n",
       "    </tr>\n",
       "    <tr>\n",
       "      <th>2</th>\n",
       "      <td>3</td>\n",
       "      <td>9</td>\n",
       "    </tr>\n",
       "    <tr>\n",
       "      <th>3</th>\n",
       "      <td>4</td>\n",
       "      <td>0</td>\n",
       "    </tr>\n",
       "    <tr>\n",
       "      <th>4</th>\n",
       "      <td>5</td>\n",
       "      <td>3</td>\n",
       "    </tr>\n",
       "  </tbody>\n",
       "</table>\n",
       "</div>"
      ],
      "text/plain": [
       "   ImageId  Label\n",
       "0        1      2\n",
       "1        2      0\n",
       "2        3      9\n",
       "3        4      0\n",
       "4        5      3"
      ]
     },
     "execution_count": 109,
     "metadata": {},
     "output_type": "execute_result"
    }
   ],
   "source": [
    "# Sequential Model 4\n",
    "seq4_pred = model4.predict(X)\n",
    "seq4_pred = np.argmax(seq4_pred, axis=1)\n",
    "seq4_pred = pd.DataFrame(seq4_pred ,columns = ['Label'])\n",
    "seq4_pred.insert(0, 'ImageId', range(1, 1 + len(X)))\n",
    "\n",
    "seq4_pred.head()"
   ]
  },
  {
   "cell_type": "code",
   "execution_count": 110,
   "metadata": {
    "id": "bIk909YONqNr"
   },
   "outputs": [
    {
     "data": {
      "text/html": [
       "<div>\n",
       "<style scoped>\n",
       "    .dataframe tbody tr th:only-of-type {\n",
       "        vertical-align: middle;\n",
       "    }\n",
       "\n",
       "    .dataframe tbody tr th {\n",
       "        vertical-align: top;\n",
       "    }\n",
       "\n",
       "    .dataframe thead th {\n",
       "        text-align: right;\n",
       "    }\n",
       "</style>\n",
       "<table border=\"1\" class=\"dataframe\">\n",
       "  <thead>\n",
       "    <tr style=\"text-align: right;\">\n",
       "      <th></th>\n",
       "      <th>ImageId</th>\n",
       "      <th>Label</th>\n",
       "    </tr>\n",
       "  </thead>\n",
       "  <tbody>\n",
       "    <tr>\n",
       "      <th>0</th>\n",
       "      <td>1</td>\n",
       "      <td>2</td>\n",
       "    </tr>\n",
       "    <tr>\n",
       "      <th>1</th>\n",
       "      <td>2</td>\n",
       "      <td>0</td>\n",
       "    </tr>\n",
       "    <tr>\n",
       "      <th>2</th>\n",
       "      <td>3</td>\n",
       "      <td>9</td>\n",
       "    </tr>\n",
       "    <tr>\n",
       "      <th>3</th>\n",
       "      <td>4</td>\n",
       "      <td>9</td>\n",
       "    </tr>\n",
       "    <tr>\n",
       "      <th>4</th>\n",
       "      <td>5</td>\n",
       "      <td>3</td>\n",
       "    </tr>\n",
       "  </tbody>\n",
       "</table>\n",
       "</div>"
      ],
      "text/plain": [
       "   ImageId  Label\n",
       "0        1      2\n",
       "1        2      0\n",
       "2        3      9\n",
       "3        4      9\n",
       "4        5      3"
      ]
     },
     "execution_count": 110,
     "metadata": {},
     "output_type": "execute_result"
    }
   ],
   "source": [
    "# Model 7 (MLP model 3)\n",
    "mlp3_pred = pd.DataFrame(mlp3.predict(X), columns = ['Label'])\n",
    "mlp3_pred.insert(0, 'ImageId', range(1, 1 + len(X)))\n",
    "\n",
    "mlp3_pred.head()"
   ]
  },
  {
   "cell_type": "code",
   "execution_count": 111,
   "metadata": {
    "id": "duYKtaKiPJVF"
   },
   "outputs": [
    {
     "data": {
      "text/html": [
       "<div>\n",
       "<style scoped>\n",
       "    .dataframe tbody tr th:only-of-type {\n",
       "        vertical-align: middle;\n",
       "    }\n",
       "\n",
       "    .dataframe tbody tr th {\n",
       "        vertical-align: top;\n",
       "    }\n",
       "\n",
       "    .dataframe thead th {\n",
       "        text-align: right;\n",
       "    }\n",
       "</style>\n",
       "<table border=\"1\" class=\"dataframe\">\n",
       "  <thead>\n",
       "    <tr style=\"text-align: right;\">\n",
       "      <th></th>\n",
       "      <th>ImageId</th>\n",
       "      <th>Label</th>\n",
       "    </tr>\n",
       "  </thead>\n",
       "  <tbody>\n",
       "    <tr>\n",
       "      <th>0</th>\n",
       "      <td>1</td>\n",
       "      <td>2</td>\n",
       "    </tr>\n",
       "    <tr>\n",
       "      <th>1</th>\n",
       "      <td>2</td>\n",
       "      <td>0</td>\n",
       "    </tr>\n",
       "    <tr>\n",
       "      <th>2</th>\n",
       "      <td>3</td>\n",
       "      <td>9</td>\n",
       "    </tr>\n",
       "    <tr>\n",
       "      <th>3</th>\n",
       "      <td>4</td>\n",
       "      <td>9</td>\n",
       "    </tr>\n",
       "    <tr>\n",
       "      <th>4</th>\n",
       "      <td>5</td>\n",
       "      <td>3</td>\n",
       "    </tr>\n",
       "  </tbody>\n",
       "</table>\n",
       "</div>"
      ],
      "text/plain": [
       "   ImageId  Label\n",
       "0        1      2\n",
       "1        2      0\n",
       "2        3      9\n",
       "3        4      9\n",
       "4        5      3"
      ]
     },
     "execution_count": 111,
     "metadata": {},
     "output_type": "execute_result"
    }
   ],
   "source": [
    "# Model 10 (MLP model 6)\n",
    "mlp6_pred = pd.DataFrame(mlp6.predict(X), columns = ['Label'])\n",
    "mlp6_pred.insert(0, 'ImageId', range(1, 1 + len(X)))\n",
    "\n",
    "mlp6_pred.head()"
   ]
  },
  {
   "cell_type": "code",
   "execution_count": 112,
   "metadata": {
    "id": "ADk1-dNPNqcX"
   },
   "outputs": [
    {
     "data": {
      "text/html": [
       "<div>\n",
       "<style scoped>\n",
       "    .dataframe tbody tr th:only-of-type {\n",
       "        vertical-align: middle;\n",
       "    }\n",
       "\n",
       "    .dataframe tbody tr th {\n",
       "        vertical-align: top;\n",
       "    }\n",
       "\n",
       "    .dataframe thead th {\n",
       "        text-align: right;\n",
       "    }\n",
       "</style>\n",
       "<table border=\"1\" class=\"dataframe\">\n",
       "  <thead>\n",
       "    <tr style=\"text-align: right;\">\n",
       "      <th></th>\n",
       "      <th>ImageId</th>\n",
       "      <th>Label</th>\n",
       "    </tr>\n",
       "  </thead>\n",
       "  <tbody>\n",
       "    <tr>\n",
       "      <th>0</th>\n",
       "      <td>1</td>\n",
       "      <td>2</td>\n",
       "    </tr>\n",
       "    <tr>\n",
       "      <th>1</th>\n",
       "      <td>2</td>\n",
       "      <td>0</td>\n",
       "    </tr>\n",
       "    <tr>\n",
       "      <th>2</th>\n",
       "      <td>3</td>\n",
       "      <td>9</td>\n",
       "    </tr>\n",
       "    <tr>\n",
       "      <th>3</th>\n",
       "      <td>4</td>\n",
       "      <td>9</td>\n",
       "    </tr>\n",
       "    <tr>\n",
       "      <th>4</th>\n",
       "      <td>5</td>\n",
       "      <td>3</td>\n",
       "    </tr>\n",
       "  </tbody>\n",
       "</table>\n",
       "</div>"
      ],
      "text/plain": [
       "   ImageId  Label\n",
       "0        1      2\n",
       "1        2      0\n",
       "2        3      9\n",
       "3        4      9\n",
       "4        5      3"
      ]
     },
     "execution_count": 112,
     "metadata": {},
     "output_type": "execute_result"
    }
   ],
   "source": [
    "# Model 12 (MLP model 9)\n",
    "mlp9_pred = pd.DataFrame(mlp9.predict(X), columns = ['Label'])\n",
    "mlp9_pred.insert(0, 'ImageId', range(1, 1 + len(X)))\n",
    "\n",
    "mlp9_pred.head()"
   ]
  },
  {
   "cell_type": "markdown",
   "metadata": {
    "id": "QruugooN2zHz"
   },
   "source": [
    "## Download the Files"
   ]
  },
  {
   "cell_type": "markdown",
   "metadata": {
    "id": "s2_3Z6Ce22lr"
   },
   "source": [
    "Leave these commented out unless downloading a final version."
   ]
  },
  {
   "cell_type": "code",
   "execution_count": 113,
   "metadata": {
    "id": "uDZSyeCCQEpm"
   },
   "outputs": [],
   "source": [
    "# seq2_pred.to_csv('seq2_pred-group_5_msds_422.csv', index=False)\n",
    "# files.download('seq2_pred-group_5_msds_422.csv')"
   ]
  },
  {
   "cell_type": "code",
   "execution_count": 114,
   "metadata": {
    "id": "fxwYjcUq2YYR"
   },
   "outputs": [],
   "source": [
    "# seq4_pred.to_csv('seq4_pred-group_5_msds_422.csv', index=False)\n",
    "# files.download('seq4_pred-group_5_msds_422.csv')"
   ]
  },
  {
   "cell_type": "code",
   "execution_count": 115,
   "metadata": {
    "id": "DyBPchF4P1R-"
   },
   "outputs": [],
   "source": [
    "# mlp3_pred.to_csv('mlp3_pred-group_5_msds_422.csv', index=False)\n",
    "# files.download('mlp3_pred-group_5_msds_422.csv')"
   ]
  },
  {
   "cell_type": "code",
   "execution_count": 116,
   "metadata": {
    "id": "Ym0BuxGvP1Uu"
   },
   "outputs": [],
   "source": [
    "# mlp6_pred.to_csv('mlp6_pred-group_5_msds_422.csv', index=False)\n",
    "# files.download('mlp6_pred-group_5_msds_422.csv')"
   ]
  },
  {
   "cell_type": "code",
   "execution_count": 117,
   "metadata": {
    "id": "HSYdNVWpP1XD"
   },
   "outputs": [],
   "source": [
    "# mlp9_pred.to_csv('mlp9_pred-group_5_msds_422.csv', index=False)\n",
    "# files.download('mlp9_pred-group_5_msds_422.csv')"
   ]
  },
  {
   "cell_type": "code",
   "execution_count": 118,
   "metadata": {
    "id": "JVzN2mBgP1ZC"
   },
   "outputs": [],
   "source": [
    "# %%capture\n",
    "# !wget -nc https://raw.githubusercontent.com/brpy/colab-pdf/master/colab_pdf.py\n",
    "# from colab_pdf import colab_pdf\n",
    "# colab_pdf('Module7_Assignment_1.ipynb')"
   ]
  }
 ],
 "metadata": {
  "colab": {
   "collapsed_sections": [],
   "name": "Module7_Assignment_1.ipynb",
   "provenance": [],
   "toc_visible": true
  },
  "kernelspec": {
   "display_name": "Python 3",
   "language": "python",
   "name": "python3"
  },
  "language_info": {
   "codemirror_mode": {
    "name": "ipython",
    "version": 3
   },
   "file_extension": ".py",
   "mimetype": "text/x-python",
   "name": "python",
   "nbconvert_exporter": "python",
   "pygments_lexer": "ipython3",
   "version": "3.8.8"
  }
 },
 "nbformat": 4,
 "nbformat_minor": 1
}

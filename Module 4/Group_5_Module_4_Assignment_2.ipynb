{
 "cells": [
  {
   "cell_type": "markdown",
   "metadata": {
    "id": "_rkbtiNz0PX5"
   },
   "source": [
    "# Intro"
   ]
  },
  {
   "cell_type": "markdown",
   "metadata": {
    "id": "ZlzxLKuqJdbj"
   },
   "source": [
    "## Links"
   ]
  },
  {
   "cell_type": "markdown",
   "metadata": {
    "id": "mDzJlecjJWwW"
   },
   "source": [
    "https://canvas.northwestern.edu/courses/167719/assignments/1078603?module_item_id=2319248 "
   ]
  },
  {
   "cell_type": "markdown",
   "metadata": {
    "id": "GirNVm4305d7"
   },
   "source": [
    "https://www.kaggle.com/datasets/fedesoriano/company-bankruptcy-prediction\n"
   ]
  },
  {
   "cell_type": "markdown",
   "metadata": {
    "id": "2Ob8erZOJnOm"
   },
   "source": [
    "## Modules"
   ]
  },
  {
   "cell_type": "code",
   "execution_count": 1,
   "metadata": {
    "id": "PlMK7gDyouJK"
   },
   "outputs": [],
   "source": [
    "#For data manipulation and visualization\n",
    "import pandas as pd\n",
    "import seaborn as sns\n",
    "import matplotlib.pyplot as plt\n",
    "import numpy as np\n",
    "from numpy import array \n",
    "from numpy import arange \n",
    "\n",
    "#For Isolation Forest from sklearn\n",
    "from sklearn.ensemble import IsolationForest\n",
    "from enum import auto\n",
    "\n",
    "#From sklearn (SVM, Logistic, Bayes)\n",
    "from sklearn.svm import SVC\n",
    "from sklearn import svm\n",
    "\n",
    "from sklearn.linear_model import LogisticRegression\n",
    "from sklearn.linear_model import ElasticNet\n",
    "from sklearn.linear_model import ElasticNetCV\n",
    "\n",
    "from sklearn.model_selection import GridSearchCV \n",
    "from sklearn.model_selection import RepeatedKFold \n",
    "from sklearn.model_selection import train_test_split\n",
    "from sklearn.model_selection import KFold\n",
    "from sklearn.model_selection import cross_val_score\n",
    "\n",
    "from sklearn.feature_selection import SelectKBest\n",
    "from sklearn.feature_selection import f_classif\n",
    "\n",
    "from sklearn.preprocessing import MinMaxScaler, StandardScaler\n",
    "\n",
    "from sklearn.naive_bayes import GaussianNB\n",
    "\n",
    "from sklearn import metrics\n",
    "\n",
    "from sklearn.metrics import f1_score, classification_report, confusion_matrix\n",
    "from sklearn.metrics import roc_curve, auc, roc_auc_score\n",
    "from sklearn.metrics import PrecisionRecallDisplay\n",
    "from sklearn.metrics import precision_score, recall_score, precision_recall_curve\n",
    "from sklearn.metrics import mean_squared_error\n",
    "\n",
    "#Other\n",
    "from math import sqrt"
   ]
  },
  {
   "cell_type": "markdown",
   "metadata": {
    "id": "3hSs0WmVJvZ8"
   },
   "source": [
    "## Import Files"
   ]
  },
  {
   "cell_type": "code",
   "execution_count": 2,
   "metadata": {
    "colab": {
     "base_uri": "https://localhost:8080/",
     "height": 74,
     "resources": {
      "http://localhost:8080/nbextensions/google.colab/files.js": {
       "data": "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",
       "headers": [
        [
         "content-type",
         "application/javascript"
        ]
       ],
       "ok": true,
       "status": 200,
       "status_text": ""
      }
     }
    },
    "id": "mblCBynfoq3g",
    "outputId": "8979fb38-e9ee-451c-9ecb-d3b60545e1aa"
   },
   "outputs": [],
   "source": [
    "#Import data.csv from the Kaggle page linked above\n",
    "# from google.colab import files\n",
    "# uploaded = files.upload()"
   ]
  },
  {
   "cell_type": "code",
   "execution_count": 3,
   "metadata": {
    "id": "u2NcL_jLaunT"
   },
   "outputs": [],
   "source": [
    "df = pd.read_csv(\"data.csv\")"
   ]
  },
  {
   "cell_type": "markdown",
   "metadata": {
    "id": "cGR3WNCHoCbX"
   },
   "source": [
    "# EDA"
   ]
  },
  {
   "cell_type": "markdown",
   "metadata": {
    "id": "L8pQ3UYEJ6Aw"
   },
   "source": [
    "## Intro Stats"
   ]
  },
  {
   "cell_type": "code",
   "execution_count": 4,
   "metadata": {
    "colab": {
     "base_uri": "https://localhost:8080/"
    },
    "id": "aJU7NpfoFVBG",
    "outputId": "29c49930-23bb-4a7f-8881-8a2e53fbaeb8"
   },
   "outputs": [
    {
     "data": {
      "text/plain": [
       "(6819, 96)"
      ]
     },
     "execution_count": 4,
     "metadata": {},
     "output_type": "execute_result"
    }
   ],
   "source": [
    "df.shape"
   ]
  },
  {
   "cell_type": "code",
   "execution_count": 5,
   "metadata": {
    "colab": {
     "base_uri": "https://localhost:8080/"
    },
    "id": "Hrl5nwXa-3H6",
    "outputId": "b93eae9e-04e2-4716-99a2-d778a2123485"
   },
   "outputs": [
    {
     "name": "stdout",
     "output_type": "stream",
     "text": [
      "<class 'pandas.core.frame.DataFrame'>\n",
      "RangeIndex: 6819 entries, 0 to 6818\n",
      "Data columns (total 96 columns):\n",
      " #   Column                                                    Non-Null Count  Dtype  \n",
      "---  ------                                                    --------------  -----  \n",
      " 0   Bankrupt?                                                 6819 non-null   int64  \n",
      " 1    ROA(C) before interest and depreciation before interest  6819 non-null   float64\n",
      " 2    ROA(A) before interest and % after tax                   6819 non-null   float64\n",
      " 3    ROA(B) before interest and depreciation after tax        6819 non-null   float64\n",
      " 4    Operating Gross Margin                                   6819 non-null   float64\n",
      " 5    Realized Sales Gross Margin                              6819 non-null   float64\n",
      " 6    Operating Profit Rate                                    6819 non-null   float64\n",
      " 7    Pre-tax net Interest Rate                                6819 non-null   float64\n",
      " 8    After-tax net Interest Rate                              6819 non-null   float64\n",
      " 9    Non-industry income and expenditure/revenue              6819 non-null   float64\n",
      " 10   Continuous interest rate (after tax)                     6819 non-null   float64\n",
      " 11   Operating Expense Rate                                   6819 non-null   float64\n",
      " 12   Research and development expense rate                    6819 non-null   float64\n",
      " 13   Cash flow rate                                           6819 non-null   float64\n",
      " 14   Interest-bearing debt interest rate                      6819 non-null   float64\n",
      " 15   Tax rate (A)                                             6819 non-null   float64\n",
      " 16   Net Value Per Share (B)                                  6819 non-null   float64\n",
      " 17   Net Value Per Share (A)                                  6819 non-null   float64\n",
      " 18   Net Value Per Share (C)                                  6819 non-null   float64\n",
      " 19   Persistent EPS in the Last Four Seasons                  6819 non-null   float64\n",
      " 20   Cash Flow Per Share                                      6819 non-null   float64\n",
      " 21   Revenue Per Share (Yuan ¥)                               6819 non-null   float64\n",
      " 22   Operating Profit Per Share (Yuan ¥)                      6819 non-null   float64\n",
      " 23   Per Share Net profit before tax (Yuan ¥)                 6819 non-null   float64\n",
      " 24   Realized Sales Gross Profit Growth Rate                  6819 non-null   float64\n",
      " 25   Operating Profit Growth Rate                             6819 non-null   float64\n",
      " 26   After-tax Net Profit Growth Rate                         6819 non-null   float64\n",
      " 27   Regular Net Profit Growth Rate                           6819 non-null   float64\n",
      " 28   Continuous Net Profit Growth Rate                        6819 non-null   float64\n",
      " 29   Total Asset Growth Rate                                  6819 non-null   float64\n",
      " 30   Net Value Growth Rate                                    6819 non-null   float64\n",
      " 31   Total Asset Return Growth Rate Ratio                     6819 non-null   float64\n",
      " 32   Cash Reinvestment %                                      6819 non-null   float64\n",
      " 33   Current Ratio                                            6819 non-null   float64\n",
      " 34   Quick Ratio                                              6819 non-null   float64\n",
      " 35   Interest Expense Ratio                                   6819 non-null   float64\n",
      " 36   Total debt/Total net worth                               6819 non-null   float64\n",
      " 37   Debt ratio %                                             6819 non-null   float64\n",
      " 38   Net worth/Assets                                         6819 non-null   float64\n",
      " 39   Long-term fund suitability ratio (A)                     6819 non-null   float64\n",
      " 40   Borrowing dependency                                     6819 non-null   float64\n",
      " 41   Contingent liabilities/Net worth                         6819 non-null   float64\n",
      " 42   Operating profit/Paid-in capital                         6819 non-null   float64\n",
      " 43   Net profit before tax/Paid-in capital                    6819 non-null   float64\n",
      " 44   Inventory and accounts receivable/Net value              6819 non-null   float64\n",
      " 45   Total Asset Turnover                                     6819 non-null   float64\n",
      " 46   Accounts Receivable Turnover                             6819 non-null   float64\n",
      " 47   Average Collection Days                                  6819 non-null   float64\n",
      " 48   Inventory Turnover Rate (times)                          6819 non-null   float64\n",
      " 49   Fixed Assets Turnover Frequency                          6819 non-null   float64\n",
      " 50   Net Worth Turnover Rate (times)                          6819 non-null   float64\n",
      " 51   Revenue per person                                       6819 non-null   float64\n",
      " 52   Operating profit per person                              6819 non-null   float64\n",
      " 53   Allocation rate per person                               6819 non-null   float64\n",
      " 54   Working Capital to Total Assets                          6819 non-null   float64\n",
      " 55   Quick Assets/Total Assets                                6819 non-null   float64\n",
      " 56   Current Assets/Total Assets                              6819 non-null   float64\n",
      " 57   Cash/Total Assets                                        6819 non-null   float64\n",
      " 58   Quick Assets/Current Liability                           6819 non-null   float64\n",
      " 59   Cash/Current Liability                                   6819 non-null   float64\n",
      " 60   Current Liability to Assets                              6819 non-null   float64\n",
      " 61   Operating Funds to Liability                             6819 non-null   float64\n",
      " 62   Inventory/Working Capital                                6819 non-null   float64\n",
      " 63   Inventory/Current Liability                              6819 non-null   float64\n",
      " 64   Current Liabilities/Liability                            6819 non-null   float64\n",
      " 65   Working Capital/Equity                                   6819 non-null   float64\n",
      " 66   Current Liabilities/Equity                               6819 non-null   float64\n",
      " 67   Long-term Liability to Current Assets                    6819 non-null   float64\n",
      " 68   Retained Earnings to Total Assets                        6819 non-null   float64\n",
      " 69   Total income/Total expense                               6819 non-null   float64\n",
      " 70   Total expense/Assets                                     6819 non-null   float64\n",
      " 71   Current Asset Turnover Rate                              6819 non-null   float64\n",
      " 72   Quick Asset Turnover Rate                                6819 non-null   float64\n",
      " 73   Working capitcal Turnover Rate                           6819 non-null   float64\n",
      " 74   Cash Turnover Rate                                       6819 non-null   float64\n",
      " 75   Cash Flow to Sales                                       6819 non-null   float64\n",
      " 76   Fixed Assets to Assets                                   6819 non-null   float64\n",
      " 77   Current Liability to Liability                           6819 non-null   float64\n",
      " 78   Current Liability to Equity                              6819 non-null   float64\n",
      " 79   Equity to Long-term Liability                            6819 non-null   float64\n",
      " 80   Cash Flow to Total Assets                                6819 non-null   float64\n",
      " 81   Cash Flow to Liability                                   6819 non-null   float64\n",
      " 82   CFO to Assets                                            6819 non-null   float64\n",
      " 83   Cash Flow to Equity                                      6819 non-null   float64\n",
      " 84   Current Liability to Current Assets                      6819 non-null   float64\n",
      " 85   Liability-Assets Flag                                    6819 non-null   int64  \n",
      " 86   Net Income to Total Assets                               6819 non-null   float64\n",
      " 87   Total assets to GNP price                                6819 non-null   float64\n",
      " 88   No-credit Interval                                       6819 non-null   float64\n",
      " 89   Gross Profit to Sales                                    6819 non-null   float64\n",
      " 90   Net Income to Stockholder's Equity                       6819 non-null   float64\n",
      " 91   Liability to Equity                                      6819 non-null   float64\n",
      " 92   Degree of Financial Leverage (DFL)                       6819 non-null   float64\n",
      " 93   Interest Coverage Ratio (Interest expense to EBIT)       6819 non-null   float64\n",
      " 94   Net Income Flag                                          6819 non-null   int64  \n",
      " 95   Equity to Liability                                      6819 non-null   float64\n",
      "dtypes: float64(93), int64(3)\n",
      "memory usage: 5.0 MB\n"
     ]
    }
   ],
   "source": [
    "df.info()"
   ]
  },
  {
   "cell_type": "code",
   "execution_count": 6,
   "metadata": {
    "colab": {
     "base_uri": "https://localhost:8080/"
    },
    "id": "0YDsYG-wlMZg",
    "outputId": "da9ecc8e-0612-4606-a221-7b3f36901b5a"
   },
   "outputs": [
    {
     "name": "stdout",
     "output_type": "stream",
     "text": [
      "0\n",
      "0\n",
      "0\n"
     ]
    }
   ],
   "source": [
    "# check for missing values\n",
    "print(df.isna().sum().sum())\n",
    "print(np.isnan(df).sum().sum())\n",
    "print(df.isnull().sum().sum())"
   ]
  },
  {
   "cell_type": "code",
   "execution_count": 7,
   "metadata": {
    "colab": {
     "base_uri": "https://localhost:8080/",
     "height": 543
    },
    "id": "5Y-20zzLyFC4",
    "outputId": "815409df-a2f0-4557-9af3-ec0b6fff05da"
   },
   "outputs": [
    {
     "data": {
      "text/html": [
       "<div>\n",
       "<style scoped>\n",
       "    .dataframe tbody tr th:only-of-type {\n",
       "        vertical-align: middle;\n",
       "    }\n",
       "\n",
       "    .dataframe tbody tr th {\n",
       "        vertical-align: top;\n",
       "    }\n",
       "\n",
       "    .dataframe thead th {\n",
       "        text-align: right;\n",
       "    }\n",
       "</style>\n",
       "<table border=\"1\" class=\"dataframe\">\n",
       "  <thead>\n",
       "    <tr style=\"text-align: right;\">\n",
       "      <th></th>\n",
       "      <th>Bankrupt?</th>\n",
       "      <th>ROA(C) before interest and depreciation before interest</th>\n",
       "      <th>ROA(A) before interest and % after tax</th>\n",
       "      <th>ROA(B) before interest and depreciation after tax</th>\n",
       "      <th>Operating Gross Margin</th>\n",
       "      <th>Realized Sales Gross Margin</th>\n",
       "      <th>Operating Profit Rate</th>\n",
       "      <th>Pre-tax net Interest Rate</th>\n",
       "      <th>After-tax net Interest Rate</th>\n",
       "      <th>Non-industry income and expenditure/revenue</th>\n",
       "      <th>...</th>\n",
       "      <th>Net Income to Total Assets</th>\n",
       "      <th>Total assets to GNP price</th>\n",
       "      <th>No-credit Interval</th>\n",
       "      <th>Gross Profit to Sales</th>\n",
       "      <th>Net Income to Stockholder's Equity</th>\n",
       "      <th>Liability to Equity</th>\n",
       "      <th>Degree of Financial Leverage (DFL)</th>\n",
       "      <th>Interest Coverage Ratio (Interest expense to EBIT)</th>\n",
       "      <th>Net Income Flag</th>\n",
       "      <th>Equity to Liability</th>\n",
       "    </tr>\n",
       "  </thead>\n",
       "  <tbody>\n",
       "    <tr>\n",
       "      <th>0</th>\n",
       "      <td>1</td>\n",
       "      <td>0.370594</td>\n",
       "      <td>0.424389</td>\n",
       "      <td>0.405750</td>\n",
       "      <td>0.601457</td>\n",
       "      <td>0.601457</td>\n",
       "      <td>0.998969</td>\n",
       "      <td>0.796887</td>\n",
       "      <td>0.808809</td>\n",
       "      <td>0.302646</td>\n",
       "      <td>...</td>\n",
       "      <td>0.716845</td>\n",
       "      <td>0.009219</td>\n",
       "      <td>0.622879</td>\n",
       "      <td>0.601453</td>\n",
       "      <td>0.827890</td>\n",
       "      <td>0.290202</td>\n",
       "      <td>0.026601</td>\n",
       "      <td>0.564050</td>\n",
       "      <td>1</td>\n",
       "      <td>0.016469</td>\n",
       "    </tr>\n",
       "    <tr>\n",
       "      <th>1</th>\n",
       "      <td>1</td>\n",
       "      <td>0.464291</td>\n",
       "      <td>0.538214</td>\n",
       "      <td>0.516730</td>\n",
       "      <td>0.610235</td>\n",
       "      <td>0.610235</td>\n",
       "      <td>0.998946</td>\n",
       "      <td>0.797380</td>\n",
       "      <td>0.809301</td>\n",
       "      <td>0.303556</td>\n",
       "      <td>...</td>\n",
       "      <td>0.795297</td>\n",
       "      <td>0.008323</td>\n",
       "      <td>0.623652</td>\n",
       "      <td>0.610237</td>\n",
       "      <td>0.839969</td>\n",
       "      <td>0.283846</td>\n",
       "      <td>0.264577</td>\n",
       "      <td>0.570175</td>\n",
       "      <td>1</td>\n",
       "      <td>0.020794</td>\n",
       "    </tr>\n",
       "    <tr>\n",
       "      <th>2</th>\n",
       "      <td>1</td>\n",
       "      <td>0.426071</td>\n",
       "      <td>0.499019</td>\n",
       "      <td>0.472295</td>\n",
       "      <td>0.601450</td>\n",
       "      <td>0.601364</td>\n",
       "      <td>0.998857</td>\n",
       "      <td>0.796403</td>\n",
       "      <td>0.808388</td>\n",
       "      <td>0.302035</td>\n",
       "      <td>...</td>\n",
       "      <td>0.774670</td>\n",
       "      <td>0.040003</td>\n",
       "      <td>0.623841</td>\n",
       "      <td>0.601449</td>\n",
       "      <td>0.836774</td>\n",
       "      <td>0.290189</td>\n",
       "      <td>0.026555</td>\n",
       "      <td>0.563706</td>\n",
       "      <td>1</td>\n",
       "      <td>0.016474</td>\n",
       "    </tr>\n",
       "    <tr>\n",
       "      <th>3</th>\n",
       "      <td>1</td>\n",
       "      <td>0.399844</td>\n",
       "      <td>0.451265</td>\n",
       "      <td>0.457733</td>\n",
       "      <td>0.583541</td>\n",
       "      <td>0.583541</td>\n",
       "      <td>0.998700</td>\n",
       "      <td>0.796967</td>\n",
       "      <td>0.808966</td>\n",
       "      <td>0.303350</td>\n",
       "      <td>...</td>\n",
       "      <td>0.739555</td>\n",
       "      <td>0.003252</td>\n",
       "      <td>0.622929</td>\n",
       "      <td>0.583538</td>\n",
       "      <td>0.834697</td>\n",
       "      <td>0.281721</td>\n",
       "      <td>0.026697</td>\n",
       "      <td>0.564663</td>\n",
       "      <td>1</td>\n",
       "      <td>0.023982</td>\n",
       "    </tr>\n",
       "    <tr>\n",
       "      <th>4</th>\n",
       "      <td>1</td>\n",
       "      <td>0.465022</td>\n",
       "      <td>0.538432</td>\n",
       "      <td>0.522298</td>\n",
       "      <td>0.598783</td>\n",
       "      <td>0.598783</td>\n",
       "      <td>0.998973</td>\n",
       "      <td>0.797366</td>\n",
       "      <td>0.809304</td>\n",
       "      <td>0.303475</td>\n",
       "      <td>...</td>\n",
       "      <td>0.795016</td>\n",
       "      <td>0.003878</td>\n",
       "      <td>0.623521</td>\n",
       "      <td>0.598782</td>\n",
       "      <td>0.839973</td>\n",
       "      <td>0.278514</td>\n",
       "      <td>0.024752</td>\n",
       "      <td>0.575617</td>\n",
       "      <td>1</td>\n",
       "      <td>0.035490</td>\n",
       "    </tr>\n",
       "    <tr>\n",
       "      <th>5</th>\n",
       "      <td>1</td>\n",
       "      <td>0.388680</td>\n",
       "      <td>0.415177</td>\n",
       "      <td>0.419134</td>\n",
       "      <td>0.590171</td>\n",
       "      <td>0.590251</td>\n",
       "      <td>0.998758</td>\n",
       "      <td>0.796903</td>\n",
       "      <td>0.808771</td>\n",
       "      <td>0.303116</td>\n",
       "      <td>...</td>\n",
       "      <td>0.710420</td>\n",
       "      <td>0.005278</td>\n",
       "      <td>0.622605</td>\n",
       "      <td>0.590172</td>\n",
       "      <td>0.829939</td>\n",
       "      <td>0.285087</td>\n",
       "      <td>0.026675</td>\n",
       "      <td>0.564538</td>\n",
       "      <td>1</td>\n",
       "      <td>0.019534</td>\n",
       "    </tr>\n",
       "    <tr>\n",
       "      <th>6</th>\n",
       "      <td>0</td>\n",
       "      <td>0.390923</td>\n",
       "      <td>0.445704</td>\n",
       "      <td>0.436158</td>\n",
       "      <td>0.619950</td>\n",
       "      <td>0.619950</td>\n",
       "      <td>0.998993</td>\n",
       "      <td>0.797012</td>\n",
       "      <td>0.808960</td>\n",
       "      <td>0.302814</td>\n",
       "      <td>...</td>\n",
       "      <td>0.736619</td>\n",
       "      <td>0.018372</td>\n",
       "      <td>0.623655</td>\n",
       "      <td>0.619949</td>\n",
       "      <td>0.829980</td>\n",
       "      <td>0.292504</td>\n",
       "      <td>0.026622</td>\n",
       "      <td>0.564200</td>\n",
       "      <td>1</td>\n",
       "      <td>0.015663</td>\n",
       "    </tr>\n",
       "    <tr>\n",
       "      <th>7</th>\n",
       "      <td>0</td>\n",
       "      <td>0.508361</td>\n",
       "      <td>0.570922</td>\n",
       "      <td>0.559077</td>\n",
       "      <td>0.601738</td>\n",
       "      <td>0.601717</td>\n",
       "      <td>0.999009</td>\n",
       "      <td>0.797449</td>\n",
       "      <td>0.809362</td>\n",
       "      <td>0.303545</td>\n",
       "      <td>...</td>\n",
       "      <td>0.815350</td>\n",
       "      <td>0.010005</td>\n",
       "      <td>0.623843</td>\n",
       "      <td>0.601739</td>\n",
       "      <td>0.841459</td>\n",
       "      <td>0.278607</td>\n",
       "      <td>0.027031</td>\n",
       "      <td>0.566089</td>\n",
       "      <td>1</td>\n",
       "      <td>0.034889</td>\n",
       "    </tr>\n",
       "    <tr>\n",
       "      <th>8</th>\n",
       "      <td>0</td>\n",
       "      <td>0.488519</td>\n",
       "      <td>0.545137</td>\n",
       "      <td>0.543284</td>\n",
       "      <td>0.603612</td>\n",
       "      <td>0.603612</td>\n",
       "      <td>0.998961</td>\n",
       "      <td>0.797414</td>\n",
       "      <td>0.809338</td>\n",
       "      <td>0.303584</td>\n",
       "      <td>...</td>\n",
       "      <td>0.803647</td>\n",
       "      <td>0.000824</td>\n",
       "      <td>0.623977</td>\n",
       "      <td>0.603613</td>\n",
       "      <td>0.840487</td>\n",
       "      <td>0.276423</td>\n",
       "      <td>0.026891</td>\n",
       "      <td>0.565592</td>\n",
       "      <td>1</td>\n",
       "      <td>0.065826</td>\n",
       "    </tr>\n",
       "    <tr>\n",
       "      <th>9</th>\n",
       "      <td>0</td>\n",
       "      <td>0.495686</td>\n",
       "      <td>0.550916</td>\n",
       "      <td>0.542963</td>\n",
       "      <td>0.599209</td>\n",
       "      <td>0.599209</td>\n",
       "      <td>0.999001</td>\n",
       "      <td>0.797404</td>\n",
       "      <td>0.809320</td>\n",
       "      <td>0.303483</td>\n",
       "      <td>...</td>\n",
       "      <td>0.804195</td>\n",
       "      <td>0.005798</td>\n",
       "      <td>0.623865</td>\n",
       "      <td>0.599205</td>\n",
       "      <td>0.840688</td>\n",
       "      <td>0.279388</td>\n",
       "      <td>0.027243</td>\n",
       "      <td>0.566668</td>\n",
       "      <td>1</td>\n",
       "      <td>0.030801</td>\n",
       "    </tr>\n",
       "  </tbody>\n",
       "</table>\n",
       "<p>10 rows × 96 columns</p>\n",
       "</div>"
      ],
      "text/plain": [
       "   Bankrupt?   ROA(C) before interest and depreciation before interest  \\\n",
       "0          1                                           0.370594          \n",
       "1          1                                           0.464291          \n",
       "2          1                                           0.426071          \n",
       "3          1                                           0.399844          \n",
       "4          1                                           0.465022          \n",
       "5          1                                           0.388680          \n",
       "6          0                                           0.390923          \n",
       "7          0                                           0.508361          \n",
       "8          0                                           0.488519          \n",
       "9          0                                           0.495686          \n",
       "\n",
       "    ROA(A) before interest and % after tax  \\\n",
       "0                                 0.424389   \n",
       "1                                 0.538214   \n",
       "2                                 0.499019   \n",
       "3                                 0.451265   \n",
       "4                                 0.538432   \n",
       "5                                 0.415177   \n",
       "6                                 0.445704   \n",
       "7                                 0.570922   \n",
       "8                                 0.545137   \n",
       "9                                 0.550916   \n",
       "\n",
       "    ROA(B) before interest and depreciation after tax  \\\n",
       "0                                           0.405750    \n",
       "1                                           0.516730    \n",
       "2                                           0.472295    \n",
       "3                                           0.457733    \n",
       "4                                           0.522298    \n",
       "5                                           0.419134    \n",
       "6                                           0.436158    \n",
       "7                                           0.559077    \n",
       "8                                           0.543284    \n",
       "9                                           0.542963    \n",
       "\n",
       "    Operating Gross Margin   Realized Sales Gross Margin  \\\n",
       "0                 0.601457                      0.601457   \n",
       "1                 0.610235                      0.610235   \n",
       "2                 0.601450                      0.601364   \n",
       "3                 0.583541                      0.583541   \n",
       "4                 0.598783                      0.598783   \n",
       "5                 0.590171                      0.590251   \n",
       "6                 0.619950                      0.619950   \n",
       "7                 0.601738                      0.601717   \n",
       "8                 0.603612                      0.603612   \n",
       "9                 0.599209                      0.599209   \n",
       "\n",
       "    Operating Profit Rate   Pre-tax net Interest Rate  \\\n",
       "0                0.998969                    0.796887   \n",
       "1                0.998946                    0.797380   \n",
       "2                0.998857                    0.796403   \n",
       "3                0.998700                    0.796967   \n",
       "4                0.998973                    0.797366   \n",
       "5                0.998758                    0.796903   \n",
       "6                0.998993                    0.797012   \n",
       "7                0.999009                    0.797449   \n",
       "8                0.998961                    0.797414   \n",
       "9                0.999001                    0.797404   \n",
       "\n",
       "    After-tax net Interest Rate   Non-industry income and expenditure/revenue  \\\n",
       "0                      0.808809                                      0.302646   \n",
       "1                      0.809301                                      0.303556   \n",
       "2                      0.808388                                      0.302035   \n",
       "3                      0.808966                                      0.303350   \n",
       "4                      0.809304                                      0.303475   \n",
       "5                      0.808771                                      0.303116   \n",
       "6                      0.808960                                      0.302814   \n",
       "7                      0.809362                                      0.303545   \n",
       "8                      0.809338                                      0.303584   \n",
       "9                      0.809320                                      0.303483   \n",
       "\n",
       "   ...   Net Income to Total Assets   Total assets to GNP price  \\\n",
       "0  ...                     0.716845                    0.009219   \n",
       "1  ...                     0.795297                    0.008323   \n",
       "2  ...                     0.774670                    0.040003   \n",
       "3  ...                     0.739555                    0.003252   \n",
       "4  ...                     0.795016                    0.003878   \n",
       "5  ...                     0.710420                    0.005278   \n",
       "6  ...                     0.736619                    0.018372   \n",
       "7  ...                     0.815350                    0.010005   \n",
       "8  ...                     0.803647                    0.000824   \n",
       "9  ...                     0.804195                    0.005798   \n",
       "\n",
       "    No-credit Interval   Gross Profit to Sales  \\\n",
       "0             0.622879                0.601453   \n",
       "1             0.623652                0.610237   \n",
       "2             0.623841                0.601449   \n",
       "3             0.622929                0.583538   \n",
       "4             0.623521                0.598782   \n",
       "5             0.622605                0.590172   \n",
       "6             0.623655                0.619949   \n",
       "7             0.623843                0.601739   \n",
       "8             0.623977                0.603613   \n",
       "9             0.623865                0.599205   \n",
       "\n",
       "    Net Income to Stockholder's Equity   Liability to Equity  \\\n",
       "0                             0.827890              0.290202   \n",
       "1                             0.839969              0.283846   \n",
       "2                             0.836774              0.290189   \n",
       "3                             0.834697              0.281721   \n",
       "4                             0.839973              0.278514   \n",
       "5                             0.829939              0.285087   \n",
       "6                             0.829980              0.292504   \n",
       "7                             0.841459              0.278607   \n",
       "8                             0.840487              0.276423   \n",
       "9                             0.840688              0.279388   \n",
       "\n",
       "    Degree of Financial Leverage (DFL)  \\\n",
       "0                             0.026601   \n",
       "1                             0.264577   \n",
       "2                             0.026555   \n",
       "3                             0.026697   \n",
       "4                             0.024752   \n",
       "5                             0.026675   \n",
       "6                             0.026622   \n",
       "7                             0.027031   \n",
       "8                             0.026891   \n",
       "9                             0.027243   \n",
       "\n",
       "    Interest Coverage Ratio (Interest expense to EBIT)   Net Income Flag  \\\n",
       "0                                           0.564050                   1   \n",
       "1                                           0.570175                   1   \n",
       "2                                           0.563706                   1   \n",
       "3                                           0.564663                   1   \n",
       "4                                           0.575617                   1   \n",
       "5                                           0.564538                   1   \n",
       "6                                           0.564200                   1   \n",
       "7                                           0.566089                   1   \n",
       "8                                           0.565592                   1   \n",
       "9                                           0.566668                   1   \n",
       "\n",
       "    Equity to Liability  \n",
       "0              0.016469  \n",
       "1              0.020794  \n",
       "2              0.016474  \n",
       "3              0.023982  \n",
       "4              0.035490  \n",
       "5              0.019534  \n",
       "6              0.015663  \n",
       "7              0.034889  \n",
       "8              0.065826  \n",
       "9              0.030801  \n",
       "\n",
       "[10 rows x 96 columns]"
      ]
     },
     "execution_count": 7,
     "metadata": {},
     "output_type": "execute_result"
    }
   ],
   "source": [
    "df.head(10)"
   ]
  },
  {
   "cell_type": "code",
   "execution_count": 8,
   "metadata": {
    "id": "kA5Wwo7YlvRU"
   },
   "outputs": [],
   "source": [
    "# create a for loop to get the categorical columns with 2 or less than 2 unique values\n",
    "list_1=[]\n",
    "for i in df.columns:\n",
    "  x=df[i].value_counts()\n",
    "  if len(x)<=2:\n",
    "    list_1.append(i)\n",
    "  else:\n",
    "    continue"
   ]
  },
  {
   "cell_type": "code",
   "execution_count": 9,
   "metadata": {
    "colab": {
     "base_uri": "https://localhost:8080/"
    },
    "id": "E743bKThl3eO",
    "outputId": "fdd9e4e5-f6ef-4f8f-b698-d37b5cd77605"
   },
   "outputs": [
    {
     "data": {
      "text/plain": [
       "['Bankrupt?', ' Liability-Assets Flag', ' Net Income Flag']"
      ]
     },
     "execution_count": 9,
     "metadata": {},
     "output_type": "execute_result"
    }
   ],
   "source": [
    "# categorical variables (value_counts <= 2 )\n",
    "list_1"
   ]
  },
  {
   "cell_type": "markdown",
   "metadata": {
    "id": "YKoxHS3ymTit"
   },
   "source": [
    "### Checking [Bankrupt?]"
   ]
  },
  {
   "cell_type": "code",
   "execution_count": 10,
   "metadata": {
    "colab": {
     "base_uri": "https://localhost:8080/"
    },
    "id": "hk7sSnQipc1X",
    "outputId": "430d79d6-5ef0-4518-ff16-ccfbbd21ead6"
   },
   "outputs": [
    {
     "data": {
      "text/plain": [
       "array([1, 0], dtype=int64)"
      ]
     },
     "execution_count": 10,
     "metadata": {},
     "output_type": "execute_result"
    }
   ],
   "source": [
    "df['Bankrupt?'].unique()"
   ]
  },
  {
   "cell_type": "code",
   "execution_count": 11,
   "metadata": {
    "colab": {
     "base_uri": "https://localhost:8080/"
    },
    "id": "VVanYAQRpbHB",
    "outputId": "d4e54183-8e33-45cf-a2c7-b0f7d4a637f6"
   },
   "outputs": [
    {
     "data": {
      "text/plain": [
       "0    6599\n",
       "1     220\n",
       "Name: Bankrupt?, dtype: int64"
      ]
     },
     "execution_count": 11,
     "metadata": {},
     "output_type": "execute_result"
    }
   ],
   "source": [
    "df['Bankrupt?'].value_counts()"
   ]
  },
  {
   "cell_type": "code",
   "execution_count": 12,
   "metadata": {
    "colab": {
     "base_uri": "https://localhost:8080/",
     "height": 297
    },
    "id": "jZYysCufB-GD",
    "outputId": "1602f88b-f03e-4b6a-a149-3155c02ff575"
   },
   "outputs": [
    {
     "data": {
      "text/plain": [
       "<AxesSubplot:xlabel='Bankrupt?', ylabel='Count'>"
      ]
     },
     "execution_count": 12,
     "metadata": {},
     "output_type": "execute_result"
    },
    {
     "data": {
      "image/png": "[encoded data removed]",
      "text/plain": [
       "<Figure size 432x288 with 1 Axes>"
      ]
     },
     "metadata": {
      "needs_background": "light"
     },
     "output_type": "display_data"
    }
   ],
   "source": [
    "sns.histplot(x=\"Bankrupt?\", data=df)"
   ]
  },
  {
   "cell_type": "markdown",
   "metadata": {
    "id": "-UgIS3lNmZ1j"
   },
   "source": [
    "### Checking [Net Income Flag]"
   ]
  },
  {
   "cell_type": "code",
   "execution_count": 13,
   "metadata": {
    "colab": {
     "base_uri": "https://localhost:8080/"
    },
    "id": "_mpfAUO1mnAs",
    "outputId": "363c1c5f-5c6d-495b-c1d2-7485711a84f5"
   },
   "outputs": [
    {
     "data": {
      "text/plain": [
       "array([1], dtype=int64)"
      ]
     },
     "execution_count": 13,
     "metadata": {},
     "output_type": "execute_result"
    }
   ],
   "source": [
    "df[' Net Income Flag'].unique()"
   ]
  },
  {
   "cell_type": "code",
   "execution_count": 14,
   "metadata": {
    "colab": {
     "base_uri": "https://localhost:8080/"
    },
    "id": "V4CybKHPoelZ",
    "outputId": "f0c1b8c3-e081-4d57-e3fb-535aa57cf59e"
   },
   "outputs": [
    {
     "data": {
      "text/plain": [
       "1    6819\n",
       "Name:  Net Income Flag, dtype: int64"
      ]
     },
     "execution_count": 14,
     "metadata": {},
     "output_type": "execute_result"
    }
   ],
   "source": [
    "df[' Net Income Flag'].value_counts()"
   ]
  },
  {
   "cell_type": "markdown",
   "metadata": {
    "id": "03PMYdiIorEm"
   },
   "source": [
    "Every value is a 1 for this feature, so we can drop this column since it doesn't provide us any predictive value."
   ]
  },
  {
   "cell_type": "markdown",
   "metadata": {
    "id": "wmTFF7TupBdw"
   },
   "source": [
    "### Checking [ Liability-Assets Flag]"
   ]
  },
  {
   "cell_type": "code",
   "execution_count": 15,
   "metadata": {
    "colab": {
     "base_uri": "https://localhost:8080/"
    },
    "id": "HcPaTtZnpASz",
    "outputId": "48a0b690-82f7-48c5-eefb-cf2057a58ee4"
   },
   "outputs": [
    {
     "data": {
      "text/plain": [
       "array([0, 1], dtype=int64)"
      ]
     },
     "execution_count": 15,
     "metadata": {},
     "output_type": "execute_result"
    }
   ],
   "source": [
    "df[' Liability-Assets Flag'].unique()"
   ]
  },
  {
   "cell_type": "code",
   "execution_count": 16,
   "metadata": {
    "colab": {
     "base_uri": "https://localhost:8080/"
    },
    "id": "X4doaa8ypKii",
    "outputId": "13064269-4faa-4666-924d-425fbc6f255a"
   },
   "outputs": [
    {
     "data": {
      "text/plain": [
       "0    6811\n",
       "1       8\n",
       "Name:  Liability-Assets Flag, dtype: int64"
      ]
     },
     "execution_count": 16,
     "metadata": {},
     "output_type": "execute_result"
    }
   ],
   "source": [
    "df[' Liability-Assets Flag'].value_counts()"
   ]
  },
  {
   "cell_type": "markdown",
   "metadata": {
    "id": "ZxiyNBcDpiWw"
   },
   "source": [
    "This feature may not provide good predictive value to the model since it has a large imbalance between the 0 and 1 classes. Therefore, we can also drop this column."
   ]
  },
  {
   "cell_type": "markdown",
   "metadata": {
    "id": "V3WBCBuf7RAx"
   },
   "source": [
    "## Feature Selection"
   ]
  },
  {
   "cell_type": "code",
   "execution_count": 17,
   "metadata": {
    "id": "Rw6DVMT_a216"
   },
   "outputs": [],
   "source": [
    "y = df['Bankrupt?']"
   ]
  },
  {
   "cell_type": "code",
   "execution_count": 18,
   "metadata": {
    "id": "MlGeNDZBa28K"
   },
   "outputs": [],
   "source": [
    "X = df.drop(columns = ['Bankrupt?',' Liability-Assets Flag',' Net Income Flag'])"
   ]
  },
  {
   "cell_type": "code",
   "execution_count": 19,
   "metadata": {
    "colab": {
     "base_uri": "https://localhost:8080/",
     "height": 386
    },
    "id": "mrnjeQOM204N",
    "outputId": "69196eb4-af04-4e90-aef6-8c04ede36ac8"
   },
   "outputs": [
    {
     "data": {
      "text/html": [
       "<div>\n",
       "<style scoped>\n",
       "    .dataframe tbody tr th:only-of-type {\n",
       "        vertical-align: middle;\n",
       "    }\n",
       "\n",
       "    .dataframe tbody tr th {\n",
       "        vertical-align: top;\n",
       "    }\n",
       "\n",
       "    .dataframe thead th {\n",
       "        text-align: right;\n",
       "    }\n",
       "</style>\n",
       "<table border=\"1\" class=\"dataframe\">\n",
       "  <thead>\n",
       "    <tr style=\"text-align: right;\">\n",
       "      <th></th>\n",
       "      <th>ROA(C) before interest and depreciation before interest</th>\n",
       "      <th>ROA(A) before interest and % after tax</th>\n",
       "      <th>ROA(B) before interest and depreciation after tax</th>\n",
       "      <th>Operating Gross Margin</th>\n",
       "      <th>Realized Sales Gross Margin</th>\n",
       "      <th>Operating Profit Rate</th>\n",
       "      <th>Pre-tax net Interest Rate</th>\n",
       "      <th>After-tax net Interest Rate</th>\n",
       "      <th>Non-industry income and expenditure/revenue</th>\n",
       "      <th>Continuous interest rate (after tax)</th>\n",
       "      <th>...</th>\n",
       "      <th>Current Liability to Current Assets</th>\n",
       "      <th>Net Income to Total Assets</th>\n",
       "      <th>Total assets to GNP price</th>\n",
       "      <th>No-credit Interval</th>\n",
       "      <th>Gross Profit to Sales</th>\n",
       "      <th>Net Income to Stockholder's Equity</th>\n",
       "      <th>Liability to Equity</th>\n",
       "      <th>Degree of Financial Leverage (DFL)</th>\n",
       "      <th>Interest Coverage Ratio (Interest expense to EBIT)</th>\n",
       "      <th>Equity to Liability</th>\n",
       "    </tr>\n",
       "  </thead>\n",
       "  <tbody>\n",
       "    <tr>\n",
       "      <th>0</th>\n",
       "      <td>0.370594</td>\n",
       "      <td>0.424389</td>\n",
       "      <td>0.405750</td>\n",
       "      <td>0.601457</td>\n",
       "      <td>0.601457</td>\n",
       "      <td>0.998969</td>\n",
       "      <td>0.796887</td>\n",
       "      <td>0.808809</td>\n",
       "      <td>0.302646</td>\n",
       "      <td>0.780985</td>\n",
       "      <td>...</td>\n",
       "      <td>0.118250</td>\n",
       "      <td>0.716845</td>\n",
       "      <td>0.009219</td>\n",
       "      <td>0.622879</td>\n",
       "      <td>0.601453</td>\n",
       "      <td>0.827890</td>\n",
       "      <td>0.290202</td>\n",
       "      <td>0.026601</td>\n",
       "      <td>0.564050</td>\n",
       "      <td>0.016469</td>\n",
       "    </tr>\n",
       "    <tr>\n",
       "      <th>1</th>\n",
       "      <td>0.464291</td>\n",
       "      <td>0.538214</td>\n",
       "      <td>0.516730</td>\n",
       "      <td>0.610235</td>\n",
       "      <td>0.610235</td>\n",
       "      <td>0.998946</td>\n",
       "      <td>0.797380</td>\n",
       "      <td>0.809301</td>\n",
       "      <td>0.303556</td>\n",
       "      <td>0.781506</td>\n",
       "      <td>...</td>\n",
       "      <td>0.047775</td>\n",
       "      <td>0.795297</td>\n",
       "      <td>0.008323</td>\n",
       "      <td>0.623652</td>\n",
       "      <td>0.610237</td>\n",
       "      <td>0.839969</td>\n",
       "      <td>0.283846</td>\n",
       "      <td>0.264577</td>\n",
       "      <td>0.570175</td>\n",
       "      <td>0.020794</td>\n",
       "    </tr>\n",
       "    <tr>\n",
       "      <th>2</th>\n",
       "      <td>0.426071</td>\n",
       "      <td>0.499019</td>\n",
       "      <td>0.472295</td>\n",
       "      <td>0.601450</td>\n",
       "      <td>0.601364</td>\n",
       "      <td>0.998857</td>\n",
       "      <td>0.796403</td>\n",
       "      <td>0.808388</td>\n",
       "      <td>0.302035</td>\n",
       "      <td>0.780284</td>\n",
       "      <td>...</td>\n",
       "      <td>0.025346</td>\n",
       "      <td>0.774670</td>\n",
       "      <td>0.040003</td>\n",
       "      <td>0.623841</td>\n",
       "      <td>0.601449</td>\n",
       "      <td>0.836774</td>\n",
       "      <td>0.290189</td>\n",
       "      <td>0.026555</td>\n",
       "      <td>0.563706</td>\n",
       "      <td>0.016474</td>\n",
       "    </tr>\n",
       "    <tr>\n",
       "      <th>3</th>\n",
       "      <td>0.399844</td>\n",
       "      <td>0.451265</td>\n",
       "      <td>0.457733</td>\n",
       "      <td>0.583541</td>\n",
       "      <td>0.583541</td>\n",
       "      <td>0.998700</td>\n",
       "      <td>0.796967</td>\n",
       "      <td>0.808966</td>\n",
       "      <td>0.303350</td>\n",
       "      <td>0.781241</td>\n",
       "      <td>...</td>\n",
       "      <td>0.067250</td>\n",
       "      <td>0.739555</td>\n",
       "      <td>0.003252</td>\n",
       "      <td>0.622929</td>\n",
       "      <td>0.583538</td>\n",
       "      <td>0.834697</td>\n",
       "      <td>0.281721</td>\n",
       "      <td>0.026697</td>\n",
       "      <td>0.564663</td>\n",
       "      <td>0.023982</td>\n",
       "    </tr>\n",
       "    <tr>\n",
       "      <th>4</th>\n",
       "      <td>0.465022</td>\n",
       "      <td>0.538432</td>\n",
       "      <td>0.522298</td>\n",
       "      <td>0.598783</td>\n",
       "      <td>0.598783</td>\n",
       "      <td>0.998973</td>\n",
       "      <td>0.797366</td>\n",
       "      <td>0.809304</td>\n",
       "      <td>0.303475</td>\n",
       "      <td>0.781550</td>\n",
       "      <td>...</td>\n",
       "      <td>0.047725</td>\n",
       "      <td>0.795016</td>\n",
       "      <td>0.003878</td>\n",
       "      <td>0.623521</td>\n",
       "      <td>0.598782</td>\n",
       "      <td>0.839973</td>\n",
       "      <td>0.278514</td>\n",
       "      <td>0.024752</td>\n",
       "      <td>0.575617</td>\n",
       "      <td>0.035490</td>\n",
       "    </tr>\n",
       "  </tbody>\n",
       "</table>\n",
       "<p>5 rows × 93 columns</p>\n",
       "</div>"
      ],
      "text/plain": [
       "    ROA(C) before interest and depreciation before interest  \\\n",
       "0                                           0.370594          \n",
       "1                                           0.464291          \n",
       "2                                           0.426071          \n",
       "3                                           0.399844          \n",
       "4                                           0.465022          \n",
       "\n",
       "    ROA(A) before interest and % after tax  \\\n",
       "0                                 0.424389   \n",
       "1                                 0.538214   \n",
       "2                                 0.499019   \n",
       "3                                 0.451265   \n",
       "4                                 0.538432   \n",
       "\n",
       "    ROA(B) before interest and depreciation after tax  \\\n",
       "0                                           0.405750    \n",
       "1                                           0.516730    \n",
       "2                                           0.472295    \n",
       "3                                           0.457733    \n",
       "4                                           0.522298    \n",
       "\n",
       "    Operating Gross Margin   Realized Sales Gross Margin  \\\n",
       "0                 0.601457                      0.601457   \n",
       "1                 0.610235                      0.610235   \n",
       "2                 0.601450                      0.601364   \n",
       "3                 0.583541                      0.583541   \n",
       "4                 0.598783                      0.598783   \n",
       "\n",
       "    Operating Profit Rate   Pre-tax net Interest Rate  \\\n",
       "0                0.998969                    0.796887   \n",
       "1                0.998946                    0.797380   \n",
       "2                0.998857                    0.796403   \n",
       "3                0.998700                    0.796967   \n",
       "4                0.998973                    0.797366   \n",
       "\n",
       "    After-tax net Interest Rate   Non-industry income and expenditure/revenue  \\\n",
       "0                      0.808809                                      0.302646   \n",
       "1                      0.809301                                      0.303556   \n",
       "2                      0.808388                                      0.302035   \n",
       "3                      0.808966                                      0.303350   \n",
       "4                      0.809304                                      0.303475   \n",
       "\n",
       "    Continuous interest rate (after tax)  ...  \\\n",
       "0                               0.780985  ...   \n",
       "1                               0.781506  ...   \n",
       "2                               0.780284  ...   \n",
       "3                               0.781241  ...   \n",
       "4                               0.781550  ...   \n",
       "\n",
       "    Current Liability to Current Assets   Net Income to Total Assets  \\\n",
       "0                              0.118250                     0.716845   \n",
       "1                              0.047775                     0.795297   \n",
       "2                              0.025346                     0.774670   \n",
       "3                              0.067250                     0.739555   \n",
       "4                              0.047725                     0.795016   \n",
       "\n",
       "    Total assets to GNP price   No-credit Interval   Gross Profit to Sales  \\\n",
       "0                    0.009219             0.622879                0.601453   \n",
       "1                    0.008323             0.623652                0.610237   \n",
       "2                    0.040003             0.623841                0.601449   \n",
       "3                    0.003252             0.622929                0.583538   \n",
       "4                    0.003878             0.623521                0.598782   \n",
       "\n",
       "    Net Income to Stockholder's Equity   Liability to Equity  \\\n",
       "0                             0.827890              0.290202   \n",
       "1                             0.839969              0.283846   \n",
       "2                             0.836774              0.290189   \n",
       "3                             0.834697              0.281721   \n",
       "4                             0.839973              0.278514   \n",
       "\n",
       "    Degree of Financial Leverage (DFL)  \\\n",
       "0                             0.026601   \n",
       "1                             0.264577   \n",
       "2                             0.026555   \n",
       "3                             0.026697   \n",
       "4                             0.024752   \n",
       "\n",
       "    Interest Coverage Ratio (Interest expense to EBIT)   Equity to Liability  \n",
       "0                                           0.564050                0.016469  \n",
       "1                                           0.570175                0.020794  \n",
       "2                                           0.563706                0.016474  \n",
       "3                                           0.564663                0.023982  \n",
       "4                                           0.575617                0.035490  \n",
       "\n",
       "[5 rows x 93 columns]"
      ]
     },
     "execution_count": 19,
     "metadata": {},
     "output_type": "execute_result"
    }
   ],
   "source": [
    "X.head()"
   ]
  },
  {
   "cell_type": "code",
   "execution_count": 20,
   "metadata": {
    "colab": {
     "base_uri": "https://localhost:8080/",
     "height": 1000
    },
    "id": "f19AKw3byYYq",
    "outputId": "814d2855-237d-46d6-fbcc-e183feef0005"
   },
   "outputs": [
    {
     "data": {
      "text/html": [
       "<div>\n",
       "<style scoped>\n",
       "    .dataframe tbody tr th:only-of-type {\n",
       "        vertical-align: middle;\n",
       "    }\n",
       "\n",
       "    .dataframe tbody tr th {\n",
       "        vertical-align: top;\n",
       "    }\n",
       "\n",
       "    .dataframe thead th {\n",
       "        text-align: right;\n",
       "    }\n",
       "</style>\n",
       "<table border=\"1\" class=\"dataframe\">\n",
       "  <thead>\n",
       "    <tr style=\"text-align: right;\">\n",
       "      <th></th>\n",
       "      <th>ROA(C) before interest and depreciation before interest</th>\n",
       "      <th>ROA(A) before interest and % after tax</th>\n",
       "      <th>ROA(B) before interest and depreciation after tax</th>\n",
       "      <th>Operating Gross Margin</th>\n",
       "      <th>Realized Sales Gross Margin</th>\n",
       "      <th>Operating Profit Rate</th>\n",
       "      <th>Pre-tax net Interest Rate</th>\n",
       "      <th>After-tax net Interest Rate</th>\n",
       "      <th>Non-industry income and expenditure/revenue</th>\n",
       "      <th>Continuous interest rate (after tax)</th>\n",
       "      <th>...</th>\n",
       "      <th>Current Liability to Current Assets</th>\n",
       "      <th>Net Income to Total Assets</th>\n",
       "      <th>Total assets to GNP price</th>\n",
       "      <th>No-credit Interval</th>\n",
       "      <th>Gross Profit to Sales</th>\n",
       "      <th>Net Income to Stockholder's Equity</th>\n",
       "      <th>Liability to Equity</th>\n",
       "      <th>Degree of Financial Leverage (DFL)</th>\n",
       "      <th>Interest Coverage Ratio (Interest expense to EBIT)</th>\n",
       "      <th>Equity to Liability</th>\n",
       "    </tr>\n",
       "  </thead>\n",
       "  <tbody>\n",
       "    <tr>\n",
       "      <th>ROA(C) before interest and depreciation before interest</th>\n",
       "      <td>1.000000</td>\n",
       "      <td>0.940124</td>\n",
       "      <td>0.986849</td>\n",
       "      <td>0.334719</td>\n",
       "      <td>0.332755</td>\n",
       "      <td>0.035725</td>\n",
       "      <td>0.053419</td>\n",
       "      <td>0.049222</td>\n",
       "      <td>0.020501</td>\n",
       "      <td>0.051328</td>\n",
       "      <td>...</td>\n",
       "      <td>0.160725</td>\n",
       "      <td>0.887670</td>\n",
       "      <td>0.071725</td>\n",
       "      <td>0.008135</td>\n",
       "      <td>0.334721</td>\n",
       "      <td>0.274287</td>\n",
       "      <td>0.143629</td>\n",
       "      <td>0.016575</td>\n",
       "      <td>0.010573</td>\n",
       "      <td>0.052416</td>\n",
       "    </tr>\n",
       "    <tr>\n",
       "      <th>ROA(A) before interest and % after tax</th>\n",
       "      <td>0.940124</td>\n",
       "      <td>1.000000</td>\n",
       "      <td>0.955741</td>\n",
       "      <td>0.326969</td>\n",
       "      <td>0.324956</td>\n",
       "      <td>0.032053</td>\n",
       "      <td>0.053518</td>\n",
       "      <td>0.049474</td>\n",
       "      <td>0.029649</td>\n",
       "      <td>0.049909</td>\n",
       "      <td>...</td>\n",
       "      <td>0.195673</td>\n",
       "      <td>0.961552</td>\n",
       "      <td>0.098900</td>\n",
       "      <td>0.011463</td>\n",
       "      <td>0.326971</td>\n",
       "      <td>0.291744</td>\n",
       "      <td>0.141039</td>\n",
       "      <td>0.011515</td>\n",
       "      <td>0.013372</td>\n",
       "      <td>0.057887</td>\n",
       "    </tr>\n",
       "    <tr>\n",
       "      <th>ROA(B) before interest and depreciation after tax</th>\n",
       "      <td>0.986849</td>\n",
       "      <td>0.955741</td>\n",
       "      <td>1.000000</td>\n",
       "      <td>0.333749</td>\n",
       "      <td>0.331755</td>\n",
       "      <td>0.035212</td>\n",
       "      <td>0.053726</td>\n",
       "      <td>0.049952</td>\n",
       "      <td>0.022366</td>\n",
       "      <td>0.052261</td>\n",
       "      <td>...</td>\n",
       "      <td>0.162572</td>\n",
       "      <td>0.912040</td>\n",
       "      <td>0.089088</td>\n",
       "      <td>0.007523</td>\n",
       "      <td>0.333750</td>\n",
       "      <td>0.280617</td>\n",
       "      <td>0.142838</td>\n",
       "      <td>0.014663</td>\n",
       "      <td>0.011473</td>\n",
       "      <td>0.056430</td>\n",
       "    </tr>\n",
       "    <tr>\n",
       "      <th>Operating Gross Margin</th>\n",
       "      <td>0.334719</td>\n",
       "      <td>0.326969</td>\n",
       "      <td>0.333749</td>\n",
       "      <td>1.000000</td>\n",
       "      <td>0.999518</td>\n",
       "      <td>0.005745</td>\n",
       "      <td>0.032493</td>\n",
       "      <td>0.027175</td>\n",
       "      <td>0.051438</td>\n",
       "      <td>0.029430</td>\n",
       "      <td>...</td>\n",
       "      <td>0.132650</td>\n",
       "      <td>0.300143</td>\n",
       "      <td>0.022672</td>\n",
       "      <td>0.004205</td>\n",
       "      <td>1.000000</td>\n",
       "      <td>0.075304</td>\n",
       "      <td>0.085434</td>\n",
       "      <td>0.011806</td>\n",
       "      <td>0.001167</td>\n",
       "      <td>0.120029</td>\n",
       "    </tr>\n",
       "    <tr>\n",
       "      <th>Realized Sales Gross Margin</th>\n",
       "      <td>0.332755</td>\n",
       "      <td>0.324956</td>\n",
       "      <td>0.331755</td>\n",
       "      <td>0.999518</td>\n",
       "      <td>1.000000</td>\n",
       "      <td>0.005610</td>\n",
       "      <td>0.032232</td>\n",
       "      <td>0.026851</td>\n",
       "      <td>0.051242</td>\n",
       "      <td>0.029166</td>\n",
       "      <td>...</td>\n",
       "      <td>0.132607</td>\n",
       "      <td>0.298155</td>\n",
       "      <td>0.022750</td>\n",
       "      <td>0.004038</td>\n",
       "      <td>0.999518</td>\n",
       "      <td>0.074891</td>\n",
       "      <td>0.085407</td>\n",
       "      <td>0.011268</td>\n",
       "      <td>0.001158</td>\n",
       "      <td>0.120196</td>\n",
       "    </tr>\n",
       "    <tr>\n",
       "      <th>...</th>\n",
       "      <td>...</td>\n",
       "      <td>...</td>\n",
       "      <td>...</td>\n",
       "      <td>...</td>\n",
       "      <td>...</td>\n",
       "      <td>...</td>\n",
       "      <td>...</td>\n",
       "      <td>...</td>\n",
       "      <td>...</td>\n",
       "      <td>...</td>\n",
       "      <td>...</td>\n",
       "      <td>...</td>\n",
       "      <td>...</td>\n",
       "      <td>...</td>\n",
       "      <td>...</td>\n",
       "      <td>...</td>\n",
       "      <td>...</td>\n",
       "      <td>...</td>\n",
       "      <td>...</td>\n",
       "      <td>...</td>\n",
       "      <td>...</td>\n",
       "    </tr>\n",
       "    <tr>\n",
       "      <th>Net Income to Stockholder's Equity</th>\n",
       "      <td>0.274287</td>\n",
       "      <td>0.291744</td>\n",
       "      <td>0.280617</td>\n",
       "      <td>0.075304</td>\n",
       "      <td>0.074891</td>\n",
       "      <td>0.006216</td>\n",
       "      <td>0.011343</td>\n",
       "      <td>0.010648</td>\n",
       "      <td>0.007693</td>\n",
       "      <td>0.011191</td>\n",
       "      <td>...</td>\n",
       "      <td>0.070354</td>\n",
       "      <td>0.328492</td>\n",
       "      <td>0.040217</td>\n",
       "      <td>0.000127</td>\n",
       "      <td>0.075303</td>\n",
       "      <td>1.000000</td>\n",
       "      <td>0.791836</td>\n",
       "      <td>0.000093</td>\n",
       "      <td>0.005147</td>\n",
       "      <td>0.029622</td>\n",
       "    </tr>\n",
       "    <tr>\n",
       "      <th>Liability to Equity</th>\n",
       "      <td>0.143629</td>\n",
       "      <td>0.141039</td>\n",
       "      <td>0.142838</td>\n",
       "      <td>0.085434</td>\n",
       "      <td>0.085407</td>\n",
       "      <td>0.001541</td>\n",
       "      <td>0.004043</td>\n",
       "      <td>0.004390</td>\n",
       "      <td>0.011899</td>\n",
       "      <td>0.002996</td>\n",
       "      <td>...</td>\n",
       "      <td>0.132372</td>\n",
       "      <td>0.159697</td>\n",
       "      <td>0.021982</td>\n",
       "      <td>0.003724</td>\n",
       "      <td>0.085434</td>\n",
       "      <td>0.791836</td>\n",
       "      <td>1.000000</td>\n",
       "      <td>0.002119</td>\n",
       "      <td>0.001487</td>\n",
       "      <td>0.159654</td>\n",
       "    </tr>\n",
       "    <tr>\n",
       "      <th>Degree of Financial Leverage (DFL)</th>\n",
       "      <td>0.016575</td>\n",
       "      <td>0.011515</td>\n",
       "      <td>0.014663</td>\n",
       "      <td>0.011806</td>\n",
       "      <td>0.011268</td>\n",
       "      <td>0.000935</td>\n",
       "      <td>0.000855</td>\n",
       "      <td>0.000927</td>\n",
       "      <td>0.000556</td>\n",
       "      <td>0.000774</td>\n",
       "      <td>...</td>\n",
       "      <td>0.022033</td>\n",
       "      <td>0.010463</td>\n",
       "      <td>0.001881</td>\n",
       "      <td>0.008812</td>\n",
       "      <td>0.011806</td>\n",
       "      <td>0.000093</td>\n",
       "      <td>0.002119</td>\n",
       "      <td>1.000000</td>\n",
       "      <td>0.016513</td>\n",
       "      <td>0.016739</td>\n",
       "    </tr>\n",
       "    <tr>\n",
       "      <th>Interest Coverage Ratio (Interest expense to EBIT)</th>\n",
       "      <td>0.010573</td>\n",
       "      <td>0.013372</td>\n",
       "      <td>0.011473</td>\n",
       "      <td>0.001167</td>\n",
       "      <td>0.001158</td>\n",
       "      <td>0.000393</td>\n",
       "      <td>0.000984</td>\n",
       "      <td>0.000957</td>\n",
       "      <td>0.001024</td>\n",
       "      <td>0.000798</td>\n",
       "      <td>...</td>\n",
       "      <td>0.007652</td>\n",
       "      <td>0.012746</td>\n",
       "      <td>0.000239</td>\n",
       "      <td>0.001027</td>\n",
       "      <td>0.001169</td>\n",
       "      <td>0.005147</td>\n",
       "      <td>0.001487</td>\n",
       "      <td>0.016513</td>\n",
       "      <td>1.000000</td>\n",
       "      <td>0.008339</td>\n",
       "    </tr>\n",
       "    <tr>\n",
       "      <th>Equity to Liability</th>\n",
       "      <td>0.052416</td>\n",
       "      <td>0.057887</td>\n",
       "      <td>0.056430</td>\n",
       "      <td>0.120029</td>\n",
       "      <td>0.120196</td>\n",
       "      <td>0.017071</td>\n",
       "      <td>0.014559</td>\n",
       "      <td>0.010900</td>\n",
       "      <td>0.012293</td>\n",
       "      <td>0.011299</td>\n",
       "      <td>...</td>\n",
       "      <td>0.262199</td>\n",
       "      <td>0.073916</td>\n",
       "      <td>0.014871</td>\n",
       "      <td>0.050609</td>\n",
       "      <td>0.120027</td>\n",
       "      <td>0.029622</td>\n",
       "      <td>0.159654</td>\n",
       "      <td>0.016739</td>\n",
       "      <td>0.008339</td>\n",
       "      <td>1.000000</td>\n",
       "    </tr>\n",
       "  </tbody>\n",
       "</table>\n",
       "<p>93 rows × 93 columns</p>\n",
       "</div>"
      ],
      "text/plain": [
       "                                                     ROA(C) before interest and depreciation before interest  \\\n",
       " ROA(C) before interest and depreciation before...                                           1.000000          \n",
       " ROA(A) before interest and % after tax                                                      0.940124          \n",
       " ROA(B) before interest and depreciation after tax                                           0.986849          \n",
       " Operating Gross Margin                                                                      0.334719          \n",
       " Realized Sales Gross Margin                                                                 0.332755          \n",
       "...                                                                                               ...          \n",
       " Net Income to Stockholder's Equity                                                          0.274287          \n",
       " Liability to Equity                                                                         0.143629          \n",
       " Degree of Financial Leverage (DFL)                                                          0.016575          \n",
       " Interest Coverage Ratio (Interest expense to E...                                           0.010573          \n",
       " Equity to Liability                                                                         0.052416          \n",
       "\n",
       "                                                     ROA(A) before interest and % after tax  \\\n",
       " ROA(C) before interest and depreciation before...                                 0.940124   \n",
       " ROA(A) before interest and % after tax                                            1.000000   \n",
       " ROA(B) before interest and depreciation after tax                                 0.955741   \n",
       " Operating Gross Margin                                                            0.326969   \n",
       " Realized Sales Gross Margin                                                       0.324956   \n",
       "...                                                                                     ...   \n",
       " Net Income to Stockholder's Equity                                                0.291744   \n",
       " Liability to Equity                                                               0.141039   \n",
       " Degree of Financial Leverage (DFL)                                                0.011515   \n",
       " Interest Coverage Ratio (Interest expense to E...                                 0.013372   \n",
       " Equity to Liability                                                               0.057887   \n",
       "\n",
       "                                                     ROA(B) before interest and depreciation after tax  \\\n",
       " ROA(C) before interest and depreciation before...                                           0.986849    \n",
       " ROA(A) before interest and % after tax                                                      0.955741    \n",
       " ROA(B) before interest and depreciation after tax                                           1.000000    \n",
       " Operating Gross Margin                                                                      0.333749    \n",
       " Realized Sales Gross Margin                                                                 0.331755    \n",
       "...                                                                                               ...    \n",
       " Net Income to Stockholder's Equity                                                          0.280617    \n",
       " Liability to Equity                                                                         0.142838    \n",
       " Degree of Financial Leverage (DFL)                                                          0.014663    \n",
       " Interest Coverage Ratio (Interest expense to E...                                           0.011473    \n",
       " Equity to Liability                                                                         0.056430    \n",
       "\n",
       "                                                     Operating Gross Margin  \\\n",
       " ROA(C) before interest and depreciation before...                 0.334719   \n",
       " ROA(A) before interest and % after tax                            0.326969   \n",
       " ROA(B) before interest and depreciation after tax                 0.333749   \n",
       " Operating Gross Margin                                            1.000000   \n",
       " Realized Sales Gross Margin                                       0.999518   \n",
       "...                                                                     ...   \n",
       " Net Income to Stockholder's Equity                                0.075304   \n",
       " Liability to Equity                                               0.085434   \n",
       " Degree of Financial Leverage (DFL)                                0.011806   \n",
       " Interest Coverage Ratio (Interest expense to E...                 0.001167   \n",
       " Equity to Liability                                               0.120029   \n",
       "\n",
       "                                                     Realized Sales Gross Margin  \\\n",
       " ROA(C) before interest and depreciation before...                      0.332755   \n",
       " ROA(A) before interest and % after tax                                 0.324956   \n",
       " ROA(B) before interest and depreciation after tax                      0.331755   \n",
       " Operating Gross Margin                                                 0.999518   \n",
       " Realized Sales Gross Margin                                            1.000000   \n",
       "...                                                                          ...   \n",
       " Net Income to Stockholder's Equity                                     0.074891   \n",
       " Liability to Equity                                                    0.085407   \n",
       " Degree of Financial Leverage (DFL)                                     0.011268   \n",
       " Interest Coverage Ratio (Interest expense to E...                      0.001158   \n",
       " Equity to Liability                                                    0.120196   \n",
       "\n",
       "                                                     Operating Profit Rate  \\\n",
       " ROA(C) before interest and depreciation before...                0.035725   \n",
       " ROA(A) before interest and % after tax                           0.032053   \n",
       " ROA(B) before interest and depreciation after tax                0.035212   \n",
       " Operating Gross Margin                                           0.005745   \n",
       " Realized Sales Gross Margin                                      0.005610   \n",
       "...                                                                    ...   \n",
       " Net Income to Stockholder's Equity                               0.006216   \n",
       " Liability to Equity                                              0.001541   \n",
       " Degree of Financial Leverage (DFL)                               0.000935   \n",
       " Interest Coverage Ratio (Interest expense to E...                0.000393   \n",
       " Equity to Liability                                              0.017071   \n",
       "\n",
       "                                                     Pre-tax net Interest Rate  \\\n",
       " ROA(C) before interest and depreciation before...                    0.053419   \n",
       " ROA(A) before interest and % after tax                               0.053518   \n",
       " ROA(B) before interest and depreciation after tax                    0.053726   \n",
       " Operating Gross Margin                                               0.032493   \n",
       " Realized Sales Gross Margin                                          0.032232   \n",
       "...                                                                        ...   \n",
       " Net Income to Stockholder's Equity                                   0.011343   \n",
       " Liability to Equity                                                  0.004043   \n",
       " Degree of Financial Leverage (DFL)                                   0.000855   \n",
       " Interest Coverage Ratio (Interest expense to E...                    0.000984   \n",
       " Equity to Liability                                                  0.014559   \n",
       "\n",
       "                                                     After-tax net Interest Rate  \\\n",
       " ROA(C) before interest and depreciation before...                      0.049222   \n",
       " ROA(A) before interest and % after tax                                 0.049474   \n",
       " ROA(B) before interest and depreciation after tax                      0.049952   \n",
       " Operating Gross Margin                                                 0.027175   \n",
       " Realized Sales Gross Margin                                            0.026851   \n",
       "...                                                                          ...   \n",
       " Net Income to Stockholder's Equity                                     0.010648   \n",
       " Liability to Equity                                                    0.004390   \n",
       " Degree of Financial Leverage (DFL)                                     0.000927   \n",
       " Interest Coverage Ratio (Interest expense to E...                      0.000957   \n",
       " Equity to Liability                                                    0.010900   \n",
       "\n",
       "                                                     Non-industry income and expenditure/revenue  \\\n",
       " ROA(C) before interest and depreciation before...                                      0.020501   \n",
       " ROA(A) before interest and % after tax                                                 0.029649   \n",
       " ROA(B) before interest and depreciation after tax                                      0.022366   \n",
       " Operating Gross Margin                                                                 0.051438   \n",
       " Realized Sales Gross Margin                                                            0.051242   \n",
       "...                                                                                          ...   \n",
       " Net Income to Stockholder's Equity                                                     0.007693   \n",
       " Liability to Equity                                                                    0.011899   \n",
       " Degree of Financial Leverage (DFL)                                                     0.000556   \n",
       " Interest Coverage Ratio (Interest expense to E...                                      0.001024   \n",
       " Equity to Liability                                                                    0.012293   \n",
       "\n",
       "                                                     Continuous interest rate (after tax)  \\\n",
       " ROA(C) before interest and depreciation before...                               0.051328   \n",
       " ROA(A) before interest and % after tax                                          0.049909   \n",
       " ROA(B) before interest and depreciation after tax                               0.052261   \n",
       " Operating Gross Margin                                                          0.029430   \n",
       " Realized Sales Gross Margin                                                     0.029166   \n",
       "...                                                                                   ...   \n",
       " Net Income to Stockholder's Equity                                              0.011191   \n",
       " Liability to Equity                                                             0.002996   \n",
       " Degree of Financial Leverage (DFL)                                              0.000774   \n",
       " Interest Coverage Ratio (Interest expense to E...                               0.000798   \n",
       " Equity to Liability                                                             0.011299   \n",
       "\n",
       "                                                    ...  \\\n",
       " ROA(C) before interest and depreciation before...  ...   \n",
       " ROA(A) before interest and % after tax             ...   \n",
       " ROA(B) before interest and depreciation after tax  ...   \n",
       " Operating Gross Margin                             ...   \n",
       " Realized Sales Gross Margin                        ...   \n",
       "...                                                 ...   \n",
       " Net Income to Stockholder's Equity                 ...   \n",
       " Liability to Equity                                ...   \n",
       " Degree of Financial Leverage (DFL)                 ...   \n",
       " Interest Coverage Ratio (Interest expense to E...  ...   \n",
       " Equity to Liability                                ...   \n",
       "\n",
       "                                                     Current Liability to Current Assets  \\\n",
       " ROA(C) before interest and depreciation before...                              0.160725   \n",
       " ROA(A) before interest and % after tax                                         0.195673   \n",
       " ROA(B) before interest and depreciation after tax                              0.162572   \n",
       " Operating Gross Margin                                                         0.132650   \n",
       " Realized Sales Gross Margin                                                    0.132607   \n",
       "...                                                                                  ...   \n",
       " Net Income to Stockholder's Equity                                             0.070354   \n",
       " Liability to Equity                                                            0.132372   \n",
       " Degree of Financial Leverage (DFL)                                             0.022033   \n",
       " Interest Coverage Ratio (Interest expense to E...                              0.007652   \n",
       " Equity to Liability                                                            0.262199   \n",
       "\n",
       "                                                     Net Income to Total Assets  \\\n",
       " ROA(C) before interest and depreciation before...                     0.887670   \n",
       " ROA(A) before interest and % after tax                                0.961552   \n",
       " ROA(B) before interest and depreciation after tax                     0.912040   \n",
       " Operating Gross Margin                                                0.300143   \n",
       " Realized Sales Gross Margin                                           0.298155   \n",
       "...                                                                         ...   \n",
       " Net Income to Stockholder's Equity                                    0.328492   \n",
       " Liability to Equity                                                   0.159697   \n",
       " Degree of Financial Leverage (DFL)                                    0.010463   \n",
       " Interest Coverage Ratio (Interest expense to E...                     0.012746   \n",
       " Equity to Liability                                                   0.073916   \n",
       "\n",
       "                                                     Total assets to GNP price  \\\n",
       " ROA(C) before interest and depreciation before...                    0.071725   \n",
       " ROA(A) before interest and % after tax                               0.098900   \n",
       " ROA(B) before interest and depreciation after tax                    0.089088   \n",
       " Operating Gross Margin                                               0.022672   \n",
       " Realized Sales Gross Margin                                          0.022750   \n",
       "...                                                                        ...   \n",
       " Net Income to Stockholder's Equity                                   0.040217   \n",
       " Liability to Equity                                                  0.021982   \n",
       " Degree of Financial Leverage (DFL)                                   0.001881   \n",
       " Interest Coverage Ratio (Interest expense to E...                    0.000239   \n",
       " Equity to Liability                                                  0.014871   \n",
       "\n",
       "                                                     No-credit Interval  \\\n",
       " ROA(C) before interest and depreciation before...             0.008135   \n",
       " ROA(A) before interest and % after tax                        0.011463   \n",
       " ROA(B) before interest and depreciation after tax             0.007523   \n",
       " Operating Gross Margin                                        0.004205   \n",
       " Realized Sales Gross Margin                                   0.004038   \n",
       "...                                                                 ...   \n",
       " Net Income to Stockholder's Equity                            0.000127   \n",
       " Liability to Equity                                           0.003724   \n",
       " Degree of Financial Leverage (DFL)                            0.008812   \n",
       " Interest Coverage Ratio (Interest expense to E...             0.001027   \n",
       " Equity to Liability                                           0.050609   \n",
       "\n",
       "                                                     Gross Profit to Sales  \\\n",
       " ROA(C) before interest and depreciation before...                0.334721   \n",
       " ROA(A) before interest and % after tax                           0.326971   \n",
       " ROA(B) before interest and depreciation after tax                0.333750   \n",
       " Operating Gross Margin                                           1.000000   \n",
       " Realized Sales Gross Margin                                      0.999518   \n",
       "...                                                                    ...   \n",
       " Net Income to Stockholder's Equity                               0.075303   \n",
       " Liability to Equity                                              0.085434   \n",
       " Degree of Financial Leverage (DFL)                               0.011806   \n",
       " Interest Coverage Ratio (Interest expense to E...                0.001169   \n",
       " Equity to Liability                                              0.120027   \n",
       "\n",
       "                                                     Net Income to Stockholder's Equity  \\\n",
       " ROA(C) before interest and depreciation before...                             0.274287   \n",
       " ROA(A) before interest and % after tax                                        0.291744   \n",
       " ROA(B) before interest and depreciation after tax                             0.280617   \n",
       " Operating Gross Margin                                                        0.075304   \n",
       " Realized Sales Gross Margin                                                   0.074891   \n",
       "...                                                                                 ...   \n",
       " Net Income to Stockholder's Equity                                            1.000000   \n",
       " Liability to Equity                                                           0.791836   \n",
       " Degree of Financial Leverage (DFL)                                            0.000093   \n",
       " Interest Coverage Ratio (Interest expense to E...                             0.005147   \n",
       " Equity to Liability                                                           0.029622   \n",
       "\n",
       "                                                     Liability to Equity  \\\n",
       " ROA(C) before interest and depreciation before...              0.143629   \n",
       " ROA(A) before interest and % after tax                         0.141039   \n",
       " ROA(B) before interest and depreciation after tax              0.142838   \n",
       " Operating Gross Margin                                         0.085434   \n",
       " Realized Sales Gross Margin                                    0.085407   \n",
       "...                                                                  ...   \n",
       " Net Income to Stockholder's Equity                             0.791836   \n",
       " Liability to Equity                                            1.000000   \n",
       " Degree of Financial Leverage (DFL)                             0.002119   \n",
       " Interest Coverage Ratio (Interest expense to E...              0.001487   \n",
       " Equity to Liability                                            0.159654   \n",
       "\n",
       "                                                     Degree of Financial Leverage (DFL)  \\\n",
       " ROA(C) before interest and depreciation before...                             0.016575   \n",
       " ROA(A) before interest and % after tax                                        0.011515   \n",
       " ROA(B) before interest and depreciation after tax                             0.014663   \n",
       " Operating Gross Margin                                                        0.011806   \n",
       " Realized Sales Gross Margin                                                   0.011268   \n",
       "...                                                                                 ...   \n",
       " Net Income to Stockholder's Equity                                            0.000093   \n",
       " Liability to Equity                                                           0.002119   \n",
       " Degree of Financial Leverage (DFL)                                            1.000000   \n",
       " Interest Coverage Ratio (Interest expense to E...                             0.016513   \n",
       " Equity to Liability                                                           0.016739   \n",
       "\n",
       "                                                     Interest Coverage Ratio (Interest expense to EBIT)  \\\n",
       " ROA(C) before interest and depreciation before...                                           0.010573     \n",
       " ROA(A) before interest and % after tax                                                      0.013372     \n",
       " ROA(B) before interest and depreciation after tax                                           0.011473     \n",
       " Operating Gross Margin                                                                      0.001167     \n",
       " Realized Sales Gross Margin                                                                 0.001158     \n",
       "...                                                                                               ...     \n",
       " Net Income to Stockholder's Equity                                                          0.005147     \n",
       " Liability to Equity                                                                         0.001487     \n",
       " Degree of Financial Leverage (DFL)                                                          0.016513     \n",
       " Interest Coverage Ratio (Interest expense to E...                                           1.000000     \n",
       " Equity to Liability                                                                         0.008339     \n",
       "\n",
       "                                                     Equity to Liability  \n",
       " ROA(C) before interest and depreciation before...              0.052416  \n",
       " ROA(A) before interest and % after tax                         0.057887  \n",
       " ROA(B) before interest and depreciation after tax              0.056430  \n",
       " Operating Gross Margin                                         0.120029  \n",
       " Realized Sales Gross Margin                                    0.120196  \n",
       "...                                                                  ...  \n",
       " Net Income to Stockholder's Equity                             0.029622  \n",
       " Liability to Equity                                            0.159654  \n",
       " Degree of Financial Leverage (DFL)                             0.016739  \n",
       " Interest Coverage Ratio (Interest expense to E...              0.008339  \n",
       " Equity to Liability                                            1.000000  \n",
       "\n",
       "[93 rows x 93 columns]"
      ]
     },
     "execution_count": 20,
     "metadata": {},
     "output_type": "execute_result"
    }
   ],
   "source": [
    "cor_matrix = X.corr().abs()\n",
    "cor_matrix"
   ]
  },
  {
   "cell_type": "markdown",
   "metadata": {
    "id": "xVLvvlRWwGSN"
   },
   "source": [
    "From the correlation matrix, tt appears that there are feature variables that are highly correlated with one another. We will remove these features from the data set before perform any feature selection"
   ]
  },
  {
   "cell_type": "code",
   "execution_count": 21,
   "metadata": {
    "id": "zH9fCr5O0kqJ"
   },
   "outputs": [],
   "source": [
    "# create function that calculates VIF and drops any columns that have a VIF greater than 5\n",
    "from numpy.core.fromnumeric import shape\n",
    "from statsmodels.stats.outliers_influence import variance_inflation_factor\n",
    "\n",
    "def cal_vif(x):\n",
    "  thresh = 5\n",
    "  output = pd.DataFrame()\n",
    "  k= x.shape[1]\n",
    "  vif = [variance_inflation_factor(x.values, i) for i in range(x.shape[1])]\n",
    "  for i in range(1, k):\n",
    "    print('Iteration no ', i)\n",
    "    print(vif)\n",
    "    a = np.argmax(vif)\n",
    "    print ('Max vif is for variable no : ',a)\n",
    "    if(vif[a]<=thresh):\n",
    "      break\n",
    "    if(i==1):\n",
    "      output = x.drop(x.columns[a], axis = 1)\n",
    "      vif = [variance_inflation_factor(output.values, j) for j in range(output.shape[1])]\n",
    "    elif(i>1):\n",
    "      output = output.drop(output.columns[a], axis = 1)\n",
    "      vif = [variance_inflation_factor(output.values, j) for j in range(output.shape[1])]\n",
    "  return(output)"
   ]
  },
  {
   "cell_type": "code",
   "execution_count": 22,
   "metadata": {
    "colab": {
     "base_uri": "https://localhost:8080/"
    },
    "id": "4tZ65XKo16vv",
    "outputId": "6492ed58-89e6-4103-b740-07b6a8a3aa01"
   },
   "outputs": [
    {
     "name": "stdout",
     "output_type": "stream",
     "text": [
      "Iteration no  1\n",
      "[69.01850223325629, 43.595467498059946, 102.89448309616877, 63784107.00172185, 1076.2927070171597, 82724488.6699668, 31113694.835407037, 1822.4631663986613, 11440456.186908506, 337.99634964330147, 1.2612409105505844, 1.092355471002177, 7.558642941248357, 1.0416010164740737, 1.3274514511808797, 782.0303535509482, 3911.8118072742327, 3126.1592381455343, 32.038789339109286, 4.187190702735464, 4.360882460291321, 637.9946060235118, 21.713722438768315, 1.0395640475297192, 1.9329780110347787, 133.49730672423615, 132.68280523255828, 1.023089394986167, 1.1253183182354223, 1.1245861424549934, 1.826570517281875, 3.6480610538571487, 1.3580387765690056, 1.0598223919041465, 1.0089769111560956, 1.5570356618276393, 2537479393.75135, 1151884255.8721192, 1.4719169862979808, 37.479577314825995, 9.119084282253652, 638.7817489939426, 30.099870538396818, 36.079332620209954, 5.900687445057002, 1.568334527356616, 1.3076566055626773, 1.1411513437741085, 1.3401406515691616, 6.3814957656262425, 3.3370896492705473, 1.5984649281962882, 1.151680847434043, 8312138253.946025, 4.863768733631312, 8967464419.896431, 3.1145919262637225, 1.2531060287816265, 1.0655728847958652, 2114448416.2389877, 8.623759081912636, 1.0899417821964243, 1.0741889852962132, 434920292358.3289, 42.996715926290285, 9683442458.85514, 1.029557800052723, 3.798699602643246, 1.3418897111441632, 3.3378088704393223, 1.5157152200219561, 1.4405847530998264, 86.72381556431932, 1.151810963594114, 26.558956154340503, 1.2166252388920598, 160501777557.3512, 1986153299.4930298, 44.95782251671022, 4.633900338678031, 2.818042219584237, 7.4803865390129625, 3.2764813532019925, 3.099771595988936, 29.082462082248224, 1.091679437424625, 2620.003074424558, 52974519.67115891, 8.349087282557573, 464.94508129932524, 1.004899088279558, 1.0069812599816976, 3.0450084439958767]\n",
      "Max vif is for variable no :  63\n",
      "Iteration no  2\n",
      "[69.01849691369395, 43.59547048292976, 102.8944865314102, 45578056.325474106, 1076.2908349953073, 68308332.20316012, 46068881.32398531, 1822.4576227516136, 7136073.092476168, 337.99511970725786, 1.261240912451517, 1.0923554695906437, 7.558645384225325, 1.041601019320039, 1.3274514539783513, 782.0301752237611, 3911.8108874884506, 3126.1588800846826, 32.03878883363618, 4.187190706401702, 4.360881713945248, 637.9943461281914, 21.713721547701944, 1.0395640461995121, 1.9329778931122417, 133.49732377366854, 132.68279090823086, 1.0230893946861304, 1.1253182946254912, 1.1245861462000974, 1.8265709508961552, 3.648061118436004, 1.3580387738872863, 1.0598224170899029, 1.0089769097717793, 1.5570353627060198, 1211921977.3012173, 1246209950.0808964, 1.4719169448010654, 37.47957704835284, 9.119084481804702, 638.7817381667278, 30.0998743148141, 36.07932331548993, 5.900687470576614, 1.5683339437828248, 1.3076566061989865, 1.1411513439350474, 1.340140640292022, 6.381495866761502, 3.337073719766715, 1.5984650371176408, 1.1516808567785228, 6174376701.131676, 4.863768742509252, 13176896329.1313, 3.1145919377996094, 1.2531060320096226, 1.0655728803702742, 3787709310.6710753, 8.623760019443726, 1.089941866044864, 1.0741889774828752, 42.99671643059254, 3809215778.499866, 1.0295578084596269, 3.7986996206177217, 1.3418897100604439, 3.337808803397488, 1.5157152199107773, 1.4405847531006957, 86.72353249226317, 1.1518109644499996, 26.558954474115097, 1.2166252323527484, 8.619078994517915, 1257561748.9007561, 44.95781981933953, 4.633900332086082, 2.818041498472827, 7.480386547328878, 3.276480951776861, 3.0997713750114277, 29.082461043956084, 1.0916794219122588, 2620.003085798949, 32781497.65832567, 8.349082271787305, 464.9450602206384, 1.004899087309812, 1.0069812600425747, 3.0450082921478168]\n",
      "Max vif is for variable no :  55\n",
      "Iteration no  3\n",
      "[69.01849452372532, 43.595470267106144, 102.8944888446852, 63526829.67938712, 1076.2895684104674, 67449322.50493494, 36668056.32584292, 1822.4639003690547, 13962690.489861302, 337.99573244484674, 1.2612409139579566, 1.092355470891468, 7.558644609569187, 1.041601013294724, 1.3274514634520032, 782.0300177438577, 3911.825952981428, 3126.1641226330944, 32.03878886176478, 4.187190703805333, 4.360882547422468, 637.9943904369215, 21.713722452505955, 1.0395640470138046, 1.93297801954716, 133.4973633149779, 132.68282884770704, 1.0230893978140831, 1.1253183218243321, 1.1245861455582309, 1.8265709289296184, 3.6480611377014553, 1.358038777343423, 1.0598224210093286, 1.008976915117549, 1.5570356017044513, 95757525.73492745, 35471693.21959462, 1.4719170222464582, 37.47957934088521, 9.119083504429282, 638.7816091840853, 30.099868096862995, 36.07932201100475, 5.900687643949427, 1.568334507096248, 1.3076566066955773, 1.14115132902465, 1.3401406537378822, 6.3814963100026985, 3.3370938322465635, 1.5984649052784057, 1.1516808641123286, 6.850010363090277, 4.863768796571675, 3.114591608609848, 1.2531060197421915, 1.0655728113977028, 33.718849639342636, 8.62375864304305, 1.0899418243434618, 1.0741889664733162, 42.996712953108954, 2835954732.3820934, 1.0295578042764377, 3.7986997364766046, 1.3418897086913806, 3.3378088720039956, 1.5157152126424858, 1.4405847481025786, 86.72252362201279, 1.151810960420001, 26.558951208266095, 1.2166252443327839, 8.619078154576739, 279969841.3454677, 44.95782181856884, 4.633900372795803, 2.8180408075072747, 7.480386604741033, 3.2764811675186443, 3.0997716201987635, 29.08243457587624, 1.0916794238140572, 1.015994196304741, 35683127.14422739, 8.34909029781619, 464.9450554611016, 1.0048990883202875, 1.0069812721710625, 3.04501064519454]\n",
      "Max vif is for variable no :  63\n",
      "Iteration no  4\n",
      "[69.01849416878743, 43.59547129817059, 102.89447808824264, 56333875.92703587, 1076.290669948118, 97354701.53565718, 41532461.7135313, 1822.4609084693732, 6637921.079015497, 337.995151580485, 1.2612409031825165, 1.0923554765379158, 7.55864413925379, 1.0416010143744194, 1.327451456345836, 782.0306460293407, 3911.827075596561, 3126.167972099581, 32.03878951547213, 4.1871906720760155, 4.360906717210306, 637.9945313941229, 21.713722431736176, 1.0395640467403182, 1.9329777760305522, 133.49731870034776, 132.68281795657464, 1.023089397586892, 1.1253183566271887, 1.1245861462346474, 1.826570619302632, 3.6480610980882484, 1.358038777090801, 1.0598223181460762, 1.0089768985927776, 1.5570356384119086, 171642295.05580112, 160632429.69394273, 1.471916931811809, 37.47958075391307, 9.11908404295778, 638.7818101608594, 30.09987231068251, 36.07932717804895, 5.900687639026617, 1.5683331391096824, 1.307656606109157, 1.1411513341678727, 1.3401406461448464, 6.381495894525879, 3.3370799219583294, 1.5984650284629915, 1.1516808367327809, 6.850009916264347, 4.863768047863697, 3.114591662786962, 1.2531060128658835, 1.0655729014445212, 33.71884687275489, 8.623760503526261, 1.0899418376841932, 1.0741889966380838, 42.99671657014475, 1.029557804758303, 3.798699681012043, 1.341889710514457, 3.3378087891026316, 1.5157152139176482, 1.4405847568354493, 86.72306663342752, 1.1518109620617498, 26.558947152803444, 1.2166252497559482, 8.619079736381892, 292.1031351697963, 44.95782145390332, 4.633899365711682, 2.8180413259742267, 7.480386577295594, 3.276481126808994, 3.099771547682144, 29.08246814531047, 1.0916794107504266, 1.0159941834938921, 47258441.1994593, 8.349090458384103, 464.9450499451531, 1.0048990884392115, 1.0069812417982584, 3.0449961472066387]\n",
      "Max vif is for variable no :  36\n",
      "Iteration no  5\n",
      "[69.01847762393106, 43.59545629125267, 102.89448898452184, 52333058.66342763, 1076.291057065112, 341.86853522587774, 2099.5261498713908, 1822.4156372873792, 89.10478775436573, 337.99688012573296, 1.2612409737848675, 1.0923554858548772, 7.558638598482653, 1.0416009502780854, 1.3274515150105766, 782.0321094108765, 3911.823467111887, 3126.1853163104315, 32.03878771160532, 4.187190720013486, 4.3608926766893195, 637.9945685710077, 21.71372368094246, 1.039564045095158, 1.9329775421141169, 133.49736959611602, 132.68282126897205, 1.0230894320420947, 1.1253182783212856, 1.124586104565759, 1.8265709189241315, 3.6480608302272017, 1.3580387726756127, 1.0598222947276759, 1.0089769466746221, 1.5570351589228013, 27.90003513018217, 1.4719167916608338, 37.47957857063784, 9.119081462277464, 638.7817152302136, 30.099869082602744, 36.079122241338034, 5.9006892036747915, 1.568333847911122, 1.3076566137276333, 1.1411512362171545, 1.3401406769641084, 6.381497853757042, 3.337090973766631, 1.598464557736682, 1.151680828058747, 6.850009417979535, 4.863769816416459, 3.1145815221288236, 1.2531059465957277, 1.0655729200764783, 33.71883769246864, 8.62374870253754, 1.08994175891492, 1.074188815422581, 42.996606938151416, 1.0295577898792077, 3.798699994342887, 1.3418897017748495, 3.337808872282332, 1.5157151902615524, 1.4405847323109686, 86.72312217134055, 1.9669767399687135, 26.558933905110095, 1.2166252207918875, 8.619078805331862, 292.1031931048324, 44.95774248236059, 4.63389477365156, 2.8180393247367386, 7.480386700728255, 3.276474040047572, 3.099771563142134, 29.082466281481675, 1.0916794591181704, 1.0159942838802982, 43829817.44859567, 8.349081144384643, 464.9443469237583, 1.004899084961915, 1.006981380446472, 3.0450012847882006]\n",
      "Max vif is for variable no :  3\n"
     ]
    },
    {
     "name": "stdout",
     "output_type": "stream",
     "text": [
      "Iteration no  6\n",
      "[69.01843867910554, 43.59545155672999, 102.8944102797821, 1076.2428663838002, 341.8676600541442, 2099.5112510482295, 1822.432122978828, 89.10801894192626, 337.99679759847317, 1.261241136214421, 1.0923559147560635, 7.558636455709332, 1.0416009967834616, 1.3274513605677942, 782.0324549132838, 3911.821395485279, 3126.1843379482093, 32.03876085247057, 4.1871928234659395, 4.3608694560476255, 637.9944893905695, 21.713698273370486, 1.0395640239409107, 1.9329782325964255, 133.4973699620581, 132.68280169131896, 1.0230893939094639, 1.1253170607912437, 1.1245860240422372, 1.8265711137156035, 3.648059398345722, 1.3580381762903415, 1.0598228725557348, 1.0089769775690551, 1.55703726894736, 27.900060153775666, 1.4719165524901863, 37.479578523191776, 9.119082640748614, 638.781778152115, 30.09986594671374, 36.07910227807162, 5.900690100875294, 1.5683337255431786, 1.307657423274896, 1.1411508012554488, 1.3401415388440343, 6.381495643813511, 3.3371155156563144, 1.5984657131466147, 1.1516811618248535, 6.850033627600692, 4.863767970788844, 3.11459933682107, 1.2531059002883342, 1.0655730197354143, 33.71893126219203, 8.623754050878121, 1.0899416717803085, 1.0741889930741357, 42.99662148073233, 1.0295582500737832, 3.7987046642321687, 1.3418899038773715, 3.3378204841297334, 1.5157150902984617, 1.4405845608547672, 86.72209005391389, 1.9669772181726175, 26.558982723869715, 1.2166251760216373, 8.619104072740507, 292.1036490320659, 44.957807354953296, 4.633893835101491, 2.8180456230496027, 7.480382231327735, 3.276475997415841, 3.0997723952860623, 29.08245863777649, 1.0916793967250502, 1.0159939615629514, 1078.073456111489, 8.349086619171208, 464.9452748796325, 1.004899069268558, 1.0069814817649314, 3.0450037874832705]\n",
      "Max vif is for variable no :  15\n",
      "Iteration no  7\n",
      "[69.01148842280259, 43.59543521273421, 102.87553947178513, 1076.2446883692207, 341.8525926976999, 2099.5172715558, 1822.4414028564318, 89.10205557786338, 337.96915800890457, 1.260743772250644, 1.0923551438771026, 7.5585593129109405, 1.041505641947889, 1.3274326845370847, 625.9314921082365, 627.3011997478857, 31.961787177022206, 4.187177922100799, 4.360675007174375, 636.1790553280997, 21.7136569776252, 1.0395633907822985, 1.9327616248915893, 133.4973100434927, 132.6827872638896, 1.0230864954618184, 1.125075001003408, 1.1245227136372413, 1.825212159708601, 3.647927730629745, 1.3580297147721954, 1.0589950746152534, 1.008974509274567, 1.5570215510717864, 27.900050687332882, 1.4719118602277756, 37.47772848138426, 9.11907719666441, 637.1070167663637, 30.065426089794993, 36.07315122198683, 5.900681717786368, 1.5682017179055168, 1.3076536389120572, 1.1411453218209113, 1.3401318292972995, 6.381096210416007, 3.337103653571233, 1.5983852964568894, 1.1516811685713826, 6.849779535022583, 4.863410116264991, 3.114286491986602, 1.2531053273130492, 1.0601767815577352, 33.71744480405118, 8.623742914311695, 1.0899244765596845, 1.0741712365958205, 42.99118403316912, 1.0294503080709454, 3.7909345606316607, 1.341883656399145, 3.3369554625851667, 1.5156684336974175, 1.4403989725519113, 86.72327558294819, 1.966486034626443, 26.558343788519345, 1.216590530153356, 8.618798534232416, 291.93780350501953, 44.93050396374942, 4.633893779395728, 2.8180110378080463, 7.480152165180083, 3.276096968973808, 3.099716187128777, 29.081577383758294, 1.0916389436334015, 1.015968756131698, 1078.073931115598, 8.34587046245242, 464.5290433862755, 1.0048937888718084, 1.0069728705209218, 3.0449112590933596]\n",
      "Max vif is for variable no :  5\n",
      "Iteration no  8\n",
      "[68.4134734485659, 43.50972212672066, 102.26028805121341, 1061.4051760459301, 112.64892793385806, 320.9750261043557, 20.55456430961513, 324.5451884837412, 1.2604069116862935, 1.092354407416861, 7.441135715626964, 1.0413139697900025, 1.3273330260209502, 625.9135690291458, 627.2835138115104, 31.947674673173267, 4.187120336306441, 3.440443159376746, 636.1733725950429, 21.711527490581023, 1.0395610528743506, 1.9176657625480673, 133.48840851898368, 132.68235765504684, 1.023066268640549, 1.123926114863505, 1.1244039958736716, 1.8251757015491883, 3.6466770704806484, 1.3579656705773613, 1.0563196280089766, 1.008160577571725, 1.5422944080737702, 27.849378926875012, 1.4673482481737667, 37.476079484448434, 9.113587994545734, 637.0940201941198, 30.048253536460063, 34.610647929066076, 5.879141484406465, 1.5636971290823176, 1.307653260322935, 1.140574743760343, 1.340051289710868, 6.374943560666061, 3.0478377805275345, 1.5956497529160363, 1.1512580486676558, 6.818099258265109, 4.856338596314535, 3.111267122040018, 1.2530465819443362, 1.0595722463106942, 33.71114405778911, 8.54649305362933, 1.086178967973029, 1.07195984240462, 41.33865791631088, 1.0293210944258242, 3.789487912771961, 1.3418269452452112, 3.336276371299808, 1.5156679426105317, 1.4397549897423902, 34.22732653956349, 1.9664653863434682, 26.174369738895027, 1.2160512727402109, 8.614818968360677, 288.7515049588338, 44.907585645793276, 4.594445279412396, 2.771155667319219, 7.4769560233315895, 3.240025192080528, 3.099593704509236, 29.072807693898916, 1.0910175321876878, 1.0159675548144578, 1062.372263166342, 8.309310435690316, 464.5267743553508, 1.00489356697638, 1.006374734339555, 2.9185890416380955]\n",
      "Max vif is for variable no :  80\n",
      "Iteration no  9\n",
      "[68.39449609043916, 43.489822762874425, 102.25851367288533, 2.4245019553252987, 112.61668484903899, 320.12000193091797, 20.554523175033488, 324.04183196478425, 1.260391840331368, 1.0922793832998863, 7.439639212429367, 1.0412906721982869, 1.3272555355909548, 625.8883883648263, 627.2691219791429, 31.933715591824026, 4.186610873974044, 3.4390156159139367, 636.1452568174832, 21.705971271149096, 1.0395274457211026, 1.9173763751741684, 133.48836653763786, 132.68233610758452, 1.023060716926921, 1.1233539925854101, 1.1243898006347193, 1.8251605616278601, 3.64536905243727, 1.3577891200354013, 1.0563040454039605, 1.008095588381134, 1.542289124181311, 27.825610381740475, 1.4671772410083435, 37.474648141060335, 9.113478244084284, 637.0916402315853, 30.043003812765132, 34.603979381599586, 5.878945179804318, 1.5636809223981092, 1.3075744905884077, 1.1394610848676894, 1.3399579074579542, 6.373687536799511, 3.0435157408863174, 1.5953389201452504, 1.1510776432585712, 6.817227452084542, 4.856084058078039, 3.108873678919052, 1.2530411759743194, 1.059501492740904, 33.66408934982373, 8.545034396741992, 1.0861728261626475, 1.0719171561173453, 41.32950432131996, 1.0291547261258673, 3.788649927627811, 1.3418254911217244, 3.3302997937462, 1.515664007215092, 1.439747497443798, 34.194294358276586, 1.9659653451667396, 26.174358795537337, 1.2160364934240178, 8.588486876242918, 288.7244519753587, 44.89484563025649, 4.594122199110429, 2.770518214071917, 7.475521425740334, 3.2400216367215067, 3.0984602399135475, 29.051858784311026, 1.091007322243369, 1.0159345960679802, 8.308867027385649, 464.3326112623763, 1.0046552658170353, 1.0063728841247264, 2.918032691797213]\n",
      "Max vif is for variable no :  37\n",
      "Iteration no  10\n",
      "[68.07428602945784, 43.01754208962404, 100.93568450007014, 2.424501667477437, 112.5735279084649, 320.1174160774162, 20.55043366312831, 323.98774273541113, 1.260369397800261, 1.707511702570952, 7.439356103976971, 1.0390089040243449, 1.326995420710958, 625.8018193130976, 627.1890381542659, 30.279887853090983, 4.185905527891765, 3.4389544894291117, 6.579045095312046, 21.59010861002325, 1.0395266229874272, 1.8742187905100824, 133.488079546861, 132.68204318267607, 1.0230434601513054, 1.1232703577991623, 1.1243570778959862, 1.4146241889203581, 3.6453681343422497, 1.356975505154817, 1.056263730869551, 1.008092265352924, 1.5422847664896155, 27.823664379458705, 1.4671484349296144, 37.420239884895494, 9.106796963428263, 26.644069718749638, 34.60287877260406, 5.87863410170114, 1.5633113385425619, 1.3075089700251608, 1.139426507993833, 1.3399210971640154, 6.373568945925476, 3.0434638492285733, 1.594838153091664, 1.1510765869049693, 6.81372530159987, 4.854111899883857, 3.1077067621187657, 1.2530327880481387, 1.0595002404635372, 33.663911138938, 8.544688246348386, 1.0861386596757805, 1.0718921658754632, 41.32922520500351, 1.0287173474207518, 3.7886349815137597, 1.3416233921050609, 3.327716078183802, 1.5156041694837823, 1.4396902935794815, 34.19373781902523, 1.9659370327371373, 26.17415218125515, 1.216029005652357, 8.587552700416845, 288.7175188761239, 44.88877390139976, 4.53888356203088, 2.7682962992396867, 7.47552065643155, 3.138511970247934, 3.092184248840577, 29.041082554209627, 1.0909939274773663, 2619.758076364628, 8.307629157695919, 464.2730636830461, 1.0046510919181137, 1.0063643224268382, 2.917915966566564]\n",
      "Max vif is for variable no :  78\n"
     ]
    },
    {
     "name": "stdout",
     "output_type": "stream",
     "text": [
      "Iteration no  11\n",
      "[68.0671708751222, 3161.0145433695734, 100.9290350607289, 3134.1205350917417, 111.1680929406005, 320.03445542007415, 20.34226382816748, 323.4744145844528, 1.2603266015382024, 1.0919620955193658, 7.439186231811552, 1.062958577726563, 2.239648037447612, 21033.558655599234, 20972.427304388315, 30.2750771901795, 4.185602249253705, 3.4403365179270575, 6.579015980033503, 688.1931398669997, 4.617288581547319, 11660.246326760267, 133.48744297995515, 132.681410242651, 1.0230428993045766, 1.123123223924885, 1.1245428860119775, 1065.7758417024213, 1225.8275681857187, 1.356704982059388, 1.0574095975908262, 1.0080921076124225, 1.5432730696634762, 27.823042855627733, 1.609942952988234, 37.41550995194915, 9.102402813200193, 965.3561427332245, 34.601585980078525, 5.8757578359138956, 1.566553554302068, 1.3094285581886307, 1.1394255184317164, 1.3399060103854485, 13.42526454430752, 3.0388048787404407, 240.77103544305453, 1.1527582067970257, 1301.841159834393, 23.89348018501388, 5.575797326518829, 1.2533763974354695, 1.0651050409227334, 33.66292862492502, 8.543344823757291, 1.0861319093448913, 1.0817467646750039, 164144.96763492495, 1.0379928111189547, 3.7886165183575278, 1.4007211089378964, 3.3276815547813294, 1.5151710675085264, 1.439252823336188, 34.193281588958214, 1.1510476300828114, 26.1702321797811, 1.2162059234204619, 8.587187852500454, 288.71038329195636, 44.88629980005726, 4.538641476735129, 661.4109507206955, 775.1977318431635, 1863.9995603715747, 6.3160293891496035, 11678.789845856334, 1.093665667223448, 8.303850987692048, 464.26714912477377, 4.109120394339819, 1.0063627640389299, 5.556445161809211]\n",
      "Max vif is for variable no :  57\n",
      "Iteration no  12\n",
      "[68.06364698817885, 3160.9989115896287, 100.88813564037439, 3130.3678198024268, 53.26353190206734, 256.94231907370875, 12.779158303245312, 321.6756258393183, 1.2592978076708636, 1.0911253558391656, 7.413554105288364, 1.0611238888017134, 2.2360668964547736, 625.4462388127977, 626.8031762423668, 30.270999809897226, 4.1810901866800725, 3.407779562702423, 6.5585604301258265, 687.2069065312554, 1.0394447308224952, 11659.927182666444, 133.4832492076588, 132.6797469024261, 1.0230428938973282, 1.1206945109679765, 1.1236475326485265, 1063.6685608712905, 1202.1806624637154, 1.3549828728293933, 1.0572797127722842, 1.0078330478175284, 1.5410110116681806, 27.734048075099928, 1.608953631333057, 37.40033105204169, 10.687801342080034, 963.8773265711395, 8430.037631771069, 5.766039451825087, 1.5601769293531467, 1.3092913254457281, 1.1393784622477339, 1.561801466097746, 13.079410981513687, 3.0117049142092074, 240.76473117299963, 1.1524742704415225, 1258.9040427952527, 21.509315736937577, 5.2777179199154745, 1.220898173794392, 1.0649981555915389, 33.6404318439812, 872.7949492116599, 1.085112411259928, 1.0808139542118673, 1.0378499748916983, 3.775278342779325, 1.3409469812889054, 3.3147692456088675, 1.5144888357051538, 1.43638725106447, 31.820638491012083, 1.1509721786880822, 26.16870957172786, 1.2162059209660576, 8.497940970193282, 252.15109486382318, 44.61217532908272, 836.7802767798829, 660.6799250161213, 770.5566061109564, 1545.9998817432102, 6.273450943837458, 11672.589579712996, 1.0935885841617397, 8.112888257570434, 462.6755947440985, 4.109006009581564, 1.0063493899188436, 5.515242677330463]\n",
      "Max vif is for variable no :  75\n",
      "Iteration no  13\n",
      "[66.43139361028616, 1750.803660329809, 99.83907795111206, 3010.3937407150265, 53.2241181463765, 256.9172587150092, 12.713126899425626, 321.6597223600774, 1.247917826372504, 1.0909675930146927, 7.331948430393472, 1.0605082250446771, 2.2232421169411705, 625.2540625217648, 626.349916612107, 30.25943696064527, 4.173839142658836, 3.3988996848194493, 6.55606864099194, 21.548984064688202, 1.0389148552518102, 11658.867030312744, 133.45997333452542, 132.6636784396683, 1.0230172944353344, 1.0932503269504308, 1.123646495151337, 1060.6918170765875, 1186.1398058055418, 1.354981952922246, 1.057234588203875, 1.007794682346343, 1.536444809201701, 27.21859674375319, 1.6082784481221408, 37.36767091789081, 10.47786605079272, 963.8557119677059, 8251.252743988329, 16.985962454642483, 1.5588191805106888, 1.306664618269137, 1.1393291637306457, 1.5615863229883062, 13.078904737710829, 3.004141721294353, 240.6842178635953, 1.1520980947331139, 1255.9192637926308, 21.505621984733107, 5.273564952471922, 1.2181115609616462, 1.0649297647741218, 33.35877350888881, 871.5939324232014, 1.0851078947163642, 1.080777714928296, 1.036635881115165, 3.2930504668838534, 1.3399146442577885, 2.758303570691326, 1.5144700978097252, 1.434767270380947, 31.725849178249824, 1.1489333332059115, 25.98174300988828, 1.2161701437178638, 8.457091129169594, 251.05585452895343, 44.429643641945965, 836.7529456706098, 660.4616836537919, 756.1375003625011, 2.5987442794663314, 6.273428978901807, 1.0891416107248775, 7.621952361674207, 456.2267082304405, 4.108935849434929, 1.006313368992015, 5.514368522839727]\n",
      "Max vif is for variable no :  21\n",
      "Iteration no  14\n",
      "[66.39970833523162, 1750.7780383259433, 99.7781672297016, 2.3279529799937952, 52.20761091303561, 253.60821117224984, 12.629923997321434, 320.88735919389865, 1.2471599254612933, 1.0909651365344526, 7.327054822686703, 1.0605051878314147, 2.222992613038069, 625.2504773435616, 626.3481523240276, 30.25943777125143, 4.124878243533241, 3.3987421316340796, 6.555953750670392, 21.451563716188353, 1.03879484871023, 132.69673381732207, 132.66174300379208, 1.0216569111384064, 1.0931430966311486, 1.1236246179578966, 1.3009076140769134, 1182.9283902294392, 1.354972788169064, 1.0571868150051944, 1.0077555944884016, 1.536129553953903, 27.212933436670724, 1.608273809125445, 37.305272888905776, 10.47561246623, 26.564556931244958, 8250.805195690398, 16.98595196730626, 1.5578480650208966, 1.3066314367457972, 1.139316326800839, 1.5615633275746978, 13.07064493414851, 3.004074592255722, 240.6806823239225, 1.1520954946328381, 1255.3802633944526, 21.496859989163646, 5.27336123556098, 1.2180476057527334, 1.0649297644112807, 33.351260955753474, 871.2330551419003, 1.0850439715346913, 1.0805804213827548, 1.036615657840119, 3.290736240337398, 1.339895085012062, 2.7582911194452886, 1.514450474506632, 1.4347450469488832, 31.63912447042936, 1.9620623907532655, 25.975883891516684, 1.216166453812057, 8.456826514337886, 251.05577339115214, 44.42794437207707, 835.7140118912125, 660.2001795600042, 755.9742734617693, 2.589045738327255, 6.273347439798792, 1.0891159079365558, 7.621299990573801, 456.1495064437128, 4.108933481609017, 1.0062981212589903, 5.511741204113986]\n",
      "Max vif is for variable no :  37\n",
      "Iteration no  15\n",
      "[66.35085436113991, 1746.7146062672582, 99.71089206809357, 2.3279374720952934, 48.71644986007227, 249.47534652598182, 11.958164551124591, 320.65330575045675, 1.2458010316988586, 1.0891799538722617, 7.323137337481381, 1.0586859416252266, 2.221153085543704, 21014.665441316818, 20944.30281515191, 1461.4319778590402, 4.071355896014691, 3.393077356414572, 6.555516665403206, 683.7853295086454, 1.0387465855165987, 132.696417015344, 132.66132411351333, 1.0216453705402677, 1.092692527229627, 1.1022621888138602, 977.5178922153985, 3.419117656581771, 1.3530479334785632, 1.0571790876287803, 1.0075579826286076, 1.5353634448529678, 25.55776821632492, 1.6076206298859699, 19588.33121451233, 4.6988668957042155, 962.4084295039324, 5.521119527434895, 1.5250591459777978, 1.306389111076366, 1.1391105019027652, 1.3394711991888317, 5.544968921930741, 3.00265870219069, 240.6684161653598, 1.1520195951887047, 1010.6048693061412, 20.85614440550964, 4.975729479485475, 1.191706069990877, 1.0646213863264373, 30.470189919631864, 8.511093871043398, 1.084434650432618, 1.0805757373093918, 1.0365246258759626, 3.271773752157223, 1.3985632633338927, 2.7579025902212293, 1.514317674085993, 1.4332101057935227, 31.497892728244487, 1.960936884319622, 25.969177004420008, 1.2161599471058626, 8.332948730022705, 250.89174934161582, 44.29592936838657, 4.275523644985996, 2.7617594715385247, 7.090433654963933, 1325.8990939707535, 3.0629464419236547, 1.087486135332116, 5.205323555281466, 437.7216098787201, 4.108603209478164, 1.006194989278596, 5.48831649472902]\n",
      "Max vif is for variable no :  13\n",
      "Iteration no  16\n",
      "[66.34965234981247, 1746.4257245109932, 99.70434012327502, 2.3279289959538723, 48.71265223236871, 249.47429321938333, 11.954589153515556, 320.6522881068839, 1.2451159829461929, 1.0873388030605062, 7.323119786606868, 1.0586774026311114, 2.2203997967474134, 109.20643568381601, 30.209217980543038, 4.069944149390069, 3.3930607032234716, 6.555509256503007, 21.44787882437558, 1.0387257775890355, 132.69639036255757, 132.6613888476939, 1.0216368876517647, 1.0925526203864722, 1.1021894761710866, 977.2846930377124, 3.4191157054238177, 1.353042945502976, 1.0569568496189823, 1.0075574943381054, 1.5353633588458568, 25.557224035537185, 1.6076148883745738, 19570.505216776564, 4.697766512622495, 26.47638898231568, 5.516527333758296, 1.5236755528526127, 1.3063039276193944, 1.138906679291027, 1.3394604106841432, 5.540585953987967, 3.002393787797348, 240.63639184769545, 1.1520194222218323, 1009.8867606399065, 20.846234494630544, 4.9753643521840685, 1.1916720024698093, 1.0615740589331863, 30.470181330956287, 8.511060603320061, 1.0843573471907673, 1.0804878479298112, 1.0364648983268538, 3.2634070114388742, 1.3390260578476947, 2.752488386867533, 1.5137607041900192, 1.4327751739668322, 31.497932068866604, 1.9599521435796827, 25.96845100731589, 1.2161511480947906, 8.33154951620421, 250.58174249204188, 44.27483640982572, 4.274106984587284, 2.7616206182879997, 7.090427530203092, 2.232212390009341, 6.259142644332761, 1.0872598365652564, 5.198034187332672, 437.41269391843275, 4.108437811415779, 1.006159903190288, 5.488311339807558]\n",
      "Max vif is for variable no :  33\n"
     ]
    },
    {
     "name": "stdout",
     "output_type": "stream",
     "text": [
      "Iteration no  17\n",
      "[66.34315772274273, 1746.3189538023519, 99.70082832873351, 2.327818258843756, 48.6104106489278, 249.2728301975468, 11.95362810421759, 320.10218839520394, 1.2450899767363937, 1.083551196502853, 7.323086598723832, 1.0586499037919503, 2.219002665070272, 109.00183330609636, 30.139124522841804, 3.981383385647353, 3.3930101713073597, 6.502490337002233, 21.44410789130667, 1.037652268505332, 132.68950534397592, 132.6422172739279, 1.0216367763751104, 1.0900079558581237, 1.0996564186832292, 972.9903832230781, 3.3801411585288634, 1.3530378522329058, 1.0569497060279374, 1.007554283585057, 1.5352173175527157, 25.55657503075211, 1.6076008870547194, 2.4372599293000636, 26.473328832245823, 5.496256888244357, 1.491174088253438, 1.3062695364113381, 1.1389037590925732, 1.3379586417670575, 5.082916017424193, 3.000916140270502, 240.61609425983016, 1.1518616324162196, 1009.5311260668692, 20.665847904155374, 4.970925262533904, 1.1905416252572583, 1.0604394710866707, 30.4575933592071, 8.511004680641703, 1.081856041325787, 1.080419293222878, 1.0363450672460583, 3.2549152550772606, 1.3389068336760348, 2.7432295744845905, 1.5124641977774627, 1.4327564407295201, 31.49267992265153, 1.9559025829096754, 25.955853499290257, 1.216015420161508, 8.324768724672195, 247.71860286363446, 41.678062770781274, 4.269470064817962, 2.760984287533018, 7.041803232012508, 2.198713501562878, 6.257541815126813, 1.0849338740394645, 5.189734838655124, 420.1274064615546, 4.107336100147606, 1.0057851411091123, 5.48785983361123]\n",
      "Max vif is for variable no :  1\n",
      "Iteration no  18\n",
      "[4263.390658706101, 60.87529024858191, 2.278316090938073, 48.529283730927936, 247.26269595460911, 11.946144162765364, 318.7126467186556, 1.2444558729891892, 1.0835015149225022, 7.271646290245779, 1.0585716950896387, 2.202717648632958, 108.68085242902627, 1279.029016389257, 3.950661757873737, 3.377554454792934, 6.2398234294170685, 650.1946128503014, 1.037404157138327, 132.62601196758018, 132.5620711204406, 1.0214988219641623, 1.0890291109298735, 1.0918004451688368, 972.0186935042201, 3.356740491585134, 1.3530363355676065, 1.05691229821832, 1.007507077448131, 1.5306487957740513, 25.52983156070749, 1.6075955825946286, 2.4356831968312034, 832.0020692581152, 5.478388208042595, 1.4909089157531554, 1.306199671799034, 1.1386720899654899, 1.2958024361105154, 5.082699366034001, 2.997189356094992, 240.01036157043208, 1.1517570361050629, 996.0152184952541, 20.66516854001724, 4.960871344429794, 1.1903332489096543, 1.060393510554361, 30.405564264460708, 8.458872583387201, 1.0814442920078227, 1.0803662458587748, 1.0361830529220881, 3.161714092186006, 1.3983124868850885, 2.694270203269081, 1.5121318679808007, 1.4326777449494323, 31.259053081493988, 1.1453195953721313, 25.89014115380038, 1.2160046255885002, 8.319582530571493, 245.68234902491955, 41.21869496576385, 4.252033214325837, 2.758485263950586, 7.032413255095869, 2.19314448725786, 6.25754064588765, 1.0845854612734853, 5.1712245826192875, 416.0555921568141, 4.105433684876852, 1.0057831525880896, 5.485975790367248]\n",
      "Max vif is for variable no :  0\n",
      "Iteration no  19\n",
      "[5.625326310512537, 2.277574422615041, 48.39150071662698, 247.0006305573302, 11.935042996644588, 318.6830661353952, 1.2444191169377559, 1.0803762514708612, 7.271608634137624, 1.057999509894599, 1.9734963957472302, 108.66497760638072, 24.1848346630639, 3.9291088155173983, 3.3775483647026823, 6.17191814631024, 19.41833486661911, 1.0370060396018201, 132.62526341334964, 132.5618236947697, 1.021482698510292, 1.0889924915798495, 1.0886964997718989, 969.8446818261688, 3.353655408891818, 1.3530312287525537, 1.056911033631205, 1.0071220252451791, 1.5306265490114628, 25.52929608381105, 1.6074762820258346, 2.4341510185757205, 809.2974369795396, 5.474913344544275, 1.4909022543043728, 1.3060364190903508, 1.1373676468300602, 1.2947620825759532, 5.0814612119039975, 2.9968478983172595, 239.98095865944194, 1.1517508471772417, 993.6995757364742, 20.643473007220667, 4.956703640459278, 1.1902995915880958, 1.0602869339388843, 30.39472311454038, 8.455514140987018, 1.0813378684709896, 1.0803424052608759, 1.0360465427701673, 3.098347498119244, 1.3983106682779376, 2.6929663287302317, 1.5121313651367962, 1.4326410008914043, 31.246537750781425, 1.1452947966466196, 25.890115118098105, 1.2158866527158962, 8.318940779249024, 245.6443547967273, 41.199919357930376, 4.249704094268393, 2.7584348632793523, 6.936908275138071, 2.1870952477818366, 6.256746724535684, 1.075836277551419, 5.162046598879537, 415.9068517829457, 4.105161031789799, 1.0054993759737452, 5.483897703504229]\n",
      "Max vif is for variable no :  42\n",
      "Iteration no  20\n",
      "[5.611627129407225, 2.277255429201203, 47.8436844568995, 246.02320131917784, 11.860776401697349, 318.59535474171213, 1.2410022479973253, 1.0695374580922206, 7.270644073486629, 1.0576245048401673, 1.9685473045715758, 107.89476739351048, 1167.3840121558317, 3.9190876582341794, 3.3763068993007277, 6.115310875152753, 618.8422948105656, 4.60578566737211, 132.6223287325534, 132.5555178196256, 1.0214820601599428, 5.023093457668223, 1.0877862519961372, 969.8446716054382, 3.351563789987036, 1.3044543944313087, 1.053165959778511, 1.0067616821110674, 1.5239915953165228, 25.52220072367134, 1.606968734385196, 2.4336552927900756, 808.185221760368, 5.418985886078235, 1.488015987463004, 1.3057337240057822, 1.1065745457922553, 1.271289348161954, 5.080369281913142, 2.993872480299661, 224.93798571177217, 1.1514722754828182, 15.683381884371931, 4.849775488335277, 1.170935274135407, 1.058508871022112, 29.22443121095867, 8.45549440662463, 1.080396971861612, 1.0800826572338396, 1.035744001473718, 3.0954289417422194, 1.3981048334568889, 2.6877069919566483, 1.4822488156524367, 1.430224927902393, 31.220224297599078, 1.1451024317256033, 25.883481096544934, 1.2136118585416158, 8.209936594908376, 245.64437692089462, 41.18744230019773, 4.245476983467182, 2.7584147693632732, 6.932163075695102, 2.184928265439487, 5.117044745098792, 1.075714129150089, 5.160371675271318, 415.90270128264103, 4.1042475571884784, 1.0054272220203624, 5.483838494895911]\n",
      "Max vif is for variable no :  12\n",
      "Iteration no  21\n",
      "[4.6073367925993685, 2.273752715164835, 47.80612700044493, 244.70686854131924, 11.851873600798886, 316.97531468205784, 1.2403143078620766, 1.6720400815942416, 7.270310568632802, 1.056994557193586, 1.9206806520422215, 88.38774644948289, 3.861201631174597, 3.3723950599299943, 5.835841995153146, 17.554813021838317, 1.0365798330541285, 132.62171405356645, 132.55528839043862, 1.0210900821110078, 1.0884824676168476, 1.083323703767467, 969.8437221748172, 3.329613435098038, 1.3042239887373712, 1.053115687809663, 1.0065256813195205, 1.5239820020151618, 25.479115064840986, 1.6065484637692238, 2.4328649183111484, 19.072917686912575, 5.41878303936455, 1.4878826874927735, 1.3054868764131655, 1.106554179816025, 1.2664396961472515, 5.07695726685944, 2.988325941049879, 224.47078469918932, 1.1514720844843649, 15.677603135992735, 4.845813339292774, 1.170934371000924, 1.0584575456415573, 29.122393642151835, 8.451394572942142, 1.0802164931207274, 1.0794231847783107, 1.0330473384365122, 2.9984347816760635, 1.3384859105688238, 2.687670166405341, 1.4822430806715636, 1.4301096735069558, 31.13636774324512, 1.1450263567424848, 25.869121815920018, 1.2134169248038467, 8.2048058735095, 245.3835486516064, 41.15377871609931, 4.242035398714979, 2.758311202740594, 6.926435938644666, 2.182347423861119, 5.115449092448594, 1.0754500695655302, 5.155699328309393, 415.40178762057195, 4.104246467657069, 1.0053625711993228, 5.483815411410104]\n",
      "Max vif is for variable no :  22\n",
      "Iteration no  22\n",
      "[4.602471814316678, 2.2735298984881234, 47.600114627398604, 244.2422055245391, 11.828005093059963, 316.898070067725, 1.2402367396493272, 1.6712246893626705, 7.268745862840594, 1.0568504622293207, 1.9186078101209065, 88.36752412813625, 3.3830207051545647, 3.3722781175315664, 5.789145614951657, 16.445108146306154, 1.0347824511206738, 132.57050304282745, 132.55513889143185, 1.0209763255736002, 5.0215819845132215, 1.0832723564974789, 3.3158354996380908, 1.3042024459524348, 1.053062796255451, 1.0065239054253319, 1.5239582164305023, 25.47890332599904, 1.6063990400069126, 2.4328578210367966, 18.340929733621312, 5.405246995692816, 1.4876413236322412, 1.3054186097481364, 1.1061692031008106, 1.2663474596049298, 5.056494391165809, 2.98831458216716, 224.0351030983636, 1.1514490629030547, 15.672571826454131, 4.842375196258827, 1.1708899705983813, 1.0584106558595598, 29.118851289157735, 8.440505859223503, 1.0802164917105952, 1.07941623434694, 1.0326493209661987, 2.9909034531255956, 1.338422917930826, 2.6875377510526643, 1.4818356815256597, 1.429874244583056, 31.118015008310998, 1.1445111468280667, 25.86910935904626, 1.2134157633042946, 8.203501514086884, 245.3739123773641, 41.15112377236272, 4.23626717427274, 2.758141715065085, 6.794713575771363, 2.165731346169098, 5.1146967193041535, 1.0752818029898106, 5.1556993897695405, 415.40139660754284, 4.1042395538084735, 1.0053618529937147, 5.483397898783263]\n",
      "Max vif is for variable no :  68\n"
     ]
    },
    {
     "name": "stdout",
     "output_type": "stream",
     "text": [
      "Iteration no  23\n",
      "[376.3260055548305, 2.273529307302779, 47.02189187343344, 244.1375943838455, 11.740695597888568, 316.05125965444694, 1.2401994770143343, 1.0673968245334338, 7.2656522981412, 1.033008673550566, 1.136161641651308, 88.2489794381257, 3.3764907116549567, 3.369709214170665, 5.7728264069476305, 16.441706342478874, 1.0347775689281293, 132.57048906444942, 132.5550980525664, 1.0209151004697201, 5.020751362321105, 1.0765666735835113, 3.280514436796686, 1.299234798908615, 1.05177388398743, 1.0064980015007834, 1.522302657014947, 25.10203325816277, 1.463839341314538, 2.410843716812431, 18.299494118882915, 5.39959618790192, 1.4828182276566624, 1.3054100001111935, 1.1060868283265828, 1.2641340232913296, 5.055791269739354, 2.977146571374702, 1.4836181913141948, 1.1496580080646486, 3.177233846815602, 2.6960555454470043, 1.170127756470496, 1.052811990248258, 28.862098831964634, 8.4395142125928, 1.080151837202097, 1.069297375593684, 1.0231270383537474, 2.9800580460543293, 1.3376205754915078, 2.686659898276429, 1.4814760979326478, 1.4288036506965605, 31.116189635811295, 1.1443535811023293, 25.866234047479846, 1.2132174885218134, 8.203412589633242, 6.2858878958432465, 3.153061110079778, 4.230277052128129, 2.7580245821659424, 6.792571537376457, 2.1519631347750314, 5.040637814248862, 1.072006829282792, 4.526360148583081, 1.0033848691335083, 1841.522864286476, 2.8744814404723527]\n",
      "Max vif is for variable no :  69\n",
      "Iteration no  24\n",
      "[4.601066028698241, 2939.0522604534103, 272764.2827049546, 243.3815147035126, 11.639700078742061, 316.0369378895622, 1.240199295709237, 1.668795332763843, 5478.2152482267975, 1.033008177297762, 1.1354661523510619, 2.6390673925254498, 1142.7249029501152, 3.3692072483906563, 93.7767559304802, 524.1190872932617, 4.596210867081719, 132.57046112380752, 132.55510522825742, 478.6318613194022, 1.0882215872602434, 1.0765663957842755, 1103.1968592334106, 1.2992347873144947, 1.0530064907750678, 1.0051729639705247, 1.5223010457255468, 6814.826437674142, 1.6063193471096702, 2.4108279137006443, 663.0284658583039, 5.399551186871383, 1.4857981022841484, 1.3034892600672507, 1.1060781706883984, 1.264064747972937, 5.055779155082336, 2.9761016639537963, 1.483609970949243, 1.151337055568076, 3.176821642428739, 2.696045509942437, 1.1696138604302022, 1.058379606790774, 122.65712852459883, 863.8327420632409, 759.0505951333982, 1.0692682683771229, 1.0231150592667824, 2.979987855018743, 1.397053743768552, 5.791662254690663, 1.4804188133685887, 1.4277373694310942, 31.089702727289453, 1.1443104311725245, 25.866192548261925, 1.213383770300042, 119.59709716797055, 3801.697780357412, 113.73352340284345, 4.230243116239867, 2.757988266402775, 6.792220426195524, 1278.1556239019258, 2.4666447353035297, 1.0720010759592713, 15164.525629650054, 1.0030902970384417, 2.874479086100448]\n",
      "Max vif is for variable no :  2\n",
      "Iteration no  25\n",
      "[4.390872069460477, 2920.58960722711, 222.7094642867551, 5.017904793129847, 207.53263797090443, 1.2385410462265982, 1.6672249642800792, 5440.041027731315, 1.0568195310938324, 1.9129655751245642, 2.6382447688832835, 1138.1714135310983, 2.980049922991367, 93.77254688589977, 523.7887212990489, 4.59614450494971, 132.51075922471412, 132.5541744061083, 477.89276144539383, 5.018916986698681, 1.0723665399952123, 1074.116880307898, 1.2831560017356354, 1.0529586873538128, 0.975006337052288, 1.510148740596642, 5895.564033839488, 1.6060590539602564, 2.145958246320272, 662.6945382421424, 5.1695901201535035, 1.4580531479835375, 1.3030944633980568, 1.105244879579435, 1.2640574595193954, 4.526978960096855, 2.7178091649788736, 1.4834510833390835, 1.1511846153052279, 15.598567307289677, 4.829443112122823, 1.1606274895810078, 1.0583780918680348, 26.36078915119787, 863.3623996761082, 754.630049025796, 1.0730817198218432, 1.032169085014568, 2.9242463517693635, 1.395980316487893, 5.746434411578016, 1.4801778439047546, 1.427724005277637, 29.100819803368477, 1.1441241221043943, 25.24118567620251, 1.2132713702075208, 109.91953079029422, 2825.913352864268, 100.06588221083948, 4.199250759936699, 2.7402121336182526, 6.694409767393865, 1247.3946050278112, 2.3235077204877936, 1.0695696633135259, 2.9859498407651572, 4.102948998172745, 5.47455050200938]\n",
      "Max vif is for variable no :  26\n",
      "Iteration no  26\n",
      "[359.0404538195751, 2914.8501366032756, 205.11409641357145, 5.014986319652984, 190.14923739531412, 1.7085342557370873, 1.0660053621548657, 6.844710660228776, 1.056176738077571, 1.9099742960369404, 88.21295138553351, 1137.328200035688, 2.8248122825985154, 92.56193164968306, 523.6997212739535, 4.595959658720732, 132.51060947069368, 132.54568777256293, 477.4355405308817, 5.018396969894794, 1.0581324307353295, 3.1891589662621858, 1.2808353875971892, 1.0527846128584735, 0.9729968656521395, 1.4881666498190198, 1.6060431255611511, 2.1385144003230927, 660.0342576557206, 5.167739160913949, 1.4574630915571285, 1.3048689934918332, 1.1047187872813353, 1.2640225212981544, 4.524437793501285, 2.6628756939712415, 223.94921091421537, 1.1510586125878768, 15.563099620118042, 4.828235758710412, 1.15541010732824, 1.0578793345721866, 18.843287115569975, 8.170129473149197, 1.0712786918832216, 1.0730666331152219, 1.032131357835231, 2.914773393091153, 1.3959706216326968, 2.6610357986620516, 1.480170374959413, 1.424636185675618, 27.909525214728916, 1.144069317148271, 25.02601668630198, 1.213222133330785, 33.763447099441784, 2782.8925630623303, 90.5799572410578, 4.197463497033514, 2.7402079943040127, 6.694175336137697, 2.0960331446460376, 2.2996172716405456, 1.072149528375704, 2.9846905999155866, 4.1029472693617315, 5.250825612493061]\n",
      "Max vif is for variable no :  1\n",
      "Iteration no  27\n",
      "[338.49960471465533, 204.9994797273494, 4.778114938492993, 190.13211022167786, 1.2232206984528773, 1.0621864117828297, 5.607462788522864, 1.0561762975531892, 1.9046617060489583, 88.15863999295404, 1135.7883775256519, 2.759843166278329, 92.09937927629295, 523.6593297084688, 4.594792024035619, 132.50157619610107, 132.54207708075035, 477.4041632073787, 5.016609177483754, 1.0570765766637635, 3.184573273682152, 1.280186816613409, 1.0515144635667366, 0.9727887991282747, 1.4463662291817165, 1.6051505328256848, 2.137620811346156, 659.5898452907907, 4.900636522669029, 1.456956280111917, 1.303430149746945, 1.1044135904015215, 1.257979001694789, 4.515457888009489, 2.5699930033831864, 217.77607676276267, 1.1510558624288152, 15.414605022421602, 4.823129861662074, 1.1552519651320394, 1.0576826234933314, 18.743322178974676, 7.512483672086203, 1.0679096399936892, 1.0713900849469984, 1.0320402689664034, 2.843516545216141, 1.3929451855772053, 4.5939289448289085, 1.480099127708219, 1.4246218583478858, 26.27759706302779, 1.1440377239600437, 21.945232210282718, 1.2125630407292876, 33.39000570557271, 2767.870884342119, 2.5110262109006793, 4.195241329393318, 2.7394104287113445, 6.686644373258239, 2.0955194360570935, 2.2994481808884784, 1.0680046777486247, 2.962867768951712, 4.102823640998212, 5.25073515524447]\n",
      "Max vif is for variable no :  56\n",
      "Iteration no  28\n",
      "[338.46931784423043, 160.32165494067266, 4.776348538598456, 146.0844471500931, 1.2222989031844018, 1.0616677676621489, 5.547678298647474, 1.0559516005614569, 1.9038458559692366, 87.65616170611682, 1114.553771448756, 2.505540968760031, 92.04559733535389, 523.222172243903, 4.594038216024725, 132.48584650599966, 132.5419214516041, 476.95808436541944, 5.016233649296594, 1.055566616688933, 3.0347019079447004, 1.2789853407143672, 1.0514855000368577, 0.9581184933061588, 1.4405941349799536, 1.6051476020654123, 1.4427101582060855, 658.220279037809, 4.833526545782011, 1.446882240111153, 1.3034222132498186, 1.104278969730538, 1.466321102263164, 4.388385924593122, 2.4636937643877803, 217.5245629317649, 1.1510022083608373, 15.41218297184783, 4.819899708809678, 1.1152806654151077, 1.0576816730631156, 16.371663845739157, 7.466571183005133, 1.0633117880848124, 1.071382697176211, 1.0318182005063867, 2.743344229106422, 1.3928630856624205, 4.591386986143127, 1.4800987719533394, 1.424196941985951, 23.744724535531773, 1.14350580484236, 21.69903826010551, 1.2125456050364511, 33.378247937080445, 2.4910248283579373, 4.175512317300447, 2.739365135717147, 6.676185450822046, 2.0858238928986963, 2.2830102176972025, 1.0676885396300828, 1.8871968479173247, 4.1027414500184705, 5.216574103097952]\n",
      "Max vif is for variable no :  10\n"
     ]
    },
    {
     "name": "stdout",
     "output_type": "stream",
     "text": [
      "Iteration no  29\n",
      "[328.4165823617992, 157.95332380103432, 4.775121259647156, 143.7859648108836, 1.221996737856198, 1.0616365714079012, 5.541415755688212, 1.0557104862049358, 1.898215329615006, 86.9004470750717, 2.4982449352156557, 5.611244070921026, 16.359089142166475, 4.537569384525504, 132.4826233489204, 132.53853472230514, 1.0173427414372147, 5.010540428222744, 1.0553430729965783, 2.8373532710026317, 1.2788334090940396, 1.051184858747885, 0.9577155475216537, 1.4402683030943213, 1.6045371838632192, 1.4374439653456261, 18.07148084019496, 4.728883866420751, 1.4462320215294087, 1.303075769757576, 1.1042480289387941, 1.464393070164039, 4.222803854781857, 2.4549967338683234, 216.63376917892853, 1.1509442297249703, 15.385535960552208, 4.793959437168132, 1.1139652752636107, 1.0575305237254826, 16.328583528452125, 7.368121306718486, 1.0631711663690555, 1.0713235636330598, 1.0314943252318987, 2.739393392114565, 1.3926919038088112, 4.571072721182908, 1.479301601235644, 1.4241963800315933, 23.609334464498968, 1.1433821819175056, 21.691657299866577, 1.2125273422390914, 33.361418966930415, 2.476290294340151, 4.136043593171529, 2.7353746243346584, 5.515415004888431, 2.045451691818112, 2.2813628993283177, 1.0673785908809477, 1.8757054183107178, 4.102709814386062, 5.215686863953837]\n",
      "Max vif is for variable no :  0\n",
      "Iteration no  30\n",
      "[155.2323644536732, 4.7604860631069394, 141.3592348478903, 1.2216691778441484, 1.059323249396747, 5.528472734159787, 1.0556193133381917, 1.8980857082424056, 81.7838923214519, 2.4866005498592867, 91.08948693570807, 500.9197613252187, 4.537114563659522, 132.4792419625271, 132.5377763376055, 476.94925424332234, 5.006338577373165, 1.0540178198548464, 2.8339086464308307, 1.278022015946004, 1.0510783589496628, 0.9563877452348855, 1.4395667492233684, 1.601507793291198, 1.4373855273890024, 650.8907531209678, 4.5531019625956475, 1.4461981613501722, 1.3028711846789462, 1.1041704232903105, 1.2506434362526662, 4.159668859777641, 2.4389775010572556, 214.6294354054244, 1.1509440091693477, 15.385508211047023, 4.788775031172034, 1.1137482466052655, 1.0574979863018827, 15.97902694680091, 7.290272994680412, 747.5266388627774, 1.0702742510507022, 1.031283139101325, 2.4057806741427936, 1.3919916350882917, 2.0887119157518077, 1.4734972836120024, 1.4240196430724281, 23.44054108967337, 1.9525720697046762, 21.68960581595725, 1.2116362372849, 33.32088082787743, 2.4492597445359054, 4.135497020354051, 2.735314610930994, 5.430477460691674, 1214.8672173942118, 2.2726973606251155, 1.0673776139335989, 1.853478127899001, 4.102661965664564, 5.197122041071145]\n",
      "Max vif is for variable no :  58\n",
      "Iteration no  31\n",
      "[151.84691234038374, 4.751306036204824, 138.19114684069234, 1.2213354433500663, 1.0592764779280937, 5.522703824566512, 1.0556133949978237, 1.8980215470773834, 81.72591551884838, 2.480754019309727, 91.08241608315481, 489.95402042177085, 4.537082605980154, 132.47903155933284, 132.53738728364056, 476.93425719369657, 1.0848631465565486, 1.0535506709538964, 2.758621970642782, 1.2779556583864378, 1.0510086093798379, 0.9559628978306931, 1.439099701004403, 1.6014920116114328, 1.3307079619909001, 640.6714031877855, 4.435418468378215, 1.4461559565909952, 1.3027844550540164, 1.1040176272468107, 1.4578986096162247, 3.94130572148501, 2.421473257213252, 214.06464923763153, 1.1509300805036566, 15.365906682788161, 4.786235906908415, 1.1092223271748085, 1.0574968008608283, 15.97024686219733, 7.278882490000493, 1.0627264407580959, 1.0702353854349835, 1.0310894913942958, 2.4055144609460015, 1.3918557756767902, 2.0869525538655687, 1.4734853258866907, 1.4238641497146578, 23.246161463899966, 1.1428599843427443, 21.684251968690784, 1.2114597854017768, 33.320598203907444, 2.4055740175001947, 559.11028649222, 631.8249994891019, 5.382337994806531, 4.643634209339676, 1.0665112504302312, 1.84834627813383, 4.102660306758133, 5.19712164409768]\n",
      "Max vif is for variable no :  25\n",
      "Iteration no  32\n",
      "[151.83672613500767, 4.745071180377487, 138.16917585522307, 1.2213112443448004, 1.059268825347307, 5.5220694208063055, 1.0554616720976968, 1.8979548785196538, 81.72236844799907, 2.479888059819891, 74.38389412894499, 178.03785896786334, 4.53688376125086, 132.47686438393873, 132.53277753585962, 476.8744874268916, 1.0791544850780834, 1.053390332001314, 2.7235804223121773, 1.277861565511407, 1.0510079918765094, 0.9559443428171693, 1.4390811349828105, 1.6009154675127861, 1.330542909647196, 4.428817899426784, 1.4458502173136467, 1.3025624918108953, 1.1033551153574574, 1.4541799072105168, 3.941073025138057, 2.4210108948836306, 213.86878578157794, 1.1509203885621633, 15.361210145205076, 4.783816660464702, 1.1092010590502768, 1.0573641876248956, 15.96109188713119, 7.274165498783519, 1.0627155382793356, 1.0700861278077087, 1.0254997305061466, 2.404800333044451, 1.3918324239363415, 4.444923598669975, 1.4728024807023659, 1.4238234140865917, 23.24614853601183, 1.1425344947800646, 21.682785564206014, 1.2112616433386654, 33.32042930586259, 2.405338912631262, 558.0520430613532, 631.239792852559, 5.357073544225873, 4.643584203511524, 1.0655955886228876, 1.8480272096490464, 4.102569235778861, 5.196588876544596]\n",
      "Max vif is for variable no :  55\n",
      "Iteration no  33\n",
      "[151.7004696562861, 4.7047536519307265, 138.1141624891725, 1.2209339056524438, 1.0592227728906356, 4154.629501102576, 1.0554495943104836, 1.8955668236824395, 2.4439014907195267, 2.4313138740034472, 74.32704771851735, 178.00949635271087, 4.536813579379635, 132.47505454450283, 132.52992315929743, 476.8717372140838, 1.0787948453924896, 1.0531779934161705, 2.7194436459390428, 1.2773813422973477, 1.050947161807517, 0.9557153613646017, 1.4277813126797507, 1.6005179361215247, 1.6495697197651598, 4.428553946054909, 1.4458172269399865, 1.3006336322081231, 1.103334061889532, 1.2472925589479003, 3.939349322326562, 2.401907988732363, 213.86688283515548, 1.1509077992713388, 3.1191604079215662, 2.6660655457243587, 1.108680839494829, 1.0572595979132173, 3.736706139951873, 6.950884680978339, 747.3057825462251, 1.0700227949670382, 1.0254992887554293, 2.403884956792727, 1.391642889581367, 2.0563836952884342, 1.4719060556138464, 1.4228983292594273, 23.24148005493073, 1.1422013849843875, 21.66290492558949, 1.2112060833536582, 33.19512637848298, 2.4039076092260685, 1.5770497701219997, 5.07278363884151, 2.2699544764327477, 1.0629911116390125, 1.8464282397777223, 1.0029954237179421, 5.102183477037892]\n",
      "Max vif is for variable no :  5\n",
      "Iteration no  34\n",
      "[144.475773168685, 4.628092236677825, 131.6513123783874, 1.2196434993383911, 1.059160035458322, 1.0553965679833786, 1.8945822308958074, 81.67970359535207, 2.400392179818706, 74.15672826792085, 177.98763703407397, 4.5362092670046215, 132.46414524988282, 132.52885407265862, 476.7402641860449, 1.0782630313431103, 1.0529720769212723, 2.717539971711098, 1.2775651958225838, 1.0507779881494934, 0.9536498249991537, 1.2966857881246512, 1.6004110147309816, 1.6477220617140589, 4.419393719851699, 1.4444562044925222, 1.3005981042987276, 1.103249491520713, 1.2466029600698547, 3.9336263205593287, 2.3027962575878176, 210.31813778214078, 1.1509077251198663, 15.353707564162551, 4.783517581004091, 1.1086741992010563, 1.0571676308532576, 15.809229060004913, 2.9104932119337255, 746.4212392825114, 1.0697240665760515, 1.0254786896230463, 2.3990875377667487, 1.3913836009926832, 2.0495549932049055, 1.4715417242444766, 1.4228889626521402, 22.898429370008024, 1.1410475370648445, 21.658268172993523, 1.211196410761175, 32.490058660972736, 2.4003970731788655, 298.170902733994, 5.0715117587917895, 2.2699172407803823, 1.064221972915382, 1.8451130488808014, 4.102559078511201, 4.937284392095374]\n",
      "Max vif is for variable no :  39\n",
      "Iteration no  35\n",
      "[142.1224231805407, 4.6115042603108956, 129.4724363982263, 1.2196433953477275, 1.0591026407929682, 1.0553959592324837, 1.894428669516326, 81.67219030899699, 2.3663229485181403, 74.15670168503331, 177.98084939020976, 4.536207111802764, 132.45929756058516, 132.5272239199859, 474.3617761028861, 4.973422492873519, 1.0529720347492364, 2.717209339797263, 1.2775642310913156, 1.0507645334817133, 0.9526081824829112, 1.296461921496262, 1.6002760451583304, 1.3287225845827282, 4.417527795856352, 1.3671743040046132, 1.3022605360194015, 1.1032365433540956, 1.453195234806991, 3.9320266305321314, 2.2938325133486024, 210.26196536974436, 1.1509029845079564, 15.329531383042305, 4.783361728869135, 1.1091518996968557, 1.0570370256761197, 15.806871382368644, 2.9103242653214787, 1.0693413624958517, 1.02547851284955, 2.3983955733956743, 1.391326801835978, 2.04923573067744, 1.4713991150304442, 1.4228654781685692, 22.69026743892622, 1.1410310031895694, 21.645362437140786, 1.2111833719526246, 32.48960364621818, 2.398091480724748, 298.0872580012233, 5.070171290544612, 4.6386107476864735, 1.0634815372096575, 1.8427029136670938, 4.1025408497783316, 4.936577332365134]\n",
      "Max vif is for variable no :  14\n"
     ]
    },
    {
     "name": "stdout",
     "output_type": "stream",
     "text": [
      "Iteration no  36\n",
      "[141.08553789997785, 4.611204797784756, 128.46050841322958, 1.2195380268908855, 1.0590835222598263, 1.055373440106775, 1.8942554116574302, 81.55413340201608, 2.3617678451720283, 74.14905271433172, 177.97869312933307, 4.536205509595707, 132.4504487801231, 132.52575869002283, 4.972906213047227, 1.0529702515582486, 2.7172012053183434, 1.2775470002463718, 1.0507634153093033, 0.9523481174618491, 1.2963865330478255, 1.6002744569588208, 1.3287183946269572, 4.417506435984275, 1.3670316368045623, 1.3022588137036217, 1.1031240944547744, 1.4531653612243154, 3.93201157688317, 2.291259436348037, 210.26159864210632, 1.1509023431841925, 15.32911179541859, 4.782695060366597, 1.1091453610406912, 1.0570370255664794, 15.806785530849307, 2.9103225790770937, 1.0693395818025933, 1.025474620386796, 2.398362475990057, 1.3913247631555477, 4.4174623371448805, 1.4713976715442254, 1.4227965806940253, 22.63360587474992, 1.1409501234845627, 21.641658532845906, 1.211183064482529, 32.4852401432528, 2.3978053183633796, 298.06919510838037, 5.070134980960648, 4.638489658953331, 1.063469751296863, 1.8417691996668204, 4.102537947703456, 4.936191625409167]\n",
      "Max vif is for variable no :  51\n",
      "Iteration no  37\n",
      "[140.40527329032633, 4.6051373473589825, 127.85829402673865, 1.2191012130751917, 1.0584661117477572, 1.0548550221765558, 1.8940729361999045, 81.3055812840762, 2.361766557855648, 74.099998375445, 177.1635648978775, 4.535281776502886, 132.4504342128022, 132.52522420215053, 4.904529426478765, 1.0528361768390775, 2.708803059134273, 1.2775401263780675, 1.0507605191746423, 0.9523432009629057, 1.2957284615125606, 1.6002101806193665, 1.3282738752893275, 4.410161778908017, 1.3667531021416528, 1.3020339543751513, 1.1025521971476435, 1.4524798229544023, 3.9297204220186224, 2.2837339689181833, 210.2415243103239, 1.1508776519500055, 15.318738426426878, 3.9802272305922086, 1.1090608898876346, 1.057036959393647, 15.664849496007571, 2.900839069113238, 1.0693309647987614, 1.0253988678283277, 2.3981847358472286, 1.3913020692007736, 4.238161706142234, 1.4703101684433986, 1.4227864780709383, 22.63321644998841, 1.1409191307814623, 21.585207593916966, 1.211182408890382, 32.27162922244017, 2.3976825946449716, 5.052232397925019, 4.6383682789116305, 1.0634679585279605, 1.839980974523494, 4.1024731321428565, 4.907620720011942]\n",
      "Max vif is for variable no :  30\n",
      "Iteration no  38\n",
      "[140.11939995004977, 4.601106433442636, 127.55618183417481, 1.21146015274957, 1.0551661716947487, 1.0548195861500644, 1.8939479280409544, 81.29620488894899, 2.3523006696934026, 71.14271250246745, 177.07087892885355, 4.534832153884109, 132.45042094434734, 132.52442025275423, 4.903903884018181, 1.0526611394446854, 2.6977684311547874, 1.265726532871995, 1.0485016876810633, 0.9521767481599955, 1.2932559902707872, 1.5377444698290523, 1.3282730221351673, 4.403323867922017, 1.3655985975104614, 1.3010156381288744, 1.0977051240362086, 1.4507611036793788, 3.927829521123713, 2.2837223299509444, 1.1469416009516633, 14.994229110821493, 3.96292646957852, 1.1053104480982365, 1.054873780929517, 15.477139487927817, 2.8811827519316418, 1.0688802310671386, 1.0253327905105936, 2.3871437252815877, 1.3745214329397166, 1.9646911527812565, 1.4700948597180166, 1.4217689869210426, 22.628216989277195, 1.140734608613394, 21.58012964170364, 1.1993485278749376, 32.10887321181718, 2.3939760984849934, 5.049792130472859, 4.553984762246713, 1.0629038937929458, 1.8349050326608873, 4.102439250731136, 4.904253512885846]\n",
      "Max vif is for variable no :  10\n",
      "Iteration no  39\n",
      "[139.59260328944234, 4.578676354196356, 127.15500213566654, 1.2113392831144545, 1.0548842106787213, 1.0496809479221423, 1.8869391411618937, 65.48952230173883, 2.350847449612661, 33.00166223263941, 4.534539384689382, 132.4353890758351, 132.49521488264685, 4.882017110049711, 1.0515031384919225, 2.6938101489596544, 1.265703881793827, 1.0484786163815263, 0.9521650165942495, 1.2931371465709744, 1.5376732729503997, 1.3272105093116948, 4.400955693389555, 1.364460310897829, 1.3010151516814534, 1.097041142715842, 1.4456895480394099, 3.9277193744267436, 2.277533022172979, 1.1468929630488385, 14.987150805908279, 3.9617171357668184, 1.1053061940014823, 1.05472065825347, 15.46876145016925, 2.8762213249745767, 1.0677319238541172, 1.0202341229527159, 2.38408640890488, 1.374511908832366, 4.229304865124899, 1.469779029966537, 1.4200839421014502, 22.59621246123255, 1.1407105268794993, 21.577972117054173, 1.1993366301493829, 32.10854662929785, 2.393669844902885, 5.042237944656984, 4.552737380089638, 1.0608709709098976, 1.8200600160951408, 4.102438188932947, 4.903969892525972]\n",
      "Max vif is for variable no :  0\n",
      "Iteration no  40\n",
      "[4.560747289284023, 2.360186594097417, 1.2094076421285975, 1.0547783343135833, 1.0258570005381349, 1.1165433649026884, 1.9582883222537713, 2.026570509419154, 2.017164400314814, 1.020883482428637, 132.37689962861157, 132.49403718656808, 1.0570758970992102, 1.0512537441685235, 2.68759282741389, 1.2598839854156503, 1.0471672868815838, 0.8747707010728596, 1.2922470807736193, 1.4012771177264804, 1.3271725400016559, 4.3948232858828025, 1.3531613582784892, 1.2986273545212061, 1.0969129187495226, 1.2401191648725158, 3.8675583935917826, 1.5847285882338016, 1.1452198018249504, 3.042635192051277, 2.2075081044015854, 1.1044041255260975, 1.0490743896994341, 3.6299561895039325, 2.872240899638815, 1.0579987257717678, 1.0111094461850751, 2.2697215795128973, 1.315773539090851, 1.8771962081708904, 1.4696441366452682, 1.4200804738790276, 18.85914915624768, 1.1402706459181005, 21.339142893285025, 1.1990834664378094, 2.2000168874289465, 2.1944020926665186, 5.030591357605938, 2.183869826597191, 1.057706776779289, 1.49777085930682, 1.0029464947811595, 2.5671679070030398]\n",
      "Max vif is for variable no :  11\n",
      "Iteration no  41\n",
      "[4.560692255287168, 2.360175886704157, 1.2086742138300173, 1.0546845764504607, 1.0258553114194229, 1.1165420858671902, 1.9581425099600462, 2.0265552712325845, 2.0171237848893293, 1.020880152483665, 0.9239684698310372, 1.0569828718949275, 1.0512536677996096, 2.6875629587484156, 1.2598580243649435, 1.0471627581143603, 0.8747690322576891, 1.2922410515508518, 1.4012702037962639, 1.327159389775372, 4.3943009136355, 1.3531613525871042, 1.2906433260473016, 1.0969115618278884, 1.2399832099649584, 3.8674410399825314, 1.584671100106674, 1.1452191209324927, 3.0424916991053594, 2.207328346111428, 1.1044041140456968, 1.0490712568399436, 3.62962782574712, 2.8720806217166692, 1.0579965311923805, 1.011101874021881, 2.269614829749359, 1.3141948055459185, 1.877168142406708, 1.4696195172515287, 1.4200503721963131, 18.859148977957403, 1.1401726577043811, 21.339126185650954, 1.1990834661848118, 2.199998659218971, 2.1943852733906803, 5.029103306447686, 2.183665989103417, 1.0577053572130306, 1.49775548628343, 1.0029462749946871, 2.567164986423855]\n",
      "Max vif is for variable no :  43\n",
      "Iteration no  42\n",
      "[4.143177519600006, 1.4479020638877995, 1.208619248625275, 1.0545618632576084, 1.025837778081335, 1.1164173531547015, 1.9578800404261392, 1.3752768589212034, 2.0171116042494646, 1.0208527562046625, 0.9220436864381416, 1.0563168009864023, 1.051253021492836, 2.687405858404476, 1.2598171264955709, 1.0463412928034967, 0.8743371443780552, 1.2909701899351207, 1.4003796595450428, 1.3271458842852464, 4.3930947677999415, 1.3418420886778837, 1.2906355083255658, 1.096730327864608, 1.2399539698830877, 3.867233852577633, 1.3447672373421442, 1.1451383392960144, 3.0424901287736335, 2.207013556832733, 1.1043999987065922, 1.049052996577832, 3.628581855158984, 2.8671365308971506, 1.0576334985188767, 1.0111007579998594, 2.2692462565898865, 1.3141845195072142, 1.8771677058076492, 1.469619513024143, 1.4200252510248765, 14423.086837714542, 1.1399162525353135, 1.1988594602803568, 2.1976345797221093, 2.1939865226724513, 5.027536017982444, 2.1835247534719593, 1.0575701375173363, 1.4962275105035217, 1.002945076862517, 2.567078833789251]\n",
      "Max vif is for variable no :  41\n",
      "Iteration no  43\n",
      "[1.1470416520817353, 0.8818228288843423, 1.2085485739188282, 1.0545339713116622, 1.0495140109082357, 1.88405999509054, 65.40636483904707, 1.3755279387323007, 32.752326832531914, 1.0208501296789076, 0.9192977741073698, 1.0562176830049543, 1.0512113230108893, 2.6848992713066697, 1.256907083547614, 1.041978880122135, 0.8642609042352009, 1.2888240918542437, 1.5326658480288124, 1.3264590766112556, 4.392677459246204, 1.1944202412524798, 1.2922882900936554, 1.0967300835869982, 1.444999373534515, 3.8570438268233467, 1.2054862096354844, 1.1463547658854127, 14.98247920178043, 3.9547069276647706, 1.103533949183173, 1.05458443262095, 15.09283234431665, 2.862776672594182, 1.0646357637976065, 1.0202195476093645, 2.2549871250372937, 1.3721584760158185, 4.003458213670861, 1.4689319346263252, 1.420024192488655, 1.1399128443998996, 1.1986058504933599, 31.842335154936254, 2.165217437579002, 5.022702366770009, 4.388413353593363, 1.057181760485908, 1.4503423255471863, 4.1022831659953285, 4.790025980178837]\n",
      "Max vif is for variable no :  6\n"
     ]
    },
    {
     "name": "stdout",
     "output_type": "stream",
     "text": [
      "Iteration no  44\n",
      "[1.1468768878622662, 0.8815779693474786, 1.202603034159136, 1.0516847303565569, 1.0478795387703677, 1.8839317710289856, 1.3754626173376434, 23.675604977071544, 4.534133573141216, 0.9192797488392095, 1.0550840875143477, 1.051178888741455, 2.679793193799081, 1.2569070830512976, 1.0419771487586404, 0.8640175402345628, 1.2883837269935468, 1.5307037220394715, 1.3257034160893029, 4.382834738274568, 1.1943584570985937, 1.2921667544592716, 1.0905588791752023, 1.442859636715871, 3.854631712418256, 1.2054796595947481, 1.1461969598861548, 14.940119239360286, 3.9442976992287204, 1.1033341045363014, 1.0544630554712264, 14.823915430077134, 2.862776081373064, 1.0632992068014975, 1.0201381636527143, 2.134686385768237, 1.3721204932058, 1.8527786615606778, 1.4687989699790276, 1.419664356047946, 1.1386615675276917, 1.1984157650026799, 31.746745423597293, 2.157534814589375, 5.015642633266676, 4.3882288370794695, 1.057051599937959, 1.4439306370430585, 4.101549257900018, 4.788827285972028]\n",
      "Max vif is for variable no :  42\n",
      "Iteration no  45\n",
      "[1.1455954189435353, 0.8802477746510878, 1.2017764996635094, 1.0514811553203645, 1.0434834957054306, 1.8838448909389396, 1.3467126756844925, 23.665987024031327, 4.533945378601555, 0.9191516531682057, 1.0549231650989161, 1.0505912236550132, 2.6742454814263334, 1.2568619461853385, 1.0406218126419136, 0.8639568638828956, 1.2572279667533703, 1.530417373669316, 1.3184152346366407, 4.314841323870838, 1.1943323050924795, 1.2921088084306966, 1.087666508555954, 1.423511429810457, 3.7555296193859316, 1.2037451966166741, 1.1459882966594677, 14.581609811584745, 3.9210602622276167, 1.1019149976600784, 1.0544380461144305, 10.78566839012119, 2.8586834954904226, 1.0624756244048532, 1.0182458270440238, 2.087982235288998, 1.371816264061848, 1.8330343487744731, 1.4666743486684493, 1.4195617556744773, 1.1384893259924618, 1.1984154844180683, 2.063557942976764, 5.0134714610754445, 4.385845094301268, 1.057039065234694, 1.4270641647378293, 4.101543589229231, 4.1029029267222]\n",
      "Max vif is for variable no :  7\n",
      "Iteration no  46\n",
      "[1.1404561140204978, 0.871050254730208, 1.1990946416446107, 1.050368348799786, 1.0433849501419667, 1.8659166926054012, 1.3465328439553812, 4.532295380605765, 0.9190201399036132, 1.04749813747718, 1.0505853293743046, 895.5410679930741, 1.2558142944685728, 1.0403123179220883, 0.860843857167957, 1.2572063129758129, 1.5268604946274797, 1.6330378455761105, 4.2653809320747, 1.193579081739733, 1.2919066776170447, 1.0876558684363076, 1.2204021086785894, 3.755456039246217, 1.2031509613541895, 1.1446993484727146, 14.57986132254617, 3.8915014727806105, 1.1013527707309658, 1.054310673031354, 10.773316125913466, 2.8586574965467246, 1.0599387306366526, 1.0180516160226374, 1.9638006675463187, 1.370989113525584, 1.824705011049574, 1.461172569051026, 1.41945192162326, 1.137965148336148, 1.1981584931248805, 2.063183107317838, 509.1057489770541, 4.370302073269095, 1.056720975120328, 1.4262378600375327, 4.101530566695989, 4.09496944422433]\n",
      "Max vif is for variable no :  11\n",
      "Iteration no  47\n",
      "[1.140182694332601, 0.8703059990821341, 1.1988196704316, 1.0501774889337223, 1.0422733476178148, 1.8649637905127978, 1.3448923529747092, 4.529812942190834, 0.916310293235503, 1.0474801424791345, 1.0491410445920308, 1.2557940686028086, 1.040300293271724, 0.8597401947353208, 1.2524371111934312, 1.52615773960554, 1.3158895405472075, 12.406059902879738, 1.1934262672055609, 1.2912095068476293, 1.0873934360078803, 1.422554892803882, 7.453782999134831, 1.20310668490865, 1.1444886983778833, 14.569401334162443, 3.8791516769378833, 1.0966661541872404, 1.0542012842061266, 10.76428311108788, 276.42631020309824, 1.0598793652331127, 1.017886397104867, 1.9459269208559975, 1.3708327568870873, 3.9301395741998877, 1.461033999644815, 1.4193683188645967, 1.1379644072506754, 1.1978868452783311, 2.058724245537881, 262.1677470424688, 4.368099094719859, 1.056661065756184, 1.3487307014805567, 4.101328111576599, 4.086417002125572]\n",
      "Max vif is for variable no :  30\n",
      "Iteration no  48\n",
      "[1.1398263434269493, 0.8702026790322492, 1.1988178326616676, 1.0501289124734552, 1.04224454852501, 1.8649355223961919, 1.3315858413938906, 4.529170248600158, 0.9156317062712814, 1.0473379937126968, 1.0487896298127668, 1.2556316439181945, 1.0402859210450115, 0.8596403985486764, 1.1840644005914431, 1.5261189794706262, 1.3158562463920678, 12.401087906580965, 1.1933336737794649, 1.291179265441741, 1.0872183152491408, 1.4222690299975047, 7.448422591027696, 1.2022827042210185, 1.1444064206863016, 14.550509261190818, 3.866817508804468, 1.0964475267424407, 1.0541848279894508, 10.691168989607489, 1.0595189159395477, 1.0166897184777803, 1.9437186934439143, 1.369561956653677, 3.927928343861989, 1.460338426707351, 1.4193601260141133, 1.1377216961900949, 1.1977691013283602, 2.0573029551275743, 138.9566159849309, 4.3657543909940495, 1.0557104489978535, 1.3484782581216739, 4.101320930706265, 3.7059496582832403]\n",
      "Max vif is for variable no :  40\n",
      "Iteration no  49\n",
      "[1.139635943622052, 0.8701716863355428, 1.1983506901312617, 1.0471433608831844, 1.042244546671308, 1.8592105245869246, 1.3314226641191744, 4.519251536051953, 0.9148161071546048, 1.0408217618284887, 1.0486387674296445, 1.2547539058237493, 1.0402575047658225, 0.8596317447803349, 1.1824243822007012, 1.524296855058618, 1.6312348456306511, 12.401039683362852, 1.1933329585796517, 1.2911738323785444, 1.0867963845530717, 1.4182682330487626, 7.445095529509006, 1.202177602133285, 1.144265239456413, 14.492664044673903, 3.6460469952245234, 1.0961023040494497, 1.054124748479571, 10.524844467489956, 1.0588852706967933, 1.0151160986841852, 1.785745003160463, 1.3694693722049127, 3.9136410669602126, 1.4558929694417413, 1.4191806416710429, 1.1377016614565758, 1.1977680405750484, 2.055730727087383, 4.354455148190653, 1.0554133040623057, 1.3481403573368667, 4.1011311305265385, 3.6999294286565925]\n",
      "Max vif is for variable no :  25\n",
      "Iteration no  50\n",
      "[1.1363209694977277, 0.8678139044557892, 1.1979572732217978, 1.0406353706782496, 1.0414722204657114, 1.8532329631591835, 1.329397624979743, 4.5134307154712605, 0.9148089006049708, 1.0408216729864375, 1.0482580866701883, 1.2392803016927216, 1.0351384419867329, 0.8595130588830354, 1.180685953120282, 1.5225439508561855, 1.631172561135836, 3.9001366988973363, 1.1872725783619105, 1.2822892678714226, 1.078495319235163, 1.3910736761743796, 7.4449948113864215, 1.2013768142761998, 1.1424091812322046, 2.6174436992250785, 1.0958459521282007, 1.0531393747095508, 9.572337420532211, 1.0523401602599511, 1.0147866325467934, 1.7780324162696965, 1.3640031229435157, 3.837897717377776, 1.441365786789446, 1.3368609402496576, 1.1364536888476262, 1.197259135167034, 2.0556955758819635, 3.989019331738341, 1.0548674755624834, 1.346804992679108, 4.101042118121842, 3.6566525470611984]\n",
      "Max vif is for variable no :  28\n",
      "Iteration no  51\n",
      "[1.131428559905233, 0.8480686878944798, 1.195880990675289, 1.0393475471622737, 1.0380929585710803, 1.8527654243485023, 1.3243275548475382, 4.512618028792034, 0.9141426152687029, 1.0398320243346806, 1.0444837746708862, 1.2131458440371274, 1.0315813677619292, 0.854795608476406, 1.1611017481802772, 1.5145998452677065, 1.6284706616609472, 3.8815468683330883, 1.1868590405051214, 1.281517583292478, 1.0784906012294322, 1.3639554537285954, 6.838535537281655, 1.2012353923935466, 1.1423348717292106, 2.6079001691709234, 1.0914826929600652, 1.0476266863146662, 1.0522758113017905, 1.013044731136438, 1.7520967090325936, 1.3579806829131573, 3.83776820521023, 1.4069460101266398, 1.3368606387505246, 1.1343894945744248, 1.1971029328615772, 1.9905185879079403, 3.576167419494417, 1.0546410633588263, 1.335833539719264, 4.10102251562703, 3.0697089410515033]\n",
      "Max vif is for variable no :  22\n",
      "Iteration no  52\n",
      "[1.131420994620163, 0.847716155391259, 1.1956947325438037, 1.0381284830372268, 1.0362783011401788, 1.852760078511525, 1.324265023406027, 4.509253198335249, 0.9127060717865682, 1.0393014337465363, 1.034106739236278, 1.2064433460570547, 1.0314604886025585, 0.8535849650593519, 1.1610271018357354, 1.5143553524287787, 1.621352127073525, 1.6480323740847698, 1.186264115856146, 1.2814584691829851, 1.0783697579312659, 1.1700181463510184, 1.200531550724374, 1.1423332081347664, 2.603600539503169, 1.0697897668799576, 1.0475705765156864, 1.050962915207719, 1.0129641265689058, 1.7049886296133512, 1.357096389416391, 1.7625557470717832, 1.4022337796303532, 1.3361348382216955, 1.1332464070440098, 1.1969851233673867, 1.7156163903879522, 1.6827606483661766, 1.054343310887894, 1.306856065999612, 4.101022470449611, 3.0694299717394227]\n",
      "Max vif is for variable no :  7\n"
     ]
    }
   ],
   "source": [
    "# select non-correlated features\n",
    "select_features = cal_vif(X)"
   ]
  },
  {
   "cell_type": "code",
   "execution_count": 23,
   "metadata": {
    "colab": {
     "base_uri": "https://localhost:8080/",
     "height": 386
    },
    "id": "j4W6_XVH2Eg-",
    "outputId": "5ee23ad0-2952-477c-a62a-c452b2613fb9"
   },
   "outputs": [
    {
     "data": {
      "text/html": [
       "<div>\n",
       "<style scoped>\n",
       "    .dataframe tbody tr th:only-of-type {\n",
       "        vertical-align: middle;\n",
       "    }\n",
       "\n",
       "    .dataframe tbody tr th {\n",
       "        vertical-align: top;\n",
       "    }\n",
       "\n",
       "    .dataframe thead th {\n",
       "        text-align: right;\n",
       "    }\n",
       "</style>\n",
       "<table border=\"1\" class=\"dataframe\">\n",
       "  <thead>\n",
       "    <tr style=\"text-align: right;\">\n",
       "      <th></th>\n",
       "      <th>Non-industry income and expenditure/revenue</th>\n",
       "      <th>Continuous interest rate (after tax)</th>\n",
       "      <th>Operating Expense Rate</th>\n",
       "      <th>Research and development expense rate</th>\n",
       "      <th>Interest-bearing debt interest rate</th>\n",
       "      <th>Tax rate (A)</th>\n",
       "      <th>Revenue Per Share (Yuan ¥)</th>\n",
       "      <th>Realized Sales Gross Profit Growth Rate</th>\n",
       "      <th>After-tax Net Profit Growth Rate</th>\n",
       "      <th>Total Asset Growth Rate</th>\n",
       "      <th>...</th>\n",
       "      <th>Current Asset Turnover Rate</th>\n",
       "      <th>Quick Asset Turnover Rate</th>\n",
       "      <th>Cash Turnover Rate</th>\n",
       "      <th>Fixed Assets to Assets</th>\n",
       "      <th>Equity to Long-term Liability</th>\n",
       "      <th>Current Liability to Current Assets</th>\n",
       "      <th>Total assets to GNP price</th>\n",
       "      <th>Net Income to Stockholder's Equity</th>\n",
       "      <th>Degree of Financial Leverage (DFL)</th>\n",
       "      <th>Equity to Liability</th>\n",
       "    </tr>\n",
       "  </thead>\n",
       "  <tbody>\n",
       "    <tr>\n",
       "      <th>0</th>\n",
       "      <td>0.302646</td>\n",
       "      <td>0.780985</td>\n",
       "      <td>1.256969e-04</td>\n",
       "      <td>0.0</td>\n",
       "      <td>0.000725</td>\n",
       "      <td>0.0</td>\n",
       "      <td>0.017560</td>\n",
       "      <td>0.022102</td>\n",
       "      <td>0.688979</td>\n",
       "      <td>4.980000e+09</td>\n",
       "      <td>...</td>\n",
       "      <td>7.010000e+08</td>\n",
       "      <td>6.550000e+09</td>\n",
       "      <td>4.580000e+08</td>\n",
       "      <td>0.424206</td>\n",
       "      <td>0.126549</td>\n",
       "      <td>0.118250</td>\n",
       "      <td>0.009219</td>\n",
       "      <td>0.827890</td>\n",
       "      <td>0.026601</td>\n",
       "      <td>0.016469</td>\n",
       "    </tr>\n",
       "    <tr>\n",
       "      <th>1</th>\n",
       "      <td>0.303556</td>\n",
       "      <td>0.781506</td>\n",
       "      <td>2.897851e-04</td>\n",
       "      <td>0.0</td>\n",
       "      <td>0.000647</td>\n",
       "      <td>0.0</td>\n",
       "      <td>0.021144</td>\n",
       "      <td>0.022080</td>\n",
       "      <td>0.689693</td>\n",
       "      <td>6.110000e+09</td>\n",
       "      <td>...</td>\n",
       "      <td>1.065198e-04</td>\n",
       "      <td>7.700000e+09</td>\n",
       "      <td>2.490000e+09</td>\n",
       "      <td>0.468828</td>\n",
       "      <td>0.120916</td>\n",
       "      <td>0.047775</td>\n",
       "      <td>0.008323</td>\n",
       "      <td>0.839969</td>\n",
       "      <td>0.264577</td>\n",
       "      <td>0.020794</td>\n",
       "    </tr>\n",
       "    <tr>\n",
       "      <th>2</th>\n",
       "      <td>0.302035</td>\n",
       "      <td>0.780284</td>\n",
       "      <td>2.361297e-04</td>\n",
       "      <td>25500000.0</td>\n",
       "      <td>0.000790</td>\n",
       "      <td>0.0</td>\n",
       "      <td>0.005944</td>\n",
       "      <td>0.022760</td>\n",
       "      <td>0.689463</td>\n",
       "      <td>7.280000e+09</td>\n",
       "      <td>...</td>\n",
       "      <td>1.791094e-03</td>\n",
       "      <td>1.022676e-03</td>\n",
       "      <td>7.610000e+08</td>\n",
       "      <td>0.276179</td>\n",
       "      <td>0.117922</td>\n",
       "      <td>0.025346</td>\n",
       "      <td>0.040003</td>\n",
       "      <td>0.836774</td>\n",
       "      <td>0.026555</td>\n",
       "      <td>0.016474</td>\n",
       "    </tr>\n",
       "    <tr>\n",
       "      <th>3</th>\n",
       "      <td>0.303350</td>\n",
       "      <td>0.781241</td>\n",
       "      <td>1.078888e-04</td>\n",
       "      <td>0.0</td>\n",
       "      <td>0.000449</td>\n",
       "      <td>0.0</td>\n",
       "      <td>0.014368</td>\n",
       "      <td>0.022046</td>\n",
       "      <td>0.689110</td>\n",
       "      <td>4.880000e+09</td>\n",
       "      <td>...</td>\n",
       "      <td>8.140000e+09</td>\n",
       "      <td>6.050000e+09</td>\n",
       "      <td>2.030000e+09</td>\n",
       "      <td>0.559144</td>\n",
       "      <td>0.120760</td>\n",
       "      <td>0.067250</td>\n",
       "      <td>0.003252</td>\n",
       "      <td>0.834697</td>\n",
       "      <td>0.026697</td>\n",
       "      <td>0.023982</td>\n",
       "    </tr>\n",
       "    <tr>\n",
       "      <th>4</th>\n",
       "      <td>0.303475</td>\n",
       "      <td>0.781550</td>\n",
       "      <td>7.890000e+09</td>\n",
       "      <td>0.0</td>\n",
       "      <td>0.000686</td>\n",
       "      <td>0.0</td>\n",
       "      <td>0.029690</td>\n",
       "      <td>0.022096</td>\n",
       "      <td>0.689697</td>\n",
       "      <td>5.510000e+09</td>\n",
       "      <td>...</td>\n",
       "      <td>6.680000e+09</td>\n",
       "      <td>5.050000e+09</td>\n",
       "      <td>8.240000e+08</td>\n",
       "      <td>0.309555</td>\n",
       "      <td>0.110933</td>\n",
       "      <td>0.047725</td>\n",
       "      <td>0.003878</td>\n",
       "      <td>0.839973</td>\n",
       "      <td>0.024752</td>\n",
       "      <td>0.035490</td>\n",
       "    </tr>\n",
       "  </tbody>\n",
       "</table>\n",
       "<p>5 rows × 42 columns</p>\n",
       "</div>"
      ],
      "text/plain": [
       "    Non-industry income and expenditure/revenue  \\\n",
       "0                                      0.302646   \n",
       "1                                      0.303556   \n",
       "2                                      0.302035   \n",
       "3                                      0.303350   \n",
       "4                                      0.303475   \n",
       "\n",
       "    Continuous interest rate (after tax)   Operating Expense Rate  \\\n",
       "0                               0.780985             1.256969e-04   \n",
       "1                               0.781506             2.897851e-04   \n",
       "2                               0.780284             2.361297e-04   \n",
       "3                               0.781241             1.078888e-04   \n",
       "4                               0.781550             7.890000e+09   \n",
       "\n",
       "    Research and development expense rate  \\\n",
       "0                                     0.0   \n",
       "1                                     0.0   \n",
       "2                              25500000.0   \n",
       "3                                     0.0   \n",
       "4                                     0.0   \n",
       "\n",
       "    Interest-bearing debt interest rate   Tax rate (A)  \\\n",
       "0                              0.000725            0.0   \n",
       "1                              0.000647            0.0   \n",
       "2                              0.000790            0.0   \n",
       "3                              0.000449            0.0   \n",
       "4                              0.000686            0.0   \n",
       "\n",
       "    Revenue Per Share (Yuan ¥)   Realized Sales Gross Profit Growth Rate  \\\n",
       "0                     0.017560                                  0.022102   \n",
       "1                     0.021144                                  0.022080   \n",
       "2                     0.005944                                  0.022760   \n",
       "3                     0.014368                                  0.022046   \n",
       "4                     0.029690                                  0.022096   \n",
       "\n",
       "    After-tax Net Profit Growth Rate   Total Asset Growth Rate  ...  \\\n",
       "0                           0.688979              4.980000e+09  ...   \n",
       "1                           0.689693              6.110000e+09  ...   \n",
       "2                           0.689463              7.280000e+09  ...   \n",
       "3                           0.689110              4.880000e+09  ...   \n",
       "4                           0.689697              5.510000e+09  ...   \n",
       "\n",
       "    Current Asset Turnover Rate   Quick Asset Turnover Rate  \\\n",
       "0                  7.010000e+08                6.550000e+09   \n",
       "1                  1.065198e-04                7.700000e+09   \n",
       "2                  1.791094e-03                1.022676e-03   \n",
       "3                  8.140000e+09                6.050000e+09   \n",
       "4                  6.680000e+09                5.050000e+09   \n",
       "\n",
       "    Cash Turnover Rate   Fixed Assets to Assets  \\\n",
       "0         4.580000e+08                 0.424206   \n",
       "1         2.490000e+09                 0.468828   \n",
       "2         7.610000e+08                 0.276179   \n",
       "3         2.030000e+09                 0.559144   \n",
       "4         8.240000e+08                 0.309555   \n",
       "\n",
       "    Equity to Long-term Liability   Current Liability to Current Assets  \\\n",
       "0                        0.126549                              0.118250   \n",
       "1                        0.120916                              0.047775   \n",
       "2                        0.117922                              0.025346   \n",
       "3                        0.120760                              0.067250   \n",
       "4                        0.110933                              0.047725   \n",
       "\n",
       "    Total assets to GNP price   Net Income to Stockholder's Equity  \\\n",
       "0                    0.009219                             0.827890   \n",
       "1                    0.008323                             0.839969   \n",
       "2                    0.040003                             0.836774   \n",
       "3                    0.003252                             0.834697   \n",
       "4                    0.003878                             0.839973   \n",
       "\n",
       "    Degree of Financial Leverage (DFL)   Equity to Liability  \n",
       "0                             0.026601              0.016469  \n",
       "1                             0.264577              0.020794  \n",
       "2                             0.026555              0.016474  \n",
       "3                             0.026697              0.023982  \n",
       "4                             0.024752              0.035490  \n",
       "\n",
       "[5 rows x 42 columns]"
      ]
     },
     "execution_count": 23,
     "metadata": {},
     "output_type": "execute_result"
    }
   ],
   "source": [
    "select_features.head()"
   ]
  },
  {
   "cell_type": "code",
   "execution_count": 24,
   "metadata": {
    "id": "OH6390e-3-6d"
   },
   "outputs": [],
   "source": [
    "X = select_features"
   ]
  },
  {
   "cell_type": "code",
   "execution_count": 25,
   "metadata": {
    "colab": {
     "base_uri": "https://localhost:8080/"
    },
    "id": "5fscKxys7V0Q",
    "outputId": "31a395c7-2741-455c-ae84-47b3862649a4"
   },
   "outputs": [
    {
     "name": "stdout",
     "output_type": "stream",
     "text": [
      "(6819, 10)\n"
     ]
    }
   ],
   "source": [
    "from sklearn.feature_selection import SelectKBest, mutual_info_classif, f_regression, chi2\n",
    "\n",
    "# define feature selection\n",
    "fs = SelectKBest(score_func=f_regression, k=10)\n",
    "# apply feature selection\n",
    "X_selected = fs.fit_transform(X, y)\n",
    "print(X_selected.shape)"
   ]
  },
  {
   "cell_type": "code",
   "execution_count": 26,
   "metadata": {
    "colab": {
     "base_uri": "https://localhost:8080/"
    },
    "id": "Oihd1kXzBX3V",
    "outputId": "d7f73879-10ba-4a9a-824a-d825bf1e8d96"
   },
   "outputs": [
    {
     "name": "stdout",
     "output_type": "stream",
     "text": [
      "[' Tax rate (A)' ' Fixed Assets Turnover Frequency' ' Cash/Total Assets'\n",
      " ' Cash/Current Liability' ' Retained Earnings to Total Assets'\n",
      " ' Total expense/Assets' ' Equity to Long-term Liability'\n",
      " ' Current Liability to Current Assets'\n",
      " \" Net Income to Stockholder's Equity\" ' Equity to Liability']\n"
     ]
    }
   ],
   "source": [
    "# create filter mask to identify feature names\n",
    "filter = fs.get_support()\n",
    "features = array(X.columns)\n",
    "print(features[filter])"
   ]
  },
  {
   "cell_type": "code",
   "execution_count": 27,
   "metadata": {
    "colab": {
     "base_uri": "https://localhost:8080/"
    },
    "id": "gnlcfjlzD36s",
    "outputId": "49a54cb6-31b3-4cc4-c7e6-250153bf6798"
   },
   "outputs": [
    {
     "data": {
      "text/plain": [
       "array([' Non-industry income and expenditure/revenue',\n",
       "       ' Continuous interest rate (after tax)', ' Operating Expense Rate',\n",
       "       ' Research and development expense rate',\n",
       "       ' Interest-bearing debt interest rate',\n",
       "       ' Revenue Per Share (Yuan ¥)',\n",
       "       ' Realized Sales Gross Profit Growth Rate',\n",
       "       ' After-tax Net Profit Growth Rate', ' Total Asset Growth Rate',\n",
       "       ' Net Value Growth Rate', ' Current Ratio', ' Quick Ratio',\n",
       "       ' Interest Expense Ratio', ' Total debt/Total net worth',\n",
       "       ' Long-term fund suitability ratio (A)',\n",
       "       ' Contingent liabilities/Net worth', ' Total Asset Turnover',\n",
       "       ' Accounts Receivable Turnover', ' Average Collection Days',\n",
       "       ' Inventory Turnover Rate (times)', ' Revenue per person',\n",
       "       ' Allocation rate per person', ' Quick Assets/Current Liability',\n",
       "       ' Inventory/Current Liability',\n",
       "       ' Long-term Liability to Current Assets',\n",
       "       ' Total income/Total expense', ' Current Asset Turnover Rate',\n",
       "       ' Quick Asset Turnover Rate', ' Cash Turnover Rate',\n",
       "       ' Fixed Assets to Assets', ' Total assets to GNP price',\n",
       "       ' Degree of Financial Leverage (DFL)'], dtype=object)"
      ]
     },
     "execution_count": 27,
     "metadata": {},
     "output_type": "execute_result"
    }
   ],
   "source": [
    "# create list of columns to drop from df\n",
    "columns_to_remove = X.columns.values[np.logical_not(filter)]\n",
    "columns_to_remove"
   ]
  },
  {
   "cell_type": "code",
   "execution_count": 28,
   "metadata": {
    "colab": {
     "base_uri": "https://localhost:8080/"
    },
    "id": "K3rcn5d5ELWZ",
    "outputId": "7286b1b4-e3ce-4993-e193-28f92f6c21d0"
   },
   "outputs": [
    {
     "name": "stdout",
     "output_type": "stream",
     "text": [
      "<class 'pandas.core.frame.DataFrame'>\n",
      "RangeIndex: 6819 entries, 0 to 6818\n",
      "Data columns (total 10 columns):\n",
      " #   Column                                Non-Null Count  Dtype  \n",
      "---  ------                                --------------  -----  \n",
      " 0    Tax rate (A)                         6819 non-null   float64\n",
      " 1    Fixed Assets Turnover Frequency      6819 non-null   float64\n",
      " 2    Cash/Total Assets                    6819 non-null   float64\n",
      " 3    Cash/Current Liability               6819 non-null   float64\n",
      " 4    Retained Earnings to Total Assets    6819 non-null   float64\n",
      " 5    Total expense/Assets                 6819 non-null   float64\n",
      " 6    Equity to Long-term Liability        6819 non-null   float64\n",
      " 7    Current Liability to Current Assets  6819 non-null   float64\n",
      " 8    Net Income to Stockholder's Equity   6819 non-null   float64\n",
      " 9    Equity to Liability                  6819 non-null   float64\n",
      "dtypes: float64(10)\n",
      "memory usage: 532.9 KB\n"
     ]
    }
   ],
   "source": [
    "# remove features from  data\n",
    "df1 = X.drop(columns=columns_to_remove)\n",
    "df1.info()"
   ]
  },
  {
   "cell_type": "markdown",
   "metadata": {
    "id": "bAcoRoI969x7"
   },
   "source": [
    "## Removing Anomalies with Isolation Forests"
   ]
  },
  {
   "cell_type": "code",
   "execution_count": 29,
   "metadata": {
    "id": "v0tDgxF9B-LZ"
   },
   "outputs": [],
   "source": [
    "df2 = df1"
   ]
  },
  {
   "cell_type": "code",
   "execution_count": 30,
   "metadata": {
    "colab": {
     "base_uri": "https://localhost:8080/"
    },
    "id": "0Q5SF9jtB-N_",
    "outputId": "3c40a525-bf64-4812-fe63-1ada34e6c92b"
   },
   "outputs": [
    {
     "name": "stderr",
     "output_type": "stream",
     "text": [
      "C:\\Users\\sjue\\Anaconda3\\lib\\site-packages\\sklearn\\base.py:450: UserWarning: X does not have valid feature names, but IsolationForest was fitted with feature names\n",
      "  warnings.warn(\n"
     ]
    },
    {
     "data": {
      "text/html": [
       "<style>#sk-container-id-1 {color: black;background-color: white;}#sk-container-id-1 pre{padding: 0;}#sk-container-id-1 div.sk-toggleable {background-color: white;}#sk-container-id-1 label.sk-toggleable__label {cursor: pointer;display: block;width: 100%;margin-bottom: 0;padding: 0.3em;box-sizing: border-box;text-align: center;}#sk-container-id-1 label.sk-toggleable__label-arrow:before {content: \"▸\";float: left;margin-right: 0.25em;color: #696969;}#sk-container-id-1 label.sk-toggleable__label-arrow:hover:before {color: black;}#sk-container-id-1 div.sk-estimator:hover label.sk-toggleable__label-arrow:before {color: black;}#sk-container-id-1 div.sk-toggleable__content {max-height: 0;max-width: 0;overflow: hidden;text-align: left;background-color: #f0f8ff;}#sk-container-id-1 div.sk-toggleable__content pre {margin: 0.2em;color: black;border-radius: 0.25em;background-color: #f0f8ff;}#sk-container-id-1 input.sk-toggleable__control:checked~div.sk-toggleable__content {max-height: 200px;max-width: 100%;overflow: auto;}#sk-container-id-1 input.sk-toggleable__control:checked~label.sk-toggleable__label-arrow:before {content: \"▾\";}#sk-container-id-1 div.sk-estimator input.sk-toggleable__control:checked~label.sk-toggleable__label {background-color: #d4ebff;}#sk-container-id-1 div.sk-label input.sk-toggleable__control:checked~label.sk-toggleable__label {background-color: #d4ebff;}#sk-container-id-1 input.sk-hidden--visually {border: 0;clip: rect(1px 1px 1px 1px);clip: rect(1px, 1px, 1px, 1px);height: 1px;margin: -1px;overflow: hidden;padding: 0;position: absolute;width: 1px;}#sk-container-id-1 div.sk-estimator {font-family: monospace;background-color: #f0f8ff;border: 1px dotted black;border-radius: 0.25em;box-sizing: border-box;margin-bottom: 0.5em;}#sk-container-id-1 div.sk-estimator:hover {background-color: #d4ebff;}#sk-container-id-1 div.sk-parallel-item::after {content: \"\";width: 100%;border-bottom: 1px solid gray;flex-grow: 1;}#sk-container-id-1 div.sk-label:hover label.sk-toggleable__label {background-color: #d4ebff;}#sk-container-id-1 div.sk-serial::before {content: \"\";position: absolute;border-left: 1px solid gray;box-sizing: border-box;top: 0;bottom: 0;left: 50%;z-index: 0;}#sk-container-id-1 div.sk-serial {display: flex;flex-direction: column;align-items: center;background-color: white;padding-right: 0.2em;padding-left: 0.2em;position: relative;}#sk-container-id-1 div.sk-item {position: relative;z-index: 1;}#sk-container-id-1 div.sk-parallel {display: flex;align-items: stretch;justify-content: center;background-color: white;position: relative;}#sk-container-id-1 div.sk-item::before, #sk-container-id-1 div.sk-parallel-item::before {content: \"\";position: absolute;border-left: 1px solid gray;box-sizing: border-box;top: 0;bottom: 0;left: 50%;z-index: -1;}#sk-container-id-1 div.sk-parallel-item {display: flex;flex-direction: column;z-index: 1;position: relative;background-color: white;}#sk-container-id-1 div.sk-parallel-item:first-child::after {align-self: flex-end;width: 50%;}#sk-container-id-1 div.sk-parallel-item:last-child::after {align-self: flex-start;width: 50%;}#sk-container-id-1 div.sk-parallel-item:only-child::after {width: 0;}#sk-container-id-1 div.sk-dashed-wrapped {border: 1px dashed gray;margin: 0 0.4em 0.5em 0.4em;box-sizing: border-box;padding-bottom: 0.4em;background-color: white;}#sk-container-id-1 div.sk-label label {font-family: monospace;font-weight: bold;display: inline-block;line-height: 1.2em;}#sk-container-id-1 div.sk-label-container {text-align: center;}#sk-container-id-1 div.sk-container {/* jupyter's `normalize.less` sets `[hidden] { display: none; }` but bootstrap.min.css set `[hidden] { display: none !important; }` so we also need the `!important` here to be able to override the default hidden behavior on the sphinx rendered scikit-learn.org. See: https://github.com/scikit-learn/scikit-learn/issues/21755 */display: inline-block !important;position: relative;}#sk-container-id-1 div.sk-text-repr-fallback {display: none;}</style><div id=\"sk-container-id-1\" class=\"sk-top-container\"><div class=\"sk-text-repr-fallback\"><pre>IsolationForest(contamination=0.05, random_state=42)</pre><b>In a Jupyter environment, please rerun this cell to show the HTML representation or trust the notebook. <br />On GitHub, the HTML representation is unable to render, please try loading this page with nbviewer.org.</b></div><div class=\"sk-container\" hidden><div class=\"sk-item\"><div class=\"sk-estimator sk-toggleable\"><input class=\"sk-toggleable__control sk-hidden--visually\" id=\"sk-estimator-id-1\" type=\"checkbox\" checked><label for=\"sk-estimator-id-1\" class=\"sk-toggleable__label sk-toggleable__label-arrow\">IsolationForest</label><div class=\"sk-toggleable__content\"><pre>IsolationForest(contamination=0.05, random_state=42)</pre></div></div></div></div></div>"
      ],
      "text/plain": [
       "IsolationForest(contamination=0.05, random_state=42)"
      ]
     },
     "execution_count": 30,
     "metadata": {},
     "output_type": "execute_result"
    }
   ],
   "source": [
    "#Isolation Forest Identifies anomalies\n",
    "model=IsolationForest(n_estimators=100, contamination=float(.05), random_state=42)\n",
    "\n",
    "model.fit(df1)"
   ]
  },
  {
   "cell_type": "code",
   "execution_count": 31,
   "metadata": {
    "id": "_U8WZkNRB-Q1"
   },
   "outputs": [],
   "source": [
    "df2['scores'] = model.decision_function(df1)\n",
    "df1 = X.drop(columns=columns_to_remove)\n"
   ]
  },
  {
   "cell_type": "code",
   "execution_count": 32,
   "metadata": {
    "colab": {
     "base_uri": "https://localhost:8080/",
     "height": 424
    },
    "id": "oRB7DyIwB-Tf",
    "outputId": "6491e755-a09f-41bd-aa03-c68b6cf793cb"
   },
   "outputs": [
    {
     "data": {
      "text/html": [
       "<div>\n",
       "<style scoped>\n",
       "    .dataframe tbody tr th:only-of-type {\n",
       "        vertical-align: middle;\n",
       "    }\n",
       "\n",
       "    .dataframe tbody tr th {\n",
       "        vertical-align: top;\n",
       "    }\n",
       "\n",
       "    .dataframe thead th {\n",
       "        text-align: right;\n",
       "    }\n",
       "</style>\n",
       "<table border=\"1\" class=\"dataframe\">\n",
       "  <thead>\n",
       "    <tr style=\"text-align: right;\">\n",
       "      <th></th>\n",
       "      <th>Bankrupt?</th>\n",
       "      <th>Tax rate (A)</th>\n",
       "      <th>Fixed Assets Turnover Frequency</th>\n",
       "      <th>Cash/Total Assets</th>\n",
       "      <th>Cash/Current Liability</th>\n",
       "      <th>Retained Earnings to Total Assets</th>\n",
       "      <th>Total expense/Assets</th>\n",
       "      <th>Equity to Long-term Liability</th>\n",
       "      <th>Current Liability to Current Assets</th>\n",
       "      <th>Net Income to Stockholder's Equity</th>\n",
       "      <th>Equity to Liability</th>\n",
       "    </tr>\n",
       "  </thead>\n",
       "  <tbody>\n",
       "    <tr>\n",
       "      <th>0</th>\n",
       "      <td>1</td>\n",
       "      <td>0.000000</td>\n",
       "      <td>1.165007e-04</td>\n",
       "      <td>0.004094</td>\n",
       "      <td>0.000147</td>\n",
       "      <td>0.903225</td>\n",
       "      <td>0.064856</td>\n",
       "      <td>0.126549</td>\n",
       "      <td>0.118250</td>\n",
       "      <td>0.827890</td>\n",
       "      <td>0.016469</td>\n",
       "    </tr>\n",
       "    <tr>\n",
       "      <th>1</th>\n",
       "      <td>1</td>\n",
       "      <td>0.000000</td>\n",
       "      <td>7.190000e+08</td>\n",
       "      <td>0.014948</td>\n",
       "      <td>0.001384</td>\n",
       "      <td>0.931065</td>\n",
       "      <td>0.025516</td>\n",
       "      <td>0.120916</td>\n",
       "      <td>0.047775</td>\n",
       "      <td>0.839969</td>\n",
       "      <td>0.020794</td>\n",
       "    </tr>\n",
       "    <tr>\n",
       "      <th>3</th>\n",
       "      <td>1</td>\n",
       "      <td>0.000000</td>\n",
       "      <td>9.150000e+09</td>\n",
       "      <td>0.018851</td>\n",
       "      <td>0.001011</td>\n",
       "      <td>0.906902</td>\n",
       "      <td>0.024161</td>\n",
       "      <td>0.120760</td>\n",
       "      <td>0.067250</td>\n",
       "      <td>0.834697</td>\n",
       "      <td>0.023982</td>\n",
       "    </tr>\n",
       "    <tr>\n",
       "      <th>4</th>\n",
       "      <td>1</td>\n",
       "      <td>0.000000</td>\n",
       "      <td>2.935211e-04</td>\n",
       "      <td>0.014161</td>\n",
       "      <td>0.000680</td>\n",
       "      <td>0.913850</td>\n",
       "      <td>0.026385</td>\n",
       "      <td>0.110933</td>\n",
       "      <td>0.047725</td>\n",
       "      <td>0.839973</td>\n",
       "      <td>0.035490</td>\n",
       "    </tr>\n",
       "    <tr>\n",
       "      <th>6</th>\n",
       "      <td>0</td>\n",
       "      <td>0.000000</td>\n",
       "      <td>1.452476e-04</td>\n",
       "      <td>0.022989</td>\n",
       "      <td>0.001050</td>\n",
       "      <td>0.911441</td>\n",
       "      <td>0.092802</td>\n",
       "      <td>0.120561</td>\n",
       "      <td>0.060765</td>\n",
       "      <td>0.829980</td>\n",
       "      <td>0.015663</td>\n",
       "    </tr>\n",
       "    <tr>\n",
       "      <th>7</th>\n",
       "      <td>0</td>\n",
       "      <td>0.157607</td>\n",
       "      <td>5.182010e-04</td>\n",
       "      <td>0.014616</td>\n",
       "      <td>0.000888</td>\n",
       "      <td>0.935449</td>\n",
       "      <td>0.025482</td>\n",
       "      <td>0.114508</td>\n",
       "      <td>0.030201</td>\n",
       "      <td>0.841459</td>\n",
       "      <td>0.034889</td>\n",
       "    </tr>\n",
       "    <tr>\n",
       "      <th>8</th>\n",
       "      <td>0</td>\n",
       "      <td>0.005871</td>\n",
       "      <td>2.458618e-04</td>\n",
       "      <td>0.145189</td>\n",
       "      <td>0.013190</td>\n",
       "      <td>0.935200</td>\n",
       "      <td>0.029884</td>\n",
       "      <td>0.110933</td>\n",
       "      <td>0.021710</td>\n",
       "      <td>0.840487</td>\n",
       "      <td>0.065826</td>\n",
       "    </tr>\n",
       "    <tr>\n",
       "      <th>9</th>\n",
       "      <td>0</td>\n",
       "      <td>0.392449</td>\n",
       "      <td>7.383418e-04</td>\n",
       "      <td>0.008773</td>\n",
       "      <td>0.000491</td>\n",
       "      <td>0.938290</td>\n",
       "      <td>0.035891</td>\n",
       "      <td>0.115499</td>\n",
       "      <td>0.025494</td>\n",
       "      <td>0.840688</td>\n",
       "      <td>0.030801</td>\n",
       "    </tr>\n",
       "    <tr>\n",
       "      <th>10</th>\n",
       "      <td>0</td>\n",
       "      <td>0.000000</td>\n",
       "      <td>1.747510e-04</td>\n",
       "      <td>0.002057</td>\n",
       "      <td>0.000336</td>\n",
       "      <td>0.942829</td>\n",
       "      <td>0.028802</td>\n",
       "      <td>0.120943</td>\n",
       "      <td>0.047166</td>\n",
       "      <td>0.841337</td>\n",
       "      <td>0.036572</td>\n",
       "    </tr>\n",
       "    <tr>\n",
       "      <th>11</th>\n",
       "      <td>0</td>\n",
       "      <td>0.000000</td>\n",
       "      <td>1.066662e-04</td>\n",
       "      <td>0.020542</td>\n",
       "      <td>0.002254</td>\n",
       "      <td>0.932955</td>\n",
       "      <td>0.056952</td>\n",
       "      <td>0.116459</td>\n",
       "      <td>0.033712</td>\n",
       "      <td>0.840650</td>\n",
       "      <td>0.040381</td>\n",
       "    </tr>\n",
       "  </tbody>\n",
       "</table>\n",
       "</div>"
      ],
      "text/plain": [
       "    Bankrupt?   Tax rate (A)   Fixed Assets Turnover Frequency  \\\n",
       "0           1       0.000000                      1.165007e-04   \n",
       "1           1       0.000000                      7.190000e+08   \n",
       "3           1       0.000000                      9.150000e+09   \n",
       "4           1       0.000000                      2.935211e-04   \n",
       "6           0       0.000000                      1.452476e-04   \n",
       "7           0       0.157607                      5.182010e-04   \n",
       "8           0       0.005871                      2.458618e-04   \n",
       "9           0       0.392449                      7.383418e-04   \n",
       "10          0       0.000000                      1.747510e-04   \n",
       "11          0       0.000000                      1.066662e-04   \n",
       "\n",
       "     Cash/Total Assets   Cash/Current Liability  \\\n",
       "0             0.004094                 0.000147   \n",
       "1             0.014948                 0.001384   \n",
       "3             0.018851                 0.001011   \n",
       "4             0.014161                 0.000680   \n",
       "6             0.022989                 0.001050   \n",
       "7             0.014616                 0.000888   \n",
       "8             0.145189                 0.013190   \n",
       "9             0.008773                 0.000491   \n",
       "10            0.002057                 0.000336   \n",
       "11            0.020542                 0.002254   \n",
       "\n",
       "     Retained Earnings to Total Assets   Total expense/Assets  \\\n",
       "0                             0.903225               0.064856   \n",
       "1                             0.931065               0.025516   \n",
       "3                             0.906902               0.024161   \n",
       "4                             0.913850               0.026385   \n",
       "6                             0.911441               0.092802   \n",
       "7                             0.935449               0.025482   \n",
       "8                             0.935200               0.029884   \n",
       "9                             0.938290               0.035891   \n",
       "10                            0.942829               0.028802   \n",
       "11                            0.932955               0.056952   \n",
       "\n",
       "     Equity to Long-term Liability   Current Liability to Current Assets  \\\n",
       "0                         0.126549                              0.118250   \n",
       "1                         0.120916                              0.047775   \n",
       "3                         0.120760                              0.067250   \n",
       "4                         0.110933                              0.047725   \n",
       "6                         0.120561                              0.060765   \n",
       "7                         0.114508                              0.030201   \n",
       "8                         0.110933                              0.021710   \n",
       "9                         0.115499                              0.025494   \n",
       "10                        0.120943                              0.047166   \n",
       "11                        0.116459                              0.033712   \n",
       "\n",
       "     Net Income to Stockholder's Equity   Equity to Liability  \n",
       "0                              0.827890              0.016469  \n",
       "1                              0.839969              0.020794  \n",
       "3                              0.834697              0.023982  \n",
       "4                              0.839973              0.035490  \n",
       "6                              0.829980              0.015663  \n",
       "7                              0.841459              0.034889  \n",
       "8                              0.840487              0.065826  \n",
       "9                              0.840688              0.030801  \n",
       "10                             0.841337              0.036572  \n",
       "11                             0.840650              0.040381  "
      ]
     },
     "execution_count": 32,
     "metadata": {},
     "output_type": "execute_result"
    }
   ],
   "source": [
    "#Removing anomolies from the dataset\n",
    "\n",
    "df2['anomaly_score'] = model.predict(df1)\n",
    "\n",
    "df3 = pd.concat([y, df2], axis=1)\n",
    "\n",
    "df4 = df3[df3['anomaly_score']!=-1]\n",
    "\n",
    "df5 = df4.drop(columns = ['scores', 'anomaly_score'])\n",
    "df5.head(10)"
   ]
  },
  {
   "cell_type": "code",
   "execution_count": 33,
   "metadata": {
    "id": "dG7DAIvWfZ8J"
   },
   "outputs": [],
   "source": [
    "X = df5.drop(columns=['Bankrupt?'], axis=1)\n",
    "X.shape\n",
    "y = df5['Bankrupt?']"
   ]
  },
  {
   "cell_type": "markdown",
   "metadata": {
    "id": "kymrQrf5ly14"
   },
   "source": [
    "## Data Prep"
   ]
  },
  {
   "cell_type": "markdown",
   "metadata": {
    "id": "iuM1Nge6CWVd"
   },
   "source": [
    "### Split the Data for Training"
   ]
  },
  {
   "cell_type": "code",
   "execution_count": 34,
   "metadata": {
    "colab": {
     "base_uri": "https://localhost:8080/"
    },
    "id": "8qPGIpRgENlP",
    "outputId": "115575d9-d064-410f-d617-311891405255"
   },
   "outputs": [
    {
     "data": {
      "text/plain": [
       "(6478, 10)"
      ]
     },
     "execution_count": 34,
     "metadata": {},
     "output_type": "execute_result"
    }
   ],
   "source": [
    "X = df5.drop(columns=['Bankrupt?'], axis=1)\n",
    "X.shape"
   ]
  },
  {
   "cell_type": "code",
   "execution_count": 35,
   "metadata": {
    "id": "SGIxISeAEy_G"
   },
   "outputs": [],
   "source": [
    "y = df5['Bankrupt?']"
   ]
  },
  {
   "cell_type": "code",
   "execution_count": 36,
   "metadata": {
    "id": "XiGGzu1iELAR"
   },
   "outputs": [],
   "source": [
    "# split data in to training and test data\n",
    "X_train, X_test, y_train, y_test = train_test_split(X, y, test_size=0.2, random_state=42)"
   ]
  },
  {
   "cell_type": "markdown",
   "metadata": {
    "id": "BJyX8m4HDBVX"
   },
   "source": [
    "### Scale the Data"
   ]
  },
  {
   "cell_type": "code",
   "execution_count": 37,
   "metadata": {
    "id": "zMtWbUFwDGLd"
   },
   "outputs": [],
   "source": [
    "# use StandardScaler to scale features\n",
    "scaler = StandardScaler()\n",
    "\n",
    "#scale the training data\n",
    "X_train_scaled = scaler.fit_transform(X_train)\n",
    "X_train = pd.DataFrame(X_train_scaled, columns = X_train.columns)\n",
    "# scale test data for model testing\n",
    "X_test_scaled = scaler.fit_transform(X_test)\n",
    "X_test = pd.DataFrame(X_test_scaled, columns = X_test.columns)"
   ]
  },
  {
   "cell_type": "markdown",
   "metadata": {
    "id": "wx8Azu_agvIf"
   },
   "source": [
    "### SMOTE for Training Data"
   ]
  },
  {
   "cell_type": "code",
   "execution_count": 38,
   "metadata": {
    "id": "Ek01hokpgukX"
   },
   "outputs": [],
   "source": [
    "from imblearn.over_sampling import SMOTE"
   ]
  },
  {
   "cell_type": "code",
   "execution_count": 39,
   "metadata": {
    "id": "BrNt7-Njg02O"
   },
   "outputs": [],
   "source": [
    "sm = SMOTE(sampling_strategy='minority', random_state=42)\n",
    "X_train, y_train = sm.fit_resample(X_train, y_train)"
   ]
  },
  {
   "cell_type": "markdown",
   "metadata": {
    "id": "jgwldKjBBNjB"
   },
   "source": [
    "# Models"
   ]
  },
  {
   "cell_type": "markdown",
   "metadata": {
    "id": "UCNya6FKBk1-"
   },
   "source": [
    "## Support Vector Machine (SVM)"
   ]
  },
  {
   "cell_type": "code",
   "execution_count": 40,
   "metadata": {
    "id": "yQM5LxPKByaB"
   },
   "outputs": [],
   "source": [
    "# # SVM Classifier model\n",
    "svm_clf = SVC(kernel=\"rbf\", C=1, probability=True)\n",
    "svm_clf.fit(X_train, y_train)\n",
    "svm_model = svm_clf.fit(X_train, y_train)"
   ]
  },
  {
   "cell_type": "code",
   "execution_count": 41,
   "metadata": {
    "colab": {
     "base_uri": "https://localhost:8080/"
    },
    "id": "lZW-9pdTByc9",
    "outputId": "ed37b785-280f-4e5e-86ef-0898da0f670d"
   },
   "outputs": [
    {
     "name": "stderr",
     "output_type": "stream",
     "text": [
      "[Parallel(n_jobs=1)]: Using backend SequentialBackend with 1 concurrent workers.\n"
     ]
    },
    {
     "name": "stdout",
     "output_type": "stream",
     "text": [
      "[CV] END ................................ score: (test=0.902) total time=   7.4s\n"
     ]
    },
    {
     "name": "stderr",
     "output_type": "stream",
     "text": [
      "[Parallel(n_jobs=1)]: Done   1 out of   1 | elapsed:    7.4s remaining:    0.0s\n"
     ]
    },
    {
     "name": "stdout",
     "output_type": "stream",
     "text": [
      "[CV] END ................................ score: (test=0.873) total time=   7.2s\n"
     ]
    },
    {
     "name": "stderr",
     "output_type": "stream",
     "text": [
      "[Parallel(n_jobs=1)]: Done   2 out of   2 | elapsed:   14.7s remaining:    0.0s\n"
     ]
    },
    {
     "name": "stdout",
     "output_type": "stream",
     "text": [
      "[CV] END ................................ score: (test=0.897) total time=   8.4s\n",
      "[CV] END ................................ score: (test=0.906) total time=   7.6s\n",
      "[CV] END ................................ score: (test=0.892) total time=   7.3s\n",
      "[CV] END ................................ score: (test=0.897) total time=   7.2s\n",
      "[CV] END ................................ score: (test=0.898) total time=   6.7s\n",
      "[CV] END ................................ score: (test=0.897) total time=   6.7s\n",
      "[CV] END ................................ score: (test=0.910) total time=   6.9s\n",
      "[CV] END ................................ score: (test=0.894) total time=   6.7s\n"
     ]
    },
    {
     "name": "stderr",
     "output_type": "stream",
     "text": [
      "[Parallel(n_jobs=1)]: Done  10 out of  10 | elapsed:  1.2min finished\n"
     ]
    },
    {
     "data": {
      "text/plain": [
       "0.8966787276715028"
      ]
     },
     "execution_count": 41,
     "metadata": {},
     "output_type": "execute_result"
    }
   ],
   "source": [
    "# kfold cross validation\n",
    "score = cross_val_score(svm_model, X_train, y_train, cv=10, verbose=3)\n",
    "score.mean()"
   ]
  },
  {
   "cell_type": "code",
   "execution_count": 42,
   "metadata": {
    "id": "O-TU54tvUlpK"
   },
   "outputs": [],
   "source": [
    "# predictions\n",
    "y_pred = svm_model.predict(X_test)"
   ]
  },
  {
   "cell_type": "code",
   "execution_count": 43,
   "metadata": {
    "colab": {
     "base_uri": "https://localhost:8080/"
    },
    "id": "4CJvBeeKXYdK",
    "outputId": "da6dcefa-c165-4ccb-ea52-1e6f8b330d11"
   },
   "outputs": [
    {
     "name": "stdout",
     "output_type": "stream",
     "text": [
      "Precision: 15.18%\n",
      "Recall: 82.86%\n"
     ]
    }
   ],
   "source": [
    "# precision and recall scores\n",
    "print(\"Precision: {:.2f}%\".format(100 * precision_score(y_test, y_pred)))\n",
    "print(\"Recall: {:.2f}%\".format(100 * recall_score(y_test, y_pred)))"
   ]
  },
  {
   "cell_type": "code",
   "execution_count": 44,
   "metadata": {
    "colab": {
     "base_uri": "https://localhost:8080/"
    },
    "id": "EJw-LD4YUphw",
    "outputId": "88b83740-4d3d-460e-8a7c-995bdb5a8b62"
   },
   "outputs": [
    {
     "data": {
      "text/plain": [
       "0.2566371681415929"
      ]
     },
     "execution_count": 44,
     "metadata": {},
     "output_type": "execute_result"
    }
   ],
   "source": [
    "# f1 score\n",
    "f1_score(y_test, y_pred)"
   ]
  },
  {
   "cell_type": "markdown",
   "metadata": {
    "id": "f929nKNEcF40"
   },
   "source": [
    "### Tuning SVM Model Hyperparameters"
   ]
  },
  {
   "cell_type": "code",
   "execution_count": 45,
   "metadata": {
    "colab": {
     "base_uri": "https://localhost:8080/"
    },
    "id": "gitqOUe8ggou",
    "outputId": "2dd9c76d-c47c-47b4-feb1-8786c8fd837f"
   },
   "outputs": [
    {
     "name": "stdout",
     "output_type": "stream",
     "text": [
      "Fitting 5 folds for each of 16 candidates, totalling 80 fits\n",
      "[CV] END .....................................C=0.1, gamma=1; total time=   9.7s\n",
      "[CV] END .....................................C=0.1, gamma=1; total time=   9.7s\n",
      "[CV] END .....................................C=0.1, gamma=1; total time=   9.7s\n",
      "[CV] END .....................................C=0.1, gamma=1; total time=   9.9s\n",
      "[CV] END .....................................C=0.1, gamma=1; total time=  11.4s\n",
      "[CV] END ...................................C=0.1, gamma=0.1; total time=   7.8s\n",
      "[CV] END ...................................C=0.1, gamma=0.1; total time=   9.5s\n",
      "[CV] END ...................................C=0.1, gamma=0.1; total time=   8.3s\n",
      "[CV] END ...................................C=0.1, gamma=0.1; total time=   7.5s\n",
      "[CV] END ...................................C=0.1, gamma=0.1; total time=   7.8s\n",
      "[CV] END ..................................C=0.1, gamma=0.01; total time=   9.0s\n",
      "[CV] END ..................................C=0.1, gamma=0.01; total time=   8.1s\n",
      "[CV] END ..................................C=0.1, gamma=0.01; total time=   8.2s\n",
      "[CV] END ..................................C=0.1, gamma=0.01; total time=   8.2s\n",
      "[CV] END ..................................C=0.1, gamma=0.01; total time=   8.2s\n",
      "[CV] END .................................C=0.1, gamma=0.001; total time=  11.4s\n",
      "[CV] END .................................C=0.1, gamma=0.001; total time=  11.5s\n",
      "[CV] END .................................C=0.1, gamma=0.001; total time=  11.3s\n",
      "[CV] END .................................C=0.1, gamma=0.001; total time=  11.4s\n",
      "[CV] END .................................C=0.1, gamma=0.001; total time=  11.4s\n",
      "[CV] END .......................................C=1, gamma=1; total time=   6.0s\n",
      "[CV] END .......................................C=1, gamma=1; total time=   6.1s\n",
      "[CV] END .......................................C=1, gamma=1; total time=   6.2s\n",
      "[CV] END .......................................C=1, gamma=1; total time=   6.2s\n",
      "[CV] END .......................................C=1, gamma=1; total time=   6.6s\n",
      "[CV] END .....................................C=1, gamma=0.1; total time=   5.2s\n",
      "[CV] END .....................................C=1, gamma=0.1; total time=   5.2s\n",
      "[CV] END .....................................C=1, gamma=0.1; total time=   5.1s\n",
      "[CV] END .....................................C=1, gamma=0.1; total time=   5.2s\n",
      "[CV] END .....................................C=1, gamma=0.1; total time=   5.3s\n",
      "[CV] END ....................................C=1, gamma=0.01; total time=   6.5s\n",
      "[CV] END ....................................C=1, gamma=0.01; total time=   6.6s\n",
      "[CV] END ....................................C=1, gamma=0.01; total time=   6.6s\n",
      "[CV] END ....................................C=1, gamma=0.01; total time=   6.6s\n",
      "[CV] END ....................................C=1, gamma=0.01; total time=   6.7s\n",
      "[CV] END ...................................C=1, gamma=0.001; total time=   8.2s\n",
      "[CV] END ...................................C=1, gamma=0.001; total time=   8.2s\n",
      "[CV] END ...................................C=1, gamma=0.001; total time=   8.3s\n",
      "[CV] END ...................................C=1, gamma=0.001; total time=   8.3s\n",
      "[CV] END ...................................C=1, gamma=0.001; total time=   8.3s\n",
      "[CV] END ......................................C=10, gamma=1; total time=   5.3s\n",
      "[CV] END ......................................C=10, gamma=1; total time=   5.3s\n",
      "[CV] END ......................................C=10, gamma=1; total time=   5.9s\n",
      "[CV] END ......................................C=10, gamma=1; total time=   5.4s\n",
      "[CV] END ......................................C=10, gamma=1; total time=   5.3s\n",
      "[CV] END ....................................C=10, gamma=0.1; total time=   4.2s\n",
      "[CV] END ....................................C=10, gamma=0.1; total time=   4.4s\n",
      "[CV] END ....................................C=10, gamma=0.1; total time=   4.3s\n",
      "[CV] END ....................................C=10, gamma=0.1; total time=   4.3s\n",
      "[CV] END ....................................C=10, gamma=0.1; total time=   4.3s\n",
      "[CV] END ...................................C=10, gamma=0.01; total time=   5.7s\n",
      "[CV] END ...................................C=10, gamma=0.01; total time=   5.9s\n",
      "[CV] END ...................................C=10, gamma=0.01; total time=   5.8s\n",
      "[CV] END ...................................C=10, gamma=0.01; total time=   5.9s\n",
      "[CV] END ...................................C=10, gamma=0.01; total time=   5.9s\n",
      "[CV] END ..................................C=10, gamma=0.001; total time=   7.0s\n",
      "[CV] END ..................................C=10, gamma=0.001; total time=   6.9s\n",
      "[CV] END ..................................C=10, gamma=0.001; total time=   7.1s\n",
      "[CV] END ..................................C=10, gamma=0.001; total time=   6.9s\n",
      "[CV] END ..................................C=10, gamma=0.001; total time=   7.0s\n",
      "[CV] END .....................................C=100, gamma=1; total time=   5.1s\n",
      "[CV] END .....................................C=100, gamma=1; total time=   5.5s\n",
      "[CV] END .....................................C=100, gamma=1; total time=   5.5s\n",
      "[CV] END .....................................C=100, gamma=1; total time=   5.6s\n",
      "[CV] END .....................................C=100, gamma=1; total time=   5.6s\n",
      "[CV] END ...................................C=100, gamma=0.1; total time=   5.1s\n",
      "[CV] END ...................................C=100, gamma=0.1; total time=   5.4s\n",
      "[CV] END ...................................C=100, gamma=0.1; total time=   5.4s\n",
      "[CV] END ...................................C=100, gamma=0.1; total time=   5.2s\n",
      "[CV] END ...................................C=100, gamma=0.1; total time=   5.4s\n",
      "[CV] END ..................................C=100, gamma=0.01; total time=   6.4s\n",
      "[CV] END ..................................C=100, gamma=0.01; total time=   6.3s\n",
      "[CV] END ..................................C=100, gamma=0.01; total time=   6.3s\n",
      "[CV] END ..................................C=100, gamma=0.01; total time=   6.5s\n",
      "[CV] END ..................................C=100, gamma=0.01; total time=   6.3s\n",
      "[CV] END .................................C=100, gamma=0.001; total time=   6.5s\n",
      "[CV] END .................................C=100, gamma=0.001; total time=   6.6s\n",
      "[CV] END .................................C=100, gamma=0.001; total time=   6.6s\n",
      "[CV] END .................................C=100, gamma=0.001; total time=   6.6s\n",
      "[CV] END .................................C=100, gamma=0.001; total time=   6.6s\n"
     ]
    }
   ],
   "source": [
    "# create grid search cross validation to tunr hyperparmeters of SVC model\n",
    "param_grid = {'C': [0.1, 1, 10, 100], 'gamma': [1,0.1,0.01,0.001]}\n",
    "\n",
    "grid = GridSearchCV(SVC(probability=True, kernel='rbf'),param_grid,refit=True,verbose=2)\n",
    "grid.fit(X_train,y_train);"
   ]
  },
  {
   "cell_type": "code",
   "execution_count": 46,
   "metadata": {
    "id": "pb57y24MgqY1"
   },
   "outputs": [
    {
     "name": "stdout",
     "output_type": "stream",
     "text": [
      "SVC(C=10, gamma=1, probability=True)\n"
     ]
    }
   ],
   "source": [
    "# print optimal values for C and gamma\n",
    "print(grid.best_estimator_)"
   ]
  },
  {
   "cell_type": "code",
   "execution_count": 47,
   "metadata": {
    "id": "c1uiLG2N21lG"
   },
   "outputs": [],
   "source": [
    "y_pred = grid.predict(X_test)\n",
    "y_pred_proba = grid.predict_proba(X_test)\n",
    "y_score = grid.decision_function(X_test)"
   ]
  },
  {
   "cell_type": "code",
   "execution_count": 48,
   "metadata": {
    "id": "hz6mCZ2o_PIg"
   },
   "outputs": [
    {
     "data": {
      "image/png": "[encoded data removed]",
      "text/plain": [
       "<Figure size 432x288 with 1 Axes>"
      ]
     },
     "metadata": {
      "needs_background": "light"
     },
     "output_type": "display_data"
    }
   ],
   "source": [
    "#Precision/Recall \n",
    "prec, recall, _ = precision_recall_curve(y_test, y_score, pos_label=grid.classes_[1])\n",
    "pr_display = PrecisionRecallDisplay(precision=prec, recall=recall).plot()"
   ]
  },
  {
   "cell_type": "code",
   "execution_count": 49,
   "metadata": {
    "id": "d6mYMCU_0WaH"
   },
   "outputs": [
    {
     "data": {
      "text/plain": [
       "<matplotlib.legend.Legend at 0x174af22aa90>"
      ]
     },
     "execution_count": 49,
     "metadata": {},
     "output_type": "execute_result"
    },
    {
     "data": {
      "image/png": "[encoded data removed]",
      "text/plain": [
       "<Figure size 432x288 with 1 Axes>"
      ]
     },
     "metadata": {
      "needs_background": "light"
     },
     "output_type": "display_data"
    }
   ],
   "source": [
    "#Plot the ROC curve\n",
    "fpr, tpr, ths = roc_curve(y_test, y_pred_proba[:,1])\n",
    "\n",
    "auc_score = auc(fpr,tpr)\n",
    "plt.plot(fpr,tpr,label=\"AUC Score:\" + str(auc_score))\n",
    "plt.xlabel('fpr',fontsize='15')\n",
    "plt.ylabel('tpr',fontsize='15')\n",
    "plt.legend(loc='best')"
   ]
  },
  {
   "cell_type": "code",
   "execution_count": 50,
   "metadata": {
    "id": "AWIygvEa213l"
   },
   "outputs": [
    {
     "data": {
      "text/html": [
       "<div>\n",
       "<style scoped>\n",
       "    .dataframe tbody tr th:only-of-type {\n",
       "        vertical-align: middle;\n",
       "    }\n",
       "\n",
       "    .dataframe tbody tr th {\n",
       "        vertical-align: top;\n",
       "    }\n",
       "\n",
       "    .dataframe thead th {\n",
       "        text-align: right;\n",
       "    }\n",
       "</style>\n",
       "<table border=\"1\" class=\"dataframe\">\n",
       "  <thead>\n",
       "    <tr style=\"text-align: right;\">\n",
       "      <th></th>\n",
       "      <th>Model</th>\n",
       "      <th>TPR</th>\n",
       "      <th>FPR</th>\n",
       "      <th>precision</th>\n",
       "      <th>recall</th>\n",
       "      <th>accuracy</th>\n",
       "      <th>f1-value</th>\n",
       "    </tr>\n",
       "  </thead>\n",
       "  <tbody>\n",
       "    <tr>\n",
       "      <th>0</th>\n",
       "      <td>SVM</td>\n",
       "      <td>[0.97, 0.09]</td>\n",
       "      <td>[0.91, 0.03]</td>\n",
       "      <td>[0.97, 0.08]</td>\n",
       "      <td>[0.97, 0.09]</td>\n",
       "      <td>[0.95, 0.95]</td>\n",
       "      <td>0.08</td>\n",
       "    </tr>\n",
       "  </tbody>\n",
       "</table>\n",
       "</div>"
      ],
      "text/plain": [
       "  Model           TPR           FPR     precision        recall      accuracy  \\\n",
       "0   SVM  [0.97, 0.09]  [0.91, 0.03]  [0.97, 0.08]  [0.97, 0.09]  [0.95, 0.95]   \n",
       "\n",
       "   f1-value  \n",
       "0      0.08  "
      ]
     },
     "execution_count": 50,
     "metadata": {},
     "output_type": "execute_result"
    }
   ],
   "source": [
    "cnf_matrix = confusion_matrix(y_test,y_pred)\n",
    "\n",
    "FP = cnf_matrix.sum(axis=0) - np.diag(cnf_matrix)  \n",
    "FN = cnf_matrix.sum(axis=1) - np.diag(cnf_matrix)\n",
    "TP = np.diag(cnf_matrix)\n",
    "TN = cnf_matrix.sum() - (FP + FN + TP)\n",
    "\n",
    "FP = FP.astype(float)\n",
    "FN = FN.astype(float)\n",
    "TP = TP.astype(float)\n",
    "TN = TN.astype(float)\n",
    "\n",
    "# Sensitivity, hit rate, recall, or true positive rate\n",
    "TPR = TP/(TP+FN)\n",
    "# Specificity or true negative rate\n",
    "TNR = TN/(TN+FP) \n",
    "# Precision or positive predictive value\n",
    "PPV = TP/(TP+FP)\n",
    "# Negative predictive value\n",
    "NPV = TN/(TN+FN)\n",
    "# Fall out or false positive rate\n",
    "FPR = FP/(FP+TN)\n",
    "# False negative rate\n",
    "FNR = FN/(TP+FN)\n",
    "# False discovery rate\n",
    "FDR = FP/(TP+FP)\n",
    "# Overall accuracy\n",
    "ACC = (TP+TN)/(TP+FP+FN+TN)\n",
    "\n",
    "results = pd.DataFrame(columns = ['Model', 'TPR', 'FPR', 'precision', 'recall', 'accuracy', 'f1-value'])\n",
    "\n",
    "#eval\n",
    "Model = 'SVM' \n",
    "TPR = [round(num, 2) for num in TPR]\n",
    "FPR = [round(num, 2) for num in FPR]\n",
    "precision = [round(num, 2) for num in PPV]\n",
    "recall = [round(num, 2) for num in TPR]\n",
    "accuracy = [round(num, 2) for num in ACC]\n",
    "f1_value = round(f1_score(y_pred, y_test),2)\n",
    "row = [Model, TPR, FPR, precision, recall, accuracy, f1_value]\n",
    "results = results.append(pd.DataFrame([row], columns=results.columns), ignore_index=True)\n",
    "results"
   ]
  },
  {
   "cell_type": "markdown",
   "metadata": {
    "id": "f3N94aEdBk8X"
   },
   "source": [
    "## Logistic Regression Model"
   ]
  },
  {
   "cell_type": "code",
   "execution_count": 51,
   "metadata": {
    "id": "6foRmG9MBx4U"
   },
   "outputs": [],
   "source": [
    "# create logistic model\n",
    "log_clf = LogisticRegression(C=1.0, penalty='l2', solver='newton-cg')\n",
    "\n",
    "log_model = log_clf.fit(X_train, y_train)"
   ]
  },
  {
   "cell_type": "code",
   "execution_count": 52,
   "metadata": {
    "id": "nXxP2_AEXTcX"
   },
   "outputs": [
    {
     "name": "stdout",
     "output_type": "stream",
     "text": [
      "[CV] END ................................ score: (test=0.850) total time=   0.0s\n",
      "[CV] END ................................ score: (test=0.845) total time=   0.0s\n",
      "[CV] END ................................ score: (test=0.855) total time=   0.0s\n"
     ]
    },
    {
     "name": "stderr",
     "output_type": "stream",
     "text": [
      "[Parallel(n_jobs=1)]: Using backend SequentialBackend with 1 concurrent workers.\n",
      "[Parallel(n_jobs=1)]: Done   1 out of   1 | elapsed:    0.0s remaining:    0.0s\n",
      "[Parallel(n_jobs=1)]: Done   2 out of   2 | elapsed:    0.0s remaining:    0.0s\n",
      "[Parallel(n_jobs=1)]: Done   3 out of   3 | elapsed:    0.0s finished\n"
     ]
    },
    {
     "data": {
      "text/plain": [
       "0.8501087474292569"
      ]
     },
     "execution_count": 52,
     "metadata": {},
     "output_type": "execute_result"
    }
   ],
   "source": [
    "# kfold validation\n",
    "score = cross_val_score(log_clf, X_train, y_train, cv=3, verbose=3)\n",
    "score.mean()"
   ]
  },
  {
   "cell_type": "code",
   "execution_count": 53,
   "metadata": {
    "id": "wt3XHUv0Bx8Z"
   },
   "outputs": [],
   "source": [
    "y_pred = log_model.predict(X_test)\n",
    "y_pred_proba = log_clf.predict_proba(X_test)\n",
    "y_score = log_clf.decision_function(X_test)"
   ]
  },
  {
   "cell_type": "code",
   "execution_count": 54,
   "metadata": {
    "id": "NKFJFHE--g-A"
   },
   "outputs": [
    {
     "data": {
      "image/png": "[encoded data removed]",
      "text/plain": [
       "<Figure size 432x288 with 1 Axes>"
      ]
     },
     "metadata": {
      "needs_background": "light"
     },
     "output_type": "display_data"
    }
   ],
   "source": [
    "#Precision/Recall \n",
    "prec, recall, _ = precision_recall_curve(y_test, y_score, pos_label=log_clf.classes_[1])\n",
    "pr_display = PrecisionRecallDisplay(precision=prec, recall=recall).plot()"
   ]
  },
  {
   "cell_type": "code",
   "execution_count": 55,
   "metadata": {
    "id": "XtGxlyQ6yrhJ"
   },
   "outputs": [
    {
     "data": {
      "text/plain": [
       "<matplotlib.legend.Legend at 0x174afc71850>"
      ]
     },
     "execution_count": 55,
     "metadata": {},
     "output_type": "execute_result"
    },
    {
     "data": {
      "image/png": "[encoded data removed]",
      "text/plain": [
       "<Figure size 432x288 with 1 Axes>"
      ]
     },
     "metadata": {
      "needs_background": "light"
     },
     "output_type": "display_data"
    }
   ],
   "source": [
    "fpr, tpr, ths = roc_curve(y_test, y_pred_proba[:,1])\n",
    "\n",
    "auc_score = auc(fpr,tpr)\n",
    "plt.plot(fpr,tpr,label=\"AUC Score:\" + str(auc_score))\n",
    "plt.xlabel('fpr',fontsize='15')\n",
    "plt.ylabel('tpr',fontsize='15')\n",
    "plt.legend(loc='best')"
   ]
  },
  {
   "cell_type": "code",
   "execution_count": 56,
   "metadata": {
    "id": "bP66RSKY3LDz"
   },
   "outputs": [
    {
     "data": {
      "text/html": [
       "<div>\n",
       "<style scoped>\n",
       "    .dataframe tbody tr th:only-of-type {\n",
       "        vertical-align: middle;\n",
       "    }\n",
       "\n",
       "    .dataframe tbody tr th {\n",
       "        vertical-align: top;\n",
       "    }\n",
       "\n",
       "    .dataframe thead th {\n",
       "        text-align: right;\n",
       "    }\n",
       "</style>\n",
       "<table border=\"1\" class=\"dataframe\">\n",
       "  <thead>\n",
       "    <tr style=\"text-align: right;\">\n",
       "      <th></th>\n",
       "      <th>Model</th>\n",
       "      <th>TPR</th>\n",
       "      <th>FPR</th>\n",
       "      <th>precision</th>\n",
       "      <th>recall</th>\n",
       "      <th>accuracy</th>\n",
       "      <th>f1-value</th>\n",
       "    </tr>\n",
       "  </thead>\n",
       "  <tbody>\n",
       "    <tr>\n",
       "      <th>0</th>\n",
       "      <td>SVM</td>\n",
       "      <td>[0.97, 0.09]</td>\n",
       "      <td>[0.91, 0.03]</td>\n",
       "      <td>[0.97, 0.08]</td>\n",
       "      <td>[0.97, 0.09]</td>\n",
       "      <td>[0.95, 0.95]</td>\n",
       "      <td>0.08</td>\n",
       "    </tr>\n",
       "    <tr>\n",
       "      <th>1</th>\n",
       "      <td>Logistic Regression</td>\n",
       "      <td>[0.83, 0.89]</td>\n",
       "      <td>[0.11, 0.17]</td>\n",
       "      <td>[1.0, 0.13]</td>\n",
       "      <td>[0.83, 0.89]</td>\n",
       "      <td>[0.83, 0.83]</td>\n",
       "      <td>0.22</td>\n",
       "    </tr>\n",
       "  </tbody>\n",
       "</table>\n",
       "</div>"
      ],
      "text/plain": [
       "                 Model           TPR           FPR     precision  \\\n",
       "0                  SVM  [0.97, 0.09]  [0.91, 0.03]  [0.97, 0.08]   \n",
       "1  Logistic Regression  [0.83, 0.89]  [0.11, 0.17]   [1.0, 0.13]   \n",
       "\n",
       "         recall      accuracy  f1-value  \n",
       "0  [0.97, 0.09]  [0.95, 0.95]      0.08  \n",
       "1  [0.83, 0.89]  [0.83, 0.83]      0.22  "
      ]
     },
     "execution_count": 56,
     "metadata": {},
     "output_type": "execute_result"
    }
   ],
   "source": [
    "cnf_matrix = confusion_matrix(y_test,y_pred)\n",
    "\n",
    "FP = cnf_matrix.sum(axis=0) - np.diag(cnf_matrix)  \n",
    "FN = cnf_matrix.sum(axis=1) - np.diag(cnf_matrix)\n",
    "TP = np.diag(cnf_matrix)\n",
    "TN = cnf_matrix.sum() - (FP + FN + TP)\n",
    "\n",
    "FP = FP.astype(float)\n",
    "FN = FN.astype(float)\n",
    "TP = TP.astype(float)\n",
    "TN = TN.astype(float)\n",
    "\n",
    "# Sensitivity, hit rate, recall, or true positive rate\n",
    "TPR = TP/(TP+FN)\n",
    "# Specificity or true negative rate\n",
    "TNR = TN/(TN+FP) \n",
    "# Precision or positive predictive value\n",
    "PPV = TP/(TP+FP)\n",
    "# Negative predictive value\n",
    "NPV = TN/(TN+FN)\n",
    "# Fall out or false positive rate\n",
    "FPR = FP/(FP+TN)\n",
    "# False negative rate\n",
    "FNR = FN/(TP+FN)\n",
    "# False discovery rate\n",
    "FDR = FP/(TP+FP)\n",
    "# Overall accuracy\n",
    "ACC = (TP+TN)/(TP+FP+FN+TN)\n",
    "\n",
    "#eval\n",
    "Model = 'Logistic Regression' \n",
    "TPR = [round(num, 2) for num in TPR]\n",
    "FPR = [round(num, 2) for num in FPR]\n",
    "precision = [round(num, 2) for num in PPV]\n",
    "recall = [round(num, 2) for num in TPR]\n",
    "accuracy = [round(num, 2) for num in ACC]\n",
    "f1_value = round(f1_score(y_pred, y_test),2)\n",
    "row = [Model, TPR, FPR, precision, recall, accuracy, f1_value]\n",
    "results = results.append(pd.DataFrame([row], columns=results.columns), ignore_index=True)\n",
    "results"
   ]
  },
  {
   "cell_type": "markdown",
   "metadata": {
    "id": "qC8GQpPdBtob"
   },
   "source": [
    "## Naïve Bayes model"
   ]
  },
  {
   "cell_type": "code",
   "execution_count": 57,
   "metadata": {
    "id": "uca34FtPBw6u"
   },
   "outputs": [],
   "source": [
    " # create naive bayes model\n",
    " nb_clf = GaussianNB()\n",
    " nb_model = nb_clf.fit(X_train, np.ravel(y_train))"
   ]
  },
  {
   "cell_type": "code",
   "execution_count": 58,
   "metadata": {
    "id": "34QKf3HxrKnG"
   },
   "outputs": [
    {
     "name": "stdout",
     "output_type": "stream",
     "text": [
      "[CV] END ................................ score: (test=0.832) total time=   0.0s\n",
      "[CV] END ................................ score: (test=0.821) total time=   0.0s\n",
      "[CV] END ................................ score: (test=0.842) total time=   0.0s\n"
     ]
    },
    {
     "name": "stderr",
     "output_type": "stream",
     "text": [
      "[Parallel(n_jobs=1)]: Using backend SequentialBackend with 1 concurrent workers.\n",
      "[Parallel(n_jobs=1)]: Done   1 out of   1 | elapsed:    0.0s remaining:    0.0s\n",
      "[Parallel(n_jobs=1)]: Done   2 out of   2 | elapsed:    0.0s remaining:    0.0s\n",
      "[Parallel(n_jobs=1)]: Done   3 out of   3 | elapsed:    0.0s finished\n"
     ]
    },
    {
     "data": {
      "text/plain": [
       "0.8315206611318201"
      ]
     },
     "execution_count": 58,
     "metadata": {},
     "output_type": "execute_result"
    }
   ],
   "source": [
    "# kfold cross validation\n",
    "score = cross_val_score(nb_clf, X_train, y_train, cv=3, verbose=3)\n",
    "score.mean()"
   ]
  },
  {
   "cell_type": "code",
   "execution_count": 59,
   "metadata": {
    "id": "exV-hyMPBxIX"
   },
   "outputs": [],
   "source": [
    "y_pred = nb_model.predict(X_test)\n",
    "y_pred_proba = nb_clf.predict_proba(X_test)"
   ]
  },
  {
   "cell_type": "code",
   "execution_count": 60,
   "metadata": {
    "id": "vZk0_Tzuv6Ug"
   },
   "outputs": [
    {
     "data": {
      "image/png": "[encoded data removed]",
      "text/plain": [
       "<Figure size 432x288 with 1 Axes>"
      ]
     },
     "metadata": {
      "needs_background": "light"
     },
     "output_type": "display_data"
    }
   ],
   "source": [
    "#Precision/Recall \n",
    "prec, recall, _ = precision_recall_curve(y_test, y_score, pos_label=nb_clf.classes_[1])\n",
    "pr_display = PrecisionRecallDisplay(precision=prec, recall=recall).plot()"
   ]
  },
  {
   "cell_type": "code",
   "execution_count": 61,
   "metadata": {
    "id": "B6a2gepx3SZs"
   },
   "outputs": [
    {
     "data": {
      "text/plain": [
       "<matplotlib.legend.Legend at 0x174afc45610>"
      ]
     },
     "execution_count": 61,
     "metadata": {},
     "output_type": "execute_result"
    },
    {
     "data": {
      "image/png": "[encoded data removed]",
      "text/plain": [
       "<Figure size 432x288 with 1 Axes>"
      ]
     },
     "metadata": {
      "needs_background": "light"
     },
     "output_type": "display_data"
    }
   ],
   "source": [
    "import matplotlib.pyplot as plt\n",
    "from sklearn.metrics import roc_curve, auc, roc_auc_score\n",
    "\n",
    "fpr, tpr, ths = roc_curve(y_test, y_pred_proba[:,1])\n",
    "\n",
    "auc_score = auc(fpr,tpr)\n",
    "plt.plot(fpr,tpr,label=\"AUC Score:\" + str(auc_score))\n",
    "plt.xlabel('fpr',fontsize='15')\n",
    "plt.ylabel('tpr',fontsize='15')\n",
    "plt.legend(loc='best')"
   ]
  },
  {
   "cell_type": "code",
   "execution_count": 62,
   "metadata": {
    "id": "7gV8kSuX3XXt"
   },
   "outputs": [
    {
     "data": {
      "text/html": [
       "<div>\n",
       "<style scoped>\n",
       "    .dataframe tbody tr th:only-of-type {\n",
       "        vertical-align: middle;\n",
       "    }\n",
       "\n",
       "    .dataframe tbody tr th {\n",
       "        vertical-align: top;\n",
       "    }\n",
       "\n",
       "    .dataframe thead th {\n",
       "        text-align: right;\n",
       "    }\n",
       "</style>\n",
       "<table border=\"1\" class=\"dataframe\">\n",
       "  <thead>\n",
       "    <tr style=\"text-align: right;\">\n",
       "      <th></th>\n",
       "      <th>Model</th>\n",
       "      <th>TPR</th>\n",
       "      <th>FPR</th>\n",
       "      <th>precision</th>\n",
       "      <th>recall</th>\n",
       "      <th>accuracy</th>\n",
       "      <th>f1-value</th>\n",
       "    </tr>\n",
       "  </thead>\n",
       "  <tbody>\n",
       "    <tr>\n",
       "      <th>0</th>\n",
       "      <td>SVM</td>\n",
       "      <td>[0.97, 0.09]</td>\n",
       "      <td>[0.91, 0.03]</td>\n",
       "      <td>[0.97, 0.08]</td>\n",
       "      <td>[0.97, 0.09]</td>\n",
       "      <td>[0.95, 0.95]</td>\n",
       "      <td>0.08</td>\n",
       "    </tr>\n",
       "    <tr>\n",
       "      <th>1</th>\n",
       "      <td>Logistic Regression</td>\n",
       "      <td>[0.83, 0.89]</td>\n",
       "      <td>[0.11, 0.17]</td>\n",
       "      <td>[1.0, 0.13]</td>\n",
       "      <td>[0.83, 0.89]</td>\n",
       "      <td>[0.83, 0.83]</td>\n",
       "      <td>0.22</td>\n",
       "    </tr>\n",
       "    <tr>\n",
       "      <th>2</th>\n",
       "      <td>naive bayes</td>\n",
       "      <td>[0.87, 0.86]</td>\n",
       "      <td>[0.14, 0.13]</td>\n",
       "      <td>[1.0, 0.16]</td>\n",
       "      <td>[0.87, 0.86]</td>\n",
       "      <td>[0.87, 0.87]</td>\n",
       "      <td>0.27</td>\n",
       "    </tr>\n",
       "  </tbody>\n",
       "</table>\n",
       "</div>"
      ],
      "text/plain": [
       "                 Model           TPR           FPR     precision  \\\n",
       "0                  SVM  [0.97, 0.09]  [0.91, 0.03]  [0.97, 0.08]   \n",
       "1  Logistic Regression  [0.83, 0.89]  [0.11, 0.17]   [1.0, 0.13]   \n",
       "2          naive bayes  [0.87, 0.86]  [0.14, 0.13]   [1.0, 0.16]   \n",
       "\n",
       "         recall      accuracy  f1-value  \n",
       "0  [0.97, 0.09]  [0.95, 0.95]      0.08  \n",
       "1  [0.83, 0.89]  [0.83, 0.83]      0.22  \n",
       "2  [0.87, 0.86]  [0.87, 0.87]      0.27  "
      ]
     },
     "execution_count": 62,
     "metadata": {},
     "output_type": "execute_result"
    }
   ],
   "source": [
    "cnf_matrix = confusion_matrix(y_test,y_pred)\n",
    "FP = cnf_matrix.sum(axis=0) - np.diag(cnf_matrix)  \n",
    "FN = cnf_matrix.sum(axis=1) - np.diag(cnf_matrix)\n",
    "TP = np.diag(cnf_matrix)\n",
    "TN = cnf_matrix.sum() - (FP + FN + TP)\n",
    "\n",
    "FP = FP.astype(float)\n",
    "FN = FN.astype(float)\n",
    "TP = TP.astype(float)\n",
    "TN = TN.astype(float)\n",
    "\n",
    "# Sensitivity, hit rate, recall, or true positive rate\n",
    "TPR = TP/(TP+FN)\n",
    "# Specificity or true negative rate\n",
    "TNR = TN/(TN+FP) \n",
    "# Precision or positive predictive value\n",
    "PPV = TP/(TP+FP)\n",
    "# Negative predictive value\n",
    "NPV = TN/(TN+FN)\n",
    "# Fall out or false positive rate\n",
    "FPR = FP/(FP+TN)\n",
    "# False negative rate\n",
    "FNR = FN/(TP+FN)\n",
    "# False discovery rate\n",
    "FDR = FP/(TP+FP)\n",
    "# Overall accuracy\n",
    "ACC = (TP+TN)/(TP+FP+FN+TN)\n",
    "\n",
    "#eval\n",
    "Model = 'naive bayes'\n",
    "TPR = [round(num, 2) for num in TPR]\n",
    "FPR = [round(num, 2) for num in FPR]\n",
    "precision = [round(num, 2) for num in PPV]\n",
    "recall = [round(num, 2) for num in TPR]\n",
    "accuracy = [round(num, 2) for num in ACC]\n",
    "f1_value = round(f1_score(y_pred, y_test),2)\n",
    "row3 = [Model, TPR, FPR, precision, recall, accuracy, f1_value]\n",
    "results = results.append(pd.DataFrame([row3], columns=results.columns), ignore_index=True)\n",
    "results"
   ]
  }
 ],
 "metadata": {
  "colab": {
   "collapsed_sections": [],
   "name": "Group_5_Module_4_Assignment_2.ipynb",
   "provenance": [],
   "toc_visible": true
  },
  "kernelspec": {
   "display_name": "Python 3",
   "language": "python",
   "name": "python3"
  },
  "language_info": {
   "codemirror_mode": {
    "name": "ipython",
    "version": 3
   },
   "file_extension": ".py",
   "mimetype": "text/x-python",
   "name": "python",
   "nbconvert_exporter": "python",
   "pygments_lexer": "ipython3",
   "version": "3.8.8"
  }
 },
 "nbformat": 4,
 "nbformat_minor": 1
}

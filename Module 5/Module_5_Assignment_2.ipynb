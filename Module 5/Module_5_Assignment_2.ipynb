{
 "cells": [
  {
   "cell_type": "markdown",
   "metadata": {
    "id": "_rkbtiNz0PX5"
   },
   "source": [
    "# Intro"
   ]
  },
  {
   "cell_type": "markdown",
   "metadata": {
    "id": "ZlzxLKuqJdbj"
   },
   "source": [
    "## Links"
   ]
  },
  {
   "cell_type": "markdown",
   "metadata": {
    "id": "mDzJlecjJWwW"
   },
   "source": [
    "https://canvas.northwestern.edu/courses/167719/assignments/1078603?module_item_id=2319248 "
   ]
  },
  {
   "cell_type": "markdown",
   "metadata": {
    "id": "GirNVm4305d7"
   },
   "source": [
    "https://www.kaggle.com/datasets/fedesoriano/company-bankruptcy-prediction\n"
   ]
  },
  {
   "cell_type": "markdown",
   "metadata": {
    "id": "2Ob8erZOJnOm"
   },
   "source": [
    "## Modules"
   ]
  },
  {
   "cell_type": "code",
   "execution_count": 1,
   "metadata": {
    "id": "PlMK7gDyouJK"
   },
   "outputs": [],
   "source": [
    "#For data manipulation and visualization\n",
    "import pandas as pd\n",
    "import seaborn as sns\n",
    "import matplotlib.pyplot as plt\n",
    "import numpy as np\n",
    "from numpy import array \n",
    "from numpy import arange \n",
    "\n",
    "#For Isolation Forest from sklearn\n",
    "from sklearn.ensemble import IsolationForest\n",
    "from enum import auto\n",
    "\n",
    "#From sklearn (SVM, Logistic, Bayes)\n",
    "from sklearn.svm import SVC\n",
    "from sklearn import svm\n",
    "\n",
    "from sklearn.linear_model import LogisticRegression\n",
    "from sklearn.linear_model import ElasticNet\n",
    "from sklearn.linear_model import ElasticNetCV\n",
    "\n",
    "from sklearn.model_selection import GridSearchCV \n",
    "from sklearn.model_selection import RepeatedKFold, StratifiedKFold \n",
    "from sklearn.model_selection import train_test_split\n",
    "from sklearn.model_selection import KFold\n",
    "from sklearn.model_selection import cross_val_score\n",
    "\n",
    "from sklearn.feature_selection import SelectKBest, f_classif, RFECV\n",
    "\n",
    "from sklearn.preprocessing import MinMaxScaler, StandardScaler\n",
    "\n",
    "from sklearn.naive_bayes import GaussianNB\n",
    "\n",
    "from sklearn.ensemble import RandomForestClassifier, GradientBoostingRegressor, ExtraTreesClassifier, RandomForestRegressor\n",
    "from sklearn.svm import LinearSVC\n",
    "from sklearn.neural_network import MLPClassifier\n",
    "\n",
    "from sklearn import metrics\n",
    "\n",
    "from sklearn.metrics import f1_score, classification_report, confusion_matrix\n",
    "from sklearn.metrics import roc_curve, auc, roc_auc_score\n",
    "from sklearn.metrics import PrecisionRecallDisplay\n",
    "from sklearn.metrics import precision_score, recall_score, precision_recall_curve\n",
    "from sklearn.metrics import mean_squared_error\n",
    "\n",
    "#Other\n",
    "from math import sqrt"
   ]
  },
  {
   "cell_type": "markdown",
   "metadata": {
    "id": "3hSs0WmVJvZ8"
   },
   "source": [
    "## Import Files"
   ]
  },
  {
   "cell_type": "code",
   "execution_count": 2,
   "metadata": {
    "colab": {
     "base_uri": "https://localhost:8080/",
     "height": 74,
     "resources": {
      "http://localhost:8080/nbextensions/google.colab/files.js": {
       "data": "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",
       "headers": [
        [
         "content-type",
         "application/javascript"
        ]
       ],
       "ok": true,
       "status": 200,
       "status_text": ""
      }
     }
    },
    "id": "mblCBynfoq3g",
    "outputId": "d725acb7-f561-4c8b-f4ab-0eb16ccb34ce"
   },
   "outputs": [],
   "source": [
    "#Import data.csv from the Kaggle page linked above\n",
    "# from google.colab import files\n",
    "# uploaded = files.upload()"
   ]
  },
  {
   "cell_type": "code",
   "execution_count": 87,
   "metadata": {
    "id": "u2NcL_jLaunT"
   },
   "outputs": [],
   "source": [
    "df = pd.read_csv(\"data.csv\")"
   ]
  },
  {
   "cell_type": "markdown",
   "metadata": {
    "id": "cGR3WNCHoCbX"
   },
   "source": [
    "# EDA"
   ]
  },
  {
   "cell_type": "markdown",
   "metadata": {
    "id": "L8pQ3UYEJ6Aw"
   },
   "source": [
    "## Intro Stats"
   ]
  },
  {
   "cell_type": "code",
   "execution_count": 88,
   "metadata": {
    "colab": {
     "base_uri": "https://localhost:8080/"
    },
    "id": "aJU7NpfoFVBG",
    "outputId": "cba4a01c-6692-4b6a-92b7-549e6842b947"
   },
   "outputs": [
    {
     "data": {
      "text/plain": [
       "(6819, 96)"
      ]
     },
     "execution_count": 88,
     "metadata": {},
     "output_type": "execute_result"
    }
   ],
   "source": [
    "df.shape"
   ]
  },
  {
   "cell_type": "code",
   "execution_count": 89,
   "metadata": {
    "colab": {
     "base_uri": "https://localhost:8080/"
    },
    "id": "Hrl5nwXa-3H6",
    "outputId": "3079465d-e36a-44a1-c01d-6e96808f74f7"
   },
   "outputs": [
    {
     "name": "stdout",
     "output_type": "stream",
     "text": [
      "<class 'pandas.core.frame.DataFrame'>\n",
      "RangeIndex: 6819 entries, 0 to 6818\n",
      "Data columns (total 96 columns):\n",
      " #   Column                                                    Non-Null Count  Dtype  \n",
      "---  ------                                                    --------------  -----  \n",
      " 0   Bankrupt?                                                 6819 non-null   int64  \n",
      " 1    ROA(C) before interest and depreciation before interest  6819 non-null   float64\n",
      " 2    ROA(A) before interest and % after tax                   6819 non-null   float64\n",
      " 3    ROA(B) before interest and depreciation after tax        6819 non-null   float64\n",
      " 4    Operating Gross Margin                                   6819 non-null   float64\n",
      " 5    Realized Sales Gross Margin                              6819 non-null   float64\n",
      " 6    Operating Profit Rate                                    6819 non-null   float64\n",
      " 7    Pre-tax net Interest Rate                                6819 non-null   float64\n",
      " 8    After-tax net Interest Rate                              6819 non-null   float64\n",
      " 9    Non-industry income and expenditure/revenue              6819 non-null   float64\n",
      " 10   Continuous interest rate (after tax)                     6819 non-null   float64\n",
      " 11   Operating Expense Rate                                   6819 non-null   float64\n",
      " 12   Research and development expense rate                    6819 non-null   float64\n",
      " 13   Cash flow rate                                           6819 non-null   float64\n",
      " 14   Interest-bearing debt interest rate                      6819 non-null   float64\n",
      " 15   Tax rate (A)                                             6819 non-null   float64\n",
      " 16   Net Value Per Share (B)                                  6819 non-null   float64\n",
      " 17   Net Value Per Share (A)                                  6819 non-null   float64\n",
      " 18   Net Value Per Share (C)                                  6819 non-null   float64\n",
      " 19   Persistent EPS in the Last Four Seasons                  6819 non-null   float64\n",
      " 20   Cash Flow Per Share                                      6819 non-null   float64\n",
      " 21   Revenue Per Share (Yuan ¥)                               6819 non-null   float64\n",
      " 22   Operating Profit Per Share (Yuan ¥)                      6819 non-null   float64\n",
      " 23   Per Share Net profit before tax (Yuan ¥)                 6819 non-null   float64\n",
      " 24   Realized Sales Gross Profit Growth Rate                  6819 non-null   float64\n",
      " 25   Operating Profit Growth Rate                             6819 non-null   float64\n",
      " 26   After-tax Net Profit Growth Rate                         6819 non-null   float64\n",
      " 27   Regular Net Profit Growth Rate                           6819 non-null   float64\n",
      " 28   Continuous Net Profit Growth Rate                        6819 non-null   float64\n",
      " 29   Total Asset Growth Rate                                  6819 non-null   float64\n",
      " 30   Net Value Growth Rate                                    6819 non-null   float64\n",
      " 31   Total Asset Return Growth Rate Ratio                     6819 non-null   float64\n",
      " 32   Cash Reinvestment %                                      6819 non-null   float64\n",
      " 33   Current Ratio                                            6819 non-null   float64\n",
      " 34   Quick Ratio                                              6819 non-null   float64\n",
      " 35   Interest Expense Ratio                                   6819 non-null   float64\n",
      " 36   Total debt/Total net worth                               6819 non-null   float64\n",
      " 37   Debt ratio %                                             6819 non-null   float64\n",
      " 38   Net worth/Assets                                         6819 non-null   float64\n",
      " 39   Long-term fund suitability ratio (A)                     6819 non-null   float64\n",
      " 40   Borrowing dependency                                     6819 non-null   float64\n",
      " 41   Contingent liabilities/Net worth                         6819 non-null   float64\n",
      " 42   Operating profit/Paid-in capital                         6819 non-null   float64\n",
      " 43   Net profit before tax/Paid-in capital                    6819 non-null   float64\n",
      " 44   Inventory and accounts receivable/Net value              6819 non-null   float64\n",
      " 45   Total Asset Turnover                                     6819 non-null   float64\n",
      " 46   Accounts Receivable Turnover                             6819 non-null   float64\n",
      " 47   Average Collection Days                                  6819 non-null   float64\n",
      " 48   Inventory Turnover Rate (times)                          6819 non-null   float64\n",
      " 49   Fixed Assets Turnover Frequency                          6819 non-null   float64\n",
      " 50   Net Worth Turnover Rate (times)                          6819 non-null   float64\n",
      " 51   Revenue per person                                       6819 non-null   float64\n",
      " 52   Operating profit per person                              6819 non-null   float64\n",
      " 53   Allocation rate per person                               6819 non-null   float64\n",
      " 54   Working Capital to Total Assets                          6819 non-null   float64\n",
      " 55   Quick Assets/Total Assets                                6819 non-null   float64\n",
      " 56   Current Assets/Total Assets                              6819 non-null   float64\n",
      " 57   Cash/Total Assets                                        6819 non-null   float64\n",
      " 58   Quick Assets/Current Liability                           6819 non-null   float64\n",
      " 59   Cash/Current Liability                                   6819 non-null   float64\n",
      " 60   Current Liability to Assets                              6819 non-null   float64\n",
      " 61   Operating Funds to Liability                             6819 non-null   float64\n",
      " 62   Inventory/Working Capital                                6819 non-null   float64\n",
      " 63   Inventory/Current Liability                              6819 non-null   float64\n",
      " 64   Current Liabilities/Liability                            6819 non-null   float64\n",
      " 65   Working Capital/Equity                                   6819 non-null   float64\n",
      " 66   Current Liabilities/Equity                               6819 non-null   float64\n",
      " 67   Long-term Liability to Current Assets                    6819 non-null   float64\n",
      " 68   Retained Earnings to Total Assets                        6819 non-null   float64\n",
      " 69   Total income/Total expense                               6819 non-null   float64\n",
      " 70   Total expense/Assets                                     6819 non-null   float64\n",
      " 71   Current Asset Turnover Rate                              6819 non-null   float64\n",
      " 72   Quick Asset Turnover Rate                                6819 non-null   float64\n",
      " 73   Working capitcal Turnover Rate                           6819 non-null   float64\n",
      " 74   Cash Turnover Rate                                       6819 non-null   float64\n",
      " 75   Cash Flow to Sales                                       6819 non-null   float64\n",
      " 76   Fixed Assets to Assets                                   6819 non-null   float64\n",
      " 77   Current Liability to Liability                           6819 non-null   float64\n",
      " 78   Current Liability to Equity                              6819 non-null   float64\n",
      " 79   Equity to Long-term Liability                            6819 non-null   float64\n",
      " 80   Cash Flow to Total Assets                                6819 non-null   float64\n",
      " 81   Cash Flow to Liability                                   6819 non-null   float64\n",
      " 82   CFO to Assets                                            6819 non-null   float64\n",
      " 83   Cash Flow to Equity                                      6819 non-null   float64\n",
      " 84   Current Liability to Current Assets                      6819 non-null   float64\n",
      " 85   Liability-Assets Flag                                    6819 non-null   int64  \n",
      " 86   Net Income to Total Assets                               6819 non-null   float64\n",
      " 87   Total assets to GNP price                                6819 non-null   float64\n",
      " 88   No-credit Interval                                       6819 non-null   float64\n",
      " 89   Gross Profit to Sales                                    6819 non-null   float64\n",
      " 90   Net Income to Stockholder's Equity                       6819 non-null   float64\n",
      " 91   Liability to Equity                                      6819 non-null   float64\n",
      " 92   Degree of Financial Leverage (DFL)                       6819 non-null   float64\n",
      " 93   Interest Coverage Ratio (Interest expense to EBIT)       6819 non-null   float64\n",
      " 94   Net Income Flag                                          6819 non-null   int64  \n",
      " 95   Equity to Liability                                      6819 non-null   float64\n",
      "dtypes: float64(93), int64(3)\n",
      "memory usage: 5.0 MB\n"
     ]
    }
   ],
   "source": [
    "df.info()"
   ]
  },
  {
   "cell_type": "code",
   "execution_count": 90,
   "metadata": {
    "colab": {
     "base_uri": "https://localhost:8080/"
    },
    "id": "0YDsYG-wlMZg",
    "outputId": "43c08bf3-d334-48ab-eee1-6232f347dbf4"
   },
   "outputs": [
    {
     "name": "stdout",
     "output_type": "stream",
     "text": [
      "0\n",
      "0\n",
      "0\n"
     ]
    }
   ],
   "source": [
    "# check for missing values\n",
    "print(df.isna().sum().sum())\n",
    "print(np.isnan(df).sum().sum())\n",
    "print(df.isnull().sum().sum())"
   ]
  },
  {
   "cell_type": "code",
   "execution_count": 91,
   "metadata": {
    "colab": {
     "base_uri": "https://localhost:8080/",
     "height": 543
    },
    "id": "5Y-20zzLyFC4",
    "outputId": "807e29c6-810b-4981-c617-922408c14b79"
   },
   "outputs": [
    {
     "data": {
      "text/html": [
       "<div>\n",
       "<style scoped>\n",
       "    .dataframe tbody tr th:only-of-type {\n",
       "        vertical-align: middle;\n",
       "    }\n",
       "\n",
       "    .dataframe tbody tr th {\n",
       "        vertical-align: top;\n",
       "    }\n",
       "\n",
       "    .dataframe thead th {\n",
       "        text-align: right;\n",
       "    }\n",
       "</style>\n",
       "<table border=\"1\" class=\"dataframe\">\n",
       "  <thead>\n",
       "    <tr style=\"text-align: right;\">\n",
       "      <th></th>\n",
       "      <th>Bankrupt?</th>\n",
       "      <th>ROA(C) before interest and depreciation before interest</th>\n",
       "      <th>ROA(A) before interest and % after tax</th>\n",
       "      <th>ROA(B) before interest and depreciation after tax</th>\n",
       "      <th>Operating Gross Margin</th>\n",
       "      <th>Realized Sales Gross Margin</th>\n",
       "      <th>Operating Profit Rate</th>\n",
       "      <th>Pre-tax net Interest Rate</th>\n",
       "      <th>After-tax net Interest Rate</th>\n",
       "      <th>Non-industry income and expenditure/revenue</th>\n",
       "      <th>...</th>\n",
       "      <th>Net Income to Total Assets</th>\n",
       "      <th>Total assets to GNP price</th>\n",
       "      <th>No-credit Interval</th>\n",
       "      <th>Gross Profit to Sales</th>\n",
       "      <th>Net Income to Stockholder's Equity</th>\n",
       "      <th>Liability to Equity</th>\n",
       "      <th>Degree of Financial Leverage (DFL)</th>\n",
       "      <th>Interest Coverage Ratio (Interest expense to EBIT)</th>\n",
       "      <th>Net Income Flag</th>\n",
       "      <th>Equity to Liability</th>\n",
       "    </tr>\n",
       "  </thead>\n",
       "  <tbody>\n",
       "    <tr>\n",
       "      <th>0</th>\n",
       "      <td>1</td>\n",
       "      <td>0.370594</td>\n",
       "      <td>0.424389</td>\n",
       "      <td>0.405750</td>\n",
       "      <td>0.601457</td>\n",
       "      <td>0.601457</td>\n",
       "      <td>0.998969</td>\n",
       "      <td>0.796887</td>\n",
       "      <td>0.808809</td>\n",
       "      <td>0.302646</td>\n",
       "      <td>...</td>\n",
       "      <td>0.716845</td>\n",
       "      <td>0.009219</td>\n",
       "      <td>0.622879</td>\n",
       "      <td>0.601453</td>\n",
       "      <td>0.827890</td>\n",
       "      <td>0.290202</td>\n",
       "      <td>0.026601</td>\n",
       "      <td>0.564050</td>\n",
       "      <td>1</td>\n",
       "      <td>0.016469</td>\n",
       "    </tr>\n",
       "    <tr>\n",
       "      <th>1</th>\n",
       "      <td>1</td>\n",
       "      <td>0.464291</td>\n",
       "      <td>0.538214</td>\n",
       "      <td>0.516730</td>\n",
       "      <td>0.610235</td>\n",
       "      <td>0.610235</td>\n",
       "      <td>0.998946</td>\n",
       "      <td>0.797380</td>\n",
       "      <td>0.809301</td>\n",
       "      <td>0.303556</td>\n",
       "      <td>...</td>\n",
       "      <td>0.795297</td>\n",
       "      <td>0.008323</td>\n",
       "      <td>0.623652</td>\n",
       "      <td>0.610237</td>\n",
       "      <td>0.839969</td>\n",
       "      <td>0.283846</td>\n",
       "      <td>0.264577</td>\n",
       "      <td>0.570175</td>\n",
       "      <td>1</td>\n",
       "      <td>0.020794</td>\n",
       "    </tr>\n",
       "    <tr>\n",
       "      <th>2</th>\n",
       "      <td>1</td>\n",
       "      <td>0.426071</td>\n",
       "      <td>0.499019</td>\n",
       "      <td>0.472295</td>\n",
       "      <td>0.601450</td>\n",
       "      <td>0.601364</td>\n",
       "      <td>0.998857</td>\n",
       "      <td>0.796403</td>\n",
       "      <td>0.808388</td>\n",
       "      <td>0.302035</td>\n",
       "      <td>...</td>\n",
       "      <td>0.774670</td>\n",
       "      <td>0.040003</td>\n",
       "      <td>0.623841</td>\n",
       "      <td>0.601449</td>\n",
       "      <td>0.836774</td>\n",
       "      <td>0.290189</td>\n",
       "      <td>0.026555</td>\n",
       "      <td>0.563706</td>\n",
       "      <td>1</td>\n",
       "      <td>0.016474</td>\n",
       "    </tr>\n",
       "    <tr>\n",
       "      <th>3</th>\n",
       "      <td>1</td>\n",
       "      <td>0.399844</td>\n",
       "      <td>0.451265</td>\n",
       "      <td>0.457733</td>\n",
       "      <td>0.583541</td>\n",
       "      <td>0.583541</td>\n",
       "      <td>0.998700</td>\n",
       "      <td>0.796967</td>\n",
       "      <td>0.808966</td>\n",
       "      <td>0.303350</td>\n",
       "      <td>...</td>\n",
       "      <td>0.739555</td>\n",
       "      <td>0.003252</td>\n",
       "      <td>0.622929</td>\n",
       "      <td>0.583538</td>\n",
       "      <td>0.834697</td>\n",
       "      <td>0.281721</td>\n",
       "      <td>0.026697</td>\n",
       "      <td>0.564663</td>\n",
       "      <td>1</td>\n",
       "      <td>0.023982</td>\n",
       "    </tr>\n",
       "    <tr>\n",
       "      <th>4</th>\n",
       "      <td>1</td>\n",
       "      <td>0.465022</td>\n",
       "      <td>0.538432</td>\n",
       "      <td>0.522298</td>\n",
       "      <td>0.598783</td>\n",
       "      <td>0.598783</td>\n",
       "      <td>0.998973</td>\n",
       "      <td>0.797366</td>\n",
       "      <td>0.809304</td>\n",
       "      <td>0.303475</td>\n",
       "      <td>...</td>\n",
       "      <td>0.795016</td>\n",
       "      <td>0.003878</td>\n",
       "      <td>0.623521</td>\n",
       "      <td>0.598782</td>\n",
       "      <td>0.839973</td>\n",
       "      <td>0.278514</td>\n",
       "      <td>0.024752</td>\n",
       "      <td>0.575617</td>\n",
       "      <td>1</td>\n",
       "      <td>0.035490</td>\n",
       "    </tr>\n",
       "    <tr>\n",
       "      <th>5</th>\n",
       "      <td>1</td>\n",
       "      <td>0.388680</td>\n",
       "      <td>0.415177</td>\n",
       "      <td>0.419134</td>\n",
       "      <td>0.590171</td>\n",
       "      <td>0.590251</td>\n",
       "      <td>0.998758</td>\n",
       "      <td>0.796903</td>\n",
       "      <td>0.808771</td>\n",
       "      <td>0.303116</td>\n",
       "      <td>...</td>\n",
       "      <td>0.710420</td>\n",
       "      <td>0.005278</td>\n",
       "      <td>0.622605</td>\n",
       "      <td>0.590172</td>\n",
       "      <td>0.829939</td>\n",
       "      <td>0.285087</td>\n",
       "      <td>0.026675</td>\n",
       "      <td>0.564538</td>\n",
       "      <td>1</td>\n",
       "      <td>0.019534</td>\n",
       "    </tr>\n",
       "    <tr>\n",
       "      <th>6</th>\n",
       "      <td>0</td>\n",
       "      <td>0.390923</td>\n",
       "      <td>0.445704</td>\n",
       "      <td>0.436158</td>\n",
       "      <td>0.619950</td>\n",
       "      <td>0.619950</td>\n",
       "      <td>0.998993</td>\n",
       "      <td>0.797012</td>\n",
       "      <td>0.808960</td>\n",
       "      <td>0.302814</td>\n",
       "      <td>...</td>\n",
       "      <td>0.736619</td>\n",
       "      <td>0.018372</td>\n",
       "      <td>0.623655</td>\n",
       "      <td>0.619949</td>\n",
       "      <td>0.829980</td>\n",
       "      <td>0.292504</td>\n",
       "      <td>0.026622</td>\n",
       "      <td>0.564200</td>\n",
       "      <td>1</td>\n",
       "      <td>0.015663</td>\n",
       "    </tr>\n",
       "    <tr>\n",
       "      <th>7</th>\n",
       "      <td>0</td>\n",
       "      <td>0.508361</td>\n",
       "      <td>0.570922</td>\n",
       "      <td>0.559077</td>\n",
       "      <td>0.601738</td>\n",
       "      <td>0.601717</td>\n",
       "      <td>0.999009</td>\n",
       "      <td>0.797449</td>\n",
       "      <td>0.809362</td>\n",
       "      <td>0.303545</td>\n",
       "      <td>...</td>\n",
       "      <td>0.815350</td>\n",
       "      <td>0.010005</td>\n",
       "      <td>0.623843</td>\n",
       "      <td>0.601739</td>\n",
       "      <td>0.841459</td>\n",
       "      <td>0.278607</td>\n",
       "      <td>0.027031</td>\n",
       "      <td>0.566089</td>\n",
       "      <td>1</td>\n",
       "      <td>0.034889</td>\n",
       "    </tr>\n",
       "    <tr>\n",
       "      <th>8</th>\n",
       "      <td>0</td>\n",
       "      <td>0.488519</td>\n",
       "      <td>0.545137</td>\n",
       "      <td>0.543284</td>\n",
       "      <td>0.603612</td>\n",
       "      <td>0.603612</td>\n",
       "      <td>0.998961</td>\n",
       "      <td>0.797414</td>\n",
       "      <td>0.809338</td>\n",
       "      <td>0.303584</td>\n",
       "      <td>...</td>\n",
       "      <td>0.803647</td>\n",
       "      <td>0.000824</td>\n",
       "      <td>0.623977</td>\n",
       "      <td>0.603613</td>\n",
       "      <td>0.840487</td>\n",
       "      <td>0.276423</td>\n",
       "      <td>0.026891</td>\n",
       "      <td>0.565592</td>\n",
       "      <td>1</td>\n",
       "      <td>0.065826</td>\n",
       "    </tr>\n",
       "    <tr>\n",
       "      <th>9</th>\n",
       "      <td>0</td>\n",
       "      <td>0.495686</td>\n",
       "      <td>0.550916</td>\n",
       "      <td>0.542963</td>\n",
       "      <td>0.599209</td>\n",
       "      <td>0.599209</td>\n",
       "      <td>0.999001</td>\n",
       "      <td>0.797404</td>\n",
       "      <td>0.809320</td>\n",
       "      <td>0.303483</td>\n",
       "      <td>...</td>\n",
       "      <td>0.804195</td>\n",
       "      <td>0.005798</td>\n",
       "      <td>0.623865</td>\n",
       "      <td>0.599205</td>\n",
       "      <td>0.840688</td>\n",
       "      <td>0.279388</td>\n",
       "      <td>0.027243</td>\n",
       "      <td>0.566668</td>\n",
       "      <td>1</td>\n",
       "      <td>0.030801</td>\n",
       "    </tr>\n",
       "  </tbody>\n",
       "</table>\n",
       "<p>10 rows × 96 columns</p>\n",
       "</div>"
      ],
      "text/plain": [
       "   Bankrupt?   ROA(C) before interest and depreciation before interest  \\\n",
       "0          1                                           0.370594          \n",
       "1          1                                           0.464291          \n",
       "2          1                                           0.426071          \n",
       "3          1                                           0.399844          \n",
       "4          1                                           0.465022          \n",
       "5          1                                           0.388680          \n",
       "6          0                                           0.390923          \n",
       "7          0                                           0.508361          \n",
       "8          0                                           0.488519          \n",
       "9          0                                           0.495686          \n",
       "\n",
       "    ROA(A) before interest and % after tax  \\\n",
       "0                                 0.424389   \n",
       "1                                 0.538214   \n",
       "2                                 0.499019   \n",
       "3                                 0.451265   \n",
       "4                                 0.538432   \n",
       "5                                 0.415177   \n",
       "6                                 0.445704   \n",
       "7                                 0.570922   \n",
       "8                                 0.545137   \n",
       "9                                 0.550916   \n",
       "\n",
       "    ROA(B) before interest and depreciation after tax  \\\n",
       "0                                           0.405750    \n",
       "1                                           0.516730    \n",
       "2                                           0.472295    \n",
       "3                                           0.457733    \n",
       "4                                           0.522298    \n",
       "5                                           0.419134    \n",
       "6                                           0.436158    \n",
       "7                                           0.559077    \n",
       "8                                           0.543284    \n",
       "9                                           0.542963    \n",
       "\n",
       "    Operating Gross Margin   Realized Sales Gross Margin  \\\n",
       "0                 0.601457                      0.601457   \n",
       "1                 0.610235                      0.610235   \n",
       "2                 0.601450                      0.601364   \n",
       "3                 0.583541                      0.583541   \n",
       "4                 0.598783                      0.598783   \n",
       "5                 0.590171                      0.590251   \n",
       "6                 0.619950                      0.619950   \n",
       "7                 0.601738                      0.601717   \n",
       "8                 0.603612                      0.603612   \n",
       "9                 0.599209                      0.599209   \n",
       "\n",
       "    Operating Profit Rate   Pre-tax net Interest Rate  \\\n",
       "0                0.998969                    0.796887   \n",
       "1                0.998946                    0.797380   \n",
       "2                0.998857                    0.796403   \n",
       "3                0.998700                    0.796967   \n",
       "4                0.998973                    0.797366   \n",
       "5                0.998758                    0.796903   \n",
       "6                0.998993                    0.797012   \n",
       "7                0.999009                    0.797449   \n",
       "8                0.998961                    0.797414   \n",
       "9                0.999001                    0.797404   \n",
       "\n",
       "    After-tax net Interest Rate   Non-industry income and expenditure/revenue  \\\n",
       "0                      0.808809                                      0.302646   \n",
       "1                      0.809301                                      0.303556   \n",
       "2                      0.808388                                      0.302035   \n",
       "3                      0.808966                                      0.303350   \n",
       "4                      0.809304                                      0.303475   \n",
       "5                      0.808771                                      0.303116   \n",
       "6                      0.808960                                      0.302814   \n",
       "7                      0.809362                                      0.303545   \n",
       "8                      0.809338                                      0.303584   \n",
       "9                      0.809320                                      0.303483   \n",
       "\n",
       "   ...   Net Income to Total Assets   Total assets to GNP price  \\\n",
       "0  ...                     0.716845                    0.009219   \n",
       "1  ...                     0.795297                    0.008323   \n",
       "2  ...                     0.774670                    0.040003   \n",
       "3  ...                     0.739555                    0.003252   \n",
       "4  ...                     0.795016                    0.003878   \n",
       "5  ...                     0.710420                    0.005278   \n",
       "6  ...                     0.736619                    0.018372   \n",
       "7  ...                     0.815350                    0.010005   \n",
       "8  ...                     0.803647                    0.000824   \n",
       "9  ...                     0.804195                    0.005798   \n",
       "\n",
       "    No-credit Interval   Gross Profit to Sales  \\\n",
       "0             0.622879                0.601453   \n",
       "1             0.623652                0.610237   \n",
       "2             0.623841                0.601449   \n",
       "3             0.622929                0.583538   \n",
       "4             0.623521                0.598782   \n",
       "5             0.622605                0.590172   \n",
       "6             0.623655                0.619949   \n",
       "7             0.623843                0.601739   \n",
       "8             0.623977                0.603613   \n",
       "9             0.623865                0.599205   \n",
       "\n",
       "    Net Income to Stockholder's Equity   Liability to Equity  \\\n",
       "0                             0.827890              0.290202   \n",
       "1                             0.839969              0.283846   \n",
       "2                             0.836774              0.290189   \n",
       "3                             0.834697              0.281721   \n",
       "4                             0.839973              0.278514   \n",
       "5                             0.829939              0.285087   \n",
       "6                             0.829980              0.292504   \n",
       "7                             0.841459              0.278607   \n",
       "8                             0.840487              0.276423   \n",
       "9                             0.840688              0.279388   \n",
       "\n",
       "    Degree of Financial Leverage (DFL)  \\\n",
       "0                             0.026601   \n",
       "1                             0.264577   \n",
       "2                             0.026555   \n",
       "3                             0.026697   \n",
       "4                             0.024752   \n",
       "5                             0.026675   \n",
       "6                             0.026622   \n",
       "7                             0.027031   \n",
       "8                             0.026891   \n",
       "9                             0.027243   \n",
       "\n",
       "    Interest Coverage Ratio (Interest expense to EBIT)   Net Income Flag  \\\n",
       "0                                           0.564050                   1   \n",
       "1                                           0.570175                   1   \n",
       "2                                           0.563706                   1   \n",
       "3                                           0.564663                   1   \n",
       "4                                           0.575617                   1   \n",
       "5                                           0.564538                   1   \n",
       "6                                           0.564200                   1   \n",
       "7                                           0.566089                   1   \n",
       "8                                           0.565592                   1   \n",
       "9                                           0.566668                   1   \n",
       "\n",
       "    Equity to Liability  \n",
       "0              0.016469  \n",
       "1              0.020794  \n",
       "2              0.016474  \n",
       "3              0.023982  \n",
       "4              0.035490  \n",
       "5              0.019534  \n",
       "6              0.015663  \n",
       "7              0.034889  \n",
       "8              0.065826  \n",
       "9              0.030801  \n",
       "\n",
       "[10 rows x 96 columns]"
      ]
     },
     "execution_count": 91,
     "metadata": {},
     "output_type": "execute_result"
    }
   ],
   "source": [
    "df.head(10)"
   ]
  },
  {
   "cell_type": "code",
   "execution_count": 92,
   "metadata": {
    "id": "kA5Wwo7YlvRU"
   },
   "outputs": [],
   "source": [
    "# create a for loop to get the categorical columns with 2 or less than 2 unique values\n",
    "list_1=[]\n",
    "for i in df.columns:\n",
    "  x=df[i].value_counts()\n",
    "  if len(x)<=2:\n",
    "    list_1.append(i)\n",
    "  else:\n",
    "    continue"
   ]
  },
  {
   "cell_type": "code",
   "execution_count": 93,
   "metadata": {
    "colab": {
     "base_uri": "https://localhost:8080/"
    },
    "id": "E743bKThl3eO",
    "outputId": "3b0fa50e-3c0d-477e-c85b-96a5f89b4afe"
   },
   "outputs": [
    {
     "data": {
      "text/plain": [
       "['Bankrupt?', ' Liability-Assets Flag', ' Net Income Flag']"
      ]
     },
     "execution_count": 93,
     "metadata": {},
     "output_type": "execute_result"
    }
   ],
   "source": [
    "# categorical variables (value_counts <= 2 )\n",
    "list_1"
   ]
  },
  {
   "cell_type": "markdown",
   "metadata": {
    "id": "YKoxHS3ymTit"
   },
   "source": [
    "### Checking [Bankrupt?]"
   ]
  },
  {
   "cell_type": "code",
   "execution_count": 94,
   "metadata": {
    "colab": {
     "base_uri": "https://localhost:8080/"
    },
    "id": "hk7sSnQipc1X",
    "outputId": "4f67d848-2d3d-4033-9173-4a1fa537704c"
   },
   "outputs": [
    {
     "data": {
      "text/plain": [
       "array([1, 0], dtype=int64)"
      ]
     },
     "execution_count": 94,
     "metadata": {},
     "output_type": "execute_result"
    }
   ],
   "source": [
    "df['Bankrupt?'].unique()"
   ]
  },
  {
   "cell_type": "code",
   "execution_count": 95,
   "metadata": {
    "colab": {
     "base_uri": "https://localhost:8080/"
    },
    "id": "VVanYAQRpbHB",
    "outputId": "b7447be9-1ce4-4616-8745-c1aea0a28f8e"
   },
   "outputs": [
    {
     "data": {
      "text/plain": [
       "0    6599\n",
       "1     220\n",
       "Name: Bankrupt?, dtype: int64"
      ]
     },
     "execution_count": 95,
     "metadata": {},
     "output_type": "execute_result"
    }
   ],
   "source": [
    "df['Bankrupt?'].value_counts()"
   ]
  },
  {
   "cell_type": "code",
   "execution_count": 96,
   "metadata": {
    "colab": {
     "base_uri": "https://localhost:8080/",
     "height": 297
    },
    "id": "jZYysCufB-GD",
    "outputId": "d3289a4f-4e2b-4f84-bb75-7b3077e8bde2"
   },
   "outputs": [
    {
     "data": {
      "text/plain": [
       "<AxesSubplot:xlabel='Bankrupt?', ylabel='Count'>"
      ]
     },
     "execution_count": 96,
     "metadata": {},
     "output_type": "execute_result"
    },
    {
     "data": {
      "image/png": "[encoded data removed]",
      "text/plain": [
       "<Figure size 432x288 with 1 Axes>"
      ]
     },
     "metadata": {
      "needs_background": "light"
     },
     "output_type": "display_data"
    }
   ],
   "source": [
    "sns.histplot(x=\"Bankrupt?\", data=df)"
   ]
  },
  {
   "cell_type": "markdown",
   "metadata": {
    "id": "-UgIS3lNmZ1j"
   },
   "source": [
    "### Checking [Net Income Flag]"
   ]
  },
  {
   "cell_type": "code",
   "execution_count": 97,
   "metadata": {
    "colab": {
     "base_uri": "https://localhost:8080/"
    },
    "id": "_mpfAUO1mnAs",
    "outputId": "5a78dd22-6c10-47b5-9278-48a437503128"
   },
   "outputs": [
    {
     "data": {
      "text/plain": [
       "array([1], dtype=int64)"
      ]
     },
     "execution_count": 97,
     "metadata": {},
     "output_type": "execute_result"
    }
   ],
   "source": [
    "df[' Net Income Flag'].unique()"
   ]
  },
  {
   "cell_type": "code",
   "execution_count": 98,
   "metadata": {
    "colab": {
     "base_uri": "https://localhost:8080/"
    },
    "id": "V4CybKHPoelZ",
    "outputId": "61139770-abc7-4b40-b9e4-4937799df7e0"
   },
   "outputs": [
    {
     "data": {
      "text/plain": [
       "1    6819\n",
       "Name:  Net Income Flag, dtype: int64"
      ]
     },
     "execution_count": 98,
     "metadata": {},
     "output_type": "execute_result"
    }
   ],
   "source": [
    "df[' Net Income Flag'].value_counts()"
   ]
  },
  {
   "cell_type": "markdown",
   "metadata": {
    "id": "03PMYdiIorEm"
   },
   "source": [
    "Every value is a 1 for this feature, so we can drop this column since it doesn't provide us any predictive value."
   ]
  },
  {
   "cell_type": "markdown",
   "metadata": {
    "id": "wmTFF7TupBdw"
   },
   "source": [
    "### Checking [ Liability-Assets Flag]"
   ]
  },
  {
   "cell_type": "code",
   "execution_count": 99,
   "metadata": {
    "colab": {
     "base_uri": "https://localhost:8080/"
    },
    "id": "HcPaTtZnpASz",
    "outputId": "39ad24b1-20ff-44c9-ab1f-ee46dc868777"
   },
   "outputs": [
    {
     "data": {
      "text/plain": [
       "array([0, 1], dtype=int64)"
      ]
     },
     "execution_count": 99,
     "metadata": {},
     "output_type": "execute_result"
    }
   ],
   "source": [
    "df[' Liability-Assets Flag'].unique()"
   ]
  },
  {
   "cell_type": "code",
   "execution_count": 100,
   "metadata": {
    "colab": {
     "base_uri": "https://localhost:8080/"
    },
    "id": "X4doaa8ypKii",
    "outputId": "67b5efec-a461-4f64-dff9-75af30934420"
   },
   "outputs": [
    {
     "data": {
      "text/plain": [
       "0    6811\n",
       "1       8\n",
       "Name:  Liability-Assets Flag, dtype: int64"
      ]
     },
     "execution_count": 100,
     "metadata": {},
     "output_type": "execute_result"
    }
   ],
   "source": [
    "df[' Liability-Assets Flag'].value_counts()"
   ]
  },
  {
   "cell_type": "markdown",
   "metadata": {
    "id": "ZxiyNBcDpiWw"
   },
   "source": [
    "This feature may not provide good predictive value to the model since it has a large imbalance between the 0 and 1 classes. Therefore, we can also drop this column."
   ]
  },
  {
   "cell_type": "markdown",
   "metadata": {
    "id": "V3WBCBuf7RAx"
   },
   "source": [
    "## Feature Selection"
   ]
  },
  {
   "cell_type": "code",
   "execution_count": 101,
   "metadata": {
    "id": "Rw6DVMT_a216"
   },
   "outputs": [],
   "source": [
    "y = df['Bankrupt?']"
   ]
  },
  {
   "cell_type": "code",
   "execution_count": 102,
   "metadata": {
    "id": "MlGeNDZBa28K"
   },
   "outputs": [],
   "source": [
    "X = df.drop(columns = ['Bankrupt?',' Liability-Assets Flag',' Net Income Flag'])"
   ]
  },
  {
   "cell_type": "code",
   "execution_count": 103,
   "metadata": {
    "id": "xRm08L3p00hg"
   },
   "outputs": [],
   "source": [
    "# creating KNN classifier\n",
    "from sklearn.feature_selection import SequentialFeatureSelector\n",
    "from sklearn.neighbors import KNeighborsClassifier\n",
    "\n",
    "knn = KNeighborsClassifier(n_neighbors=3)\n"
   ]
  },
  {
   "cell_type": "code",
   "execution_count": 104,
   "metadata": {
    "id": "MFJ4xBnb00hg"
   },
   "outputs": [],
   "source": [
    "# create step-wise model for feature selection\n",
    "sfs1 = SequentialFeatureSelector(knn, n_features_to_select=15, direction='forward', cv=5)\n",
    "\n",
    "sfs1 = sfs1.fit(X, y)"
   ]
  },
  {
   "cell_type": "code",
   "execution_count": 105,
   "metadata": {
    "colab": {
     "base_uri": "https://localhost:8080/"
    },
    "id": "jAG9-avy2xyu",
    "outputId": "7ad4ff58-f80a-4ea9-fc9d-d24f0efa8252"
   },
   "outputs": [
    {
     "name": "stdout",
     "output_type": "stream",
     "text": [
      "[' Operating Profit Rate' ' Interest-bearing debt interest rate'\n",
      " ' Realized Sales Gross Profit Growth Rate'\n",
      " ' Operating Profit Growth Rate' ' Continuous Net Profit Growth Rate'\n",
      " ' Net Value Growth Rate' ' Long-term fund suitability ratio (A)'\n",
      " ' Contingent liabilities/Net worth' ' Accounts Receivable Turnover'\n",
      " ' Inventory/Working Capital' ' Quick Asset Turnover Rate'\n",
      " ' Working capitcal Turnover Rate' ' Cash Flow to Sales'\n",
      " ' Fixed Assets to Assets' ' Degree of Financial Leverage (DFL)']\n"
     ]
    }
   ],
   "source": [
    "# get list of selected features\n",
    "features = X.columns\n",
    "selected_features = np.array(features)[sfs1.get_support()]\n",
    "print(selected_features)"
   ]
  },
  {
   "cell_type": "code",
   "execution_count": 106,
   "metadata": {
    "id": "wrm5e0Er2xyv"
   },
   "outputs": [],
   "source": [
    "# reassign X to be only the selected features\n",
    "X = X[selected_features]"
   ]
  },
  {
   "cell_type": "code",
   "execution_count": 107,
   "metadata": {
    "colab": {
     "base_uri": "https://localhost:8080/",
     "height": 302
    },
    "id": "mrnjeQOM204N",
    "outputId": "44c935aa-b4b3-4e06-ea68-1c14475ec968"
   },
   "outputs": [
    {
     "data": {
      "text/html": [
       "<div>\n",
       "<style scoped>\n",
       "    .dataframe tbody tr th:only-of-type {\n",
       "        vertical-align: middle;\n",
       "    }\n",
       "\n",
       "    .dataframe tbody tr th {\n",
       "        vertical-align: top;\n",
       "    }\n",
       "\n",
       "    .dataframe thead th {\n",
       "        text-align: right;\n",
       "    }\n",
       "</style>\n",
       "<table border=\"1\" class=\"dataframe\">\n",
       "  <thead>\n",
       "    <tr style=\"text-align: right;\">\n",
       "      <th></th>\n",
       "      <th>Operating Profit Rate</th>\n",
       "      <th>Interest-bearing debt interest rate</th>\n",
       "      <th>Realized Sales Gross Profit Growth Rate</th>\n",
       "      <th>Operating Profit Growth Rate</th>\n",
       "      <th>Continuous Net Profit Growth Rate</th>\n",
       "      <th>Net Value Growth Rate</th>\n",
       "      <th>Long-term fund suitability ratio (A)</th>\n",
       "      <th>Contingent liabilities/Net worth</th>\n",
       "      <th>Accounts Receivable Turnover</th>\n",
       "      <th>Inventory/Working Capital</th>\n",
       "      <th>Quick Asset Turnover Rate</th>\n",
       "      <th>Working capitcal Turnover Rate</th>\n",
       "      <th>Cash Flow to Sales</th>\n",
       "      <th>Fixed Assets to Assets</th>\n",
       "      <th>Degree of Financial Leverage (DFL)</th>\n",
       "    </tr>\n",
       "  </thead>\n",
       "  <tbody>\n",
       "    <tr>\n",
       "      <th>0</th>\n",
       "      <td>0.998969</td>\n",
       "      <td>0.000725</td>\n",
       "      <td>0.022102</td>\n",
       "      <td>0.848195</td>\n",
       "      <td>0.217535</td>\n",
       "      <td>0.000327</td>\n",
       "      <td>0.005024</td>\n",
       "      <td>0.006479</td>\n",
       "      <td>0.001814</td>\n",
       "      <td>0.276920</td>\n",
       "      <td>6.550000e+09</td>\n",
       "      <td>0.593831</td>\n",
       "      <td>0.671568</td>\n",
       "      <td>0.424206</td>\n",
       "      <td>0.026601</td>\n",
       "    </tr>\n",
       "    <tr>\n",
       "      <th>1</th>\n",
       "      <td>0.998946</td>\n",
       "      <td>0.000647</td>\n",
       "      <td>0.022080</td>\n",
       "      <td>0.848088</td>\n",
       "      <td>0.217620</td>\n",
       "      <td>0.000443</td>\n",
       "      <td>0.005059</td>\n",
       "      <td>0.005835</td>\n",
       "      <td>0.001286</td>\n",
       "      <td>0.289642</td>\n",
       "      <td>7.700000e+09</td>\n",
       "      <td>0.593916</td>\n",
       "      <td>0.671570</td>\n",
       "      <td>0.468828</td>\n",
       "      <td>0.264577</td>\n",
       "    </tr>\n",
       "    <tr>\n",
       "      <th>2</th>\n",
       "      <td>0.998857</td>\n",
       "      <td>0.000790</td>\n",
       "      <td>0.022760</td>\n",
       "      <td>0.848094</td>\n",
       "      <td>0.217601</td>\n",
       "      <td>0.000396</td>\n",
       "      <td>0.005100</td>\n",
       "      <td>0.006562</td>\n",
       "      <td>0.001495</td>\n",
       "      <td>0.277456</td>\n",
       "      <td>1.022676e-03</td>\n",
       "      <td>0.594502</td>\n",
       "      <td>0.671571</td>\n",
       "      <td>0.276179</td>\n",
       "      <td>0.026555</td>\n",
       "    </tr>\n",
       "    <tr>\n",
       "      <th>3</th>\n",
       "      <td>0.998700</td>\n",
       "      <td>0.000449</td>\n",
       "      <td>0.022046</td>\n",
       "      <td>0.848005</td>\n",
       "      <td>0.217568</td>\n",
       "      <td>0.000382</td>\n",
       "      <td>0.005047</td>\n",
       "      <td>0.005366</td>\n",
       "      <td>0.001966</td>\n",
       "      <td>0.276580</td>\n",
       "      <td>6.050000e+09</td>\n",
       "      <td>0.593889</td>\n",
       "      <td>0.671519</td>\n",
       "      <td>0.559144</td>\n",
       "      <td>0.026697</td>\n",
       "    </tr>\n",
       "    <tr>\n",
       "      <th>4</th>\n",
       "      <td>0.998973</td>\n",
       "      <td>0.000686</td>\n",
       "      <td>0.022096</td>\n",
       "      <td>0.848258</td>\n",
       "      <td>0.217626</td>\n",
       "      <td>0.000439</td>\n",
       "      <td>0.005303</td>\n",
       "      <td>0.006624</td>\n",
       "      <td>0.001449</td>\n",
       "      <td>0.287913</td>\n",
       "      <td>5.050000e+09</td>\n",
       "      <td>0.593915</td>\n",
       "      <td>0.671563</td>\n",
       "      <td>0.309555</td>\n",
       "      <td>0.024752</td>\n",
       "    </tr>\n",
       "  </tbody>\n",
       "</table>\n",
       "</div>"
      ],
      "text/plain": [
       "    Operating Profit Rate   Interest-bearing debt interest rate  \\\n",
       "0                0.998969                              0.000725   \n",
       "1                0.998946                              0.000647   \n",
       "2                0.998857                              0.000790   \n",
       "3                0.998700                              0.000449   \n",
       "4                0.998973                              0.000686   \n",
       "\n",
       "    Realized Sales Gross Profit Growth Rate   Operating Profit Growth Rate  \\\n",
       "0                                  0.022102                       0.848195   \n",
       "1                                  0.022080                       0.848088   \n",
       "2                                  0.022760                       0.848094   \n",
       "3                                  0.022046                       0.848005   \n",
       "4                                  0.022096                       0.848258   \n",
       "\n",
       "    Continuous Net Profit Growth Rate   Net Value Growth Rate  \\\n",
       "0                            0.217535                0.000327   \n",
       "1                            0.217620                0.000443   \n",
       "2                            0.217601                0.000396   \n",
       "3                            0.217568                0.000382   \n",
       "4                            0.217626                0.000439   \n",
       "\n",
       "    Long-term fund suitability ratio (A)   Contingent liabilities/Net worth  \\\n",
       "0                               0.005024                           0.006479   \n",
       "1                               0.005059                           0.005835   \n",
       "2                               0.005100                           0.006562   \n",
       "3                               0.005047                           0.005366   \n",
       "4                               0.005303                           0.006624   \n",
       "\n",
       "    Accounts Receivable Turnover   Inventory/Working Capital  \\\n",
       "0                       0.001814                    0.276920   \n",
       "1                       0.001286                    0.289642   \n",
       "2                       0.001495                    0.277456   \n",
       "3                       0.001966                    0.276580   \n",
       "4                       0.001449                    0.287913   \n",
       "\n",
       "    Quick Asset Turnover Rate   Working capitcal Turnover Rate  \\\n",
       "0                6.550000e+09                         0.593831   \n",
       "1                7.700000e+09                         0.593916   \n",
       "2                1.022676e-03                         0.594502   \n",
       "3                6.050000e+09                         0.593889   \n",
       "4                5.050000e+09                         0.593915   \n",
       "\n",
       "    Cash Flow to Sales   Fixed Assets to Assets  \\\n",
       "0             0.671568                 0.424206   \n",
       "1             0.671570                 0.468828   \n",
       "2             0.671571                 0.276179   \n",
       "3             0.671519                 0.559144   \n",
       "4             0.671563                 0.309555   \n",
       "\n",
       "    Degree of Financial Leverage (DFL)  \n",
       "0                             0.026601  \n",
       "1                             0.264577  \n",
       "2                             0.026555  \n",
       "3                             0.026697  \n",
       "4                             0.024752  "
      ]
     },
     "execution_count": 107,
     "metadata": {},
     "output_type": "execute_result"
    }
   ],
   "source": [
    "X.head()"
   ]
  },
  {
   "cell_type": "code",
   "execution_count": 108,
   "metadata": {
    "colab": {
     "base_uri": "https://localhost:8080/"
    },
    "id": "K3rcn5d5ELWZ",
    "outputId": "6f4e5eae-bf15-4570-f654-3b4c45b9ab68"
   },
   "outputs": [
    {
     "name": "stdout",
     "output_type": "stream",
     "text": [
      "<class 'pandas.core.frame.DataFrame'>\n",
      "RangeIndex: 6819 entries, 0 to 6818\n",
      "Data columns (total 15 columns):\n",
      " #   Column                                    Non-Null Count  Dtype  \n",
      "---  ------                                    --------------  -----  \n",
      " 0    Operating Profit Rate                    6819 non-null   float64\n",
      " 1    Interest-bearing debt interest rate      6819 non-null   float64\n",
      " 2    Realized Sales Gross Profit Growth Rate  6819 non-null   float64\n",
      " 3    Operating Profit Growth Rate             6819 non-null   float64\n",
      " 4    Continuous Net Profit Growth Rate        6819 non-null   float64\n",
      " 5    Net Value Growth Rate                    6819 non-null   float64\n",
      " 6    Long-term fund suitability ratio (A)     6819 non-null   float64\n",
      " 7    Contingent liabilities/Net worth         6819 non-null   float64\n",
      " 8    Accounts Receivable Turnover             6819 non-null   float64\n",
      " 9    Inventory/Working Capital                6819 non-null   float64\n",
      " 10   Quick Asset Turnover Rate                6819 non-null   float64\n",
      " 11   Working capitcal Turnover Rate           6819 non-null   float64\n",
      " 12   Cash Flow to Sales                       6819 non-null   float64\n",
      " 13   Fixed Assets to Assets                   6819 non-null   float64\n",
      " 14   Degree of Financial Leverage (DFL)       6819 non-null   float64\n",
      "dtypes: float64(15)\n",
      "memory usage: 799.2 KB\n"
     ]
    }
   ],
   "source": [
    "# create df1 using X \n",
    "df1 = X\n",
    "df1.info()"
   ]
  },
  {
   "cell_type": "markdown",
   "metadata": {
    "id": "bAcoRoI969x7"
   },
   "source": [
    "## Removing Anomalies with Isolation Forests"
   ]
  },
  {
   "cell_type": "code",
   "execution_count": 109,
   "metadata": {
    "colab": {
     "base_uri": "https://localhost:8080/"
    },
    "id": "0Q5SF9jtB-N_",
    "outputId": "9b8f3f7d-67a5-4842-a738-6de9775f5d5e"
   },
   "outputs": [
    {
     "name": "stderr",
     "output_type": "stream",
     "text": [
      "C:\\Users\\sjue\\Anaconda3\\lib\\site-packages\\sklearn\\base.py:450: UserWarning: X does not have valid feature names, but IsolationForest was fitted with feature names\n",
      "  warnings.warn(\n"
     ]
    },
    {
     "data": {
      "text/html": [
       "<style>#sk-container-id-8 {color: black;background-color: white;}#sk-container-id-8 pre{padding: 0;}#sk-container-id-8 div.sk-toggleable {background-color: white;}#sk-container-id-8 label.sk-toggleable__label {cursor: pointer;display: block;width: 100%;margin-bottom: 0;padding: 0.3em;box-sizing: border-box;text-align: center;}#sk-container-id-8 label.sk-toggleable__label-arrow:before {content: \"▸\";float: left;margin-right: 0.25em;color: #696969;}#sk-container-id-8 label.sk-toggleable__label-arrow:hover:before {color: black;}#sk-container-id-8 div.sk-estimator:hover label.sk-toggleable__label-arrow:before {color: black;}#sk-container-id-8 div.sk-toggleable__content {max-height: 0;max-width: 0;overflow: hidden;text-align: left;background-color: #f0f8ff;}#sk-container-id-8 div.sk-toggleable__content pre {margin: 0.2em;color: black;border-radius: 0.25em;background-color: #f0f8ff;}#sk-container-id-8 input.sk-toggleable__control:checked~div.sk-toggleable__content {max-height: 200px;max-width: 100%;overflow: auto;}#sk-container-id-8 input.sk-toggleable__control:checked~label.sk-toggleable__label-arrow:before {content: \"▾\";}#sk-container-id-8 div.sk-estimator input.sk-toggleable__control:checked~label.sk-toggleable__label {background-color: #d4ebff;}#sk-container-id-8 div.sk-label input.sk-toggleable__control:checked~label.sk-toggleable__label {background-color: #d4ebff;}#sk-container-id-8 input.sk-hidden--visually {border: 0;clip: rect(1px 1px 1px 1px);clip: rect(1px, 1px, 1px, 1px);height: 1px;margin: -1px;overflow: hidden;padding: 0;position: absolute;width: 1px;}#sk-container-id-8 div.sk-estimator {font-family: monospace;background-color: #f0f8ff;border: 1px dotted black;border-radius: 0.25em;box-sizing: border-box;margin-bottom: 0.5em;}#sk-container-id-8 div.sk-estimator:hover {background-color: #d4ebff;}#sk-container-id-8 div.sk-parallel-item::after {content: \"\";width: 100%;border-bottom: 1px solid gray;flex-grow: 1;}#sk-container-id-8 div.sk-label:hover label.sk-toggleable__label {background-color: #d4ebff;}#sk-container-id-8 div.sk-serial::before {content: \"\";position: absolute;border-left: 1px solid gray;box-sizing: border-box;top: 0;bottom: 0;left: 50%;z-index: 0;}#sk-container-id-8 div.sk-serial {display: flex;flex-direction: column;align-items: center;background-color: white;padding-right: 0.2em;padding-left: 0.2em;position: relative;}#sk-container-id-8 div.sk-item {position: relative;z-index: 1;}#sk-container-id-8 div.sk-parallel {display: flex;align-items: stretch;justify-content: center;background-color: white;position: relative;}#sk-container-id-8 div.sk-item::before, #sk-container-id-8 div.sk-parallel-item::before {content: \"\";position: absolute;border-left: 1px solid gray;box-sizing: border-box;top: 0;bottom: 0;left: 50%;z-index: -1;}#sk-container-id-8 div.sk-parallel-item {display: flex;flex-direction: column;z-index: 1;position: relative;background-color: white;}#sk-container-id-8 div.sk-parallel-item:first-child::after {align-self: flex-end;width: 50%;}#sk-container-id-8 div.sk-parallel-item:last-child::after {align-self: flex-start;width: 50%;}#sk-container-id-8 div.sk-parallel-item:only-child::after {width: 0;}#sk-container-id-8 div.sk-dashed-wrapped {border: 1px dashed gray;margin: 0 0.4em 0.5em 0.4em;box-sizing: border-box;padding-bottom: 0.4em;background-color: white;}#sk-container-id-8 div.sk-label label {font-family: monospace;font-weight: bold;display: inline-block;line-height: 1.2em;}#sk-container-id-8 div.sk-label-container {text-align: center;}#sk-container-id-8 div.sk-container {/* jupyter's `normalize.less` sets `[hidden] { display: none; }` but bootstrap.min.css set `[hidden] { display: none !important; }` so we also need the `!important` here to be able to override the default hidden behavior on the sphinx rendered scikit-learn.org. See: https://github.com/scikit-learn/scikit-learn/issues/21755 */display: inline-block !important;position: relative;}#sk-container-id-8 div.sk-text-repr-fallback {display: none;}</style><div id=\"sk-container-id-8\" class=\"sk-top-container\"><div class=\"sk-text-repr-fallback\"><pre>IsolationForest(contamination=0.05, random_state=42)</pre><b>In a Jupyter environment, please rerun this cell to show the HTML representation or trust the notebook. <br />On GitHub, the HTML representation is unable to render, please try loading this page with nbviewer.org.</b></div><div class=\"sk-container\" hidden><div class=\"sk-item\"><div class=\"sk-estimator sk-toggleable\"><input class=\"sk-toggleable__control sk-hidden--visually\" id=\"sk-estimator-id-8\" type=\"checkbox\" checked><label for=\"sk-estimator-id-8\" class=\"sk-toggleable__label sk-toggleable__label-arrow\">IsolationForest</label><div class=\"sk-toggleable__content\"><pre>IsolationForest(contamination=0.05, random_state=42)</pre></div></div></div></div></div>"
      ],
      "text/plain": [
       "IsolationForest(contamination=0.05, random_state=42)"
      ]
     },
     "execution_count": 109,
     "metadata": {},
     "output_type": "execute_result"
    }
   ],
   "source": [
    "#Isolation Forest Identifies anomalies\n",
    "model=IsolationForest(n_estimators=100, contamination=float(.05), random_state=42)\n",
    "model.fit(X)"
   ]
  },
  {
   "cell_type": "code",
   "execution_count": 110,
   "metadata": {
    "id": "_U8WZkNRB-Q1"
   },
   "outputs": [],
   "source": [
    "df1['scores'] = model.decision_function(X)\n",
    "X = X[selected_features]"
   ]
  },
  {
   "cell_type": "code",
   "execution_count": 111,
   "metadata": {
    "colab": {
     "base_uri": "https://localhost:8080/",
     "height": 459
    },
    "id": "oRB7DyIwB-Tf",
    "outputId": "229da305-ffd4-4305-a7a9-6cc0f5c0c639"
   },
   "outputs": [
    {
     "data": {
      "text/html": [
       "<div>\n",
       "<style scoped>\n",
       "    .dataframe tbody tr th:only-of-type {\n",
       "        vertical-align: middle;\n",
       "    }\n",
       "\n",
       "    .dataframe tbody tr th {\n",
       "        vertical-align: top;\n",
       "    }\n",
       "\n",
       "    .dataframe thead th {\n",
       "        text-align: right;\n",
       "    }\n",
       "</style>\n",
       "<table border=\"1\" class=\"dataframe\">\n",
       "  <thead>\n",
       "    <tr style=\"text-align: right;\">\n",
       "      <th></th>\n",
       "      <th>Bankrupt?</th>\n",
       "      <th>Operating Profit Rate</th>\n",
       "      <th>Interest-bearing debt interest rate</th>\n",
       "      <th>Realized Sales Gross Profit Growth Rate</th>\n",
       "      <th>Operating Profit Growth Rate</th>\n",
       "      <th>Continuous Net Profit Growth Rate</th>\n",
       "      <th>Net Value Growth Rate</th>\n",
       "      <th>Long-term fund suitability ratio (A)</th>\n",
       "      <th>Contingent liabilities/Net worth</th>\n",
       "      <th>Accounts Receivable Turnover</th>\n",
       "      <th>Inventory/Working Capital</th>\n",
       "      <th>Quick Asset Turnover Rate</th>\n",
       "      <th>Working capitcal Turnover Rate</th>\n",
       "      <th>Cash Flow to Sales</th>\n",
       "      <th>Fixed Assets to Assets</th>\n",
       "      <th>Degree of Financial Leverage (DFL)</th>\n",
       "    </tr>\n",
       "  </thead>\n",
       "  <tbody>\n",
       "    <tr>\n",
       "      <th>0</th>\n",
       "      <td>1</td>\n",
       "      <td>0.998969</td>\n",
       "      <td>0.000725</td>\n",
       "      <td>0.022102</td>\n",
       "      <td>0.848195</td>\n",
       "      <td>0.217535</td>\n",
       "      <td>0.000327</td>\n",
       "      <td>0.005024</td>\n",
       "      <td>0.006479</td>\n",
       "      <td>0.001814</td>\n",
       "      <td>0.276920</td>\n",
       "      <td>6.550000e+09</td>\n",
       "      <td>0.593831</td>\n",
       "      <td>0.671568</td>\n",
       "      <td>0.424206</td>\n",
       "      <td>0.026601</td>\n",
       "    </tr>\n",
       "    <tr>\n",
       "      <th>2</th>\n",
       "      <td>1</td>\n",
       "      <td>0.998857</td>\n",
       "      <td>0.000790</td>\n",
       "      <td>0.022760</td>\n",
       "      <td>0.848094</td>\n",
       "      <td>0.217601</td>\n",
       "      <td>0.000396</td>\n",
       "      <td>0.005100</td>\n",
       "      <td>0.006562</td>\n",
       "      <td>0.001495</td>\n",
       "      <td>0.277456</td>\n",
       "      <td>1.022676e-03</td>\n",
       "      <td>0.594502</td>\n",
       "      <td>0.671571</td>\n",
       "      <td>0.276179</td>\n",
       "      <td>0.026555</td>\n",
       "    </tr>\n",
       "    <tr>\n",
       "      <th>3</th>\n",
       "      <td>1</td>\n",
       "      <td>0.998700</td>\n",
       "      <td>0.000449</td>\n",
       "      <td>0.022046</td>\n",
       "      <td>0.848005</td>\n",
       "      <td>0.217568</td>\n",
       "      <td>0.000382</td>\n",
       "      <td>0.005047</td>\n",
       "      <td>0.005366</td>\n",
       "      <td>0.001966</td>\n",
       "      <td>0.276580</td>\n",
       "      <td>6.050000e+09</td>\n",
       "      <td>0.593889</td>\n",
       "      <td>0.671519</td>\n",
       "      <td>0.559144</td>\n",
       "      <td>0.026697</td>\n",
       "    </tr>\n",
       "    <tr>\n",
       "      <th>4</th>\n",
       "      <td>1</td>\n",
       "      <td>0.998973</td>\n",
       "      <td>0.000686</td>\n",
       "      <td>0.022096</td>\n",
       "      <td>0.848258</td>\n",
       "      <td>0.217626</td>\n",
       "      <td>0.000439</td>\n",
       "      <td>0.005303</td>\n",
       "      <td>0.006624</td>\n",
       "      <td>0.001449</td>\n",
       "      <td>0.287913</td>\n",
       "      <td>5.050000e+09</td>\n",
       "      <td>0.593915</td>\n",
       "      <td>0.671563</td>\n",
       "      <td>0.309555</td>\n",
       "      <td>0.024752</td>\n",
       "    </tr>\n",
       "    <tr>\n",
       "      <th>5</th>\n",
       "      <td>1</td>\n",
       "      <td>0.998758</td>\n",
       "      <td>0.000716</td>\n",
       "      <td>0.021565</td>\n",
       "      <td>0.847983</td>\n",
       "      <td>0.217566</td>\n",
       "      <td>0.000352</td>\n",
       "      <td>0.004913</td>\n",
       "      <td>0.005749</td>\n",
       "      <td>0.001528</td>\n",
       "      <td>0.276678</td>\n",
       "      <td>2.810000e+09</td>\n",
       "      <td>0.593846</td>\n",
       "      <td>0.671568</td>\n",
       "      <td>0.603193</td>\n",
       "      <td>0.026675</td>\n",
       "    </tr>\n",
       "    <tr>\n",
       "      <th>6</th>\n",
       "      <td>0</td>\n",
       "      <td>0.998993</td>\n",
       "      <td>0.000805</td>\n",
       "      <td>0.022112</td>\n",
       "      <td>0.848322</td>\n",
       "      <td>0.217604</td>\n",
       "      <td>0.000352</td>\n",
       "      <td>0.005005</td>\n",
       "      <td>0.008044</td>\n",
       "      <td>0.001662</td>\n",
       "      <td>0.276643</td>\n",
       "      <td>9.560000e+09</td>\n",
       "      <td>0.593893</td>\n",
       "      <td>0.671562</td>\n",
       "      <td>0.355854</td>\n",
       "      <td>0.026622</td>\n",
       "    </tr>\n",
       "    <tr>\n",
       "      <th>7</th>\n",
       "      <td>0</td>\n",
       "      <td>0.999009</td>\n",
       "      <td>0.000630</td>\n",
       "      <td>0.022114</td>\n",
       "      <td>0.848082</td>\n",
       "      <td>0.217633</td>\n",
       "      <td>0.000451</td>\n",
       "      <td>0.005640</td>\n",
       "      <td>0.006383</td>\n",
       "      <td>0.001335</td>\n",
       "      <td>0.277275</td>\n",
       "      <td>6.180000e+09</td>\n",
       "      <td>0.593937</td>\n",
       "      <td>0.671572</td>\n",
       "      <td>0.218473</td>\n",
       "      <td>0.027031</td>\n",
       "    </tr>\n",
       "    <tr>\n",
       "      <th>8</th>\n",
       "      <td>0</td>\n",
       "      <td>0.998961</td>\n",
       "      <td>0.000737</td>\n",
       "      <td>0.022128</td>\n",
       "      <td>0.848159</td>\n",
       "      <td>0.217654</td>\n",
       "      <td>0.000453</td>\n",
       "      <td>0.005418</td>\n",
       "      <td>0.005366</td>\n",
       "      <td>0.001303</td>\n",
       "      <td>0.277087</td>\n",
       "      <td>9.840000e+09</td>\n",
       "      <td>0.593959</td>\n",
       "      <td>0.671576</td>\n",
       "      <td>0.323861</td>\n",
       "      <td>0.026891</td>\n",
       "    </tr>\n",
       "    <tr>\n",
       "      <th>9</th>\n",
       "      <td>0</td>\n",
       "      <td>0.999001</td>\n",
       "      <td>0.000672</td>\n",
       "      <td>0.022118</td>\n",
       "      <td>0.848084</td>\n",
       "      <td>0.217700</td>\n",
       "      <td>0.000445</td>\n",
       "      <td>0.005475</td>\n",
       "      <td>0.005819</td>\n",
       "      <td>0.001469</td>\n",
       "      <td>0.277337</td>\n",
       "      <td>3.600000e+09</td>\n",
       "      <td>0.593936</td>\n",
       "      <td>0.671572</td>\n",
       "      <td>0.254953</td>\n",
       "      <td>0.027243</td>\n",
       "    </tr>\n",
       "    <tr>\n",
       "      <th>10</th>\n",
       "      <td>0</td>\n",
       "      <td>0.998978</td>\n",
       "      <td>0.000549</td>\n",
       "      <td>0.022107</td>\n",
       "      <td>0.848238</td>\n",
       "      <td>0.217580</td>\n",
       "      <td>0.000449</td>\n",
       "      <td>0.005811</td>\n",
       "      <td>0.008130</td>\n",
       "      <td>0.001940</td>\n",
       "      <td>0.285101</td>\n",
       "      <td>2.920000e+09</td>\n",
       "      <td>0.593916</td>\n",
       "      <td>0.671572</td>\n",
       "      <td>0.225491</td>\n",
       "      <td>0.026971</td>\n",
       "    </tr>\n",
       "  </tbody>\n",
       "</table>\n",
       "</div>"
      ],
      "text/plain": [
       "    Bankrupt?   Operating Profit Rate   Interest-bearing debt interest rate  \\\n",
       "0           1                0.998969                              0.000725   \n",
       "2           1                0.998857                              0.000790   \n",
       "3           1                0.998700                              0.000449   \n",
       "4           1                0.998973                              0.000686   \n",
       "5           1                0.998758                              0.000716   \n",
       "6           0                0.998993                              0.000805   \n",
       "7           0                0.999009                              0.000630   \n",
       "8           0                0.998961                              0.000737   \n",
       "9           0                0.999001                              0.000672   \n",
       "10          0                0.998978                              0.000549   \n",
       "\n",
       "     Realized Sales Gross Profit Growth Rate   Operating Profit Growth Rate  \\\n",
       "0                                   0.022102                       0.848195   \n",
       "2                                   0.022760                       0.848094   \n",
       "3                                   0.022046                       0.848005   \n",
       "4                                   0.022096                       0.848258   \n",
       "5                                   0.021565                       0.847983   \n",
       "6                                   0.022112                       0.848322   \n",
       "7                                   0.022114                       0.848082   \n",
       "8                                   0.022128                       0.848159   \n",
       "9                                   0.022118                       0.848084   \n",
       "10                                  0.022107                       0.848238   \n",
       "\n",
       "     Continuous Net Profit Growth Rate   Net Value Growth Rate  \\\n",
       "0                             0.217535                0.000327   \n",
       "2                             0.217601                0.000396   \n",
       "3                             0.217568                0.000382   \n",
       "4                             0.217626                0.000439   \n",
       "5                             0.217566                0.000352   \n",
       "6                             0.217604                0.000352   \n",
       "7                             0.217633                0.000451   \n",
       "8                             0.217654                0.000453   \n",
       "9                             0.217700                0.000445   \n",
       "10                            0.217580                0.000449   \n",
       "\n",
       "     Long-term fund suitability ratio (A)   Contingent liabilities/Net worth  \\\n",
       "0                                0.005024                           0.006479   \n",
       "2                                0.005100                           0.006562   \n",
       "3                                0.005047                           0.005366   \n",
       "4                                0.005303                           0.006624   \n",
       "5                                0.004913                           0.005749   \n",
       "6                                0.005005                           0.008044   \n",
       "7                                0.005640                           0.006383   \n",
       "8                                0.005418                           0.005366   \n",
       "9                                0.005475                           0.005819   \n",
       "10                               0.005811                           0.008130   \n",
       "\n",
       "     Accounts Receivable Turnover   Inventory/Working Capital  \\\n",
       "0                        0.001814                    0.276920   \n",
       "2                        0.001495                    0.277456   \n",
       "3                        0.001966                    0.276580   \n",
       "4                        0.001449                    0.287913   \n",
       "5                        0.001528                    0.276678   \n",
       "6                        0.001662                    0.276643   \n",
       "7                        0.001335                    0.277275   \n",
       "8                        0.001303                    0.277087   \n",
       "9                        0.001469                    0.277337   \n",
       "10                       0.001940                    0.285101   \n",
       "\n",
       "     Quick Asset Turnover Rate   Working capitcal Turnover Rate  \\\n",
       "0                 6.550000e+09                         0.593831   \n",
       "2                 1.022676e-03                         0.594502   \n",
       "3                 6.050000e+09                         0.593889   \n",
       "4                 5.050000e+09                         0.593915   \n",
       "5                 2.810000e+09                         0.593846   \n",
       "6                 9.560000e+09                         0.593893   \n",
       "7                 6.180000e+09                         0.593937   \n",
       "8                 9.840000e+09                         0.593959   \n",
       "9                 3.600000e+09                         0.593936   \n",
       "10                2.920000e+09                         0.593916   \n",
       "\n",
       "     Cash Flow to Sales   Fixed Assets to Assets  \\\n",
       "0              0.671568                 0.424206   \n",
       "2              0.671571                 0.276179   \n",
       "3              0.671519                 0.559144   \n",
       "4              0.671563                 0.309555   \n",
       "5              0.671568                 0.603193   \n",
       "6              0.671562                 0.355854   \n",
       "7              0.671572                 0.218473   \n",
       "8              0.671576                 0.323861   \n",
       "9              0.671572                 0.254953   \n",
       "10             0.671572                 0.225491   \n",
       "\n",
       "     Degree of Financial Leverage (DFL)  \n",
       "0                              0.026601  \n",
       "2                              0.026555  \n",
       "3                              0.026697  \n",
       "4                              0.024752  \n",
       "5                              0.026675  \n",
       "6                              0.026622  \n",
       "7                              0.027031  \n",
       "8                              0.026891  \n",
       "9                              0.027243  \n",
       "10                             0.026971  "
      ]
     },
     "execution_count": 111,
     "metadata": {},
     "output_type": "execute_result"
    }
   ],
   "source": [
    "#Removing anomolies from the dataset\n",
    "df1['anomaly_score'] = model.predict(X)\n",
    "\n",
    "df2 = pd.concat([y, df1], axis=1)\n",
    "\n",
    "df3 = df2[df2['anomaly_score']!=-1]\n",
    "\n",
    "df4 = df3.drop(columns = ['scores', 'anomaly_score'])\n",
    "df4.head(10)"
   ]
  },
  {
   "cell_type": "markdown",
   "metadata": {
    "id": "kymrQrf5ly14"
   },
   "source": [
    "## Data Prep"
   ]
  },
  {
   "cell_type": "markdown",
   "metadata": {
    "id": "iuM1Nge6CWVd"
   },
   "source": [
    "### Split the Data for Training"
   ]
  },
  {
   "cell_type": "code",
   "execution_count": 112,
   "metadata": {
    "colab": {
     "base_uri": "https://localhost:8080/"
    },
    "id": "8qPGIpRgENlP",
    "outputId": "00fbb297-0554-4ee3-ade7-17c27744fdb4"
   },
   "outputs": [
    {
     "data": {
      "text/plain": [
       "(6478, 15)"
      ]
     },
     "execution_count": 112,
     "metadata": {},
     "output_type": "execute_result"
    }
   ],
   "source": [
    "# create X dataframe with dependent variables\n",
    "X = df4.drop(columns=['Bankrupt?'], axis=1)\n",
    "X.shape"
   ]
  },
  {
   "cell_type": "code",
   "execution_count": 113,
   "metadata": {
    "id": "SGIxISeAEy_G"
   },
   "outputs": [],
   "source": [
    "# create y dataframe for response variable\n",
    "y = df4['Bankrupt?']"
   ]
  },
  {
   "cell_type": "code",
   "execution_count": 114,
   "metadata": {
    "id": "XiGGzu1iELAR"
   },
   "outputs": [],
   "source": [
    "# split data in to training and test data\n",
    "X_train, X_test, y_train, y_test = train_test_split(X, y, test_size=0.2, stratify = y, random_state=42)"
   ]
  },
  {
   "cell_type": "markdown",
   "metadata": {
    "id": "BJyX8m4HDBVX"
   },
   "source": [
    "### Scale the Data"
   ]
  },
  {
   "cell_type": "code",
   "execution_count": 115,
   "metadata": {
    "id": "zMtWbUFwDGLd"
   },
   "outputs": [],
   "source": [
    "# use StandardScaler to scale features\n",
    "scaler = StandardScaler()\n",
    "\n",
    "#scale the training data\n",
    "X_train_scaled = scaler.fit_transform(X_train)\n",
    "X_train = pd.DataFrame(X_train_scaled, columns = X_train.columns)\n",
    "# scale test data for model testing\n",
    "X_test_scaled = scaler.fit_transform(X_test)\n",
    "X_test = pd.DataFrame(X_test_scaled, columns = X_test.columns)"
   ]
  },
  {
   "cell_type": "markdown",
   "metadata": {
    "id": "jgwldKjBBNjB"
   },
   "source": [
    "# Models"
   ]
  },
  {
   "cell_type": "markdown",
   "metadata": {
    "id": "S3k2JAo2MXEp"
   },
   "source": [
    "## Random Forest"
   ]
  },
  {
   "cell_type": "code",
   "execution_count": 116,
   "metadata": {
    "colab": {
     "base_uri": "https://localhost:8080/"
    },
    "id": "K2fzw0gXMfJ2",
    "outputId": "18c7c44e-d0f2-4b4a-bbb5-20ee44177b32"
   },
   "outputs": [
    {
     "data": {
      "text/html": [
       "<style>#sk-container-id-9 {color: black;background-color: white;}#sk-container-id-9 pre{padding: 0;}#sk-container-id-9 div.sk-toggleable {background-color: white;}#sk-container-id-9 label.sk-toggleable__label {cursor: pointer;display: block;width: 100%;margin-bottom: 0;padding: 0.3em;box-sizing: border-box;text-align: center;}#sk-container-id-9 label.sk-toggleable__label-arrow:before {content: \"▸\";float: left;margin-right: 0.25em;color: #696969;}#sk-container-id-9 label.sk-toggleable__label-arrow:hover:before {color: black;}#sk-container-id-9 div.sk-estimator:hover label.sk-toggleable__label-arrow:before {color: black;}#sk-container-id-9 div.sk-toggleable__content {max-height: 0;max-width: 0;overflow: hidden;text-align: left;background-color: #f0f8ff;}#sk-container-id-9 div.sk-toggleable__content pre {margin: 0.2em;color: black;border-radius: 0.25em;background-color: #f0f8ff;}#sk-container-id-9 input.sk-toggleable__control:checked~div.sk-toggleable__content {max-height: 200px;max-width: 100%;overflow: auto;}#sk-container-id-9 input.sk-toggleable__control:checked~label.sk-toggleable__label-arrow:before {content: \"▾\";}#sk-container-id-9 div.sk-estimator input.sk-toggleable__control:checked~label.sk-toggleable__label {background-color: #d4ebff;}#sk-container-id-9 div.sk-label input.sk-toggleable__control:checked~label.sk-toggleable__label {background-color: #d4ebff;}#sk-container-id-9 input.sk-hidden--visually {border: 0;clip: rect(1px 1px 1px 1px);clip: rect(1px, 1px, 1px, 1px);height: 1px;margin: -1px;overflow: hidden;padding: 0;position: absolute;width: 1px;}#sk-container-id-9 div.sk-estimator {font-family: monospace;background-color: #f0f8ff;border: 1px dotted black;border-radius: 0.25em;box-sizing: border-box;margin-bottom: 0.5em;}#sk-container-id-9 div.sk-estimator:hover {background-color: #d4ebff;}#sk-container-id-9 div.sk-parallel-item::after {content: \"\";width: 100%;border-bottom: 1px solid gray;flex-grow: 1;}#sk-container-id-9 div.sk-label:hover label.sk-toggleable__label {background-color: #d4ebff;}#sk-container-id-9 div.sk-serial::before {content: \"\";position: absolute;border-left: 1px solid gray;box-sizing: border-box;top: 0;bottom: 0;left: 50%;z-index: 0;}#sk-container-id-9 div.sk-serial {display: flex;flex-direction: column;align-items: center;background-color: white;padding-right: 0.2em;padding-left: 0.2em;position: relative;}#sk-container-id-9 div.sk-item {position: relative;z-index: 1;}#sk-container-id-9 div.sk-parallel {display: flex;align-items: stretch;justify-content: center;background-color: white;position: relative;}#sk-container-id-9 div.sk-item::before, #sk-container-id-9 div.sk-parallel-item::before {content: \"\";position: absolute;border-left: 1px solid gray;box-sizing: border-box;top: 0;bottom: 0;left: 50%;z-index: -1;}#sk-container-id-9 div.sk-parallel-item {display: flex;flex-direction: column;z-index: 1;position: relative;background-color: white;}#sk-container-id-9 div.sk-parallel-item:first-child::after {align-self: flex-end;width: 50%;}#sk-container-id-9 div.sk-parallel-item:last-child::after {align-self: flex-start;width: 50%;}#sk-container-id-9 div.sk-parallel-item:only-child::after {width: 0;}#sk-container-id-9 div.sk-dashed-wrapped {border: 1px dashed gray;margin: 0 0.4em 0.5em 0.4em;box-sizing: border-box;padding-bottom: 0.4em;background-color: white;}#sk-container-id-9 div.sk-label label {font-family: monospace;font-weight: bold;display: inline-block;line-height: 1.2em;}#sk-container-id-9 div.sk-label-container {text-align: center;}#sk-container-id-9 div.sk-container {/* jupyter's `normalize.less` sets `[hidden] { display: none; }` but bootstrap.min.css set `[hidden] { display: none !important; }` so we also need the `!important` here to be able to override the default hidden behavior on the sphinx rendered scikit-learn.org. See: https://github.com/scikit-learn/scikit-learn/issues/21755 */display: inline-block !important;position: relative;}#sk-container-id-9 div.sk-text-repr-fallback {display: none;}</style><div id=\"sk-container-id-9\" class=\"sk-top-container\"><div class=\"sk-text-repr-fallback\"><pre>RandomForestClassifier(random_state=42)</pre><b>In a Jupyter environment, please rerun this cell to show the HTML representation or trust the notebook. <br />On GitHub, the HTML representation is unable to render, please try loading this page with nbviewer.org.</b></div><div class=\"sk-container\" hidden><div class=\"sk-item\"><div class=\"sk-estimator sk-toggleable\"><input class=\"sk-toggleable__control sk-hidden--visually\" id=\"sk-estimator-id-9\" type=\"checkbox\" checked><label for=\"sk-estimator-id-9\" class=\"sk-toggleable__label sk-toggleable__label-arrow\">RandomForestClassifier</label><div class=\"sk-toggleable__content\"><pre>RandomForestClassifier(random_state=42)</pre></div></div></div></div></div>"
      ],
      "text/plain": [
       "RandomForestClassifier(random_state=42)"
      ]
     },
     "execution_count": 116,
     "metadata": {},
     "output_type": "execute_result"
    }
   ],
   "source": [
    "# Random forest classifier model\n",
    "\n",
    "forest_clf = RandomForestClassifier(n_estimators=100, random_state=42)\n",
    "forest_clf.fit(X_train, y_train)\n"
   ]
  },
  {
   "cell_type": "code",
   "execution_count": 117,
   "metadata": {
    "id": "RVJi3KZtM-Ka"
   },
   "outputs": [],
   "source": [
    "# y predictions\n",
    "y_pred = forest_clf.predict(X_test)"
   ]
  },
  {
   "cell_type": "code",
   "execution_count": 118,
   "metadata": {
    "colab": {
     "base_uri": "https://localhost:8080/"
    },
    "id": "mJDNHnkyNFb3",
    "outputId": "2c400fde-0551-410f-cd3d-4f6dff4762c5"
   },
   "outputs": [
    {
     "data": {
      "text/plain": [
       "0.9718258415461888"
      ]
     },
     "execution_count": 118,
     "metadata": {},
     "output_type": "execute_result"
    }
   ],
   "source": [
    "# cross-validation\n",
    "forest_scores = cross_val_score(forest_clf, X_train, y_train, cv=5)\n",
    "forest_scores.mean()"
   ]
  },
  {
   "cell_type": "code",
   "execution_count": 119,
   "metadata": {
    "colab": {
     "base_uri": "https://localhost:8080/"
    },
    "id": "tyAt0XJZNrkQ",
    "outputId": "feb4f4c9-5537-4490-c3f8-a99f298fb321"
   },
   "outputs": [
    {
     "data": {
      "text/plain": [
       "0.9722222222222222"
      ]
     },
     "execution_count": 119,
     "metadata": {},
     "output_type": "execute_result"
    }
   ],
   "source": [
    "# random forest model accuracy\n",
    "from sklearn.metrics import accuracy_score\n",
    "\n",
    "accuracy_score(y_true = y_test, y_pred = y_pred)"
   ]
  },
  {
   "cell_type": "markdown",
   "metadata": {
    "id": "vTUy36q0eZ27"
   },
   "source": [
    "### Tuning hyperparmeters"
   ]
  },
  {
   "cell_type": "code",
   "execution_count": 120,
   "metadata": {
    "id": "2Km_cWpdeeFf"
   },
   "outputs": [],
   "source": [
    "# Create the parameter grid based on the results of random search \n",
    "param_grid = {\n",
    "    'max_depth': [2, 3, 4],\n",
    "    'max_features': [5, 10, 15],\n",
    "    'n_estimators': [100, 500, 1000],\n",
    "    'criterion': ['gini', 'entropy']\n",
    "}\n",
    "# Create a based model\n",
    "rf = RandomForestClassifier()\n",
    "# Instantiate the grid search model\n",
    "grid_search = GridSearchCV(estimator = forest_clf, param_grid = param_grid, \n",
    "                          cv = 3, n_jobs = -1, verbose = 2)"
   ]
  },
  {
   "cell_type": "code",
   "execution_count": 121,
   "metadata": {
    "colab": {
     "base_uri": "https://localhost:8080/"
    },
    "id": "3Kbo5pmf-uGo",
    "outputId": "7606682c-5a5f-4d84-cfed-f552c4255a55"
   },
   "outputs": [
    {
     "name": "stdout",
     "output_type": "stream",
     "text": [
      "Fitting 3 folds for each of 54 candidates, totalling 162 fits\n"
     ]
    },
    {
     "data": {
      "text/plain": [
       "{'criterion': 'gini', 'max_depth': 3, 'max_features': 10, 'n_estimators': 500}"
      ]
     },
     "execution_count": 121,
     "metadata": {},
     "output_type": "execute_result"
    }
   ],
   "source": [
    "# Fit the grid search to the data\n",
    "rf_grid = grid_search.fit(X_train, y_train)\n",
    "grid_search.best_params_"
   ]
  },
  {
   "cell_type": "markdown",
   "metadata": {
    "id": "_Itrf-PtcR96"
   },
   "source": [
    "Best paramaters for Random Forest model:\n",
    "\n",
    "{'criterion': 'gini', 'max_depth': 2, 'max_features': 15, 'n_estimators': 500}"
   ]
  },
  {
   "cell_type": "code",
   "execution_count": 122,
   "metadata": {
    "id": "GWoYXEcv_FxK"
   },
   "outputs": [],
   "source": [
    "# creating best_parameters variable to be used for other tree models\n",
    "best_parameters = {\n",
    "    'max_depth': 2,\n",
    "    'max_features': 15,\n",
    "    'n_estimators': 500,\n",
    "}"
   ]
  },
  {
   "cell_type": "code",
   "execution_count": 123,
   "metadata": {
    "colab": {
     "base_uri": "https://localhost:8080/"
    },
    "id": "pLlTdmvo_d5Q",
    "outputId": "2e3b0111-c177-4c3a-d745-f81eb60ab451"
   },
   "outputs": [
    {
     "data": {
      "text/html": [
       "<style>#sk-container-id-10 {color: black;background-color: white;}#sk-container-id-10 pre{padding: 0;}#sk-container-id-10 div.sk-toggleable {background-color: white;}#sk-container-id-10 label.sk-toggleable__label {cursor: pointer;display: block;width: 100%;margin-bottom: 0;padding: 0.3em;box-sizing: border-box;text-align: center;}#sk-container-id-10 label.sk-toggleable__label-arrow:before {content: \"▸\";float: left;margin-right: 0.25em;color: #696969;}#sk-container-id-10 label.sk-toggleable__label-arrow:hover:before {color: black;}#sk-container-id-10 div.sk-estimator:hover label.sk-toggleable__label-arrow:before {color: black;}#sk-container-id-10 div.sk-toggleable__content {max-height: 0;max-width: 0;overflow: hidden;text-align: left;background-color: #f0f8ff;}#sk-container-id-10 div.sk-toggleable__content pre {margin: 0.2em;color: black;border-radius: 0.25em;background-color: #f0f8ff;}#sk-container-id-10 input.sk-toggleable__control:checked~div.sk-toggleable__content {max-height: 200px;max-width: 100%;overflow: auto;}#sk-container-id-10 input.sk-toggleable__control:checked~label.sk-toggleable__label-arrow:before {content: \"▾\";}#sk-container-id-10 div.sk-estimator input.sk-toggleable__control:checked~label.sk-toggleable__label {background-color: #d4ebff;}#sk-container-id-10 div.sk-label input.sk-toggleable__control:checked~label.sk-toggleable__label {background-color: #d4ebff;}#sk-container-id-10 input.sk-hidden--visually {border: 0;clip: rect(1px 1px 1px 1px);clip: rect(1px, 1px, 1px, 1px);height: 1px;margin: -1px;overflow: hidden;padding: 0;position: absolute;width: 1px;}#sk-container-id-10 div.sk-estimator {font-family: monospace;background-color: #f0f8ff;border: 1px dotted black;border-radius: 0.25em;box-sizing: border-box;margin-bottom: 0.5em;}#sk-container-id-10 div.sk-estimator:hover {background-color: #d4ebff;}#sk-container-id-10 div.sk-parallel-item::after {content: \"\";width: 100%;border-bottom: 1px solid gray;flex-grow: 1;}#sk-container-id-10 div.sk-label:hover label.sk-toggleable__label {background-color: #d4ebff;}#sk-container-id-10 div.sk-serial::before {content: \"\";position: absolute;border-left: 1px solid gray;box-sizing: border-box;top: 0;bottom: 0;left: 50%;z-index: 0;}#sk-container-id-10 div.sk-serial {display: flex;flex-direction: column;align-items: center;background-color: white;padding-right: 0.2em;padding-left: 0.2em;position: relative;}#sk-container-id-10 div.sk-item {position: relative;z-index: 1;}#sk-container-id-10 div.sk-parallel {display: flex;align-items: stretch;justify-content: center;background-color: white;position: relative;}#sk-container-id-10 div.sk-item::before, #sk-container-id-10 div.sk-parallel-item::before {content: \"\";position: absolute;border-left: 1px solid gray;box-sizing: border-box;top: 0;bottom: 0;left: 50%;z-index: -1;}#sk-container-id-10 div.sk-parallel-item {display: flex;flex-direction: column;z-index: 1;position: relative;background-color: white;}#sk-container-id-10 div.sk-parallel-item:first-child::after {align-self: flex-end;width: 50%;}#sk-container-id-10 div.sk-parallel-item:last-child::after {align-self: flex-start;width: 50%;}#sk-container-id-10 div.sk-parallel-item:only-child::after {width: 0;}#sk-container-id-10 div.sk-dashed-wrapped {border: 1px dashed gray;margin: 0 0.4em 0.5em 0.4em;box-sizing: border-box;padding-bottom: 0.4em;background-color: white;}#sk-container-id-10 div.sk-label label {font-family: monospace;font-weight: bold;display: inline-block;line-height: 1.2em;}#sk-container-id-10 div.sk-label-container {text-align: center;}#sk-container-id-10 div.sk-container {/* jupyter's `normalize.less` sets `[hidden] { display: none; }` but bootstrap.min.css set `[hidden] { display: none !important; }` so we also need the `!important` here to be able to override the default hidden behavior on the sphinx rendered scikit-learn.org. See: https://github.com/scikit-learn/scikit-learn/issues/21755 */display: inline-block !important;position: relative;}#sk-container-id-10 div.sk-text-repr-fallback {display: none;}</style><div id=\"sk-container-id-10\" class=\"sk-top-container\"><div class=\"sk-text-repr-fallback\"><pre>RandomForestClassifier(max_depth=2, max_features=15, n_estimators=500,\n",
       "                       random_state=42)</pre><b>In a Jupyter environment, please rerun this cell to show the HTML representation or trust the notebook. <br />On GitHub, the HTML representation is unable to render, please try loading this page with nbviewer.org.</b></div><div class=\"sk-container\" hidden><div class=\"sk-item\"><div class=\"sk-estimator sk-toggleable\"><input class=\"sk-toggleable__control sk-hidden--visually\" id=\"sk-estimator-id-10\" type=\"checkbox\" checked><label for=\"sk-estimator-id-10\" class=\"sk-toggleable__label sk-toggleable__label-arrow\">RandomForestClassifier</label><div class=\"sk-toggleable__content\"><pre>RandomForestClassifier(max_depth=2, max_features=15, n_estimators=500,\n",
       "                       random_state=42)</pre></div></div></div></div></div>"
      ],
      "text/plain": [
       "RandomForestClassifier(max_depth=2, max_features=15, n_estimators=500,\n",
       "                       random_state=42)"
      ]
     },
     "execution_count": 123,
     "metadata": {},
     "output_type": "execute_result"
    }
   ],
   "source": [
    "# creating random forest model using best parameters\n",
    "forest_clf_tuned = RandomForestClassifier(**best_parameters, random_state=42)\n",
    "forest_clf_tuned.fit(X_train, y_train)"
   ]
  },
  {
   "cell_type": "code",
   "execution_count": 124,
   "metadata": {
    "id": "kSXs2oGGf1lk"
   },
   "outputs": [],
   "source": [
    "# y predictions\n",
    "y_pred = forest_clf_tuned.predict(X_test)"
   ]
  },
  {
   "cell_type": "code",
   "execution_count": 125,
   "metadata": {
    "colab": {
     "base_uri": "https://localhost:8080/"
    },
    "id": "YuWnJNnRf1xX",
    "outputId": "d3e2f167-b6fe-4805-9a1a-551afb4c8038"
   },
   "outputs": [
    {
     "data": {
      "text/plain": [
       "0.9708609629053215"
      ]
     },
     "execution_count": 125,
     "metadata": {},
     "output_type": "execute_result"
    }
   ],
   "source": [
    "# cross-validation\n",
    "forest_clf_tuned_scores = cross_val_score(forest_clf_tuned, X_train, y_train, cv=5)\n",
    "forest_clf_tuned_scores.mean()"
   ]
  },
  {
   "cell_type": "code",
   "execution_count": 126,
   "metadata": {
    "colab": {
     "base_uri": "https://localhost:8080/"
    },
    "id": "exyJ3nwlf15H",
    "outputId": "4ae60863-0c93-4eca-8ef7-372ccd8b0fb2"
   },
   "outputs": [
    {
     "data": {
      "text/plain": [
       "0.9714506172839507"
      ]
     },
     "execution_count": 126,
     "metadata": {},
     "output_type": "execute_result"
    }
   ],
   "source": [
    "# gradient boosted trees model accuracy\n",
    "accuracy_score(y_true = y_test, y_pred = y_pred)"
   ]
  },
  {
   "cell_type": "code",
   "execution_count": 127,
   "metadata": {
    "colab": {
     "base_uri": "https://localhost:8080/",
     "height": 81
    },
    "id": "VjRVj9rAKvnc",
    "outputId": "df4b0aa8-ab9f-4888-d43d-d342d12881d7"
   },
   "outputs": [
    {
     "data": {
      "text/html": [
       "<div>\n",
       "<style scoped>\n",
       "    .dataframe tbody tr th:only-of-type {\n",
       "        vertical-align: middle;\n",
       "    }\n",
       "\n",
       "    .dataframe tbody tr th {\n",
       "        vertical-align: top;\n",
       "    }\n",
       "\n",
       "    .dataframe thead th {\n",
       "        text-align: right;\n",
       "    }\n",
       "</style>\n",
       "<table border=\"1\" class=\"dataframe\">\n",
       "  <thead>\n",
       "    <tr style=\"text-align: right;\">\n",
       "      <th></th>\n",
       "      <th>Model</th>\n",
       "      <th>TPR</th>\n",
       "      <th>FPR</th>\n",
       "      <th>precision</th>\n",
       "      <th>recall</th>\n",
       "      <th>accuracy</th>\n",
       "      <th>f1-value</th>\n",
       "    </tr>\n",
       "  </thead>\n",
       "  <tbody>\n",
       "    <tr>\n",
       "      <th>0</th>\n",
       "      <td>Random Forest</td>\n",
       "      <td>[1.0, 0.08]</td>\n",
       "      <td>[0.92, 0.0]</td>\n",
       "      <td>[0.97, 0.75]</td>\n",
       "      <td>[1.0, 0.08]</td>\n",
       "      <td>[0.97, 0.97]</td>\n",
       "      <td>0.14</td>\n",
       "    </tr>\n",
       "  </tbody>\n",
       "</table>\n",
       "</div>"
      ],
      "text/plain": [
       "           Model          TPR          FPR     precision       recall  \\\n",
       "0  Random Forest  [1.0, 0.08]  [0.92, 0.0]  [0.97, 0.75]  [1.0, 0.08]   \n",
       "\n",
       "       accuracy  f1-value  \n",
       "0  [0.97, 0.97]      0.14  "
      ]
     },
     "execution_count": 127,
     "metadata": {},
     "output_type": "execute_result"
    }
   ],
   "source": [
    "# create confusion matrix and add scores to table\n",
    "cnf_matrix = confusion_matrix(y_test,y_pred)\n",
    "\n",
    "FP = cnf_matrix.sum(axis=0) - np.diag(cnf_matrix)  \n",
    "FN = cnf_matrix.sum(axis=1) - np.diag(cnf_matrix)\n",
    "TP = np.diag(cnf_matrix)\n",
    "TN = cnf_matrix.sum() - (FP + FN + TP)\n",
    "\n",
    "FP = FP.astype(float)\n",
    "FN = FN.astype(float)\n",
    "TP = TP.astype(float)\n",
    "TN = TN.astype(float)\n",
    "\n",
    "# Sensitivity, hit rate, recall, or true positive rate\n",
    "TPR = TP/(TP+FN)\n",
    "# Specificity or true negative rate\n",
    "TNR = TN/(TN+FP) \n",
    "# Precision or positive predictive value\n",
    "PPV = TP/(TP+FP)\n",
    "# Negative predictive value\n",
    "NPV = TN/(TN+FN)\n",
    "# Fall out or false positive rate\n",
    "FPR = FP/(FP+TN)\n",
    "# False negative rate\n",
    "FNR = FN/(TP+FN)\n",
    "# False discovery rate\n",
    "FDR = FP/(TP+FP)\n",
    "# Overall accuracy\n",
    "ACC = (TP+TN)/(TP+FP+FN+TN)\n",
    "\n",
    "results = pd.DataFrame(columns = ['Model', 'TPR', 'FPR', 'precision', 'recall', 'accuracy', 'f1-value'])\n",
    "\n",
    "#eval\n",
    "Model = 'Random Forest' \n",
    "TPR = [round(num, 2) for num in TPR]\n",
    "FPR = [round(num, 2) for num in FPR]\n",
    "precision = [round(num, 2) for num in PPV]\n",
    "recall = [round(num, 2) for num in TPR]\n",
    "accuracy = [round(num, 2) for num in ACC]\n",
    "f1_value = round(f1_score(y_pred, y_test),2)\n",
    "row = [Model, TPR, FPR, precision, recall, accuracy, f1_value]\n",
    "results = results.append(pd.DataFrame([row], columns=results.columns), ignore_index=True)\n",
    "results"
   ]
  },
  {
   "cell_type": "markdown",
   "metadata": {
    "id": "qMOnyslCPCgX"
   },
   "source": [
    "## Gradient Boosted Trees"
   ]
  },
  {
   "cell_type": "code",
   "execution_count": 128,
   "metadata": {
    "id": "4Lw0FBGbL-dY"
   },
   "outputs": [],
   "source": [
    "from sklearn.ensemble import GradientBoostingClassifier\n"
   ]
  },
  {
   "cell_type": "code",
   "execution_count": 129,
   "metadata": {
    "colab": {
     "base_uri": "https://localhost:8080/"
    },
    "id": "BHFMzfyE7Je2",
    "outputId": "12719f31-e466-4569-c79a-85505fc44052"
   },
   "outputs": [
    {
     "data": {
      "text/html": [
       "<style>#sk-container-id-11 {color: black;background-color: white;}#sk-container-id-11 pre{padding: 0;}#sk-container-id-11 div.sk-toggleable {background-color: white;}#sk-container-id-11 label.sk-toggleable__label {cursor: pointer;display: block;width: 100%;margin-bottom: 0;padding: 0.3em;box-sizing: border-box;text-align: center;}#sk-container-id-11 label.sk-toggleable__label-arrow:before {content: \"▸\";float: left;margin-right: 0.25em;color: #696969;}#sk-container-id-11 label.sk-toggleable__label-arrow:hover:before {color: black;}#sk-container-id-11 div.sk-estimator:hover label.sk-toggleable__label-arrow:before {color: black;}#sk-container-id-11 div.sk-toggleable__content {max-height: 0;max-width: 0;overflow: hidden;text-align: left;background-color: #f0f8ff;}#sk-container-id-11 div.sk-toggleable__content pre {margin: 0.2em;color: black;border-radius: 0.25em;background-color: #f0f8ff;}#sk-container-id-11 input.sk-toggleable__control:checked~div.sk-toggleable__content {max-height: 200px;max-width: 100%;overflow: auto;}#sk-container-id-11 input.sk-toggleable__control:checked~label.sk-toggleable__label-arrow:before {content: \"▾\";}#sk-container-id-11 div.sk-estimator input.sk-toggleable__control:checked~label.sk-toggleable__label {background-color: #d4ebff;}#sk-container-id-11 div.sk-label input.sk-toggleable__control:checked~label.sk-toggleable__label {background-color: #d4ebff;}#sk-container-id-11 input.sk-hidden--visually {border: 0;clip: rect(1px 1px 1px 1px);clip: rect(1px, 1px, 1px, 1px);height: 1px;margin: -1px;overflow: hidden;padding: 0;position: absolute;width: 1px;}#sk-container-id-11 div.sk-estimator {font-family: monospace;background-color: #f0f8ff;border: 1px dotted black;border-radius: 0.25em;box-sizing: border-box;margin-bottom: 0.5em;}#sk-container-id-11 div.sk-estimator:hover {background-color: #d4ebff;}#sk-container-id-11 div.sk-parallel-item::after {content: \"\";width: 100%;border-bottom: 1px solid gray;flex-grow: 1;}#sk-container-id-11 div.sk-label:hover label.sk-toggleable__label {background-color: #d4ebff;}#sk-container-id-11 div.sk-serial::before {content: \"\";position: absolute;border-left: 1px solid gray;box-sizing: border-box;top: 0;bottom: 0;left: 50%;z-index: 0;}#sk-container-id-11 div.sk-serial {display: flex;flex-direction: column;align-items: center;background-color: white;padding-right: 0.2em;padding-left: 0.2em;position: relative;}#sk-container-id-11 div.sk-item {position: relative;z-index: 1;}#sk-container-id-11 div.sk-parallel {display: flex;align-items: stretch;justify-content: center;background-color: white;position: relative;}#sk-container-id-11 div.sk-item::before, #sk-container-id-11 div.sk-parallel-item::before {content: \"\";position: absolute;border-left: 1px solid gray;box-sizing: border-box;top: 0;bottom: 0;left: 50%;z-index: -1;}#sk-container-id-11 div.sk-parallel-item {display: flex;flex-direction: column;z-index: 1;position: relative;background-color: white;}#sk-container-id-11 div.sk-parallel-item:first-child::after {align-self: flex-end;width: 50%;}#sk-container-id-11 div.sk-parallel-item:last-child::after {align-self: flex-start;width: 50%;}#sk-container-id-11 div.sk-parallel-item:only-child::after {width: 0;}#sk-container-id-11 div.sk-dashed-wrapped {border: 1px dashed gray;margin: 0 0.4em 0.5em 0.4em;box-sizing: border-box;padding-bottom: 0.4em;background-color: white;}#sk-container-id-11 div.sk-label label {font-family: monospace;font-weight: bold;display: inline-block;line-height: 1.2em;}#sk-container-id-11 div.sk-label-container {text-align: center;}#sk-container-id-11 div.sk-container {/* jupyter's `normalize.less` sets `[hidden] { display: none; }` but bootstrap.min.css set `[hidden] { display: none !important; }` so we also need the `!important` here to be able to override the default hidden behavior on the sphinx rendered scikit-learn.org. See: https://github.com/scikit-learn/scikit-learn/issues/21755 */display: inline-block !important;position: relative;}#sk-container-id-11 div.sk-text-repr-fallback {display: none;}</style><div id=\"sk-container-id-11\" class=\"sk-top-container\"><div class=\"sk-text-repr-fallback\"><pre>GradientBoostingClassifier(learning_rate=0.01, max_depth=2, max_features=15,\n",
       "                           n_estimators=500, random_state=42)</pre><b>In a Jupyter environment, please rerun this cell to show the HTML representation or trust the notebook. <br />On GitHub, the HTML representation is unable to render, please try loading this page with nbviewer.org.</b></div><div class=\"sk-container\" hidden><div class=\"sk-item\"><div class=\"sk-estimator sk-toggleable\"><input class=\"sk-toggleable__control sk-hidden--visually\" id=\"sk-estimator-id-11\" type=\"checkbox\" checked><label for=\"sk-estimator-id-11\" class=\"sk-toggleable__label sk-toggleable__label-arrow\">GradientBoostingClassifier</label><div class=\"sk-toggleable__content\"><pre>GradientBoostingClassifier(learning_rate=0.01, max_depth=2, max_features=15,\n",
       "                           n_estimators=500, random_state=42)</pre></div></div></div></div></div>"
      ],
      "text/plain": [
       "GradientBoostingClassifier(learning_rate=0.01, max_depth=2, max_features=15,\n",
       "                           n_estimators=500, random_state=42)"
      ]
     },
     "execution_count": 129,
     "metadata": {},
     "output_type": "execute_result"
    }
   ],
   "source": [
    "# creating gradient boosted trees model using best parameters from RF tuning\n",
    "gbc = GradientBoostingClassifier(**best_parameters, learning_rate=0.01, random_state=42)\n",
    "gbc.fit(X_train, y_train)"
   ]
  },
  {
   "cell_type": "code",
   "execution_count": 130,
   "metadata": {
    "id": "skA292HKKPaX"
   },
   "outputs": [],
   "source": [
    "y_pred = gbc.predict(X_test)"
   ]
  },
  {
   "cell_type": "code",
   "execution_count": 131,
   "metadata": {
    "colab": {
     "base_uri": "https://localhost:8080/"
    },
    "id": "n9T9uzEHKPc8",
    "outputId": "6dadd1ce-3bc2-4b16-ff64-19a1b6585067"
   },
   "outputs": [
    {
     "data": {
      "text/plain": [
       "0.9729938271604939"
      ]
     },
     "execution_count": 131,
     "metadata": {},
     "output_type": "execute_result"
    }
   ],
   "source": [
    "accuracy_score(y_true = y_test, y_pred = y_pred)"
   ]
  },
  {
   "cell_type": "code",
   "execution_count": 132,
   "metadata": {
    "colab": {
     "base_uri": "https://localhost:8080/",
     "height": 112
    },
    "id": "OhWG84fD8ZQo",
    "outputId": "1717d9ff-e91e-47ad-b756-4264a6cbfb60"
   },
   "outputs": [
    {
     "data": {
      "text/html": [
       "<div>\n",
       "<style scoped>\n",
       "    .dataframe tbody tr th:only-of-type {\n",
       "        vertical-align: middle;\n",
       "    }\n",
       "\n",
       "    .dataframe tbody tr th {\n",
       "        vertical-align: top;\n",
       "    }\n",
       "\n",
       "    .dataframe thead th {\n",
       "        text-align: right;\n",
       "    }\n",
       "</style>\n",
       "<table border=\"1\" class=\"dataframe\">\n",
       "  <thead>\n",
       "    <tr style=\"text-align: right;\">\n",
       "      <th></th>\n",
       "      <th>Model</th>\n",
       "      <th>TPR</th>\n",
       "      <th>FPR</th>\n",
       "      <th>precision</th>\n",
       "      <th>recall</th>\n",
       "      <th>accuracy</th>\n",
       "      <th>f1-value</th>\n",
       "    </tr>\n",
       "  </thead>\n",
       "  <tbody>\n",
       "    <tr>\n",
       "      <th>0</th>\n",
       "      <td>Random Forest</td>\n",
       "      <td>[1.0, 0.08]</td>\n",
       "      <td>[0.92, 0.0]</td>\n",
       "      <td>[0.97, 0.75]</td>\n",
       "      <td>[1.0, 0.08]</td>\n",
       "      <td>[0.97, 0.97]</td>\n",
       "      <td>0.14</td>\n",
       "    </tr>\n",
       "    <tr>\n",
       "      <th>1</th>\n",
       "      <td>Gradient Boosted Trees</td>\n",
       "      <td>[0.99, 0.33]</td>\n",
       "      <td>[0.67, 0.01]</td>\n",
       "      <td>[0.98, 0.59]</td>\n",
       "      <td>[0.99, 0.33]</td>\n",
       "      <td>[0.97, 0.97]</td>\n",
       "      <td>0.43</td>\n",
       "    </tr>\n",
       "  </tbody>\n",
       "</table>\n",
       "</div>"
      ],
      "text/plain": [
       "                    Model           TPR           FPR     precision  \\\n",
       "0           Random Forest   [1.0, 0.08]   [0.92, 0.0]  [0.97, 0.75]   \n",
       "1  Gradient Boosted Trees  [0.99, 0.33]  [0.67, 0.01]  [0.98, 0.59]   \n",
       "\n",
       "         recall      accuracy  f1-value  \n",
       "0   [1.0, 0.08]  [0.97, 0.97]      0.14  \n",
       "1  [0.99, 0.33]  [0.97, 0.97]      0.43  "
      ]
     },
     "execution_count": 132,
     "metadata": {},
     "output_type": "execute_result"
    }
   ],
   "source": [
    "# create confusion matrix and add scores to table\n",
    "cnf_matrix = confusion_matrix(y_test,y_pred)\n",
    "\n",
    "FP = cnf_matrix.sum(axis=0) - np.diag(cnf_matrix)  \n",
    "FN = cnf_matrix.sum(axis=1) - np.diag(cnf_matrix)\n",
    "TP = np.diag(cnf_matrix)\n",
    "TN = cnf_matrix.sum() - (FP + FN + TP)\n",
    "\n",
    "FP = FP.astype(float)\n",
    "FN = FN.astype(float)\n",
    "TP = TP.astype(float)\n",
    "TN = TN.astype(float)\n",
    "\n",
    "# Sensitivity, hit rate, recall, or true positive rate\n",
    "TPR = TP/(TP+FN)\n",
    "# Specificity or true negative rate\n",
    "TNR = TN/(TN+FP) \n",
    "# Precision or positive predictive value\n",
    "PPV = TP/(TP+FP)\n",
    "# Negative predictive value\n",
    "NPV = TN/(TN+FN)\n",
    "# Fall out or false positive rate\n",
    "FPR = FP/(FP+TN)\n",
    "# False negative rate\n",
    "FNR = FN/(TP+FN)\n",
    "# False discovery rate\n",
    "FDR = FP/(TP+FP)\n",
    "# Overall accuracy\n",
    "ACC = (TP+TN)/(TP+FP+FN+TN)\n",
    "\n",
    "#eval\n",
    "Model = 'Gradient Boosted Trees' \n",
    "TPR = [round(num, 2) for num in TPR]\n",
    "FPR = [round(num, 2) for num in FPR]\n",
    "precision = [round(num, 2) for num in PPV]\n",
    "recall = [round(num, 2) for num in TPR]\n",
    "accuracy = [round(num, 2) for num in ACC]\n",
    "f1_value = round(f1_score(y_pred, y_test),2)\n",
    "row = [Model, TPR, FPR, precision, recall, accuracy, f1_value]\n",
    "results = results.append(pd.DataFrame([row], columns=results.columns), ignore_index=True)\n",
    "results"
   ]
  },
  {
   "cell_type": "markdown",
   "metadata": {
    "id": "WXfaKDJ3Wyoq"
   },
   "source": [
    "### Gradient Boosting with Early stopping\n"
   ]
  },
  {
   "cell_type": "code",
   "execution_count": 133,
   "metadata": {
    "colab": {
     "base_uri": "https://localhost:8080/"
    },
    "id": "arYZR2ZmW1qR",
    "outputId": "041b576e-bdf2-45eb-fbac-8b0ffefb46ac"
   },
   "outputs": [
    {
     "data": {
      "text/html": [
       "<style>#sk-container-id-12 {color: black;background-color: white;}#sk-container-id-12 pre{padding: 0;}#sk-container-id-12 div.sk-toggleable {background-color: white;}#sk-container-id-12 label.sk-toggleable__label {cursor: pointer;display: block;width: 100%;margin-bottom: 0;padding: 0.3em;box-sizing: border-box;text-align: center;}#sk-container-id-12 label.sk-toggleable__label-arrow:before {content: \"▸\";float: left;margin-right: 0.25em;color: #696969;}#sk-container-id-12 label.sk-toggleable__label-arrow:hover:before {color: black;}#sk-container-id-12 div.sk-estimator:hover label.sk-toggleable__label-arrow:before {color: black;}#sk-container-id-12 div.sk-toggleable__content {max-height: 0;max-width: 0;overflow: hidden;text-align: left;background-color: #f0f8ff;}#sk-container-id-12 div.sk-toggleable__content pre {margin: 0.2em;color: black;border-radius: 0.25em;background-color: #f0f8ff;}#sk-container-id-12 input.sk-toggleable__control:checked~div.sk-toggleable__content {max-height: 200px;max-width: 100%;overflow: auto;}#sk-container-id-12 input.sk-toggleable__control:checked~label.sk-toggleable__label-arrow:before {content: \"▾\";}#sk-container-id-12 div.sk-estimator input.sk-toggleable__control:checked~label.sk-toggleable__label {background-color: #d4ebff;}#sk-container-id-12 div.sk-label input.sk-toggleable__control:checked~label.sk-toggleable__label {background-color: #d4ebff;}#sk-container-id-12 input.sk-hidden--visually {border: 0;clip: rect(1px 1px 1px 1px);clip: rect(1px, 1px, 1px, 1px);height: 1px;margin: -1px;overflow: hidden;padding: 0;position: absolute;width: 1px;}#sk-container-id-12 div.sk-estimator {font-family: monospace;background-color: #f0f8ff;border: 1px dotted black;border-radius: 0.25em;box-sizing: border-box;margin-bottom: 0.5em;}#sk-container-id-12 div.sk-estimator:hover {background-color: #d4ebff;}#sk-container-id-12 div.sk-parallel-item::after {content: \"\";width: 100%;border-bottom: 1px solid gray;flex-grow: 1;}#sk-container-id-12 div.sk-label:hover label.sk-toggleable__label {background-color: #d4ebff;}#sk-container-id-12 div.sk-serial::before {content: \"\";position: absolute;border-left: 1px solid gray;box-sizing: border-box;top: 0;bottom: 0;left: 50%;z-index: 0;}#sk-container-id-12 div.sk-serial {display: flex;flex-direction: column;align-items: center;background-color: white;padding-right: 0.2em;padding-left: 0.2em;position: relative;}#sk-container-id-12 div.sk-item {position: relative;z-index: 1;}#sk-container-id-12 div.sk-parallel {display: flex;align-items: stretch;justify-content: center;background-color: white;position: relative;}#sk-container-id-12 div.sk-item::before, #sk-container-id-12 div.sk-parallel-item::before {content: \"\";position: absolute;border-left: 1px solid gray;box-sizing: border-box;top: 0;bottom: 0;left: 50%;z-index: -1;}#sk-container-id-12 div.sk-parallel-item {display: flex;flex-direction: column;z-index: 1;position: relative;background-color: white;}#sk-container-id-12 div.sk-parallel-item:first-child::after {align-self: flex-end;width: 50%;}#sk-container-id-12 div.sk-parallel-item:last-child::after {align-self: flex-start;width: 50%;}#sk-container-id-12 div.sk-parallel-item:only-child::after {width: 0;}#sk-container-id-12 div.sk-dashed-wrapped {border: 1px dashed gray;margin: 0 0.4em 0.5em 0.4em;box-sizing: border-box;padding-bottom: 0.4em;background-color: white;}#sk-container-id-12 div.sk-label label {font-family: monospace;font-weight: bold;display: inline-block;line-height: 1.2em;}#sk-container-id-12 div.sk-label-container {text-align: center;}#sk-container-id-12 div.sk-container {/* jupyter's `normalize.less` sets `[hidden] { display: none; }` but bootstrap.min.css set `[hidden] { display: none !important; }` so we also need the `!important` here to be able to override the default hidden behavior on the sphinx rendered scikit-learn.org. See: https://github.com/scikit-learn/scikit-learn/issues/21755 */display: inline-block !important;position: relative;}#sk-container-id-12 div.sk-text-repr-fallback {display: none;}</style><div id=\"sk-container-id-12\" class=\"sk-top-container\"><div class=\"sk-text-repr-fallback\"><pre>GradientBoostingClassifier(max_depth=2, n_estimators=260, random_state=42)</pre><b>In a Jupyter environment, please rerun this cell to show the HTML representation or trust the notebook. <br />On GitHub, the HTML representation is unable to render, please try loading this page with nbviewer.org.</b></div><div class=\"sk-container\" hidden><div class=\"sk-item\"><div class=\"sk-estimator sk-toggleable\"><input class=\"sk-toggleable__control sk-hidden--visually\" id=\"sk-estimator-id-12\" type=\"checkbox\" checked><label for=\"sk-estimator-id-12\" class=\"sk-toggleable__label sk-toggleable__label-arrow\">GradientBoostingClassifier</label><div class=\"sk-toggleable__content\"><pre>GradientBoostingClassifier(max_depth=2, n_estimators=260, random_state=42)</pre></div></div></div></div></div>"
      ],
      "text/plain": [
       "GradientBoostingClassifier(max_depth=2, n_estimators=260, random_state=42)"
      ]
     },
     "execution_count": 133,
     "metadata": {},
     "output_type": "execute_result"
    }
   ],
   "source": [
    "# creating gradient boosted tree model with early stopping\n",
    "gbc = GradientBoostingClassifier(**best_parameters, learning_rate=0.01, random_state=42)\n",
    "gbc.fit(X_train, y_train)\n",
    "\n",
    "errors = [mean_squared_error(y_test, y_pred)\n",
    "          for y_pred in gbc.staged_predict(X_test)]\n",
    "bst_n_estimators = np.argmin(errors) + 1\n",
    "\n",
    "gbc_best = GradientBoostingClassifier(max_depth=2, n_estimators=bst_n_estimators, random_state=42)\n",
    "gbc_best.fit(X_train, y_train)"
   ]
  },
  {
   "cell_type": "code",
   "execution_count": 134,
   "metadata": {
    "id": "b-HgfkhbI7Ox"
   },
   "outputs": [],
   "source": [
    "y_pred = gbc_best.predict(X_test)"
   ]
  },
  {
   "cell_type": "code",
   "execution_count": 135,
   "metadata": {
    "colab": {
     "base_uri": "https://localhost:8080/"
    },
    "id": "JNDfhnhRkIvn",
    "outputId": "750a9165-7796-4a87-8c04-a924f6cc0ca3"
   },
   "outputs": [
    {
     "data": {
      "text/plain": [
       "0.9658420302104005"
      ]
     },
     "execution_count": 135,
     "metadata": {},
     "output_type": "execute_result"
    }
   ],
   "source": [
    "# cross-validation\n",
    "gbc_best_scores = cross_val_score(gbc_best, X_train, y_train, cv=5)\n",
    "gbc_best_scores.mean()"
   ]
  },
  {
   "cell_type": "code",
   "execution_count": 136,
   "metadata": {
    "colab": {
     "base_uri": "https://localhost:8080/"
    },
    "id": "4WUFhAqskI4K",
    "outputId": "2b86daff-3f32-4b3d-bcc5-7c12cc80c19f"
   },
   "outputs": [
    {
     "data": {
      "text/plain": [
       "0.9660493827160493"
      ]
     },
     "execution_count": 136,
     "metadata": {},
     "output_type": "execute_result"
    }
   ],
   "source": [
    "# gradient boosted trees with early stopping model accuracy\n",
    "accuracy_score(y_true = y_test, y_pred = y_pred)"
   ]
  },
  {
   "cell_type": "code",
   "execution_count": 137,
   "metadata": {
    "colab": {
     "base_uri": "https://localhost:8080/",
     "height": 143
    },
    "id": "UeamA-URkI9S",
    "outputId": "f1d0006e-160e-41ca-952d-8456b6805242"
   },
   "outputs": [
    {
     "data": {
      "text/html": [
       "<div>\n",
       "<style scoped>\n",
       "    .dataframe tbody tr th:only-of-type {\n",
       "        vertical-align: middle;\n",
       "    }\n",
       "\n",
       "    .dataframe tbody tr th {\n",
       "        vertical-align: top;\n",
       "    }\n",
       "\n",
       "    .dataframe thead th {\n",
       "        text-align: right;\n",
       "    }\n",
       "</style>\n",
       "<table border=\"1\" class=\"dataframe\">\n",
       "  <thead>\n",
       "    <tr style=\"text-align: right;\">\n",
       "      <th></th>\n",
       "      <th>Model</th>\n",
       "      <th>TPR</th>\n",
       "      <th>FPR</th>\n",
       "      <th>precision</th>\n",
       "      <th>recall</th>\n",
       "      <th>accuracy</th>\n",
       "      <th>f1-value</th>\n",
       "    </tr>\n",
       "  </thead>\n",
       "  <tbody>\n",
       "    <tr>\n",
       "      <th>0</th>\n",
       "      <td>Random Forest</td>\n",
       "      <td>[1.0, 0.08]</td>\n",
       "      <td>[0.92, 0.0]</td>\n",
       "      <td>[0.97, 0.75]</td>\n",
       "      <td>[1.0, 0.08]</td>\n",
       "      <td>[0.97, 0.97]</td>\n",
       "      <td>0.14</td>\n",
       "    </tr>\n",
       "    <tr>\n",
       "      <th>1</th>\n",
       "      <td>Gradient Boosted Trees</td>\n",
       "      <td>[0.99, 0.33]</td>\n",
       "      <td>[0.67, 0.01]</td>\n",
       "      <td>[0.98, 0.59]</td>\n",
       "      <td>[0.99, 0.33]</td>\n",
       "      <td>[0.97, 0.97]</td>\n",
       "      <td>0.43</td>\n",
       "    </tr>\n",
       "    <tr>\n",
       "      <th>2</th>\n",
       "      <td>Gradient Boosted Trees with Early Stopping</td>\n",
       "      <td>[0.99, 0.31]</td>\n",
       "      <td>[0.69, 0.01]</td>\n",
       "      <td>[0.98, 0.41]</td>\n",
       "      <td>[0.99, 0.31]</td>\n",
       "      <td>[0.97, 0.97]</td>\n",
       "      <td>0.35</td>\n",
       "    </tr>\n",
       "  </tbody>\n",
       "</table>\n",
       "</div>"
      ],
      "text/plain": [
       "                                        Model           TPR           FPR  \\\n",
       "0                               Random Forest   [1.0, 0.08]   [0.92, 0.0]   \n",
       "1                      Gradient Boosted Trees  [0.99, 0.33]  [0.67, 0.01]   \n",
       "2  Gradient Boosted Trees with Early Stopping  [0.99, 0.31]  [0.69, 0.01]   \n",
       "\n",
       "      precision        recall      accuracy  f1-value  \n",
       "0  [0.97, 0.75]   [1.0, 0.08]  [0.97, 0.97]      0.14  \n",
       "1  [0.98, 0.59]  [0.99, 0.33]  [0.97, 0.97]      0.43  \n",
       "2  [0.98, 0.41]  [0.99, 0.31]  [0.97, 0.97]      0.35  "
      ]
     },
     "execution_count": 137,
     "metadata": {},
     "output_type": "execute_result"
    }
   ],
   "source": [
    "# create confusion matrix and add scores to table\n",
    "cnf_matrix = confusion_matrix(y_test,y_pred)\n",
    "\n",
    "FP = cnf_matrix.sum(axis=0) - np.diag(cnf_matrix)  \n",
    "FN = cnf_matrix.sum(axis=1) - np.diag(cnf_matrix)\n",
    "TP = np.diag(cnf_matrix)\n",
    "TN = cnf_matrix.sum() - (FP + FN + TP)\n",
    "\n",
    "FP = FP.astype(float)\n",
    "FN = FN.astype(float)\n",
    "TP = TP.astype(float)\n",
    "TN = TN.astype(float)\n",
    "\n",
    "# Sensitivity, hit rate, recall, or true positive rate\n",
    "TPR = TP/(TP+FN)\n",
    "# Specificity or true negative rate\n",
    "TNR = TN/(TN+FP) \n",
    "# Precision or positive predictive value\n",
    "PPV = TP/(TP+FP)\n",
    "# Negative predictive value\n",
    "NPV = TN/(TN+FN)\n",
    "# Fall out or false positive rate\n",
    "FPR = FP/(FP+TN)\n",
    "# False negative rate\n",
    "FNR = FN/(TP+FN)\n",
    "# False discovery rate\n",
    "FDR = FP/(TP+FP)\n",
    "# Overall accuracy\n",
    "ACC = (TP+TN)/(TP+FP+FN+TN)\n",
    "\n",
    "#eval\n",
    "Model = 'Gradient Boosted Trees with Early Stopping' \n",
    "TPR = [round(num, 2) for num in TPR]\n",
    "FPR = [round(num, 2) for num in FPR]\n",
    "precision = [round(num, 2) for num in PPV]\n",
    "recall = [round(num, 2) for num in TPR]\n",
    "accuracy = [round(num, 2) for num in ACC]\n",
    "f1_value = round(f1_score(y_pred, y_test),2)\n",
    "row = [Model, TPR, FPR, precision, recall, accuracy, f1_value]\n",
    "results = results.append(pd.DataFrame([row], columns=results.columns), ignore_index=True)\n",
    "results"
   ]
  },
  {
   "cell_type": "markdown",
   "metadata": {
    "id": "wK_8QeQzVrs6"
   },
   "source": [
    "## Extra Trees"
   ]
  },
  {
   "cell_type": "code",
   "execution_count": 138,
   "metadata": {
    "colab": {
     "base_uri": "https://localhost:8080/"
    },
    "id": "JvXthCV0Vt3a",
    "outputId": "d0c6923e-6438-49d0-91f9-28069325fdf4"
   },
   "outputs": [
    {
     "data": {
      "text/html": [
       "<style>#sk-container-id-13 {color: black;background-color: white;}#sk-container-id-13 pre{padding: 0;}#sk-container-id-13 div.sk-toggleable {background-color: white;}#sk-container-id-13 label.sk-toggleable__label {cursor: pointer;display: block;width: 100%;margin-bottom: 0;padding: 0.3em;box-sizing: border-box;text-align: center;}#sk-container-id-13 label.sk-toggleable__label-arrow:before {content: \"▸\";float: left;margin-right: 0.25em;color: #696969;}#sk-container-id-13 label.sk-toggleable__label-arrow:hover:before {color: black;}#sk-container-id-13 div.sk-estimator:hover label.sk-toggleable__label-arrow:before {color: black;}#sk-container-id-13 div.sk-toggleable__content {max-height: 0;max-width: 0;overflow: hidden;text-align: left;background-color: #f0f8ff;}#sk-container-id-13 div.sk-toggleable__content pre {margin: 0.2em;color: black;border-radius: 0.25em;background-color: #f0f8ff;}#sk-container-id-13 input.sk-toggleable__control:checked~div.sk-toggleable__content {max-height: 200px;max-width: 100%;overflow: auto;}#sk-container-id-13 input.sk-toggleable__control:checked~label.sk-toggleable__label-arrow:before {content: \"▾\";}#sk-container-id-13 div.sk-estimator input.sk-toggleable__control:checked~label.sk-toggleable__label {background-color: #d4ebff;}#sk-container-id-13 div.sk-label input.sk-toggleable__control:checked~label.sk-toggleable__label {background-color: #d4ebff;}#sk-container-id-13 input.sk-hidden--visually {border: 0;clip: rect(1px 1px 1px 1px);clip: rect(1px, 1px, 1px, 1px);height: 1px;margin: -1px;overflow: hidden;padding: 0;position: absolute;width: 1px;}#sk-container-id-13 div.sk-estimator {font-family: monospace;background-color: #f0f8ff;border: 1px dotted black;border-radius: 0.25em;box-sizing: border-box;margin-bottom: 0.5em;}#sk-container-id-13 div.sk-estimator:hover {background-color: #d4ebff;}#sk-container-id-13 div.sk-parallel-item::after {content: \"\";width: 100%;border-bottom: 1px solid gray;flex-grow: 1;}#sk-container-id-13 div.sk-label:hover label.sk-toggleable__label {background-color: #d4ebff;}#sk-container-id-13 div.sk-serial::before {content: \"\";position: absolute;border-left: 1px solid gray;box-sizing: border-box;top: 0;bottom: 0;left: 50%;z-index: 0;}#sk-container-id-13 div.sk-serial {display: flex;flex-direction: column;align-items: center;background-color: white;padding-right: 0.2em;padding-left: 0.2em;position: relative;}#sk-container-id-13 div.sk-item {position: relative;z-index: 1;}#sk-container-id-13 div.sk-parallel {display: flex;align-items: stretch;justify-content: center;background-color: white;position: relative;}#sk-container-id-13 div.sk-item::before, #sk-container-id-13 div.sk-parallel-item::before {content: \"\";position: absolute;border-left: 1px solid gray;box-sizing: border-box;top: 0;bottom: 0;left: 50%;z-index: -1;}#sk-container-id-13 div.sk-parallel-item {display: flex;flex-direction: column;z-index: 1;position: relative;background-color: white;}#sk-container-id-13 div.sk-parallel-item:first-child::after {align-self: flex-end;width: 50%;}#sk-container-id-13 div.sk-parallel-item:last-child::after {align-self: flex-start;width: 50%;}#sk-container-id-13 div.sk-parallel-item:only-child::after {width: 0;}#sk-container-id-13 div.sk-dashed-wrapped {border: 1px dashed gray;margin: 0 0.4em 0.5em 0.4em;box-sizing: border-box;padding-bottom: 0.4em;background-color: white;}#sk-container-id-13 div.sk-label label {font-family: monospace;font-weight: bold;display: inline-block;line-height: 1.2em;}#sk-container-id-13 div.sk-label-container {text-align: center;}#sk-container-id-13 div.sk-container {/* jupyter's `normalize.less` sets `[hidden] { display: none; }` but bootstrap.min.css set `[hidden] { display: none !important; }` so we also need the `!important` here to be able to override the default hidden behavior on the sphinx rendered scikit-learn.org. See: https://github.com/scikit-learn/scikit-learn/issues/21755 */display: inline-block !important;position: relative;}#sk-container-id-13 div.sk-text-repr-fallback {display: none;}</style><div id=\"sk-container-id-13\" class=\"sk-top-container\"><div class=\"sk-text-repr-fallback\"><pre>ExtraTreesClassifier(n_estimators=500, random_state=42)</pre><b>In a Jupyter environment, please rerun this cell to show the HTML representation or trust the notebook. <br />On GitHub, the HTML representation is unable to render, please try loading this page with nbviewer.org.</b></div><div class=\"sk-container\" hidden><div class=\"sk-item\"><div class=\"sk-estimator sk-toggleable\"><input class=\"sk-toggleable__control sk-hidden--visually\" id=\"sk-estimator-id-13\" type=\"checkbox\" checked><label for=\"sk-estimator-id-13\" class=\"sk-toggleable__label sk-toggleable__label-arrow\">ExtraTreesClassifier</label><div class=\"sk-toggleable__content\"><pre>ExtraTreesClassifier(n_estimators=500, random_state=42)</pre></div></div></div></div></div>"
      ],
      "text/plain": [
       "ExtraTreesClassifier(n_estimators=500, random_state=42)"
      ]
     },
     "execution_count": 138,
     "metadata": {},
     "output_type": "execute_result"
    }
   ],
   "source": [
    "# creating extra trees model, using 500 estimators from RF hyperparameter tuning\n",
    "extra_trees_clf = ExtraTreesClassifier(n_estimators=500, random_state=42)\n",
    "extra_trees_clf.fit(X_train, y_train)"
   ]
  },
  {
   "cell_type": "code",
   "execution_count": 139,
   "metadata": {
    "colab": {
     "base_uri": "https://localhost:8080/"
    },
    "id": "0exDgv6tcawD",
    "outputId": "47c2c7c9-134c-47fb-eaf3-51bf60d4009e"
   },
   "outputs": [
    {
     "data": {
      "text/plain": [
       "0.9708607767431296"
      ]
     },
     "execution_count": 139,
     "metadata": {},
     "output_type": "execute_result"
    }
   ],
   "source": [
    "# cross-validation\n",
    "extra_trees_scores = cross_val_score(extra_trees_clf, X_train, y_train, cv=5)\n",
    "extra_trees_scores.mean()"
   ]
  },
  {
   "cell_type": "code",
   "execution_count": 140,
   "metadata": {
    "id": "bXMBhSXUo8Ge"
   },
   "outputs": [],
   "source": [
    "y_pred = extra_trees_clf.predict(X_test)"
   ]
  },
  {
   "cell_type": "code",
   "execution_count": 141,
   "metadata": {
    "colab": {
     "base_uri": "https://localhost:8080/"
    },
    "id": "tM4QXajCcnih",
    "outputId": "63aa9902-776d-4c2d-cdf8-1049ebbf65c2"
   },
   "outputs": [
    {
     "data": {
      "text/plain": [
       "0.9699074074074074"
      ]
     },
     "execution_count": 141,
     "metadata": {},
     "output_type": "execute_result"
    }
   ],
   "source": [
    "# extra trees model accuracy\n",
    "accuracy_score(y_true = y_test, y_pred = y_pred)"
   ]
  },
  {
   "cell_type": "code",
   "execution_count": 142,
   "metadata": {
    "colab": {
     "base_uri": "https://localhost:8080/",
     "height": 237
    },
    "id": "zJFwVwO8KAdw",
    "outputId": "56d4162f-8d3b-4275-ff7b-8bee28a776c5"
   },
   "outputs": [
    {
     "name": "stderr",
     "output_type": "stream",
     "text": [
      "<ipython-input-142-a7bb9fb069a6>:19: RuntimeWarning: invalid value encountered in true_divide\n",
      "  PPV = TP/(TP+FP)\n",
      "<ipython-input-142-a7bb9fb069a6>:21: RuntimeWarning: invalid value encountered in true_divide\n",
      "  NPV = TN/(TN+FN)\n",
      "<ipython-input-142-a7bb9fb069a6>:27: RuntimeWarning: invalid value encountered in true_divide\n",
      "  FDR = FP/(TP+FP)\n"
     ]
    },
    {
     "data": {
      "text/html": [
       "<div>\n",
       "<style scoped>\n",
       "    .dataframe tbody tr th:only-of-type {\n",
       "        vertical-align: middle;\n",
       "    }\n",
       "\n",
       "    .dataframe tbody tr th {\n",
       "        vertical-align: top;\n",
       "    }\n",
       "\n",
       "    .dataframe thead th {\n",
       "        text-align: right;\n",
       "    }\n",
       "</style>\n",
       "<table border=\"1\" class=\"dataframe\">\n",
       "  <thead>\n",
       "    <tr style=\"text-align: right;\">\n",
       "      <th></th>\n",
       "      <th>Model</th>\n",
       "      <th>TPR</th>\n",
       "      <th>FPR</th>\n",
       "      <th>precision</th>\n",
       "      <th>recall</th>\n",
       "      <th>accuracy</th>\n",
       "      <th>f1-value</th>\n",
       "    </tr>\n",
       "  </thead>\n",
       "  <tbody>\n",
       "    <tr>\n",
       "      <th>0</th>\n",
       "      <td>Random Forest</td>\n",
       "      <td>[1.0, 0.08]</td>\n",
       "      <td>[0.92, 0.0]</td>\n",
       "      <td>[0.97, 0.75]</td>\n",
       "      <td>[1.0, 0.08]</td>\n",
       "      <td>[0.97, 0.97]</td>\n",
       "      <td>0.14</td>\n",
       "    </tr>\n",
       "    <tr>\n",
       "      <th>1</th>\n",
       "      <td>Gradient Boosted Trees</td>\n",
       "      <td>[0.99, 0.33]</td>\n",
       "      <td>[0.67, 0.01]</td>\n",
       "      <td>[0.98, 0.59]</td>\n",
       "      <td>[0.99, 0.33]</td>\n",
       "      <td>[0.97, 0.97]</td>\n",
       "      <td>0.43</td>\n",
       "    </tr>\n",
       "    <tr>\n",
       "      <th>2</th>\n",
       "      <td>Gradient Boosted Trees with Early Stopping</td>\n",
       "      <td>[0.99, 0.31]</td>\n",
       "      <td>[0.69, 0.01]</td>\n",
       "      <td>[0.98, 0.41]</td>\n",
       "      <td>[0.99, 0.31]</td>\n",
       "      <td>[0.97, 0.97]</td>\n",
       "      <td>0.35</td>\n",
       "    </tr>\n",
       "    <tr>\n",
       "      <th>3</th>\n",
       "      <td>Extra Trees</td>\n",
       "      <td>[1.0, 0.0]</td>\n",
       "      <td>[1.0, 0.0]</td>\n",
       "      <td>[0.97, nan]</td>\n",
       "      <td>[1.0, 0.0]</td>\n",
       "      <td>[0.97, 0.97]</td>\n",
       "      <td>0.00</td>\n",
       "    </tr>\n",
       "  </tbody>\n",
       "</table>\n",
       "</div>"
      ],
      "text/plain": [
       "                                        Model           TPR           FPR  \\\n",
       "0                               Random Forest   [1.0, 0.08]   [0.92, 0.0]   \n",
       "1                      Gradient Boosted Trees  [0.99, 0.33]  [0.67, 0.01]   \n",
       "2  Gradient Boosted Trees with Early Stopping  [0.99, 0.31]  [0.69, 0.01]   \n",
       "3                                 Extra Trees    [1.0, 0.0]    [1.0, 0.0]   \n",
       "\n",
       "      precision        recall      accuracy  f1-value  \n",
       "0  [0.97, 0.75]   [1.0, 0.08]  [0.97, 0.97]      0.14  \n",
       "1  [0.98, 0.59]  [0.99, 0.33]  [0.97, 0.97]      0.43  \n",
       "2  [0.98, 0.41]  [0.99, 0.31]  [0.97, 0.97]      0.35  \n",
       "3   [0.97, nan]    [1.0, 0.0]  [0.97, 0.97]      0.00  "
      ]
     },
     "execution_count": 142,
     "metadata": {},
     "output_type": "execute_result"
    }
   ],
   "source": [
    "# create confusion matrix and add scores to table\n",
    "cnf_matrix = confusion_matrix(y_test,y_pred)\n",
    "\n",
    "FP = cnf_matrix.sum(axis=0) - np.diag(cnf_matrix)  \n",
    "FN = cnf_matrix.sum(axis=1) - np.diag(cnf_matrix)\n",
    "TP = np.diag(cnf_matrix)\n",
    "TN = cnf_matrix.sum() - (FP + FN + TP)\n",
    "\n",
    "FP = FP.astype(float)\n",
    "FN = FN.astype(float)\n",
    "TP = TP.astype(float)\n",
    "TN = TN.astype(float)\n",
    "\n",
    "# Sensitivity, hit rate, recall, or true positive rate\n",
    "TPR = TP/(TP+FN)\n",
    "# Specificity or true negative rate\n",
    "TNR = TN/(TN+FP) \n",
    "# Precision or positive predictive value\n",
    "PPV = TP/(TP+FP)\n",
    "# Negative predictive value\n",
    "NPV = TN/(TN+FN)\n",
    "# Fall out or false positive rate\n",
    "FPR = FP/(FP+TN)\n",
    "# False negative rate\n",
    "FNR = FN/(TP+FN)\n",
    "# False discovery rate\n",
    "FDR = FP/(TP+FP)\n",
    "# Overall accuracy\n",
    "ACC = (TP+TN)/(TP+FP+FN+TN)\n",
    "\n",
    "#eval\n",
    "Model = 'Extra Trees' \n",
    "TPR = [round(num, 2) for num in TPR]\n",
    "FPR = [round(num, 2) for num in FPR]\n",
    "precision = [round(num, 2) for num in PPV]\n",
    "recall = [round(num, 2) for num in TPR]\n",
    "accuracy = [round(num, 2) for num in ACC]\n",
    "f1_value = round(f1_score(y_pred, y_test),2)\n",
    "row = [Model, TPR, FPR, precision, recall, accuracy, f1_value]\n",
    "results = results.append(pd.DataFrame([row], columns=results.columns), ignore_index=True)\n",
    "results"
   ]
  },
  {
   "cell_type": "markdown",
   "metadata": {
    "id": "UCNya6FKBk1-"
   },
   "source": [
    "## Support Vector Machine (SVM)"
   ]
  },
  {
   "cell_type": "code",
   "execution_count": 143,
   "metadata": {
    "id": "yQM5LxPKByaB"
   },
   "outputs": [],
   "source": [
    "# SVM Classifier model\n",
    "svm_clf = SVC(kernel=\"rbf\", C=1, probability=True)\n",
    "svm_clf.fit(X_train, y_train)\n",
    "svm_model = svm_clf.fit(X_train, y_train)"
   ]
  },
  {
   "cell_type": "code",
   "execution_count": 144,
   "metadata": {
    "id": "lZW-9pdTByc9"
   },
   "outputs": [
    {
     "name": "stderr",
     "output_type": "stream",
     "text": [
      "[Parallel(n_jobs=1)]: Using backend SequentialBackend with 1 concurrent workers.\n"
     ]
    },
    {
     "name": "stdout",
     "output_type": "stream",
     "text": [
      "[CV] END ................................ score: (test=0.970) total time=   0.7s\n"
     ]
    },
    {
     "name": "stderr",
     "output_type": "stream",
     "text": [
      "[Parallel(n_jobs=1)]: Done   1 out of   1 | elapsed:    0.7s remaining:    0.0s\n"
     ]
    },
    {
     "name": "stdout",
     "output_type": "stream",
     "text": [
      "[CV] END ................................ score: (test=0.970) total time=   0.7s\n"
     ]
    },
    {
     "name": "stderr",
     "output_type": "stream",
     "text": [
      "[Parallel(n_jobs=1)]: Done   2 out of   2 | elapsed:    1.5s remaining:    0.0s\n"
     ]
    },
    {
     "name": "stdout",
     "output_type": "stream",
     "text": [
      "[CV] END ................................ score: (test=0.971) total time=   0.8s\n",
      "[CV] END ................................ score: (test=0.970) total time=   0.8s\n",
      "[CV] END ................................ score: (test=0.970) total time=   0.7s\n"
     ]
    },
    {
     "name": "stderr",
     "output_type": "stream",
     "text": [
      "[Parallel(n_jobs=1)]: Done   5 out of   5 | elapsed:    4.1s finished\n"
     ]
    },
    {
     "data": {
      "text/plain": [
       "0.9702818123261711"
      ]
     },
     "execution_count": 144,
     "metadata": {},
     "output_type": "execute_result"
    }
   ],
   "source": [
    "# kfold cross validation\n",
    "score = cross_val_score(svm_model, X_train, y_train, cv=5, verbose=3)\n",
    "score.mean()"
   ]
  },
  {
   "cell_type": "code",
   "execution_count": 145,
   "metadata": {
    "id": "O-TU54tvUlpK"
   },
   "outputs": [],
   "source": [
    "# predictions\n",
    "y_pred = svm_model.predict(X_test)"
   ]
  },
  {
   "cell_type": "code",
   "execution_count": 146,
   "metadata": {
    "id": "4CJvBeeKXYdK"
   },
   "outputs": [
    {
     "name": "stdout",
     "output_type": "stream",
     "text": [
      "Precision: 0.00%\n",
      "Recall: 0.00%\n"
     ]
    },
    {
     "name": "stderr",
     "output_type": "stream",
     "text": [
      "C:\\Users\\sjue\\Anaconda3\\lib\\site-packages\\sklearn\\metrics\\_classification.py:1327: UndefinedMetricWarning: Precision is ill-defined and being set to 0.0 due to no predicted samples. Use `zero_division` parameter to control this behavior.\n",
      "  _warn_prf(average, modifier, msg_start, len(result))\n"
     ]
    }
   ],
   "source": [
    "# precision and recall scores\n",
    "print(\"Precision: {:.2f}%\".format(100 * precision_score(y_test, y_pred)))\n",
    "print(\"Recall: {:.2f}%\".format(100 * recall_score(y_test, y_pred)))"
   ]
  },
  {
   "cell_type": "code",
   "execution_count": 147,
   "metadata": {
    "id": "EJw-LD4YUphw"
   },
   "outputs": [
    {
     "data": {
      "text/plain": [
       "0.0"
      ]
     },
     "execution_count": 147,
     "metadata": {},
     "output_type": "execute_result"
    }
   ],
   "source": [
    "# f1 score\n",
    "f1_score(y_test, y_pred)"
   ]
  },
  {
   "cell_type": "markdown",
   "metadata": {
    "id": "f929nKNEcF40"
   },
   "source": [
    "### Tuning SVM Model Hyperparameters"
   ]
  },
  {
   "cell_type": "code",
   "execution_count": 148,
   "metadata": {
    "id": "gitqOUe8ggou"
   },
   "outputs": [
    {
     "name": "stdout",
     "output_type": "stream",
     "text": [
      "Fitting 5 folds for each of 16 candidates, totalling 80 fits\n",
      "[CV] END .....................................C=0.1, gamma=1; total time=   1.7s\n",
      "[CV] END .....................................C=0.1, gamma=1; total time=   1.9s\n",
      "[CV] END .....................................C=0.1, gamma=1; total time=   1.8s\n",
      "[CV] END .....................................C=0.1, gamma=1; total time=   1.8s\n",
      "[CV] END .....................................C=0.1, gamma=1; total time=   1.9s\n",
      "[CV] END ...................................C=0.1, gamma=0.1; total time=   0.8s\n",
      "[CV] END ...................................C=0.1, gamma=0.1; total time=   0.8s\n",
      "[CV] END ...................................C=0.1, gamma=0.1; total time=   0.8s\n",
      "[CV] END ...................................C=0.1, gamma=0.1; total time=   0.7s\n",
      "[CV] END ...................................C=0.1, gamma=0.1; total time=   0.7s\n",
      "[CV] END ..................................C=0.1, gamma=0.01; total time=   0.4s\n",
      "[CV] END ..................................C=0.1, gamma=0.01; total time=   0.4s\n",
      "[CV] END ..................................C=0.1, gamma=0.01; total time=   0.5s\n",
      "[CV] END ..................................C=0.1, gamma=0.01; total time=   0.4s\n",
      "[CV] END ..................................C=0.1, gamma=0.01; total time=   0.4s\n",
      "[CV] END .................................C=0.1, gamma=0.001; total time=   0.2s\n",
      "[CV] END .................................C=0.1, gamma=0.001; total time=   0.2s\n",
      "[CV] END .................................C=0.1, gamma=0.001; total time=   0.2s\n",
      "[CV] END .................................C=0.1, gamma=0.001; total time=   0.3s\n",
      "[CV] END .................................C=0.1, gamma=0.001; total time=   0.3s\n",
      "[CV] END .......................................C=1, gamma=1; total time=   1.8s\n",
      "[CV] END .......................................C=1, gamma=1; total time=   2.1s\n",
      "[CV] END .......................................C=1, gamma=1; total time=   2.0s\n",
      "[CV] END .......................................C=1, gamma=1; total time=   1.9s\n",
      "[CV] END .......................................C=1, gamma=1; total time=   1.9s\n",
      "[CV] END .....................................C=1, gamma=0.1; total time=   0.9s\n",
      "[CV] END .....................................C=1, gamma=0.1; total time=   1.0s\n",
      "[CV] END .....................................C=1, gamma=0.1; total time=   1.1s\n",
      "[CV] END .....................................C=1, gamma=0.1; total time=   0.9s\n",
      "[CV] END .....................................C=1, gamma=0.1; total time=   1.0s\n",
      "[CV] END ....................................C=1, gamma=0.01; total time=   0.9s\n",
      "[CV] END ....................................C=1, gamma=0.01; total time=   0.9s\n",
      "[CV] END ....................................C=1, gamma=0.01; total time=   0.9s\n",
      "[CV] END ....................................C=1, gamma=0.01; total time=   1.1s\n",
      "[CV] END ....................................C=1, gamma=0.01; total time=   1.0s\n",
      "[CV] END ...................................C=1, gamma=0.001; total time=   0.8s\n",
      "[CV] END ...................................C=1, gamma=0.001; total time=   0.6s\n",
      "[CV] END ...................................C=1, gamma=0.001; total time=   0.7s\n",
      "[CV] END ...................................C=1, gamma=0.001; total time=   0.7s\n",
      "[CV] END ...................................C=1, gamma=0.001; total time=   1.2s\n",
      "[CV] END ......................................C=10, gamma=1; total time=   2.1s\n",
      "[CV] END ......................................C=10, gamma=1; total time=   1.8s\n",
      "[CV] END ......................................C=10, gamma=1; total time=   1.7s\n",
      "[CV] END ......................................C=10, gamma=1; total time=   1.8s\n",
      "[CV] END ......................................C=10, gamma=1; total time=   2.2s\n",
      "[CV] END ....................................C=10, gamma=0.1; total time=   1.2s\n",
      "[CV] END ....................................C=10, gamma=0.1; total time=   0.9s\n",
      "[CV] END ....................................C=10, gamma=0.1; total time=   0.9s\n",
      "[CV] END ....................................C=10, gamma=0.1; total time=   0.8s\n",
      "[CV] END ....................................C=10, gamma=0.1; total time=   0.9s\n",
      "[CV] END ...................................C=10, gamma=0.01; total time=   0.8s\n",
      "[CV] END ...................................C=10, gamma=0.01; total time=   0.8s\n",
      "[CV] END ...................................C=10, gamma=0.01; total time=   0.7s\n",
      "[CV] END ...................................C=10, gamma=0.01; total time=   0.7s\n",
      "[CV] END ...................................C=10, gamma=0.01; total time=   0.7s\n",
      "[CV] END ..................................C=10, gamma=0.001; total time=   1.0s\n",
      "[CV] END ..................................C=10, gamma=0.001; total time=   0.9s\n",
      "[CV] END ..................................C=10, gamma=0.001; total time=   1.0s\n",
      "[CV] END ..................................C=10, gamma=0.001; total time=   0.8s\n",
      "[CV] END ..................................C=10, gamma=0.001; total time=   1.0s\n",
      "[CV] END .....................................C=100, gamma=1; total time=   1.5s\n",
      "[CV] END .....................................C=100, gamma=1; total time=   1.5s\n",
      "[CV] END .....................................C=100, gamma=1; total time=   1.6s\n",
      "[CV] END .....................................C=100, gamma=1; total time=   1.6s\n",
      "[CV] END .....................................C=100, gamma=1; total time=   1.6s\n",
      "[CV] END ...................................C=100, gamma=0.1; total time=   1.0s\n",
      "[CV] END ...................................C=100, gamma=0.1; total time=   1.0s\n",
      "[CV] END ...................................C=100, gamma=0.1; total time=   1.1s\n",
      "[CV] END ...................................C=100, gamma=0.1; total time=   0.9s\n",
      "[CV] END ...................................C=100, gamma=0.1; total time=   1.2s\n",
      "[CV] END ..................................C=100, gamma=0.01; total time=   1.5s\n",
      "[CV] END ..................................C=100, gamma=0.01; total time=   1.3s\n",
      "[CV] END ..................................C=100, gamma=0.01; total time=   1.6s\n",
      "[CV] END ..................................C=100, gamma=0.01; total time=   1.2s\n",
      "[CV] END ..................................C=100, gamma=0.01; total time=   1.6s\n",
      "[CV] END .................................C=100, gamma=0.001; total time=   2.0s\n",
      "[CV] END .................................C=100, gamma=0.001; total time=   1.9s\n",
      "[CV] END .................................C=100, gamma=0.001; total time=   2.0s\n",
      "[CV] END .................................C=100, gamma=0.001; total time=   1.4s\n",
      "[CV] END .................................C=100, gamma=0.001; total time=   1.8s\n"
     ]
    }
   ],
   "source": [
    "# create grid search cross validation to tunr hyperparmeters of SVC model\n",
    "param_grid = {'C': [0.1, 1, 10, 100], 'gamma': [1,0.1,0.01,0.001]}\n",
    "\n",
    "grid = GridSearchCV(SVC(probability=True, kernel='rbf'),param_grid,refit=True,verbose=2)\n",
    "grid.fit(X_train,y_train);"
   ]
  },
  {
   "cell_type": "code",
   "execution_count": 149,
   "metadata": {
    "id": "pb57y24MgqY1"
   },
   "outputs": [
    {
     "name": "stdout",
     "output_type": "stream",
     "text": [
      "SVC(C=10, gamma=0.1, probability=True)\n"
     ]
    }
   ],
   "source": [
    "# print optimal values for C and gamma\n",
    "print(grid.best_estimator_)"
   ]
  },
  {
   "cell_type": "code",
   "execution_count": 150,
   "metadata": {
    "id": "c1uiLG2N21lG"
   },
   "outputs": [],
   "source": [
    "y_pred = grid.predict(X_test)\n",
    "y_pred_proba = grid.predict_proba(X_test)\n",
    "y_score = grid.decision_function(X_test)"
   ]
  },
  {
   "cell_type": "code",
   "execution_count": 151,
   "metadata": {
    "id": "hz6mCZ2o_PIg"
   },
   "outputs": [
    {
     "data": {
      "image/png": "[encoded data removed]",
      "text/plain": [
       "<Figure size 432x288 with 1 Axes>"
      ]
     },
     "metadata": {
      "needs_background": "light"
     },
     "output_type": "display_data"
    }
   ],
   "source": [
    "#Precision/Recall \n",
    "prec, recall, _ = precision_recall_curve(y_test, y_score, pos_label=grid.classes_[1])\n",
    "pr_display = PrecisionRecallDisplay(precision=prec, recall=recall).plot()"
   ]
  },
  {
   "cell_type": "code",
   "execution_count": 152,
   "metadata": {
    "id": "d6mYMCU_0WaH"
   },
   "outputs": [
    {
     "data": {
      "text/plain": [
       "<matplotlib.legend.Legend at 0x24ab0088b20>"
      ]
     },
     "execution_count": 152,
     "metadata": {},
     "output_type": "execute_result"
    },
    {
     "data": {
      "image/png": "[encoded data removed]",
      "text/plain": [
       "<Figure size 432x288 with 1 Axes>"
      ]
     },
     "metadata": {
      "needs_background": "light"
     },
     "output_type": "display_data"
    }
   ],
   "source": [
    "#Plot the ROC curve\n",
    "fpr, tpr, ths = roc_curve(y_test, y_pred_proba[:,1])\n",
    "\n",
    "auc_score = auc(fpr,tpr)\n",
    "plt.plot(fpr,tpr,label=\"AUC Score:\" + str(auc_score))\n",
    "plt.xlabel('fpr',fontsize='15')\n",
    "plt.ylabel('tpr',fontsize='15')\n",
    "plt.legend(loc='best')"
   ]
  },
  {
   "cell_type": "code",
   "execution_count": 153,
   "metadata": {
    "id": "AWIygvEa213l"
   },
   "outputs": [
    {
     "data": {
      "text/html": [
       "<div>\n",
       "<style scoped>\n",
       "    .dataframe tbody tr th:only-of-type {\n",
       "        vertical-align: middle;\n",
       "    }\n",
       "\n",
       "    .dataframe tbody tr th {\n",
       "        vertical-align: top;\n",
       "    }\n",
       "\n",
       "    .dataframe thead th {\n",
       "        text-align: right;\n",
       "    }\n",
       "</style>\n",
       "<table border=\"1\" class=\"dataframe\">\n",
       "  <thead>\n",
       "    <tr style=\"text-align: right;\">\n",
       "      <th></th>\n",
       "      <th>Model</th>\n",
       "      <th>TPR</th>\n",
       "      <th>FPR</th>\n",
       "      <th>precision</th>\n",
       "      <th>recall</th>\n",
       "      <th>accuracy</th>\n",
       "      <th>f1-value</th>\n",
       "    </tr>\n",
       "  </thead>\n",
       "  <tbody>\n",
       "    <tr>\n",
       "      <th>0</th>\n",
       "      <td>Random Forest</td>\n",
       "      <td>[1.0, 0.08]</td>\n",
       "      <td>[0.92, 0.0]</td>\n",
       "      <td>[0.97, 0.75]</td>\n",
       "      <td>[1.0, 0.08]</td>\n",
       "      <td>[0.97, 0.97]</td>\n",
       "      <td>0.14</td>\n",
       "    </tr>\n",
       "    <tr>\n",
       "      <th>1</th>\n",
       "      <td>Gradient Boosted Trees</td>\n",
       "      <td>[0.99, 0.33]</td>\n",
       "      <td>[0.67, 0.01]</td>\n",
       "      <td>[0.98, 0.59]</td>\n",
       "      <td>[0.99, 0.33]</td>\n",
       "      <td>[0.97, 0.97]</td>\n",
       "      <td>0.43</td>\n",
       "    </tr>\n",
       "    <tr>\n",
       "      <th>2</th>\n",
       "      <td>Gradient Boosted Trees with Early Stopping</td>\n",
       "      <td>[0.99, 0.31]</td>\n",
       "      <td>[0.69, 0.01]</td>\n",
       "      <td>[0.98, 0.41]</td>\n",
       "      <td>[0.99, 0.31]</td>\n",
       "      <td>[0.97, 0.97]</td>\n",
       "      <td>0.35</td>\n",
       "    </tr>\n",
       "    <tr>\n",
       "      <th>3</th>\n",
       "      <td>Extra Trees</td>\n",
       "      <td>[1.0, 0.0]</td>\n",
       "      <td>[1.0, 0.0]</td>\n",
       "      <td>[0.97, nan]</td>\n",
       "      <td>[1.0, 0.0]</td>\n",
       "      <td>[0.97, 0.97]</td>\n",
       "      <td>0.00</td>\n",
       "    </tr>\n",
       "    <tr>\n",
       "      <th>4</th>\n",
       "      <td>SVM</td>\n",
       "      <td>[1.0, 0.03]</td>\n",
       "      <td>[0.97, 0.0]</td>\n",
       "      <td>[0.97, 0.5]</td>\n",
       "      <td>[1.0, 0.03]</td>\n",
       "      <td>[0.97, 0.97]</td>\n",
       "      <td>0.05</td>\n",
       "    </tr>\n",
       "  </tbody>\n",
       "</table>\n",
       "</div>"
      ],
      "text/plain": [
       "                                        Model           TPR           FPR  \\\n",
       "0                               Random Forest   [1.0, 0.08]   [0.92, 0.0]   \n",
       "1                      Gradient Boosted Trees  [0.99, 0.33]  [0.67, 0.01]   \n",
       "2  Gradient Boosted Trees with Early Stopping  [0.99, 0.31]  [0.69, 0.01]   \n",
       "3                                 Extra Trees    [1.0, 0.0]    [1.0, 0.0]   \n",
       "4                                         SVM   [1.0, 0.03]   [0.97, 0.0]   \n",
       "\n",
       "      precision        recall      accuracy  f1-value  \n",
       "0  [0.97, 0.75]   [1.0, 0.08]  [0.97, 0.97]      0.14  \n",
       "1  [0.98, 0.59]  [0.99, 0.33]  [0.97, 0.97]      0.43  \n",
       "2  [0.98, 0.41]  [0.99, 0.31]  [0.97, 0.97]      0.35  \n",
       "3   [0.97, nan]    [1.0, 0.0]  [0.97, 0.97]      0.00  \n",
       "4   [0.97, 0.5]   [1.0, 0.03]  [0.97, 0.97]      0.05  "
      ]
     },
     "execution_count": 153,
     "metadata": {},
     "output_type": "execute_result"
    }
   ],
   "source": [
    "# create confusion matrix and add scores to table\n",
    "cnf_matrix = confusion_matrix(y_test,y_pred)\n",
    "\n",
    "FP = cnf_matrix.sum(axis=0) - np.diag(cnf_matrix)  \n",
    "FN = cnf_matrix.sum(axis=1) - np.diag(cnf_matrix)\n",
    "TP = np.diag(cnf_matrix)\n",
    "TN = cnf_matrix.sum() - (FP + FN + TP)\n",
    "\n",
    "FP = FP.astype(float)\n",
    "FN = FN.astype(float)\n",
    "TP = TP.astype(float)\n",
    "TN = TN.astype(float)\n",
    "\n",
    "# Sensitivity, hit rate, recall, or true positive rate\n",
    "TPR = TP/(TP+FN)\n",
    "# Specificity or true negative rate\n",
    "TNR = TN/(TN+FP) \n",
    "# Precision or positive predictive value\n",
    "PPV = TP/(TP+FP)\n",
    "# Negative predictive value\n",
    "NPV = TN/(TN+FN)\n",
    "# Fall out or false positive rate\n",
    "FPR = FP/(FP+TN)\n",
    "# False negative rate\n",
    "FNR = FN/(TP+FN)\n",
    "# False discovery rate\n",
    "FDR = FP/(TP+FP)\n",
    "# Overall accuracy\n",
    "ACC = (TP+TN)/(TP+FP+FN+TN)\n",
    "\n",
    "\n",
    "#eval\n",
    "Model = 'SVM' \n",
    "TPR = [round(num, 2) for num in TPR]\n",
    "FPR = [round(num, 2) for num in FPR]\n",
    "precision = [round(num, 2) for num in PPV]\n",
    "recall = [round(num, 2) for num in TPR]\n",
    "accuracy = [round(num, 2) for num in ACC]\n",
    "f1_value = round(f1_score(y_pred, y_test),2)\n",
    "row = [Model, TPR, FPR, precision, recall, accuracy, f1_value]\n",
    "results = results.append(pd.DataFrame([row], columns=results.columns), ignore_index=True)\n",
    "results"
   ]
  },
  {
   "cell_type": "markdown",
   "metadata": {
    "id": "f3N94aEdBk8X"
   },
   "source": [
    "## Logistic Regression Model"
   ]
  },
  {
   "cell_type": "code",
   "execution_count": 154,
   "metadata": {
    "id": "6foRmG9MBx4U"
   },
   "outputs": [],
   "source": [
    "# create logistic model\n",
    "log_clf = LogisticRegression(C=1.0, penalty='l2', solver='newton-cg')\n",
    "\n",
    "log_model = log_clf.fit(X_train, y_train)"
   ]
  },
  {
   "cell_type": "code",
   "execution_count": 155,
   "metadata": {
    "id": "nXxP2_AEXTcX"
   },
   "outputs": [
    {
     "name": "stdout",
     "output_type": "stream",
     "text": [
      "[CV] END ................................ score: (test=0.973) total time=   0.0s\n",
      "[CV] END ................................ score: (test=0.969) total time=   0.0s\n",
      "[CV] END ................................ score: (test=0.973) total time=   0.0s\n",
      "[CV] END ................................ score: (test=0.966) total time=   0.0s\n",
      "[CV] END ................................ score: (test=0.969) total time=   0.0s\n"
     ]
    },
    {
     "name": "stderr",
     "output_type": "stream",
     "text": [
      "[Parallel(n_jobs=1)]: Using backend SequentialBackend with 1 concurrent workers.\n",
      "[Parallel(n_jobs=1)]: Done   1 out of   1 | elapsed:    0.0s remaining:    0.0s\n",
      "[Parallel(n_jobs=1)]: Done   2 out of   2 | elapsed:    0.0s remaining:    0.0s\n",
      "[Parallel(n_jobs=1)]: Done   5 out of   5 | elapsed:    0.0s finished\n"
     ]
    },
    {
     "data": {
      "text/plain": [
       "0.9700883898087369"
      ]
     },
     "execution_count": 155,
     "metadata": {},
     "output_type": "execute_result"
    }
   ],
   "source": [
    "# kfold validation\n",
    "score = cross_val_score(log_clf, X_train, y_train, cv=5, verbose=3)\n",
    "score.mean()"
   ]
  },
  {
   "cell_type": "code",
   "execution_count": 156,
   "metadata": {
    "id": "wt3XHUv0Bx8Z"
   },
   "outputs": [],
   "source": [
    "y_pred = log_model.predict(X_test)\n",
    "y_pred_proba = log_clf.predict_proba(X_test)\n",
    "y_score = log_clf.decision_function(X_test)"
   ]
  },
  {
   "cell_type": "code",
   "execution_count": 157,
   "metadata": {
    "id": "NKFJFHE--g-A"
   },
   "outputs": [
    {
     "data": {
      "image/png": "[encoded data removed]",
      "text/plain": [
       "<Figure size 432x288 with 1 Axes>"
      ]
     },
     "metadata": {
      "needs_background": "light"
     },
     "output_type": "display_data"
    }
   ],
   "source": [
    "#Precision/Recall \n",
    "prec, recall, _ = precision_recall_curve(y_test, y_score, pos_label=log_clf.classes_[1])\n",
    "pr_display = PrecisionRecallDisplay(precision=prec, recall=recall).plot()"
   ]
  },
  {
   "cell_type": "code",
   "execution_count": 158,
   "metadata": {
    "id": "XtGxlyQ6yrhJ"
   },
   "outputs": [
    {
     "data": {
      "text/plain": [
       "<matplotlib.legend.Legend at 0x24aa6a79a60>"
      ]
     },
     "execution_count": 158,
     "metadata": {},
     "output_type": "execute_result"
    },
    {
     "data": {
      "image/png": "[encoded data removed]",
      "text/plain": [
       "<Figure size 432x288 with 1 Axes>"
      ]
     },
     "metadata": {
      "needs_background": "light"
     },
     "output_type": "display_data"
    }
   ],
   "source": [
    "# create ROC curve\n",
    "fpr, tpr, ths = roc_curve(y_test, y_pred_proba[:,1])\n",
    "\n",
    "auc_score = auc(fpr,tpr)\n",
    "plt.plot(fpr,tpr,label=\"AUC Score:\" + str(auc_score))\n",
    "plt.xlabel('fpr',fontsize='15')\n",
    "plt.ylabel('tpr',fontsize='15')\n",
    "plt.legend(loc='best')"
   ]
  },
  {
   "cell_type": "code",
   "execution_count": 159,
   "metadata": {
    "id": "bP66RSKY3LDz"
   },
   "outputs": [
    {
     "data": {
      "text/html": [
       "<div>\n",
       "<style scoped>\n",
       "    .dataframe tbody tr th:only-of-type {\n",
       "        vertical-align: middle;\n",
       "    }\n",
       "\n",
       "    .dataframe tbody tr th {\n",
       "        vertical-align: top;\n",
       "    }\n",
       "\n",
       "    .dataframe thead th {\n",
       "        text-align: right;\n",
       "    }\n",
       "</style>\n",
       "<table border=\"1\" class=\"dataframe\">\n",
       "  <thead>\n",
       "    <tr style=\"text-align: right;\">\n",
       "      <th></th>\n",
       "      <th>Model</th>\n",
       "      <th>TPR</th>\n",
       "      <th>FPR</th>\n",
       "      <th>precision</th>\n",
       "      <th>recall</th>\n",
       "      <th>accuracy</th>\n",
       "      <th>f1-value</th>\n",
       "    </tr>\n",
       "  </thead>\n",
       "  <tbody>\n",
       "    <tr>\n",
       "      <th>0</th>\n",
       "      <td>Random Forest</td>\n",
       "      <td>[1.0, 0.08]</td>\n",
       "      <td>[0.92, 0.0]</td>\n",
       "      <td>[0.97, 0.75]</td>\n",
       "      <td>[1.0, 0.08]</td>\n",
       "      <td>[0.97, 0.97]</td>\n",
       "      <td>0.14</td>\n",
       "    </tr>\n",
       "    <tr>\n",
       "      <th>1</th>\n",
       "      <td>Gradient Boosted Trees</td>\n",
       "      <td>[0.99, 0.33]</td>\n",
       "      <td>[0.67, 0.01]</td>\n",
       "      <td>[0.98, 0.59]</td>\n",
       "      <td>[0.99, 0.33]</td>\n",
       "      <td>[0.97, 0.97]</td>\n",
       "      <td>0.43</td>\n",
       "    </tr>\n",
       "    <tr>\n",
       "      <th>2</th>\n",
       "      <td>Gradient Boosted Trees with Early Stopping</td>\n",
       "      <td>[0.99, 0.31]</td>\n",
       "      <td>[0.69, 0.01]</td>\n",
       "      <td>[0.98, 0.41]</td>\n",
       "      <td>[0.99, 0.31]</td>\n",
       "      <td>[0.97, 0.97]</td>\n",
       "      <td>0.35</td>\n",
       "    </tr>\n",
       "    <tr>\n",
       "      <th>3</th>\n",
       "      <td>Extra Trees</td>\n",
       "      <td>[1.0, 0.0]</td>\n",
       "      <td>[1.0, 0.0]</td>\n",
       "      <td>[0.97, nan]</td>\n",
       "      <td>[1.0, 0.0]</td>\n",
       "      <td>[0.97, 0.97]</td>\n",
       "      <td>0.00</td>\n",
       "    </tr>\n",
       "    <tr>\n",
       "      <th>4</th>\n",
       "      <td>SVM</td>\n",
       "      <td>[1.0, 0.03]</td>\n",
       "      <td>[0.97, 0.0]</td>\n",
       "      <td>[0.97, 0.5]</td>\n",
       "      <td>[1.0, 0.03]</td>\n",
       "      <td>[0.97, 0.97]</td>\n",
       "      <td>0.05</td>\n",
       "    </tr>\n",
       "    <tr>\n",
       "      <th>5</th>\n",
       "      <td>Logistic Regression</td>\n",
       "      <td>[1.0, 0.13]</td>\n",
       "      <td>[0.87, 0.0]</td>\n",
       "      <td>[0.97, 0.83]</td>\n",
       "      <td>[1.0, 0.13]</td>\n",
       "      <td>[0.97, 0.97]</td>\n",
       "      <td>0.22</td>\n",
       "    </tr>\n",
       "  </tbody>\n",
       "</table>\n",
       "</div>"
      ],
      "text/plain": [
       "                                        Model           TPR           FPR  \\\n",
       "0                               Random Forest   [1.0, 0.08]   [0.92, 0.0]   \n",
       "1                      Gradient Boosted Trees  [0.99, 0.33]  [0.67, 0.01]   \n",
       "2  Gradient Boosted Trees with Early Stopping  [0.99, 0.31]  [0.69, 0.01]   \n",
       "3                                 Extra Trees    [1.0, 0.0]    [1.0, 0.0]   \n",
       "4                                         SVM   [1.0, 0.03]   [0.97, 0.0]   \n",
       "5                         Logistic Regression   [1.0, 0.13]   [0.87, 0.0]   \n",
       "\n",
       "      precision        recall      accuracy  f1-value  \n",
       "0  [0.97, 0.75]   [1.0, 0.08]  [0.97, 0.97]      0.14  \n",
       "1  [0.98, 0.59]  [0.99, 0.33]  [0.97, 0.97]      0.43  \n",
       "2  [0.98, 0.41]  [0.99, 0.31]  [0.97, 0.97]      0.35  \n",
       "3   [0.97, nan]    [1.0, 0.0]  [0.97, 0.97]      0.00  \n",
       "4   [0.97, 0.5]   [1.0, 0.03]  [0.97, 0.97]      0.05  \n",
       "5  [0.97, 0.83]   [1.0, 0.13]  [0.97, 0.97]      0.22  "
      ]
     },
     "execution_count": 159,
     "metadata": {},
     "output_type": "execute_result"
    }
   ],
   "source": [
    "# create confusion matrix and add scores to table\n",
    "cnf_matrix = confusion_matrix(y_test,y_pred)\n",
    "\n",
    "FP = cnf_matrix.sum(axis=0) - np.diag(cnf_matrix)  \n",
    "FN = cnf_matrix.sum(axis=1) - np.diag(cnf_matrix)\n",
    "TP = np.diag(cnf_matrix)\n",
    "TN = cnf_matrix.sum() - (FP + FN + TP)\n",
    "\n",
    "FP = FP.astype(float)\n",
    "FN = FN.astype(float)\n",
    "TP = TP.astype(float)\n",
    "TN = TN.astype(float)\n",
    "\n",
    "# Sensitivity, hit rate, recall, or true positive rate\n",
    "TPR = TP/(TP+FN)\n",
    "# Specificity or true negative rate\n",
    "TNR = TN/(TN+FP) \n",
    "# Precision or positive predictive value\n",
    "PPV = TP/(TP+FP)\n",
    "# Negative predictive value\n",
    "NPV = TN/(TN+FN)\n",
    "# Fall out or false positive rate\n",
    "FPR = FP/(FP+TN)\n",
    "# False negative rate\n",
    "FNR = FN/(TP+FN)\n",
    "# False discovery rate\n",
    "FDR = FP/(TP+FP)\n",
    "# Overall accuracy\n",
    "ACC = (TP+TN)/(TP+FP+FN+TN)\n",
    "\n",
    "#eval\n",
    "Model = 'Logistic Regression' \n",
    "TPR = [round(num, 2) for num in TPR]\n",
    "FPR = [round(num, 2) for num in FPR]\n",
    "precision = [round(num, 2) for num in PPV]\n",
    "recall = [round(num, 2) for num in TPR]\n",
    "accuracy = [round(num, 2) for num in ACC]\n",
    "f1_value = round(f1_score(y_pred, y_test),2)\n",
    "row = [Model, TPR, FPR, precision, recall, accuracy, f1_value]\n",
    "results = results.append(pd.DataFrame([row], columns=results.columns), ignore_index=True)\n",
    "results"
   ]
  },
  {
   "cell_type": "markdown",
   "metadata": {
    "id": "qC8GQpPdBtob"
   },
   "source": [
    "## Naïve Bayes model"
   ]
  },
  {
   "cell_type": "code",
   "execution_count": 160,
   "metadata": {
    "id": "uca34FtPBw6u"
   },
   "outputs": [],
   "source": [
    " # create naive bayes model\n",
    " nb_clf = GaussianNB()\n",
    " nb_model = nb_clf.fit(X_train, np.ravel(y_train))"
   ]
  },
  {
   "cell_type": "code",
   "execution_count": 161,
   "metadata": {
    "id": "34QKf3HxrKnG"
   },
   "outputs": [
    {
     "name": "stdout",
     "output_type": "stream",
     "text": [
      "[CV] END ................................ score: (test=0.094) total time=   0.0s\n",
      "[CV] END ................................ score: (test=0.213) total time=   0.0s\n",
      "[CV] END ................................ score: (test=0.073) total time=   0.0s\n",
      "[CV] END ................................ score: (test=0.064) total time=   0.0s\n",
      "[CV] END ................................ score: (test=0.072) total time=   0.0s\n"
     ]
    },
    {
     "name": "stderr",
     "output_type": "stream",
     "text": [
      "[Parallel(n_jobs=1)]: Using backend SequentialBackend with 1 concurrent workers.\n",
      "[Parallel(n_jobs=1)]: Done   1 out of   1 | elapsed:    0.0s remaining:    0.0s\n",
      "[Parallel(n_jobs=1)]: Done   2 out of   2 | elapsed:    0.0s remaining:    0.0s\n",
      "[Parallel(n_jobs=1)]: Done   5 out of   5 | elapsed:    0.0s finished\n"
     ]
    },
    {
     "data": {
      "text/plain": [
       "0.10322265370481379"
      ]
     },
     "execution_count": 161,
     "metadata": {},
     "output_type": "execute_result"
    }
   ],
   "source": [
    "# kfold cross validation\n",
    "score = cross_val_score(nb_clf, X_train, y_train, cv=5, verbose=3)\n",
    "score.mean()"
   ]
  },
  {
   "cell_type": "code",
   "execution_count": 162,
   "metadata": {
    "id": "exV-hyMPBxIX"
   },
   "outputs": [],
   "source": [
    "y_pred = nb_model.predict(X_test)\n",
    "y_pred_proba = nb_clf.predict_proba(X_test)"
   ]
  },
  {
   "cell_type": "code",
   "execution_count": 163,
   "metadata": {
    "id": "vZk0_Tzuv6Ug"
   },
   "outputs": [
    {
     "data": {
      "image/png": "[encoded data removed]",
      "text/plain": [
       "<Figure size 432x288 with 1 Axes>"
      ]
     },
     "metadata": {
      "needs_background": "light"
     },
     "output_type": "display_data"
    }
   ],
   "source": [
    "#Precision/Recall \n",
    "prec, recall, _ = precision_recall_curve(y_test, y_score, pos_label=nb_clf.classes_[1])\n",
    "pr_display = PrecisionRecallDisplay(precision=prec, recall=recall).plot()"
   ]
  },
  {
   "cell_type": "code",
   "execution_count": 164,
   "metadata": {
    "id": "B6a2gepx3SZs"
   },
   "outputs": [
    {
     "data": {
      "text/plain": [
       "<matplotlib.legend.Legend at 0x24ab208c820>"
      ]
     },
     "execution_count": 164,
     "metadata": {},
     "output_type": "execute_result"
    },
    {
     "data": {
      "image/png": "[encoded data removed]",
      "text/plain": [
       "<Figure size 432x288 with 1 Axes>"
      ]
     },
     "metadata": {
      "needs_background": "light"
     },
     "output_type": "display_data"
    }
   ],
   "source": [
    "# create ROC curve\n",
    "import matplotlib.pyplot as plt\n",
    "from sklearn.metrics import roc_curve, auc, roc_auc_score\n",
    "\n",
    "fpr, tpr, ths = roc_curve(y_test, y_pred_proba[:,1])\n",
    "\n",
    "auc_score = auc(fpr,tpr)\n",
    "plt.plot(fpr,tpr,label=\"AUC Score:\" + str(auc_score))\n",
    "plt.xlabel('fpr',fontsize='15')\n",
    "plt.ylabel('tpr',fontsize='15')\n",
    "plt.legend(loc='best')"
   ]
  },
  {
   "cell_type": "code",
   "execution_count": 165,
   "metadata": {
    "id": "7gV8kSuX3XXt"
   },
   "outputs": [
    {
     "name": "stderr",
     "output_type": "stream",
     "text": [
      "<ipython-input-165-37ca99ea7a26>:18: RuntimeWarning: invalid value encountered in true_divide\n",
      "  PPV = TP/(TP+FP)\n",
      "<ipython-input-165-37ca99ea7a26>:20: RuntimeWarning: invalid value encountered in true_divide\n",
      "  NPV = TN/(TN+FN)\n",
      "<ipython-input-165-37ca99ea7a26>:26: RuntimeWarning: invalid value encountered in true_divide\n",
      "  FDR = FP/(TP+FP)\n"
     ]
    },
    {
     "data": {
      "text/html": [
       "<div>\n",
       "<style scoped>\n",
       "    .dataframe tbody tr th:only-of-type {\n",
       "        vertical-align: middle;\n",
       "    }\n",
       "\n",
       "    .dataframe tbody tr th {\n",
       "        vertical-align: top;\n",
       "    }\n",
       "\n",
       "    .dataframe thead th {\n",
       "        text-align: right;\n",
       "    }\n",
       "</style>\n",
       "<table border=\"1\" class=\"dataframe\">\n",
       "  <thead>\n",
       "    <tr style=\"text-align: right;\">\n",
       "      <th></th>\n",
       "      <th>Model</th>\n",
       "      <th>TPR</th>\n",
       "      <th>FPR</th>\n",
       "      <th>precision</th>\n",
       "      <th>recall</th>\n",
       "      <th>accuracy</th>\n",
       "      <th>f1-value</th>\n",
       "    </tr>\n",
       "  </thead>\n",
       "  <tbody>\n",
       "    <tr>\n",
       "      <th>0</th>\n",
       "      <td>Random Forest</td>\n",
       "      <td>[1.0, 0.08]</td>\n",
       "      <td>[0.92, 0.0]</td>\n",
       "      <td>[0.97, 0.75]</td>\n",
       "      <td>[1.0, 0.08]</td>\n",
       "      <td>[0.97, 0.97]</td>\n",
       "      <td>0.14</td>\n",
       "    </tr>\n",
       "    <tr>\n",
       "      <th>1</th>\n",
       "      <td>Gradient Boosted Trees</td>\n",
       "      <td>[0.99, 0.33]</td>\n",
       "      <td>[0.67, 0.01]</td>\n",
       "      <td>[0.98, 0.59]</td>\n",
       "      <td>[0.99, 0.33]</td>\n",
       "      <td>[0.97, 0.97]</td>\n",
       "      <td>0.43</td>\n",
       "    </tr>\n",
       "    <tr>\n",
       "      <th>2</th>\n",
       "      <td>Gradient Boosted Trees with Early Stopping</td>\n",
       "      <td>[0.99, 0.31]</td>\n",
       "      <td>[0.69, 0.01]</td>\n",
       "      <td>[0.98, 0.41]</td>\n",
       "      <td>[0.99, 0.31]</td>\n",
       "      <td>[0.97, 0.97]</td>\n",
       "      <td>0.35</td>\n",
       "    </tr>\n",
       "    <tr>\n",
       "      <th>3</th>\n",
       "      <td>Extra Trees</td>\n",
       "      <td>[1.0, 0.0]</td>\n",
       "      <td>[1.0, 0.0]</td>\n",
       "      <td>[0.97, nan]</td>\n",
       "      <td>[1.0, 0.0]</td>\n",
       "      <td>[0.97, 0.97]</td>\n",
       "      <td>0.00</td>\n",
       "    </tr>\n",
       "    <tr>\n",
       "      <th>4</th>\n",
       "      <td>SVM</td>\n",
       "      <td>[1.0, 0.03]</td>\n",
       "      <td>[0.97, 0.0]</td>\n",
       "      <td>[0.97, 0.5]</td>\n",
       "      <td>[1.0, 0.03]</td>\n",
       "      <td>[0.97, 0.97]</td>\n",
       "      <td>0.05</td>\n",
       "    </tr>\n",
       "    <tr>\n",
       "      <th>5</th>\n",
       "      <td>Logistic Regression</td>\n",
       "      <td>[1.0, 0.13]</td>\n",
       "      <td>[0.87, 0.0]</td>\n",
       "      <td>[0.97, 0.83]</td>\n",
       "      <td>[1.0, 0.13]</td>\n",
       "      <td>[0.97, 0.97]</td>\n",
       "      <td>0.22</td>\n",
       "    </tr>\n",
       "    <tr>\n",
       "      <th>6</th>\n",
       "      <td>naive bayes</td>\n",
       "      <td>[1.0, 0.0]</td>\n",
       "      <td>[1.0, 0.0]</td>\n",
       "      <td>[0.97, nan]</td>\n",
       "      <td>[1.0, 0.0]</td>\n",
       "      <td>[0.97, 0.97]</td>\n",
       "      <td>0.00</td>\n",
       "    </tr>\n",
       "  </tbody>\n",
       "</table>\n",
       "</div>"
      ],
      "text/plain": [
       "                                        Model           TPR           FPR  \\\n",
       "0                               Random Forest   [1.0, 0.08]   [0.92, 0.0]   \n",
       "1                      Gradient Boosted Trees  [0.99, 0.33]  [0.67, 0.01]   \n",
       "2  Gradient Boosted Trees with Early Stopping  [0.99, 0.31]  [0.69, 0.01]   \n",
       "3                                 Extra Trees    [1.0, 0.0]    [1.0, 0.0]   \n",
       "4                                         SVM   [1.0, 0.03]   [0.97, 0.0]   \n",
       "5                         Logistic Regression   [1.0, 0.13]   [0.87, 0.0]   \n",
       "6                                 naive bayes    [1.0, 0.0]    [1.0, 0.0]   \n",
       "\n",
       "      precision        recall      accuracy  f1-value  \n",
       "0  [0.97, 0.75]   [1.0, 0.08]  [0.97, 0.97]      0.14  \n",
       "1  [0.98, 0.59]  [0.99, 0.33]  [0.97, 0.97]      0.43  \n",
       "2  [0.98, 0.41]  [0.99, 0.31]  [0.97, 0.97]      0.35  \n",
       "3   [0.97, nan]    [1.0, 0.0]  [0.97, 0.97]      0.00  \n",
       "4   [0.97, 0.5]   [1.0, 0.03]  [0.97, 0.97]      0.05  \n",
       "5  [0.97, 0.83]   [1.0, 0.13]  [0.97, 0.97]      0.22  \n",
       "6   [0.97, nan]    [1.0, 0.0]  [0.97, 0.97]      0.00  "
      ]
     },
     "execution_count": 165,
     "metadata": {},
     "output_type": "execute_result"
    }
   ],
   "source": [
    "# create confusion matrix and add scores to table\n",
    "cnf_matrix = confusion_matrix(y_test,y_pred)\n",
    "FP = cnf_matrix.sum(axis=0) - np.diag(cnf_matrix)  \n",
    "FN = cnf_matrix.sum(axis=1) - np.diag(cnf_matrix)\n",
    "TP = np.diag(cnf_matrix)\n",
    "TN = cnf_matrix.sum() - (FP + FN + TP)\n",
    "\n",
    "FP = FP.astype(float)\n",
    "FN = FN.astype(float)\n",
    "TP = TP.astype(float)\n",
    "TN = TN.astype(float)\n",
    "\n",
    "# Sensitivity, hit rate, recall, or true positive rate\n",
    "TPR = TP/(TP+FN)\n",
    "# Specificity or true negative rate\n",
    "TNR = TN/(TN+FP) \n",
    "# Precision or positive predictive value\n",
    "PPV = TP/(TP+FP)\n",
    "# Negative predictive value\n",
    "NPV = TN/(TN+FN)\n",
    "# Fall out or false positive rate\n",
    "FPR = FP/(FP+TN)\n",
    "# False negative rate\n",
    "FNR = FN/(TP+FN)\n",
    "# False discovery rate\n",
    "FDR = FP/(TP+FP)\n",
    "# Overall accuracy\n",
    "ACC = (TP+TN)/(TP+FP+FN+TN)\n",
    "\n",
    "#eval\n",
    "Model = 'naive bayes'\n",
    "TPR = [round(num, 2) for num in TPR]\n",
    "FPR = [round(num, 2) for num in FPR]\n",
    "precision = [round(num, 2) for num in PPV]\n",
    "recall = [round(num, 2) for num in TPR]\n",
    "accuracy = [round(num, 2) for num in ACC]\n",
    "f1_value = round(f1_score(y_pred, y_test),2)\n",
    "row3 = [Model, TPR, FPR, precision, recall, accuracy, f1_value]\n",
    "results = results.append(pd.DataFrame([row3], columns=results.columns), ignore_index=True)\n",
    "results"
   ]
  }
 ],
 "metadata": {
  "colab": {
   "collapsed_sections": [],
   "name": "Module_5_Assignment_2.ipynb",
   "provenance": [],
   "toc_visible": true
  },
  "kernelspec": {
   "display_name": "Python 3",
   "language": "python",
   "name": "python3"
  },
  "language_info": {
   "codemirror_mode": {
    "name": "ipython",
    "version": 3
   },
   "file_extension": ".py",
   "mimetype": "text/x-python",
   "name": "python",
   "nbconvert_exporter": "python",
   "pygments_lexer": "ipython3",
   "version": "3.8.8"
  }
 },
 "nbformat": 4,
 "nbformat_minor": 1
}
